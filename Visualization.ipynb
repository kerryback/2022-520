{
 "cells": [
  {
   "cell_type": "code",
   "execution_count": 379,
   "metadata": {},
   "outputs": [],
   "source": [
    "import numpy as np\n",
    "import pandas as pd\n",
    "import matplotlib.pyplot as plt\n",
    "import seaborn as sns\n",
    "import matplotlib as mpl\n",
    "import plotly.graph_objects as go\n",
    "import plotly.express as px\n",
    "import plotly.figure_factory as ff"
   ]
  },
  {
   "cell_type": "markdown",
   "metadata": {},
   "source": [
    "### Set some plot style parameters\n",
    "\n",
    "This is purely optional, and you might prefer different formatting.  I find these font sizes to be good for slides, but smaller is better for publication."
   ]
  },
  {
   "cell_type": "code",
   "execution_count": 380,
   "metadata": {},
   "outputs": [],
   "source": [
    "sns.set_style('whitegrid')\n",
    "mpl.rcParams['font.size'] = 12\n",
    "mpl.rcParams['axes.titlesize'] = 16\n",
    "mpl.rcParams['axes.labelsize'] = 14\n",
    "mpl.rcParams['xtick.labelsize'] = 12\n",
    "mpl.rcParams['ytick.labelsize'] = 12\n",
    "mpl.rcParams['legend.fontsize'] = 12\n",
    "mpl.rcParams['legend.title_fontsize'] = 0       # no legend title\n",
    "mpl.rcParams['axes.formatter.limits'] = (-2,2)  # scientific notation only if >100 or <0.01"
   ]
  },
  {
   "cell_type": "markdown",
   "metadata": {},
   "source": [
    "### Get wage dataset used in Wooldridge's Introductory Econometrics\n",
    "\n",
    " We read the Stata dta file into a StataReader object that contains the data (use .read()) and the description of the variables (use .variable_labels()).  Instead of using urlopen, ZipFile, and BytesIO, we could instead go to the website in a browser, download the zip file to disk, and extract and read the dta file from disk with pd.read_stata."
   ]
  },
  {
   "cell_type": "code",
   "execution_count": 381,
   "metadata": {},
   "outputs": [],
   "source": [
    "from io import BytesIO\n",
    "from zipfile import ZipFile\n",
    "from urllib.request import urlopen\n",
    "    \n",
    "url = urlopen(\"https://www.cengage.com/aise/economics/wooldridge_3e_datasets/statafiles.zip\")\n",
    "\n",
    "with ZipFile(BytesIO(url.read())) as zipped:\n",
    "    stata = pd.read_stata(zipped.open(\"WAGE1.DTA\"), iterator=True)"
   ]
  },
  {
   "cell_type": "markdown",
   "metadata": {},
   "source": [
    "Uncomment lines or groups of lines and execute the cells.  Single lines are commented with #.  Groups of lines are commented with triple quotes."
   ]
  },
  {
   "cell_type": "code",
   "execution_count": 382,
   "metadata": {},
   "outputs": [],
   "source": [
    "# stata.variable_labels()"
   ]
  },
  {
   "cell_type": "code",
   "execution_count": 383,
   "metadata": {},
   "outputs": [],
   "source": [
    "wages = stata.read()"
   ]
  },
  {
   "cell_type": "markdown",
   "metadata": {},
   "source": [
    "### Info about the dataset\n",
    "\n"
   ]
  },
  {
   "cell_type": "code",
   "execution_count": 384,
   "metadata": {},
   "outputs": [],
   "source": [
    "# wages.info()\n",
    "# wages.describe()\n",
    "# wages[wages.female==1].describe()\n",
    "# wages[wages.female==0].describe()"
   ]
  },
  {
   "cell_type": "markdown",
   "metadata": {},
   "source": [
    "### Convert some dummies to categorical variables\n",
    "\n",
    "We don't normally have to do this, because our data doesn't normally come as dummies.  I don't understand the servocc, profocc, and clerocc variables, so I'm ignoring them."
   ]
  },
  {
   "cell_type": "code",
   "execution_count": 385,
   "metadata": {},
   "outputs": [],
   "source": [
    "wages['sex'] = wages.female.map({1: \"female\", 0: \"male\"})\n",
    "\n",
    "wages['area'] = 0\n",
    "for i, col in enumerate(['northcen', 'south', 'west']):\n",
    "    wages['area'] += (i+1) * wages[col]\n",
    "wages['area'] = wages.area.map({0: 'northeast', 1: 'northcen', 2: 'south', 3: 'west'})\n",
    "\n",
    "occupations = wages.columns.to_list()[12:18] \n",
    "wages['occup'] = 0\n",
    "for i, col in enumerate(occupations):\n",
    "    wages['occup'] += (i+1) * wages[col]\n",
    "dct = {0: 'other'} | {(i+1): occupations[i] for i in range(6)}\n",
    "wages['occup'] = wages.occup.map(dct)"
   ]
  },
  {
   "cell_type": "code",
   "execution_count": 386,
   "metadata": {},
   "outputs": [
    {
     "data": {
      "text/plain": [
       "Index(['wage', 'educ', 'exper', 'tenure', 'nonwhite', 'female', 'married',\n",
       "       'numdep', 'smsa', 'northcen', 'south', 'west', 'construc', 'ndurman',\n",
       "       'trcommpu', 'trade', 'services', 'profserv', 'profocc', 'clerocc',\n",
       "       'servocc', 'lwage', 'expersq', 'tenursq', 'sex', 'area', 'occup'],\n",
       "      dtype='object')"
      ]
     },
     "execution_count": 386,
     "metadata": {},
     "output_type": "execute_result"
    }
   ],
   "source": [
    "wages.columns"
   ]
  },
  {
   "cell_type": "markdown",
   "metadata": {},
   "source": [
    "### Univariate regression of wage on education\n",
    "\n",
    "We'll use both seaborn and plotly.  Seaborn is better for publication.  Plotly displays more data.  Hover over the plotly regression line to see the regression coefficients.  We can also in many cases encode useful information into the hover data of points."
   ]
  },
  {
   "cell_type": "code",
   "execution_count": 387,
   "metadata": {},
   "outputs": [],
   "source": [
    "# sns.regplot(data=wages, x=\"educ\", y=\"wage\")\n",
    "# px.scatter(data_frame=wages, x=\"educ\", y=\"wage\", trendline=\"ols\")"
   ]
  },
  {
   "cell_type": "markdown",
   "metadata": {},
   "source": [
    "### Correlations and distributions of quantitative variables by gender"
   ]
  },
  {
   "cell_type": "code",
   "execution_count": 388,
   "metadata": {},
   "outputs": [
    {
     "data": {
      "text/plain": [
       "'\\nfig = px.scatter_matrix(data_frame=wages, dimensions=[\"exper\", \"tenure\", \"educ\", \"wage\"], color=\"sex\")\\nfig.update_traces(diagonal_visible=False)\\n'"
      ]
     },
     "execution_count": 388,
     "metadata": {},
     "output_type": "execute_result"
    }
   ],
   "source": [
    "# sns.pairplot(data=wages[[\"exper\", \"tenure\", \"educ\", \"wage\", \"sex\"]], hue=\"sex\")\n",
    "\n",
    "\"\"\"\n",
    "fig = px.scatter_matrix(data_frame=wages, dimensions=[\"exper\", \"tenure\", \"educ\", \"wage\"], color=\"sex\")\n",
    "fig.update_traces(diagonal_visible=False)\n",
    "\"\"\""
   ]
  },
  {
   "cell_type": "markdown",
   "metadata": {},
   "source": [
    "### Gender disparities\n",
    "\n",
    "Look at the wage distribution by gender with box plots, histograms, and density plots."
   ]
  },
  {
   "cell_type": "code",
   "execution_count": 389,
   "metadata": {},
   "outputs": [
    {
     "data": {
      "text/plain": [
       "\" \\ndata = [wages[wages.sex=='female'].wage, wages[wages.sex=='male'].wage]\\nlabels = ['female', 'male']\\nff.create_distplot(data, labels, show_rug=False, show_hist=False, colors=['blue', 'red'])\\n\""
      ]
     },
     "execution_count": 389,
     "metadata": {},
     "output_type": "execute_result"
    }
   ],
   "source": [
    "# sns.catplot(data=wages, x=\"sex\", y=\"wage\", hue=\"sex\", kind=\"box\")\n",
    "# px.box(data_frame=wages, x=\"sex\", y=\"wage\", color=\"sex\")\n",
    "# sns.displot(data=wages, x=\"wage\", hue=\"sex\", kind=\"hist\")\n",
    "# px.histogram(data_frame=wages, x=\"wage\", color=\"sex\")\n",
    "# sns.displot(data=wages, x=\"wage\", hue=\"sex\", kind=\"kde\")\n",
    "\n",
    "\"\"\" \n",
    "data = [wages[wages.sex=='female'].wage, wages[wages.sex=='male'].wage]\n",
    "labels = ['female', 'male']\n",
    "ff.create_distplot(data, labels, show_rug=False, show_hist=False, colors=['blue', 'red'])\n",
    "\"\"\"\n",
    "\n"
   ]
  },
  {
   "cell_type": "markdown",
   "metadata": {},
   "source": [
    "### Univariate regressions by gender\n",
    "\n",
    "Execute both of the sns.regplots and plt.legend to get both seaborn plots in one figure with a legend."
   ]
  },
  {
   "cell_type": "code",
   "execution_count": 390,
   "metadata": {},
   "outputs": [
    {
     "data": {
      "text/plain": [
       "' \\nsns.regplot(data=wages[wages.sex==\\'female\\'], x=\"educ\", y=\"wage\", ci=None, label=\"female\")\\nsns.regplot(data=wages[wages.sex==\\'male\\'], x=\"educ\", y=\"wage\", ci=None, label=\"male\")\\nplt.legend()\\n'"
      ]
     },
     "execution_count": 390,
     "metadata": {},
     "output_type": "execute_result"
    }
   ],
   "source": [
    "\"\"\" \n",
    "sns.regplot(data=wages[wages.sex=='female'], x=\"educ\", y=\"wage\", ci=None, label=\"female\")\n",
    "sns.regplot(data=wages[wages.sex=='male'], x=\"educ\", y=\"wage\", ci=None, label=\"male\")\n",
    "plt.legend()\n",
    "\"\"\"\n",
    "\n",
    "# px.scatter(data_frame=wages, x=\"educ\", y=\"wage\", trendline=\"ols\", color=\"sex\")\n"
   ]
  },
  {
   "cell_type": "markdown",
   "metadata": {},
   "source": [
    "### Distributions of other variables by gender\n",
    "\n",
    "We need the variable on which we plan to split the sample to be stacked in a column.  This is called a long form data frame (as opposed to having different values be different columns, which is wide form).  One of the R developers coined the term \"tidy\" for such long form data.  In this case, we will split the quantitative variables, so we put them all in a single column.  First we use the stack method to stack them up.  Then we use some list tricks to put the right gender value in each row."
   ]
  },
  {
   "cell_type": "code",
   "execution_count": 391,
   "metadata": {},
   "outputs": [
    {
     "data": {
      "text/html": [
       "<div>\n",
       "<style scoped>\n",
       "    .dataframe tbody tr th:only-of-type {\n",
       "        vertical-align: middle;\n",
       "    }\n",
       "\n",
       "    .dataframe tbody tr th {\n",
       "        vertical-align: top;\n",
       "    }\n",
       "\n",
       "    .dataframe thead th {\n",
       "        text-align: right;\n",
       "    }\n",
       "</style>\n",
       "<table border=\"1\" class=\"dataframe\">\n",
       "  <thead>\n",
       "    <tr style=\"text-align: right;\">\n",
       "      <th></th>\n",
       "      <th>variable</th>\n",
       "      <th>value</th>\n",
       "      <th>sex</th>\n",
       "    </tr>\n",
       "    <tr>\n",
       "      <th>index</th>\n",
       "      <th></th>\n",
       "      <th></th>\n",
       "      <th></th>\n",
       "    </tr>\n",
       "  </thead>\n",
       "  <tbody>\n",
       "    <tr>\n",
       "      <th>0</th>\n",
       "      <td>exper</td>\n",
       "      <td>2.0</td>\n",
       "      <td>female</td>\n",
       "    </tr>\n",
       "    <tr>\n",
       "      <th>0</th>\n",
       "      <td>tenure</td>\n",
       "      <td>0.0</td>\n",
       "      <td>female</td>\n",
       "    </tr>\n",
       "    <tr>\n",
       "      <th>0</th>\n",
       "      <td>educ</td>\n",
       "      <td>11.0</td>\n",
       "      <td>female</td>\n",
       "    </tr>\n",
       "    <tr>\n",
       "      <th>0</th>\n",
       "      <td>wage</td>\n",
       "      <td>3.1</td>\n",
       "      <td>female</td>\n",
       "    </tr>\n",
       "    <tr>\n",
       "      <th>1</th>\n",
       "      <td>exper</td>\n",
       "      <td>22.0</td>\n",
       "      <td>female</td>\n",
       "    </tr>\n",
       "  </tbody>\n",
       "</table>\n",
       "</div>"
      ],
      "text/plain": [
       "      variable  value     sex\n",
       "index                        \n",
       "0        exper    2.0  female\n",
       "0       tenure    0.0  female\n",
       "0         educ   11.0  female\n",
       "0         wage    3.1  female\n",
       "1        exper   22.0  female"
      ]
     },
     "execution_count": 391,
     "metadata": {},
     "output_type": "execute_result"
    }
   ],
   "source": [
    "lwages = wages[['exper', 'tenure', 'educ', 'wage']].stack()\n",
    "lwages = pd.DataFrame(lwages)\n",
    "lwages.columns = ['value']\n",
    "sex = [4*[x] for x in wages.sex]\n",
    "lwages['sex'] = [x for lst in sex for x in lst]\n",
    "lwages.index.names = ['index', 'variable']\n",
    "lwages = lwages.reset_index(level=\"variable\")\n",
    "lwages.head()\n"
   ]
  },
  {
   "cell_type": "code",
   "execution_count": 392,
   "metadata": {},
   "outputs": [],
   "source": [
    "# sns.catplot(data=lwages, x=\"sex\", y=\"value\", col=\"variable\", kind=\"box\")\n",
    "# px.box(data_frame=lwages, x=\"variable\", y=\"value\", color=\"sex\")"
   ]
  },
  {
   "cell_type": "markdown",
   "metadata": {},
   "source": [
    "### Other univariate regressions by gender\n",
    "\n",
    "We want to use wage as the dependent variable not a splitting variable, so we move it to a column like sex."
   ]
  },
  {
   "cell_type": "code",
   "execution_count": 393,
   "metadata": {},
   "outputs": [
    {
     "data": {
      "text/html": [
       "<div>\n",
       "<style scoped>\n",
       "    .dataframe tbody tr th:only-of-type {\n",
       "        vertical-align: middle;\n",
       "    }\n",
       "\n",
       "    .dataframe tbody tr th {\n",
       "        vertical-align: top;\n",
       "    }\n",
       "\n",
       "    .dataframe thead th {\n",
       "        text-align: right;\n",
       "    }\n",
       "</style>\n",
       "<table border=\"1\" class=\"dataframe\">\n",
       "  <thead>\n",
       "    <tr style=\"text-align: right;\">\n",
       "      <th></th>\n",
       "      <th>variable</th>\n",
       "      <th>value</th>\n",
       "      <th>sex</th>\n",
       "      <th>wage</th>\n",
       "    </tr>\n",
       "    <tr>\n",
       "      <th>index</th>\n",
       "      <th></th>\n",
       "      <th></th>\n",
       "      <th></th>\n",
       "      <th></th>\n",
       "    </tr>\n",
       "  </thead>\n",
       "  <tbody>\n",
       "    <tr>\n",
       "      <th>0</th>\n",
       "      <td>exper</td>\n",
       "      <td>2.0</td>\n",
       "      <td>female</td>\n",
       "      <td>3.10</td>\n",
       "    </tr>\n",
       "    <tr>\n",
       "      <th>0</th>\n",
       "      <td>tenure</td>\n",
       "      <td>0.0</td>\n",
       "      <td>female</td>\n",
       "      <td>3.10</td>\n",
       "    </tr>\n",
       "    <tr>\n",
       "      <th>0</th>\n",
       "      <td>educ</td>\n",
       "      <td>11.0</td>\n",
       "      <td>female</td>\n",
       "      <td>3.10</td>\n",
       "    </tr>\n",
       "    <tr>\n",
       "      <th>1</th>\n",
       "      <td>exper</td>\n",
       "      <td>22.0</td>\n",
       "      <td>female</td>\n",
       "      <td>3.24</td>\n",
       "    </tr>\n",
       "    <tr>\n",
       "      <th>1</th>\n",
       "      <td>tenure</td>\n",
       "      <td>2.0</td>\n",
       "      <td>female</td>\n",
       "      <td>3.24</td>\n",
       "    </tr>\n",
       "  </tbody>\n",
       "</table>\n",
       "</div>"
      ],
      "text/plain": [
       "      variable  value     sex  wage\n",
       "index                              \n",
       "0        exper    2.0  female  3.10\n",
       "0       tenure    0.0  female  3.10\n",
       "0         educ   11.0  female  3.10\n",
       "1        exper   22.0  female  3.24\n",
       "1       tenure    2.0  female  3.24"
      ]
     },
     "execution_count": 393,
     "metadata": {},
     "output_type": "execute_result"
    }
   ],
   "source": [
    "lwages = lwages[lwages.variable != 'wage']\n",
    "wage = [3*[x] for x in wages.wage]\n",
    "lwages['wage'] = [x for lst in wage for x in lst]\n",
    "lwages.head()"
   ]
  },
  {
   "cell_type": "code",
   "execution_count": 394,
   "metadata": {},
   "outputs": [
    {
     "data": {
      "text/plain": [
       "' \\ngrid = sns.FacetGrid(data=lwages, col=\"variable\", hue=\"sex\", sharex=False)\\ngrid.map(sns.regplot, \"value\", \"wage\", ci=None)\\ngrid.add_legend()\\n'"
      ]
     },
     "execution_count": 394,
     "metadata": {},
     "output_type": "execute_result"
    }
   ],
   "source": [
    "\"\"\" \n",
    "grid = sns.FacetGrid(data=lwages, col=\"variable\", hue=\"sex\", sharex=False)\n",
    "grid.map(sns.regplot, \"value\", \"wage\", ci=None)\n",
    "grid.add_legend()\n",
    "\"\"\" \n",
    "\n",
    "# px.scatter(data_frame=lwages, x=\"value\", y=\"wage\", trendline=\"ols\", color=\"sex\", facet_col=\"variable\")"
   ]
  },
  {
   "cell_type": "markdown",
   "metadata": {},
   "source": [
    "### Gender disparities within groups\n",
    "\n",
    "We have the following categorical or dummy variables: married, smsa, nonwhite, numdep, area, occup, and occup_cat.  Let's also convert education into a categorical variable with fewer categores than 0, 1, 2, ..."
   ]
  },
  {
   "cell_type": "code",
   "execution_count": 395,
   "metadata": {},
   "outputs": [],
   "source": [
    "dct = {x: \"LessHS\" for x in range(12)}\n",
    "dct = dct | {12: \"HS\"}\n",
    "dct = dct | {x: \"Coll\" for x in range(13, 17)}\n",
    "dct = dct | {x: \"Grad\" for x in range(17, 30)}\n",
    "wages[\"educ_level\"] = wages.educ.map(dct)\n"
   ]
  },
  {
   "cell_type": "code",
   "execution_count": 396,
   "metadata": {},
   "outputs": [
    {
     "data": {
      "text/plain": [
       "' \\nfor col in [\"married\", \"smsa\", \"nonwhite\", \"numdep\", \"area\", \"occup\", \"educ_level\"]:\\n    fig = px.box(data_frame=wages, x=col, y=\"wage\", color=\"sex\")\\n    fig.show()\\n'"
      ]
     },
     "execution_count": 396,
     "metadata": {},
     "output_type": "execute_result"
    }
   ],
   "source": [
    "\"\"\" \n",
    "for col in [\"married\", \"smsa\", \"nonwhite\", \"numdep\", \"area\", \"occup\", \"educ_level\"]:\n",
    "    sns.catplot(data=wages, x=\"sex\", y=\"wage\", hue=\"sex\", col=col, kind=\"box\")\n",
    "    plt.show()\n",
    "\"\"\"\n",
    "\n",
    "\"\"\" \n",
    "for col in [\"married\", \"smsa\", \"nonwhite\", \"numdep\", \"area\", \"occup\", \"educ_level\"]:\n",
    "    fig = px.box(data_frame=wages, x=col, y=\"wage\", color=\"sex\")\n",
    "    fig.show()\n",
    "\"\"\""
   ]
  },
  {
   "cell_type": "markdown",
   "metadata": {},
   "source": [
    "### Univariate regressions by gender within groups\n"
   ]
  },
  {
   "cell_type": "code",
   "execution_count": 397,
   "metadata": {},
   "outputs": [
    {
     "data": {
      "text/plain": [
       "' \\nfor col in [\"married\", \"smsa\", \"nonwhite\", \"numdep\", \"area\", \"occup\"]:\\n    fig = px.scatter(data_frame=wages, x=\"educ\", y=\"wage\", color=\"sex\", facet_col=col, trendline=\"ols\")\\n    fig.show()\\n'"
      ]
     },
     "execution_count": 397,
     "metadata": {},
     "output_type": "execute_result"
    }
   ],
   "source": [
    "\"\"\"\n",
    "for col in [\"married\", \"smsa\", \"nonwhite\", \"numdep\", \"area\", \"occup\"]:\n",
    "    grid = sns.FacetGrid(data=wages, col=col, hue=\"sex\", sharex=False)\n",
    "    grid.map(sns.regplot, \"educ\", \"wage\", ci=None)\n",
    "    grid.add_legend()\n",
    "    plt.show()\n",
    "\"\"\"\n",
    "\n",
    "\"\"\" \n",
    "for col in [\"married\", \"smsa\", \"nonwhite\", \"numdep\", \"area\", \"occup\"]:\n",
    "    fig = px.scatter(data_frame=wages, x=\"educ\", y=\"wage\", color=\"sex\", facet_col=col, trendline=\"ols\")\n",
    "    fig.show()\n",
    "\"\"\"\n"
   ]
  },
  {
   "cell_type": "markdown",
   "metadata": {},
   "source": [
    "### Fine tuning\n",
    "\n",
    "This is an example of using the fig and axes objects of Matplotlib to fine tune figure elements.  Fine tuning for plotly is different.  For that, use fig=px(...) and then the fig.update... methods.  Or use plotly.graph_objects and fig_update..."
   ]
  },
  {
   "cell_type": "code",
   "execution_count": 398,
   "metadata": {},
   "outputs": [
    {
     "data": {
      "image/png": "[encoded data removed]",
      "text/plain": [
       "<Figure size 640x480 with 4 Axes>"
      ]
     },
     "metadata": {},
     "output_type": "display_data"
    }
   ],
   "source": [
    "wages['area'] = wages.area.map(\n",
    "    {\n",
    "        'northeast': 'Northeast',\n",
    "        'northcen': 'North Central',\n",
    "        'south': 'South',\n",
    "        'west': 'West'\n",
    "    }\n",
    ")\n",
    "fig, axes = plt.subplots(2, 2, sharey=True)\n",
    "(ax1, ax2), (ax3, ax4) = axes\n",
    "for area, ax in zip(wages.area.unique(), (ax1, ax2, ax3, ax4)):\n",
    "    for gender in ['female', 'male']:\n",
    "        sns.regplot(\n",
    "            data=wages[(wages.area==area) & (wages.sex==gender)], \n",
    "            x=\"educ\", \n",
    "            y=\"wage\", \n",
    "            label=gender if ax==ax1 else \"\",\n",
    "            ci=None, \n",
    "            ax=ax\n",
    "        )\n",
    "    ax.set_title(area)\n",
    "ax1.set_xlabel(\"\")\n",
    "ax1.set_ylabel(\"Wage\")\n",
    "ax2.set_xlabel(\"\")\n",
    "ax2.set_ylabel(\"\")\n",
    "ax3.set_xlabel(\"Education\")\n",
    "ax3.set_ylabel(\"Wage\")\n",
    "ax4.set_xlabel(\"Education\")\n",
    "ax4.set_ylabel(\"\")\n",
    "fig.legend(bbox_to_anchor=(0.55,-0.1),loc='lower center',ncol=2)\n",
    "fig.tight_layout()  \n",
    "fig.savefig('test.pdf',bbox_inches='tight')\n",
    "  "
   ]
  }
 ],
 "metadata": {
  "kernelspec": {
   "display_name": "Python 3.10.3 64-bit",
   "language": "python",
   "name": "python3"
  },
  "language_info": {
   "codemirror_mode": {
    "name": "ipython",
    "version": 3
   },
   "file_extension": ".py",
   "mimetype": "text/x-python",
   "name": "python",
   "nbconvert_exporter": "python",
   "pygments_lexer": "ipython3",
   "version": "3.10.3"
  },
  "orig_nbformat": 4,
  "vscode": {
   "interpreter": {
    "hash": "a98f34b6005ae2330f135078450db511ef8910ecc790235ef0560aa88aa6ce12"
   }
  }
 },
 "nbformat": 4,
 "nbformat_minor": 2
}
