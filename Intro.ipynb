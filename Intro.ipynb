{
  "cells": [
    {
      "cell_type": "markdown",
      "metadata": {
        "id": "view-in-github",
        "colab_type": "text"
      },
      "source": [
        "<a href=\"https://colab.research.google.com/github/kerryback/2022-BUSI520/blob/main/Intro.ipynb\" target=\"_parent\"><img src=\"https://colab.research.google.com/assets/colab-badge.svg\" alt=\"Open In Colab\"/></a>"
      ]
    },
    {
      "cell_type": "markdown",
      "metadata": {
        "pycharm": {
          "name": "#%% md\n"
        },
        "id": "rDQ4l_IysCnZ"
      },
      "source": [
        ""
      ]
    },
    {
      "cell_type": "markdown",
      "metadata": {
        "pycharm": {
          "name": "#%% md\n"
        },
        "id": "tVxckrM5sCnc"
      },
      "source": [
        "### Code cells and markdown cells in Jupyter notebooks\n",
        "\n",
        "* Execute either with run icon or SHFT-ENTER\n",
        "* Can use latex in markdown cells\n",
        "* Can make bulleted lists with *, large font with # or ## or ###, much more\n",
        "* Double click a markdown cell to put it in edit mode and SHFT-ENTER to put it in viewing mode\n",
        "* In a code cell, everything on a line after a # is ignored by the python interpreter\n",
        "* Use # to add comments to a file for yourself or others to read\n",
        "* Can also have multi-line comments using triple-quoted strings (later)\n",
        "* If the last expression in a code cell is not assigned to a variable, its value will be printed below the cell."
      ]
    },
    {
      "cell_type": "markdown",
      "metadata": {
        "pycharm": {
          "name": "#%% md\n"
        },
        "id": "Et5oW6KJsCne"
      },
      "source": [
        "### Jupyter notebooks vs .py scripts\n",
        "\n",
        "You can run python from a Jupyter notebook or by executing a script.  A script is just a text file with a sequence of python commands (a program).  The conventional file extension for a python script is .py.  \n",
        "\n",
        "Notebooks are interactive and are better for exploring data and developing code.  Notebooks can be confusing, because\n",
        "you can skip around and execute things in a different order than they appear in the file.  When your code is complete (until you have to revise your paper), it could be better to put in script form so it is clearer when you come back to it.  If I have something that takes hours or days to execute, I usually write it as a script and run it from a terminal window on the JGSB server. "
      ]
    },
    {
      "cell_type": "markdown",
      "metadata": {
        "pycharm": {
          "name": "#%% md\n"
        },
        "id": "NuGQguGKsCnf"
      },
      "source": [
        "### IDEs\n",
        "\n",
        "In addition to notebook vs .py, you have a choice of IDE (Integrated Development Environment).  It is possible to write python code in a text editor like Notebook and run scripts in a terminal window, but there are better choices.  Possibilities include\n",
        "\n",
        "* Jupyter Notebook or JupyterLab installed by Anaconda\n",
        "* JupyterLab Desktop\n",
        "* PyCharm\n",
        "* VS Code (Visual Studio Code)\n",
        "* Spyder\n",
        "* JupyterHub on the JGSB server\n",
        "* Cloud servers including Colab and Paperspace Gradient\n",
        "\n",
        "PyCharm and VS Code can run either notebooks or scripts.  They have the best code completion and syntax highlighting.  The extra versatility means the learning curve for them is a little steeper.\n",
        "\n",
        "If you ever want to do deep learning (neural networks) you will probably want to use a cloud server that provides GPUs."
      ]
    },
    {
      "cell_type": "markdown",
      "metadata": {
        "pycharm": {
          "name": "#%% md\n"
        },
        "id": "1l2iVtsYsCnf"
      },
      "source": [
        "### Modules\n",
        "\n",
        "Python consists of an interpreter and modules (or libraries or packages).  If you install from python.org, you get the interpreter and core modules.  If you install from Anaconda, you get the interpreter, core modules, and standard scientific modules.\n",
        "\n",
        "If you install from Anaconda, you by default work in a \"conda environment.\"  It is best to use the Anaconda Navigator or \"conda install\" in a terminal window (in the conda environment) to install new modules when possible.  Not all modules have been catalogued by conda.  For those, you need to use \"pip install\" in a terminal window (in the conda environment).\n",
        "\n",
        "We can issue operating system commands from inside a Jupyter notebook by prefacing them with !.  So, we can bypass using the terminal.  The following will install pandas-datareader.  It is already installed on Colab, and you can use conda install instead with Anaconda. \n",
        "\n",
        "New modules are created daily and published to PyPi for downloading with pip.  It is actually quite easy to create and publish your own modules.  There is no quality control, but there are millions of users of standard packages, and bugs are quickly reported.  Use Google and especially StackOverflow."
      ]
    },
    {
      "cell_type": "code",
      "execution_count": 5,
      "metadata": {
        "pycharm": {
          "name": "#%%\n"
        },
        "id": "WB_G33xssCng",
        "outputId": "734ba834-a3e8-4bf9-d2cc-27f149c69694",
        "colab": {
          "base_uri": "https://localhost:8080/"
        }
      },
      "outputs": [
        {
          "output_type": "stream",
          "name": "stdout",
          "text": [
            "Looking in indexes: https://pypi.org/simple, https://us-python.pkg.dev/colab-wheels/public/simple/\n",
            "Requirement already satisfied: pandas-datareader in /usr/local/lib/python3.7/dist-packages (0.9.0)\n",
            "Requirement already satisfied: lxml in /usr/local/lib/python3.7/dist-packages (from pandas-datareader) (4.9.1)\n",
            "Requirement already satisfied: requests>=2.19.0 in /usr/local/lib/python3.7/dist-packages (from pandas-datareader) (2.23.0)\n",
            "Requirement already satisfied: pandas>=0.23 in /usr/local/lib/python3.7/dist-packages (from pandas-datareader) (1.3.5)\n",
            "Requirement already satisfied: python-dateutil>=2.7.3 in /usr/local/lib/python3.7/dist-packages (from pandas>=0.23->pandas-datareader) (2.8.2)\n",
            "Requirement already satisfied: numpy>=1.17.3 in /usr/local/lib/python3.7/dist-packages (from pandas>=0.23->pandas-datareader) (1.21.6)\n",
            "Requirement already satisfied: pytz>=2017.3 in /usr/local/lib/python3.7/dist-packages (from pandas>=0.23->pandas-datareader) (2022.1)\n",
            "Requirement already satisfied: six>=1.5 in /usr/local/lib/python3.7/dist-packages (from python-dateutil>=2.7.3->pandas>=0.23->pandas-datareader) (1.15.0)\n",
            "Requirement already satisfied: urllib3!=1.25.0,!=1.25.1,<1.26,>=1.21.1 in /usr/local/lib/python3.7/dist-packages (from requests>=2.19.0->pandas-datareader) (1.24.3)\n",
            "Requirement already satisfied: certifi>=2017.4.17 in /usr/local/lib/python3.7/dist-packages (from requests>=2.19.0->pandas-datareader) (2022.6.15)\n",
            "Requirement already satisfied: chardet<4,>=3.0.2 in /usr/local/lib/python3.7/dist-packages (from requests>=2.19.0->pandas-datareader) (3.0.4)\n",
            "Requirement already satisfied: idna<3,>=2.5 in /usr/local/lib/python3.7/dist-packages (from requests>=2.19.0->pandas-datareader) (2.10)\n"
          ]
        }
      ],
      "source": [
        "!pip install pandas-datareader"
      ]
    },
    {
      "cell_type": "markdown",
      "metadata": {
        "pycharm": {
          "name": "#%% md\n"
        },
        "id": "HY6vO6X5sCni"
      },
      "source": [
        "### Start by importing modules or things from modules\n",
        "\n",
        "For clarity, it is a good idea to import everything you need at the top of a notebook or script.  \n",
        "\n",
        "* \"import ...\" or \"import ... as\" provides access to everything in the module by prefixing with the module name or alias (e.g., np.whatever)\n",
        "* \"from ... import ...\" or \"from ... import ... as ...\" provides direct access to whatever is imported using its name without a prefix\n",
        "* The reason for the prefix style is to avoid having duplicate names in the workspace (only one would work)."
      ]
    },
    {
      "cell_type": "code",
      "execution_count": 6,
      "metadata": {
        "pycharm": {
          "name": "#%%\n"
        },
        "id": "OCenhG8EsCnj",
        "outputId": "48a3af72-6623-4199-8e0b-ad288f2cddb1",
        "colab": {
          "base_uri": "https://localhost:8080/",
          "height": 339
        }
      },
      "outputs": [
        {
          "output_type": "error",
          "ename": "ModuleNotFoundError",
          "evalue": "ignored",
          "traceback": [
            "\u001b[0;31m---------------------------------------------------------------------------\u001b[0m",
            "\u001b[0;31mModuleNotFoundError\u001b[0m                       Traceback (most recent call last)",
            "\u001b[0;32m<ipython-input-6-e933e8304fbe>\u001b[0m in \u001b[0;36m<module>\u001b[0;34m()\u001b[0m\n\u001b[1;32m      6\u001b[0m \u001b[0;32mfrom\u001b[0m \u001b[0mmath\u001b[0m \u001b[0;32mimport\u001b[0m \u001b[0msqrt\u001b[0m\u001b[0;34m,\u001b[0m \u001b[0mexp\u001b[0m\u001b[0;34m,\u001b[0m \u001b[0mlog\u001b[0m\u001b[0;34m\u001b[0m\u001b[0;34m\u001b[0m\u001b[0m\n\u001b[1;32m      7\u001b[0m \u001b[0;32mfrom\u001b[0m \u001b[0mscipy\u001b[0m\u001b[0;34m.\u001b[0m\u001b[0mstats\u001b[0m \u001b[0;32mimport\u001b[0m \u001b[0mnorm\u001b[0m\u001b[0;34m\u001b[0m\u001b[0;34m\u001b[0m\u001b[0m\n\u001b[0;32m----> 8\u001b[0;31m \u001b[0;32mimport\u001b[0m \u001b[0mwrds\u001b[0m\u001b[0;34m\u001b[0m\u001b[0;34m\u001b[0m\u001b[0m\n\u001b[0m",
            "\u001b[0;31mModuleNotFoundError\u001b[0m: No module named 'wrds'",
            "",
            "\u001b[0;31m---------------------------------------------------------------------------\u001b[0;32m\nNOTE: If your import is failing due to a missing package, you can\nmanually install dependencies using either !pip or !apt.\n\nTo view examples of installing some common dependencies, click the\n\"Open Examples\" button below.\n\u001b[0;31m---------------------------------------------------------------------------\u001b[0m\n"
          ],
          "errorDetails": {
            "actions": [
              {
                "action": "open_url",
                "actionText": "Open Examples",
                "url": "/notebooks/snippets/importing_libraries.ipynb"
              }
            ]
          }
        }
      ],
      "source": [
        "import numpy as np\n",
        "import pandas as pd\n",
        "from pandas_datareader import DataReader as pdr\n",
        "from seaborn import load_dataset\n",
        "from scipy.stats import norm"
      ]
    },
    {
      "cell_type": "markdown",
      "metadata": {
        "pycharm": {
          "name": "#%% md\n"
        },
        "id": "cKaz9ja1sCnk"
      },
      "source": [
        "### Assignment statements\n",
        "\n",
        "* a=b means \"evaluate b and assign the result to a variable named a\"\n",
        "* spaces around = are optional, and are optional in most other places as well (with one important exception we will discuss)\n",
        "* can use any name not reserved by python for a variable, must start with letter or underscore, cannot have spaces or some other characters\n",
        "* can have multiple assignments on a single line\n"
      ]
    },
    {
      "cell_type": "code",
      "execution_count": null,
      "metadata": {
        "pycharm": {
          "name": "#%%\n"
        },
        "id": "Jf7mV6vesCnl"
      },
      "outputs": [],
      "source": [
        "x = 3\n",
        "x = x + 1\n",
        "x"
      ]
    },
    {
      "cell_type": "code",
      "execution_count": null,
      "metadata": {
        "id": "Cy1iGo8usCnm"
      },
      "outputs": [],
      "source": [
        "x, y, z = 3, 4, 5\n",
        "z"
      ]
    },
    {
      "cell_type": "markdown",
      "metadata": {
        "pycharm": {
          "name": "#%% md\n"
        },
        "id": "LytLFee1sCnm"
      },
      "source": [
        "### Basic object types\n",
        "\n",
        "Uncomment (delete the # and following space) each of the following one at a time and execute the cell.  You should do this in cells throughout the notebook."
      ]
    },
    {
      "cell_type": "code",
      "execution_count": null,
      "metadata": {
        "pycharm": {
          "name": "#%%\n"
        },
        "id": "-ma_-FfqsCnn"
      },
      "outputs": [],
      "source": [
        "# type(3)\n",
        "# type(2.718)\n",
        "# type('some text')\n",
        "# type(['a', 'b', 'c'])\n",
        "# type(('a', 'b', 'c'))\n",
        "# type({'a': 1, 'b': 2})\n",
        "# type(np.sqrt)\n",
        "# type(True)\n",
        "# type(False)\n",
        "# type(None)"
      ]
    },
    {
      "cell_type": "markdown",
      "metadata": {
        "pycharm": {
          "name": "#%% md\n"
        },
        "id": "uxgECmOSsCnn"
      },
      "source": [
        "### Some basic functions"
      ]
    },
    {
      "cell_type": "code",
      "execution_count": null,
      "metadata": {
        "pycharm": {
          "name": "#%%\n"
        },
        "id": "T9Pyj2SGsCno"
      },
      "outputs": [],
      "source": [
        "# round(3.14, 1)\n",
        "# int(3.14)\n",
        "# int('3')\n",
        "# str(3)"
      ]
    },
    {
      "cell_type": "markdown",
      "source": [
        "### Help"
      ],
      "metadata": {
        "id": "XMUOdN75BHhp"
      }
    },
    {
      "cell_type": "code",
      "source": [
        "# help(round)\n",
        "# help(np.sqrt)\n",
        "# help(np)"
      ],
      "metadata": {
        "id": "EprMauh9BLoB",
        "outputId": "e773eb39-4a3e-4fc1-98b9-f8902dc5bb37",
        "colab": {
          "base_uri": "https://localhost:8080/"
        }
      },
      "execution_count": 9,
      "outputs": [
        {
          "output_type": "stream",
          "name": "stdout",
          "text": [
            "Help on built-in function round in module builtins:\n",
            "\n",
            "round(number, ndigits=None)\n",
            "    Round a number to a given precision in decimal digits.\n",
            "    \n",
            "    The return value is an integer if ndigits is omitted or None.  Otherwise\n",
            "    the return value has the same type as the number.  ndigits may be negative.\n",
            "\n"
          ]
        }
      ]
    },
    {
      "cell_type": "markdown",
      "metadata": {
        "pycharm": {
          "name": "#%% md\n"
        },
        "id": "CBfPWdAssCno"
      },
      "source": [
        "### Print statements\n"
      ]
    },
    {
      "cell_type": "code",
      "execution_count": null,
      "metadata": {
        "pycharm": {
          "name": "#%%\n"
        },
        "id": "jMSr3LFWsCno"
      },
      "outputs": [],
      "source": [
        "x = 3.14\n",
        "y = 2.718\n",
        "print(x)\n",
        "print(x, y)\n",
        "print(\"x is\", x, \"and y is\", y)\n"
      ]
    },
    {
      "cell_type": "markdown",
      "metadata": {
        "pycharm": {
          "name": "#%% md\n"
        },
        "id": "53BVtmeLsCnp"
      },
      "source": [
        "### Working with lists\n",
        "\n",
        "* Counting starts from zero.  \n",
        "* Ranges int1:int2 start with int1 and go to *but not including* int2.\n",
        "* If int1 is a colon, then start with 0.  If int2 is a colon then go through the last element (including the last element).\n",
        "* Consequently, the subset has int2 - int1 elements\n",
        "* Last item can be accessed as -1, next-to-last as -2, etc.\n",
        "* In range int1:int2 if int2 is -1 then go to *but do not include* the last element, analogously for -2, etc.\n",
        "* Can use range int1:int2:int3 to go from int1 to int2 stepping by int3\n",
        "* In range int1:int2:int3, int3 can be negative and int1>int2\n",
        "* Concatenate lists with +\n",
        "\n"
      ]
    },
    {
      "cell_type": "code",
      "execution_count": null,
      "metadata": {
        "pycharm": {
          "name": "#%%\n"
        },
        "id": "RnR954D9sCnp"
      },
      "outputs": [],
      "source": [
        "x = ['a', 'b', 'c', 'd']\n",
        "y = ['m', 'n', 'o' 'p', 'q']\n",
        "\n",
        "# len(x)\n",
        "# x[0]\n",
        "# x[1]\n",
        "# x[:2]\n",
        "# x[0:2]\n",
        "# x[1:4]\n",
        "# x[1:4:2]\n",
        "# x[4:1:-1]\n",
        "# x[-1]\n",
        "# x[:-1]\n",
        "# x[-2]\n",
        "# x[-3:]\n",
        "# x[-3:-1]\n",
        "# x[1]='w'\n",
        "# x[1:3] = ['y','z']\n",
        "# x.append('u')\n",
        "# indx = x.index('a')\n",
        "# x.remove('a')\n",
        "# x.insert(indx, 's')\n",
        "# x.reverse()\n",
        "# x + y\n",
        "# 3 * x\n",
        "# 7 * [0]"
      ]
    },
    {
      "cell_type": "markdown",
      "metadata": {
        "pycharm": {
          "name": "#%% md\n"
        },
        "id": "3dZHGEnqsCnp"
      },
      "source": [
        "### Working with strings\n",
        "\n",
        "* Can use either single or double quotes\n",
        "* Concatenate with +\n",
        "* Strings are basically lists of characters, and many list operations work on strings"
      ]
    },
    {
      "cell_type": "code",
      "execution_count": null,
      "metadata": {
        "pycharm": {
          "name": "#%%\n"
        },
        "id": "5gBbcagssCnq"
      },
      "outputs": [],
      "source": [
        "string1 = 'This is some text'\n",
        "string2 = \"This is some different text\"\n",
        "\n",
        "# string1[:4]\n",
        "# string1[-4:]\n",
        "# string1 + \". \" + string2 + \".\"\n",
        "# string1.split(\" \")\n",
        "# string1.split(\" \")[0] + \" \" + string1.split(\" \")[3]\n",
        "# string1.title()\n",
        "# string1.upper()\n",
        "\n"
      ]
    },
    {
      "cell_type": "markdown",
      "metadata": {
        "pycharm": {
          "name": "#%% md\n"
        },
        "id": "vP5b_mtMsCnr"
      },
      "source": [
        "### Logical conditions\n",
        "\n",
        "A single = is an assignment, so to test for equality we use =="
      ]
    },
    {
      "cell_type": "code",
      "execution_count": null,
      "metadata": {
        "pycharm": {
          "name": "#%%\n"
        },
        "id": "P-xbYpv4sCnr"
      },
      "outputs": [],
      "source": [
        "# 3 == 3\n",
        "# 3 == 5\n",
        "# 3 != 5\n",
        "# not 3 == 5\n",
        "# 3 > 5\n",
        "# 2 < 4 and 3 > 5\n",
        "# 2 < 4 or 3 > 5\n",
        "# 1 in [3, 4]\n",
        "# 1 not in [3, 4]\n",
        "# 1 * (3>5)\n",
        "# 1 * (2<4)\n"
      ]
    },
    {
      "cell_type": "markdown",
      "metadata": {
        "pycharm": {
          "name": "#%% md\n"
        },
        "id": "oqBqYFPasCns"
      },
      "source": [
        "### Ternary operator\n",
        "\n",
        "\n"
      ]
    },
    {
      "cell_type": "code",
      "execution_count": null,
      "metadata": {
        "pycharm": {
          "name": "#%%\n"
        },
        "id": "a6JH3HtysCns"
      },
      "outputs": [],
      "source": [
        "# \"yes\" if 3>5 else \"no\"\n",
        "# 10 if 3>5 else 100\n",
        "# 10 if 2 < 4 or 3 > 5 else 100\n",
        "# 10 if 0 else 100\n",
        "# 10 if None else 100\n",
        "# 10 if 16 else 100"
      ]
    },
    {
      "cell_type": "markdown",
      "metadata": {
        "pycharm": {
          "name": "#%% md\n"
        },
        "id": "9CT5AAHdsCns"
      },
      "source": [
        "### List enumeration"
      ]
    },
    {
      "cell_type": "code",
      "execution_count": null,
      "metadata": {
        "pycharm": {
          "name": "#%%\n"
        },
        "id": "TNNc-kchsCns"
      },
      "outputs": [],
      "source": [
        "letters = ['a', 'b', 'c', 'd']\n",
        "# [x + '1' for x in letters]\n",
        "# [x + '1' for x in letters if not x=='c']\n"
      ]
    },
    {
      "cell_type": "markdown",
      "metadata": {
        "pycharm": {
          "name": "#%% md\n"
        },
        "id": "2JMTZ3EAsCnt"
      },
      "source": [
        "### Range objects"
      ]
    },
    {
      "cell_type": "code",
      "execution_count": null,
      "metadata": {
        "pycharm": {
          "name": "#%%\n"
        },
        "id": "tOHkoU25sCnt"
      },
      "outputs": [],
      "source": [
        "# [i for i in range(6)]\n",
        "# [i for i in range(1,7)]\n",
        "# [i for i in range(2,8,2)]\n",
        "# [i for i in range(6,2,-1)]"
      ]
    },
    {
      "cell_type": "markdown",
      "metadata": {
        "pycharm": {
          "name": "#%% md\n"
        },
        "id": "66FdNFzHsCnt"
      },
      "source": [
        "### Assign by reference or by value\n",
        "\n",
        "An assignment a=b can be by reference or by value.  In python, integers and floats are assigned by value.  Lists and other types of arrays are assigned by reference.  Assignment by reference means that the new variable a is associated with the memory location holding the old variable b.  Since, they are both associated with the same memory location, changes to either variable will affect the other.  Assignment by value means that the value of b is copied to a new memory location, which is then associated with a.  Since they are associated to different memory locations, changes to one will not affect the other.  \n",
        "\n",
        "The takeaway is that if you do a=b for a list or array and then change one, the other will also be changed.  In this situation, you probably want to make a copy of b, so you can change a without changing b.  Lists have a copy method that creates a copy at a new memory location."
      ]
    },
    {
      "cell_type": "code",
      "execution_count": null,
      "metadata": {
        "pycharm": {
          "name": "#%%\n"
        },
        "id": "FFoFKwuasCnt"
      },
      "outputs": [],
      "source": [
        "x = 3\n",
        "y = x\n",
        "x = x + 1\n",
        "y"
      ]
    },
    {
      "cell_type": "code",
      "execution_count": null,
      "metadata": {
        "pycharm": {
          "name": "#%%\n"
        },
        "id": "GwRqNgPpsCnt"
      },
      "outputs": [],
      "source": [
        "x = ['a', 'b', 'c']\n",
        "y = x\n",
        "x.append('d')\n",
        "y"
      ]
    },
    {
      "cell_type": "code",
      "execution_count": null,
      "metadata": {
        "pycharm": {
          "name": "#%%\n"
        },
        "id": "7pegYxyXsCnu"
      },
      "outputs": [],
      "source": [
        "x = ['a', 'b', 'c']\n",
        "y = x.copy()\n",
        "x.append('d')\n",
        "y"
      ]
    },
    {
      "cell_type": "markdown",
      "metadata": {
        "pycharm": {
          "name": "#%% md\n"
        },
        "id": "ZBRuAzGLsCnu"
      },
      "source": [
        "### Numpy\n",
        "\n",
        "Numpy is a wrapper to code written in C or a variant that performs fast mathematical operations.  Numpy functions operate element-wise on lists and return numpy arrays."
      ]
    },
    {
      "cell_type": "code",
      "execution_count": null,
      "metadata": {
        "pycharm": {
          "name": "#%%\n"
        },
        "id": "OTX_OB1GsCnu"
      },
      "outputs": [],
      "source": [
        "x = [1, 2, 3]\n",
        "# np.sqrt(x)\n",
        "# np.log(x)\n",
        "# np.exp(x)"
      ]
    },
    {
      "cell_type": "markdown",
      "metadata": {
        "pycharm": {
          "name": "#%% md\n"
        },
        "id": "tDppRuKxsCnu"
      },
      "source": [
        "### Numpy arrays\n",
        "\n",
        "* For lists, + concatenates and * duplicates.  For numpy arrays, + adds and * multiplies element-wise.\n",
        "* Exponentiation in python is **.  It operates on numpy arrays element-wise."
      ]
    },
    {
      "cell_type": "code",
      "execution_count": null,
      "metadata": {
        "pycharm": {
          "name": "#%%\n"
        },
        "id": "hmXLoFPcsCnu"
      },
      "outputs": [],
      "source": [
        "x = np.array([1, 2, 3])\n",
        "y = np.array([4, 5, 6])\n",
        "# x + y\n",
        "# x * y\n",
        "# x**2\n",
        "# 3**x"
      ]
    },
    {
      "cell_type": "markdown",
      "metadata": {
        "pycharm": {
          "name": "#%% md\n"
        },
        "id": "CuyVysZpsCnv"
      },
      "source": [
        "### Higher-dimensional arrays\n",
        "\n"
      ]
    },
    {
      "cell_type": "code",
      "execution_count": null,
      "metadata": {
        "pycharm": {
          "name": "#%%\n"
        },
        "id": "J5GzgR0XsCnv"
      },
      "outputs": [],
      "source": [
        "x = np.array([[1, 2, 3, 4], [5, 6, 7, 8], [9, 10, 11, 12]])\n",
        "x"
      ]
    },
    {
      "cell_type": "markdown",
      "metadata": {
        "pycharm": {
          "name": "#%% md\n"
        },
        "id": "mXhTBFgJsCnv"
      },
      "source": [
        "The following illustrates a formatting convention that can make code more readable.  It is useful in many places and is not actually related to numpy arrays.  Arbitrary indentation is allowed inside parentheses or braces."
      ]
    },
    {
      "cell_type": "code",
      "execution_count": null,
      "metadata": {
        "pycharm": {
          "name": "#%%\n"
        },
        "id": "-nfb7WLQsCnv"
      },
      "outputs": [],
      "source": [
        "x = np.array(\n",
        "    [ \n",
        "        [1, 2, 3, 4],\n",
        "        [5, 6, 7, 8],\n",
        "        [9, 10, 11, 12]\n",
        "    ]\n",
        ")\n",
        "x"
      ]
    },
    {
      "cell_type": "markdown",
      "metadata": {
        "pycharm": {
          "name": "#%% md\n"
        },
        "id": "lLLB0IlcsCnv"
      },
      "source": [
        "### Shape and reshape"
      ]
    },
    {
      "cell_type": "code",
      "execution_count": null,
      "metadata": {
        "pycharm": {
          "name": "#%%\n"
        },
        "id": "nFH7pDsmsCnw"
      },
      "outputs": [],
      "source": [
        "x.shape"
      ]
    },
    {
      "cell_type": "code",
      "execution_count": null,
      "metadata": {
        "pycharm": {
          "name": "#%%\n"
        },
        "id": "VCSS3r3usCnw"
      },
      "outputs": [],
      "source": [
        "x = np.array([i for i in range(1,13)]).reshape(3,4)\n",
        "x"
      ]
    },
    {
      "cell_type": "markdown",
      "metadata": {
        "pycharm": {
          "name": "#%% md\n"
        },
        "id": "RzwxdrYPsCnw"
      },
      "source": [
        "### Some standard arrays"
      ]
    },
    {
      "cell_type": "code",
      "execution_count": null,
      "metadata": {
        "pycharm": {
          "name": "#%%\n"
        },
        "id": "-e7fbn7IsCnw"
      },
      "outputs": [],
      "source": [
        "# np.ones(4)\n",
        "# np.zeros(3)\n",
        "# np.identity(3)"
      ]
    },
    {
      "cell_type": "markdown",
      "metadata": {
        "pycharm": {
          "name": "#%% md\n"
        },
        "id": "rfst7oZzsCnw"
      },
      "source": [
        "### Matrix algebra"
      ]
    },
    {
      "cell_type": "code",
      "execution_count": null,
      "metadata": {
        "pycharm": {
          "name": "#%%\n"
        },
        "id": "2n3pjRonsCnx"
      },
      "outputs": [],
      "source": [
        "x = np.array([i for i in range(1,13)]).reshape(3, 4)\n",
        "y = np.array([1, 2, 5, 10])\n",
        "x @ y"
      ]
    },
    {
      "cell_type": "code",
      "execution_count": null,
      "metadata": {
        "pycharm": {
          "name": "#%%\n"
        },
        "id": "DI1A4jvHsCnx"
      },
      "outputs": [],
      "source": [
        "x.T"
      ]
    },
    {
      "cell_type": "code",
      "execution_count": null,
      "metadata": {
        "pycharm": {
          "name": "#%%\n"
        },
        "id": "EiZdPq1dsCnx"
      },
      "outputs": [],
      "source": [
        "x = norm.rvs(loc=0, scale=1, size=9).reshape(3, 3)\n",
        "np.linalg.inv(x)"
      ]
    },
    {
      "cell_type": "code",
      "execution_count": null,
      "metadata": {
        "pycharm": {
          "name": "#%%\n"
        },
        "id": "sbjjhXUbsCnx"
      },
      "outputs": [],
      "source": [
        "np.linalg.inv(x) @ x"
      ]
    },
    {
      "cell_type": "markdown",
      "metadata": {
        "pycharm": {
          "name": "#%% md\n"
        },
        "id": "VqnzaEzssCnx"
      },
      "source": [
        "### Concatenating numpy arrays"
      ]
    },
    {
      "cell_type": "code",
      "execution_count": null,
      "metadata": {
        "pycharm": {
          "name": "#%%\n"
        },
        "id": "vNJgtvoFsCny"
      },
      "outputs": [],
      "source": [
        "x = np.array([1, 2, 3])\n",
        "y = np.array([4, 5, 6, 7])\n",
        "np.concatenate((x, y))"
      ]
    },
    {
      "cell_type": "markdown",
      "metadata": {
        "collapsed": false,
        "pycharm": {
          "name": "#%% md\n"
        },
        "id": "If-7iRHasCny"
      },
      "source": [
        "### Defining functions\n",
        "\n",
        "Why functions?  Modularized code is easier to test, maintain, and reuse.\n",
        "\n",
        "* The def keyword starts the function definition.\n",
        "* Arguments are enclosed in parentheses and followed by a colon.\n",
        "* The return keyword indicates the value returned by the function.\n",
        "* Functions can return numbers, lists, strings, ...\n",
        "* Indentation is crucial.  All lines within the function definition must be indented the same number of spaces, unless there is a reason the line must be indented further (more later) or it is within parentheses or braces.  A good IDE will prompt you to indent and tell you when you have indentation wrong.\n"
      ]
    },
    {
      "cell_type": "code",
      "execution_count": null,
      "metadata": {
        "pycharm": {
          "name": "#%%\n"
        },
        "id": "K6doHw-5sCny"
      },
      "outputs": [],
      "source": [
        "def double(x):\n",
        "    return 2*x\n",
        "\n",
        "double(3)"
      ]
    },
    {
      "cell_type": "markdown",
      "metadata": {
        "collapsed": false,
        "pycharm": {
          "name": "#%% md\n"
        },
        "id": "SdsAvtpzsCny"
      },
      "source": [
        "### Passing arguments by name"
      ]
    },
    {
      "cell_type": "code",
      "execution_count": null,
      "metadata": {
        "pycharm": {
          "name": "#%%\n"
        },
        "id": "bwB8fyUMsCny"
      },
      "outputs": [],
      "source": [
        "def exponentiate(base, exponent):\n",
        "    return base ** exponent\n",
        "\n",
        "# exponentiate(2, 5)\n",
        "# exponentiate(base=2, exponent=5)\n",
        "# exponentiate(exponent=5, base=2)\n",
        "# exponentiate(5, 2)"
      ]
    },
    {
      "cell_type": "markdown",
      "metadata": {
        "id": "468QmM6NsCny"
      },
      "source": [
        "### Returning tuples\n"
      ]
    },
    {
      "cell_type": "code",
      "execution_count": null,
      "metadata": {
        "id": "g3HNXw5TsCnz"
      },
      "outputs": [],
      "source": [
        "def f(x):\n",
        "    return 2*x, 3*x \n",
        "\n",
        "a, b = f(2)\n",
        "b"
      ]
    },
    {
      "cell_type": "markdown",
      "source": [
        "### Local and global variables\n",
        "\n",
        "* If a variable is created inside a function definition, it will not exist outside the function (it is local to the function).\n",
        "* If a variable has been assigned a value outside a function definition and the variable name is used again inside the definition, the value outside the function will not change (there will be two variables with the same name but different values in *different namespaces*).\n",
        "* If a variable has been assigned a value outside a function definition, then the variable with the assigned value can be used in a function definition.  But changes to the variable outside the function *will change the operation of the function.*  This is dangerous to do.\n",
        "* An exception to the second bullet point is if the global keyword is used inside the function definition.  This removes the local property of the variable inside the function and causes changes within the function to affect the value outside.  This is sometimes what you want to do, but you should use special names for such variables so that it is clear (to you) that this is being done.  A convention is to use all caps for global variables."
      ],
      "metadata": {
        "id": "HGgTCekkDXuB"
      }
    },
    {
      "cell_type": "code",
      "source": [
        "def addone(x):\n",
        "  aNewVariableName = 1\n",
        "  return x + aNewVariableName\n",
        "\n",
        "print(addone(2))\n",
        "print(aNewVariableName)"
      ],
      "metadata": {
        "id": "NP6sXxEIGWd5",
        "outputId": "dea36230-91f8-4e3e-fb76-c6b586ab1508",
        "colab": {
          "base_uri": "https://localhost:8080/",
          "height": 201
        }
      },
      "execution_count": 16,
      "outputs": [
        {
          "output_type": "error",
          "ename": "NameError",
          "evalue": "ignored",
          "traceback": [
            "\u001b[0;31m---------------------------------------------------------------------------\u001b[0m",
            "\u001b[0;31mNameError\u001b[0m                                 Traceback (most recent call last)",
            "\u001b[0;32m<ipython-input-16-8eacabeb353d>\u001b[0m in \u001b[0;36m<module>\u001b[0;34m()\u001b[0m\n\u001b[1;32m      3\u001b[0m   \u001b[0;32mreturn\u001b[0m \u001b[0my\u001b[0m \u001b[0;34m+\u001b[0m \u001b[0maNewVariableName\u001b[0m\u001b[0;34m\u001b[0m\u001b[0;34m\u001b[0m\u001b[0m\n\u001b[1;32m      4\u001b[0m \u001b[0;34m\u001b[0m\u001b[0m\n\u001b[0;32m----> 5\u001b[0;31m \u001b[0mprint\u001b[0m\u001b[0;34m(\u001b[0m\u001b[0maddone\u001b[0m\u001b[0;34m(\u001b[0m\u001b[0;36m2\u001b[0m\u001b[0;34m)\u001b[0m\u001b[0;34m,\u001b[0m \u001b[0maNewVariableName\u001b[0m\u001b[0;34m)\u001b[0m\u001b[0;34m\u001b[0m\u001b[0;34m\u001b[0m\u001b[0m\n\u001b[0m",
            "\u001b[0;31mNameError\u001b[0m: name 'aNewVariableName' is not defined"
          ]
        }
      ]
    },
    {
      "cell_type": "code",
      "source": [
        "anOldVariableName = 5\n",
        "def addone(x):\n",
        "  anOldVariableName = 1\n",
        "  return x + anOldVariableName\n",
        "  \n",
        "print(addone(2))\n",
        "print(anOldVariableName)"
      ],
      "metadata": {
        "id": "HIFUhZkcDbND",
        "outputId": "714453f4-6434-4205-de24-15b29d9a66f1",
        "colab": {
          "base_uri": "https://localhost:8080/"
        }
      },
      "execution_count": 17,
      "outputs": [
        {
          "output_type": "stream",
          "name": "stdout",
          "text": [
            "3\n",
            "5\n"
          ]
        }
      ]
    },
    {
      "cell_type": "code",
      "source": [
        "anOldVariableName = 1\n",
        "def addone(x):\n",
        "  return x + anOldVariableName\n",
        "  \n",
        "print(addone(2))\n",
        "print(anOldVariableName)\n",
        "\n",
        "anOldVariableName = 5\n",
        "print(addone(2))"
      ],
      "metadata": {
        "id": "PA6psnUZEwm7",
        "outputId": "7a5e2e0a-d66b-428a-e734-b34e4072bc44",
        "colab": {
          "base_uri": "https://localhost:8080/"
        }
      },
      "execution_count": 13,
      "outputs": [
        {
          "output_type": "execute_result",
          "data": {
            "text/plain": [
              "5"
            ]
          },
          "metadata": {},
          "execution_count": 13
        }
      ]
    },
    {
      "cell_type": "code",
      "source": [
        "anOldVariableName = 5\n",
        "def addone(x):\n",
        "  global anOldVariableName\n",
        "  anOldVariableName = 1\n",
        "  return x + anOldVariableName\n",
        "\n",
        "print(addone(2))\n",
        "print(anOldVariableName)"
      ],
      "metadata": {
        "id": "PXe4u9t3E--M",
        "outputId": "ba50ca5d-e185-41e9-d8f3-ad3594241dac",
        "colab": {
          "base_uri": "https://localhost:8080/"
        }
      },
      "execution_count": 18,
      "outputs": [
        {
          "output_type": "stream",
          "name": "stdout",
          "text": [
            "3\n",
            "1\n"
          ]
        }
      ]
    },
    {
      "cell_type": "markdown",
      "metadata": {
        "collapsed": false,
        "pycharm": {
          "name": "#%% md\n"
        },
        "id": "qqA5OOchsCnz"
      },
      "source": [
        "### Defining classes\n",
        "\n",
        "Why classes?  To store data so we don't have to input it repeatedly into functions.\n",
        "\n",
        "* Main takeaways: objects have attributes and methods.\n",
        "* Attributes are data (in a general sense - not necessarily numbers) that are stored in the object.\n",
        "* Methods are functions that operate on the data and possibly on other arguments.\n",
        "* A class definition is initiated with the class keyword.\n",
        "* The __init__ method is how an instance of the object is created.  It usually defines the attributes.\n",
        "* Note that the lines following the class keyword must be indented, and method definitions must be further indented.\n",
        "* In general, indentation is sequential.  Each class / function / for or while block / if-else block must be further indented.\n"
      ]
    },
    {
      "cell_type": "code",
      "execution_count": null,
      "metadata": {
        "pycharm": {
          "name": "#%%\n"
        },
        "id": "XH8gS3PRsCnz"
      },
      "outputs": [],
      "source": [
        "class multiplier():\n",
        "    def __init__(self,x) :\n",
        "        self.factor = x\n",
        "    def multiply(self, y) :\n",
        "        return y * self.factor\n",
        "\n",
        "x = multiplier(3)\n",
        "# x.multiply(4)\n",
        "# x.factor"
      ]
    },
    {
      "cell_type": "markdown",
      "metadata": {
        "id": "3kwknZkesCnz"
      },
      "source": [
        "### Sets\n",
        "\n",
        "Sets are unordered collections with no repeated items."
      ]
    },
    {
      "cell_type": "code",
      "execution_count": null,
      "metadata": {
        "id": "2ct202f9sCnz"
      },
      "outputs": [],
      "source": [
        "x = set([1, 1, 2, 3])\n",
        "x"
      ]
    },
    {
      "cell_type": "code",
      "execution_count": null,
      "metadata": {
        "id": "n7QoINz_sCnz"
      },
      "outputs": [],
      "source": [
        "x.issubset([1, 2, 2, 3, 4, 4])"
      ]
    },
    {
      "cell_type": "markdown",
      "metadata": {
        "id": "g2R7BsRrsCn0"
      },
      "source": [
        "### Dictionaries\n",
        "\n",
        "* Dictionaries are unordered collections of key/value pairs\n",
        "* Sometimes called look-up tables or hash tables \n",
        "* Compared to normal dictionaries, key $\\sim$ word and value $\\sim$ definition.\n",
        "* Created with dict function or by enclosing key/value pairs in {}\n",
        "* Keys and values can be any types of objects"
      ]
    },
    {
      "cell_type": "code",
      "execution_count": null,
      "metadata": {
        "id": "jvyIx5H5sCn0"
      },
      "outputs": [],
      "source": [
        "x = {'a': 1, 'b': 2}\n",
        "x['a']"
      ]
    },
    {
      "cell_type": "code",
      "execution_count": null,
      "metadata": {
        "id": "ilA9dCOUsCn0"
      },
      "outputs": [],
      "source": [
        "x = dict(a=1, b=2)\n",
        "# x['a']\n",
        "# list(x.keys())\n",
        "# list(x.values())"
      ]
    },
    {
      "cell_type": "markdown",
      "metadata": {
        "collapsed": false,
        "pycharm": {
          "name": "#%% md\n"
        },
        "id": "wZHYjmX0sCn0"
      },
      "source": [
        "### Pandas\n",
        "\n",
        "* pandas was created and is maintained by Wes McKinney, formerly of AQR.\n",
        "* The load_dataset function returns a pandas dataframe.\n",
        "* .loc extracts rows using row labels (index).  In this case, the labels are just 0, 1, 2, ...\n",
        "* .iloc extracts rows using the index location.  It works like extracting items from a list, starting at 0.\n",
        "* Because the row labels here are just 0, 1, 2, ... .loc and .iloc work almost the same.  The only difference is that .iloc works like extracting items from a list, so it goes up to but not including the last number.  .loc uses the row labels including the last label.\n",
        "* pandas has a copy method like lists so you can create a copy of a dataframe and change the copy without affecting the original."
      ]
    },
    {
      "cell_type": "code",
      "execution_count": null,
      "metadata": {
        "pycharm": {
          "name": "#%%\n"
        },
        "id": "1dLxOD-HsCn0"
      },
      "outputs": [],
      "source": [
        "tips = load_dataset(\"tips\")\n",
        "# tips.info()\n",
        "# tips.describe()\n",
        "# tips.dtypes\n",
        "# tips.head()\n",
        "# tips.tail()\n",
        "# tips.columns\n",
        "# tips.index\n",
        "# tips.day.unique()\n",
        "# tips.loc[0]\n",
        "# tips.loc[3:6]\n",
        "# tips.loc[-1]\n",
        "# tips.loc[-4:]\n",
        "# tips.iloc[0]\n",
        "# tips.iloc[3:6]\n",
        "# tips.iloc[3:10:2]\n",
        "# tips.iloc[-1]\n",
        "# tips.iloc[-4:]\n",
        "# tips['tip']\n",
        "# tips.tip\n",
        "# tips.loc[3, 'tip']\n",
        "# tips[['total_bill', 'tip]]\n",
        "# tips[['total_bill', 'tip']].loc[3:7]\n",
        "# tips.loc[3:7][['total_bill', 'tip']]\n",
        "# tips.to_dict()\n",
        "# tips[['total_bill', 'tip']].to_numpy()"
      ]
    },
    {
      "cell_type": "code",
      "execution_count": null,
      "metadata": {
        "id": "OVGwPtRisCn0"
      },
      "outputs": [],
      "source": [
        "tips2 = tips.copy()\n",
        "tips2.columns = ['new_' + c for c in tips2.columns]\n",
        "tips2.head(3)"
      ]
    },
    {
      "cell_type": "code",
      "execution_count": null,
      "metadata": {
        "id": "HqZLu5igsCn1"
      },
      "outputs": [],
      "source": [
        "tips2 = tips2.rename(columns={'new_smoker': 'new_new_smoker'})\n",
        "tips2.head(3)"
      ]
    },
    {
      "cell_type": "markdown",
      "metadata": {
        "pycharm": {
          "name": "#%% md\n"
        },
        "id": "v6d4GOgksCn1"
      },
      "source": [
        "### Sorting"
      ]
    },
    {
      "cell_type": "code",
      "execution_count": null,
      "metadata": {
        "pycharm": {
          "name": "#%%\n"
        },
        "id": "s62UA2ArsCn1"
      },
      "outputs": [],
      "source": [
        "tips = tips.sort_values(by=['sex', 'total_bill'])\n",
        "tips.head()"
      ]
    },
    {
      "cell_type": "markdown",
      "metadata": {
        "pycharm": {
          "name": "#%% md\n"
        },
        "id": "Mv9WTNkXsCn1"
      },
      "source": [
        "### Inserting columns\n",
        "\n",
        "We can add new rows and columns.  More often, we want to add new columns.  Operations on columns are element-wise as with numpy."
      ]
    },
    {
      "cell_type": "code",
      "execution_count": null,
      "metadata": {
        "pycharm": {
          "name": "#%%\n"
        },
        "id": "bANVamhUsCn1"
      },
      "outputs": [],
      "source": [
        "tips['pct'] = tips.tip / tips.total_bill\n",
        "tips['day_type'] = tips.day.map(lambda x: 'Weekend' if x in ['Sat', 'Sun'] else 'Weekday')\n",
        "tips.head(3)"
      ]
    },
    {
      "cell_type": "markdown",
      "metadata": {
        "id": "Tx22xt-ssCn1"
      },
      "source": [
        "### Filtering"
      ]
    },
    {
      "cell_type": "code",
      "execution_count": null,
      "metadata": {
        "id": "DGGxaIuRsCn1"
      },
      "outputs": [],
      "source": [
        "# tips[tips.sex==\"Male\"].head()\n",
        "# tips[(tips.sex==\"Male\") & (tips.pct>0.2)].head()\n",
        "# tips[(tips.sex==\"Male\") | (tips.pct>0.2)].head()\n"
      ]
    },
    {
      "cell_type": "markdown",
      "metadata": {
        "id": "fw80ZHcwsCn1"
      },
      "source": [
        "### Aggregating"
      ]
    },
    {
      "cell_type": "code",
      "execution_count": null,
      "metadata": {
        "id": "KXT3Dzc9sCn2"
      },
      "outputs": [],
      "source": [
        "tips2 = tips[['total_bill', 'tip']]\n",
        "\n",
        "# tips2.sum()\n",
        "# tips2.mean()\n",
        "# tips2.std()\n",
        "# tips2.corr()\n",
        "# tips2.cov()\n",
        "# tips2.median()\n",
        "# tips2.quantile([0.25, 0.5, 0.75])\n",
        "# tips2.sum(axis=1)\n",
        "# tips2.apply(lambda x: (x**2).sum())\n"
      ]
    },
    {
      "cell_type": "markdown",
      "metadata": {
        "id": "V1uolntFsCn2"
      },
      "source": [
        "### Aggregating by groups\n",
        "\n",
        "In empirical asset pricing, we are constantly either grouping by stock and doing something to each time series of stock data, or we are grouping by date and doing something to each cross-section."
      ]
    },
    {
      "cell_type": "code",
      "execution_count": null,
      "metadata": {
        "id": "AZ8u2_bYsCn2"
      },
      "outputs": [],
      "source": [
        "# tips.groupby('sex').total_bill.mean()\n",
        "# tips.groupby(['sex', 'time']).total_bill.mean()"
      ]
    },
    {
      "cell_type": "markdown",
      "metadata": {
        "id": "iWMO3658sCn2"
      },
      "source": [
        "### Index and reset index"
      ]
    },
    {
      "cell_type": "code",
      "execution_count": null,
      "metadata": {
        "id": "tryhexAAsCn2"
      },
      "outputs": [],
      "source": [
        "avgs = tips.groupby(['sex', 'time']).total_bill.mean()\n",
        "# avgs\n",
        "# avgs.loc[('Male', 'Dinner')]\n",
        "# avgs.index\n",
        "# avgs.reset_index()\n",
        "# avgs.reset_index().set_index(['sex', 'time])"
      ]
    },
    {
      "cell_type": "markdown",
      "metadata": {
        "id": "jVnIKsYrsCn2"
      },
      "source": [
        "### Wide versus long form"
      ]
    },
    {
      "cell_type": "code",
      "execution_count": null,
      "metadata": {
        "id": "zJ27UTGssCn2"
      },
      "outputs": [],
      "source": [
        "# avgs.unstack()\n",
        "# avgs.unstack().stack()"
      ]
    },
    {
      "cell_type": "markdown",
      "metadata": {
        "id": "9if6_W-OsCn2"
      },
      "source": [
        "### Dataframes versus series\n",
        "\n",
        "* Pandas provides two classes: DataFrame and Series.  \n",
        "* A series is like a one column dataframe but not quite.  There are occasionally dataframe methods that are not available for a series.  \n",
        "* We can convert a series to a dataframe with pd.DataFrame."
      ]
    },
    {
      "cell_type": "code",
      "execution_count": null,
      "metadata": {
        "id": "BbK8RvY1sCn2"
      },
      "outputs": [],
      "source": [
        "# type(tips)\n",
        "# type(tips.tip)\n",
        "# type(avgs)\n",
        "# type(avgs.unstack())\n",
        "# type(pd.DataFrame(tips.tip))"
      ]
    },
    {
      "cell_type": "markdown",
      "metadata": {
        "id": "odP5oiXksCn2"
      },
      "source": [
        "### Pandas data reader"
      ]
    },
    {
      "cell_type": "code",
      "execution_count": null,
      "metadata": {
        "id": "OvVBZIx5sCn3"
      },
      "outputs": [],
      "source": [
        "treasury10 = pdr('DGS10', 'fred', start=1980)\n",
        "treasury30 = pdr('DGS30', 'fred', start=1980)\n",
        "both = pdr(['DGS10', 'DGS30'], 'fred', start=1980)\n",
        "\n",
        "# treasury10.head()\n",
        "# treasury30.head()\n",
        "# both.head()\n",
        "# treasury10.index\n",
        "# type(treasury10)\n",
        "# np.log(1+both/100)"
      ]
    },
    {
      "cell_type": "markdown",
      "metadata": {
        "id": "B67G4Z4KsCn3"
      },
      "source": [
        "### Merging dataframes\n",
        "\n",
        "* Merge, join, and concatenate are different methods for combining dataframes.  \n",
        "* Merge provides the finest control."
      ]
    },
    {
      "cell_type": "code",
      "execution_count": null,
      "metadata": {
        "id": "696A5QeFsCn3"
      },
      "outputs": [],
      "source": [
        "both1 = treasury10.merge(treasury30, left_index=True, right_index=True)\n",
        "both2 = treasury10.merge(treasury30, on='DATE')\n",
        "both3 = treasury10.join(treasury30)\n",
        "both4 = pd.concat((treasury10, treasury30), axis=1)\n",
        "[both.equals(b) for b in [both1, both2, both3, both4]]\n"
      ]
    },
    {
      "cell_type": "markdown",
      "metadata": {
        "id": "rfefaORCsCn3"
      },
      "source": [
        "### Missing data\n",
        "\n",
        "* Missing values are recorded as NaN (not a number).  \n",
        "* We can drop them or fill them.  \n",
        "* We can fill with a specific value or fill from the previous entry or the next entry."
      ]
    },
    {
      "cell_type": "code",
      "execution_count": null,
      "metadata": {
        "id": "LEiuWRYvsCn3"
      },
      "outputs": [],
      "source": [
        "# both.isna()\n",
        "# both.dropna()\n",
        "# both.dropna(subset=['DGS10'])\n",
        "# both.fillna(0)\n",
        "# both.bfill()\n",
        "# both.ffill()"
      ]
    },
    {
      "cell_type": "markdown",
      "metadata": {
        "id": "XETI9tijsCn3"
      },
      "source": [
        "### Working with time series\n",
        "\n"
      ]
    },
    {
      "cell_type": "code",
      "execution_count": null,
      "metadata": {
        "id": "ZUVQCJYRsCn4"
      },
      "outputs": [],
      "source": [
        "# both.shift().head()\n",
        "# both.shift(2).head()\n",
        "# both.shift(-1).head()\n",
        "# both.diff().head()\n",
        "# both.diff(2).head()\n",
        "# both.pct_change()\n",
        "# both.rolling(5).mean()\n",
        "# both.rolling(5).std()\n",
        "# both.resample('M').last()"
      ]
    },
    {
      "cell_type": "markdown",
      "metadata": {
        "id": "rs3BoplzsCn4"
      },
      "source": [
        "### Working with dates\n",
        "\n",
        "* The following use the pandas period M and period Y formats.  \n",
        "* The datetime module has more functions for working with dates (and times of course).\n",
        "* Google strftime for more ways to format dates as strings.\n",
        "* More often, we need to convert dates in various formats to the standard datetime format using strptime.\n",
        "* To convert an index to period format, use .to_period(), but to convert a date column of a dataframe to period format, use .dt.to_period()."
      ]
    },
    {
      "cell_type": "code",
      "execution_count": null,
      "metadata": {
        "id": "9l1KNMRksCn4"
      },
      "outputs": [],
      "source": [
        "monthly = both.resample('M').last()\n",
        "# monthly.index\n",
        "# monthly.index.to_period('M')\n",
        "# monthly.index.to_period('M').astype(str)\n",
        "# monthly.index = monthly.index.to_period('M')\n",
        "# monthly.index"
      ]
    },
    {
      "cell_type": "code",
      "execution_count": null,
      "metadata": {
        "id": "s0LASItYsCn4"
      },
      "outputs": [],
      "source": [
        "annual = both.resample('Y').last()\n",
        "annual = annual.reset_index()\n",
        "# annual.head()\n",
        "# annual.DATE = annual.DATE.dt.to_period('Y')\n",
        "# annual.dtypes\n",
        "# annual.DATE = annual.DATE.astype(str).astype(int)\n",
        "# annual.dtypes"
      ]
    },
    {
      "cell_type": "code",
      "execution_count": null,
      "metadata": {
        "id": "-u77zhNSsCn4"
      },
      "outputs": [],
      "source": [
        "both['Year'] = both.index.map(lambda x: x.year)\n",
        "both['Month'] = both.index.map(lambda x: x.month)\n",
        "both['date'] = both.index.strftime(\"%b %d, %Y\")\n",
        "both.head()"
      ]
    },
    {
      "cell_type": "markdown",
      "metadata": {
        "id": "bKTQ8YSCsCn4"
      },
      "source": [
        "### Saving and reading dataframes\n",
        "\n",
        "* To save or read in Colab, you need to \"mount\" your Google Drive.  Click on the file icon in the left toolbar and then click the Google drive icon.\n",
        "* pandas has pd.read_csv, pd.read_stata, pd.read_sas, and pd.read_excel functions."
      ]
    },
    {
      "cell_type": "code",
      "execution_count": null,
      "metadata": {
        "id": "L0kY-aRJsCn4"
      },
      "outputs": [],
      "source": [
        "both.to_csv('filename.csv')\n",
        "newboth = pd.read_csv('filename.csv')"
      ]
    },
    {
      "cell_type": "markdown",
      "metadata": {
        "id": "6ptBlLQysCn4"
      },
      "source": [
        "### Loops\n",
        "\n",
        "* A loop is a block of code that is executed repeatedly, for a given number of times (for loop) or until some condition is met (while loop).\n",
        "* It is not common to need a while loop.\n",
        "* On the other hand, zip and enumerate are often useful (especially zip) in for loops.\n",
        "* Indentation is again crucial.  "
      ]
    },
    {
      "cell_type": "code",
      "execution_count": null,
      "metadata": {
        "id": "bn38Qqx5sCn5"
      },
      "outputs": [],
      "source": [
        "for i in range(5):\n",
        "    print(i)"
      ]
    },
    {
      "cell_type": "code",
      "execution_count": null,
      "metadata": {
        "id": "0hfSGeQpsCn5"
      },
      "outputs": [],
      "source": [
        "for ltr in ['a', 'b', 'c']:\n",
        "    print(ltr)"
      ]
    },
    {
      "cell_type": "code",
      "execution_count": null,
      "metadata": {
        "id": "iXxwheYvsCn5"
      },
      "outputs": [],
      "source": [
        "both5 = None\n",
        "for data in [treasury10, treasury30]:\n",
        "    both5 = pd.concat((both5, data), axis=1)\n",
        "both5.head()"
      ]
    },
    {
      "cell_type": "code",
      "execution_count": null,
      "metadata": {
        "id": "XCObajArsCn5"
      },
      "outputs": [],
      "source": [
        "lst1 = ['a', 'b', 'c']\n",
        "lst2 = ['1', '2', '3']\n",
        "for a, b in zip(lst1, lst2):\n",
        "    print(a+b)"
      ]
    },
    {
      "cell_type": "code",
      "execution_count": null,
      "metadata": {
        "id": "ZbVIc_uTsCn5"
      },
      "outputs": [],
      "source": [
        "for i, ltr in enumerate(lst1):\n",
        "    print(ltr+lst2[i])"
      ]
    },
    {
      "cell_type": "code",
      "execution_count": null,
      "metadata": {
        "id": "jlWFIvkfsCn5"
      },
      "outputs": [],
      "source": [
        "i = 0\n",
        "while i<3:\n",
        "    print(i)\n",
        "    i = i + 1"
      ]
    },
    {
      "cell_type": "markdown",
      "metadata": {
        "id": "YsTfXJ55sCn6"
      },
      "source": [
        "### Conditional execution\n",
        "\n",
        "* An indented block following an if statement is executed only if the condition evaluates to True.\n",
        "* Often but not always there is an else with another indented block following the if block.\n",
        "* There can also be one or more elif (else if) blocks based on additional conditions."
      ]
    },
    {
      "cell_type": "code",
      "execution_count": null,
      "metadata": {
        "id": "gsl9w24csCn6"
      },
      "outputs": [],
      "source": [
        "def f(number):\n",
        "    if number < 10:\n",
        "        return 'small' \n",
        "    elif number < 100:\n",
        "        return 'medium' \n",
        "    else:\n",
        "        return 'large' \n",
        "\n",
        "f(20)"
      ]
    },
    {
      "cell_type": "code",
      "execution_count": null,
      "metadata": {
        "id": "bY1SGPdAsCn6"
      },
      "outputs": [],
      "source": [
        "def g(number):\n",
        "    return 'small' if number<10 else ('medium' if number<100 else 'large')\n",
        "\n",
        "g(20)"
      ]
    }
  ],
  "metadata": {
    "kernelspec": {
      "display_name": "Python 3.10.3 64-bit",
      "language": "python",
      "name": "python3"
    },
    "language_info": {
      "codemirror_mode": {
        "name": "ipython",
        "version": 3
      },
      "file_extension": ".py",
      "mimetype": "text/x-python",
      "name": "python",
      "nbconvert_exporter": "python",
      "pygments_lexer": "ipython3",
      "version": "3.10.3"
    },
    "orig_nbformat": 4,
    "vscode": {
      "interpreter": {
        "hash": "a98f34b6005ae2330f135078450db511ef8910ecc790235ef0560aa88aa6ce12"
      }
    },
    "colab": {
      "name": "Intro.ipynb",
      "provenance": [],
      "include_colab_link": true
    }
  },
  "nbformat": 4,
  "nbformat_minor": 0
}