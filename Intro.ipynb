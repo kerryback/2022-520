{
 "cells": [
  {
   "cell_type": "markdown",
   "metadata": {
    "pycharm": {
     "name": "#%% md\n"
    }
   },
   "source": []
  },
  {
   "cell_type": "markdown",
   "metadata": {
    "pycharm": {
     "name": "#%% md\n"
    }
   },
   "source": [
    "### Code cells and markdown cells in Jupyter notebooks\n",
    "\n",
    "* Execute either with run icon or SHFT-ENTER\n",
    "* Can use latex in markdown cells\n",
    "* Can make bulleted lists with *, large font with # or ## or ###, much more\n",
    "* Double click a markdown cell to put it in edit mode and SHFT-ENTER to put it in viewing mode\n",
    "* In a code cell, everything on a line after a # is ignored by the python interpreter\n",
    "* Use # to add comments to a file for yourself or others to read\n",
    "* Can also have multi-line comments using triple-quoted strings (later)\n",
    "* If the last expression in a code cell is not assigned to a variable, its value will be printed below the cell."
   ]
  },
  {
   "cell_type": "markdown",
   "metadata": {
    "pycharm": {
     "name": "#%% md\n"
    }
   },
   "source": [
    "### Jupyter notebooks vs .py scripts\n",
    "\n",
    "You can run python from a Jupyter notebook or by executing a script.  A script is just a text file with a sequence of python commands (a program).  The conventional file extension for a python script is .py.  \n",
    "\n",
    "Notebooks are interactive and are better for exploring data and developing code.  Notebooks can be confusing, because\n",
    "you can skip around and execute things in a different order than they appear in the file.  When your code is complete (until you have to revise your paper), it could be better to put in script form so it is clearer when you come back to it.  If I have something that takes hours or days to execute, I usually write it as a script and run it from a terminal window on the JGSB server. "
   ]
  },
  {
   "cell_type": "markdown",
   "metadata": {
    "pycharm": {
     "name": "#%% md\n"
    }
   },
   "source": [
    "### IDEs\n",
    "\n",
    "In addition to notebook vs .py, you have a choice of IDE (Integrated Development Environment).  It is possible to write python code in a text editor like Notebook and run scripts in a terminal window, but there are better choices.  Possibilities include\n",
    "\n",
    "* Jupyter Notebook or JupyterLab installed by Anaconda\n",
    "* stand-alone JupyterLab\n",
    "* PyCharm\n",
    "* VS Code (Visual Studio Code)\n",
    "* Spyder\n",
    "* JupyterHub on the JGSB server\n",
    "* Cloud servers including Colab and Paperspace Gradient\n",
    "\n",
    "PyCharm and VS Code can run either notebooks or scripts.  They have the best code completion and syntax highlighting.  The extra versatility means the learning curve for them is a little steeper.\n",
    "\n",
    "If you ever want to do deep learning (neural networks) you will probably want to use a cloud server that provides GPUs."
   ]
  },
  {
   "cell_type": "markdown",
   "metadata": {
    "collapsed": false,
    "pycharm": {
     "name": "#%% md\n"
    }
   },
   "source": [
    "### Modules\n",
    "\n",
    "Python consists of an interpreter and modules (or libraries or packages).  If you install from python.org, you get the interpreter and core modules.  If you install from Anaconda, you get the interpreter, core modules, and standard scientific modules.\n",
    "\n",
    "If you install from Anaconda, you by default work in a \"conda environment.\"  It is best to use the Anaconda Navigator or \"conda install\" in a terminal window (in the conda environment) to install new modules when possible.  Not all modules have been catalogued by conda.  For those, you need to use \"pip install\" in a terminal window (in the conda environment).\n",
    "\n",
    "We can issue operating system commands from inside a Jupyter notebook by prefacing them with !.  So, we can bypass using the terminal.  The following will install pandas-datareader.  It is already installed on Colab, and you can use conda install instead with Anaconda. \n",
    "\n",
    "New modules are created daily and published to PyPi for downloading with pip.  It is actually quite easy to create and publish your own modules.  There is no quality control, but there are millions of users of standard packages, and bugs are quickly reported.  Use Google and especially StackOverflow."
   ]
  },
  {
   "cell_type": "code",
   "execution_count": 137,
   "metadata": {
    "collapsed": false,
    "pycharm": {
     "name": "#%%\n"
    }
   },
   "outputs": [
    {
     "name": "stdout",
     "output_type": "stream",
     "text": [
      "Requirement already satisfied: pandas-datareader in c:\\users\\kerry\\appdata\\local\\programs\\python\\python310\\lib\\site-packages (0.10.0)\n",
      "Requirement already satisfied: pandas>=0.23 in c:\\users\\kerry\\appdata\\local\\programs\\python\\python310\\lib\\site-packages (from pandas-datareader) (1.4.3)\n",
      "Requirement already satisfied: lxml in c:\\users\\kerry\\appdata\\local\\programs\\python\\python310\\lib\\site-packages (from pandas-datareader) (4.9.1)\n",
      "Requirement already satisfied: requests>=2.19.0 in c:\\users\\kerry\\appdata\\local\\programs\\python\\python310\\lib\\site-packages (from pandas-datareader) (2.27.1)\n",
      "Requirement already satisfied: pytz>=2020.1 in c:\\users\\kerry\\appdata\\local\\programs\\python\\python310\\lib\\site-packages (from pandas>=0.23->pandas-datareader) (2022.1)\n",
      "Requirement already satisfied: numpy>=1.21.0 in c:\\users\\kerry\\appdata\\local\\programs\\python\\python310\\lib\\site-packages (from pandas>=0.23->pandas-datareader) (1.23.1)\n",
      "Requirement already satisfied: python-dateutil>=2.8.1 in c:\\users\\kerry\\appdata\\local\\programs\\python\\python310\\lib\\site-packages (from pandas>=0.23->pandas-datareader) (2.8.2)\n",
      "Requirement already satisfied: charset-normalizer~=2.0.0 in c:\\users\\kerry\\appdata\\local\\programs\\python\\python310\\lib\\site-packages (from requests>=2.19.0->pandas-datareader) (2.0.12)\n",
      "Requirement already satisfied: certifi>=2017.4.17 in c:\\users\\kerry\\appdata\\local\\programs\\python\\python310\\lib\\site-packages (from requests>=2.19.0->pandas-datareader) (2022.5.18.1)\n",
      "Requirement already satisfied: urllib3<1.27,>=1.21.1 in c:\\users\\kerry\\appdata\\local\\programs\\python\\python310\\lib\\site-packages (from requests>=2.19.0->pandas-datareader) (1.26.9)\n",
      "Requirement already satisfied: idna<4,>=2.5 in c:\\users\\kerry\\appdata\\local\\programs\\python\\python310\\lib\\site-packages (from requests>=2.19.0->pandas-datareader) (3.3)\n",
      "Requirement already satisfied: six>=1.5 in c:\\users\\kerry\\appdata\\local\\programs\\python\\python310\\lib\\site-packages (from python-dateutil>=2.8.1->pandas>=0.23->pandas-datareader) (1.16.0)\n"
     ]
    }
   ],
   "source": [
    "!pip install pandas-datareader"
   ]
  },
  {
   "cell_type": "markdown",
   "metadata": {
    "collapsed": false,
    "pycharm": {
     "name": "#%% md\n"
    }
   },
   "source": [
    "### Start by importing modules or things from modules\n",
    "\n",
    "For clarity, it is a good idea to import everything you need at the top of a notebook or script.  \n",
    "\n",
    "* \"import ...\" or \"import ... as\" provides access to everything in the module by prefixing with the module name or alias (e.g., np.whatever)\n",
    "* \"from ... import ...\" or \"from ... import ... as ...\" provides direct access to whatever is imported using its name without a prefix\n",
    "* The reason for the prefix style is to avoid having duplicate names in the workspace (only one would work)."
   ]
  },
  {
   "cell_type": "code",
   "execution_count": 138,
   "metadata": {
    "collapsed": false,
    "pycharm": {
     "name": "#%%\n"
    }
   },
   "outputs": [],
   "source": [
    "import numpy as np\n",
    "import pandas as pd\n",
    "from pandas_datareader import DataReader as pdr\n",
    "from pandas_datareader.famafrench import get_available_datasets as gad \n",
    "from seaborn import load_dataset\n",
    "from math import sqrt, exp, log\n",
    "from scipy.stats import norm\n",
    "import wrds"
   ]
  },
  {
   "cell_type": "markdown",
   "metadata": {
    "collapsed": false,
    "pycharm": {
     "name": "#%% md\n"
    }
   },
   "source": [
    "### Assignment statements\n",
    "\n",
    "* a=b means \"evaluate b and assign the result to a variable named a\"\n",
    "* spaces around = are optional, and are optional in most other places as well (with one important exception we will discuss)\n",
    "* can use any name not reserved by python for a variable, must start with letter or underscore, cannot have spaces or some other characters\n",
    "* can have multiple assignments on a single line\n"
   ]
  },
  {
   "cell_type": "code",
   "execution_count": 139,
   "metadata": {
    "collapsed": false,
    "pycharm": {
     "name": "#%%\n"
    }
   },
   "outputs": [
    {
     "data": {
      "text/plain": [
       "4"
      ]
     },
     "execution_count": 139,
     "metadata": {},
     "output_type": "execute_result"
    }
   ],
   "source": [
    "x = 3\n",
    "x = x + 1\n",
    "x"
   ]
  },
  {
   "cell_type": "code",
   "execution_count": 140,
   "metadata": {
    "collapsed": false,
    "pycharm": {
     "name": "#%%\n"
    }
   },
   "outputs": [
    {
     "data": {
      "text/plain": [
       "5"
      ]
     },
     "execution_count": 140,
     "metadata": {},
     "output_type": "execute_result"
    }
   ],
   "source": [
    "x, y, z = 3, 4, 5\n",
    "z"
   ]
  },
  {
   "cell_type": "markdown",
   "metadata": {
    "collapsed": false,
    "pycharm": {
     "name": "#%% md\n"
    }
   },
   "source": [
    "### Basic object types"
   ]
  },
  {
   "cell_type": "code",
   "execution_count": 141,
   "metadata": {
    "collapsed": false,
    "pycharm": {
     "name": "#%%\n"
    }
   },
   "outputs": [],
   "source": [
    "# type(3)\n",
    "# type(2.718)\n",
    "# type('some text')\n",
    "# type(['a', 'b', 'c'])\n",
    "# type(('a', 'b', 'c'))\n",
    "# type({'a': 1, 'b': 2})\n",
    "# type(sqrt)\n",
    "# type(True)\n",
    "# type(False)\n",
    "# type(None)"
   ]
  },
  {
   "cell_type": "markdown",
   "metadata": {
    "collapsed": false,
    "pycharm": {
     "name": "#%% md\n"
    }
   },
   "source": [
    "### Some basic functions"
   ]
  },
  {
   "cell_type": "code",
   "execution_count": 142,
   "metadata": {
    "collapsed": false,
    "pycharm": {
     "name": "#%%\n"
    }
   },
   "outputs": [],
   "source": [
    "# round(3.14, 1)\n",
    "# int(3.14)\n",
    "# int('3')\n",
    "# str(3)"
   ]
  },
  {
   "cell_type": "markdown",
   "metadata": {
    "collapsed": false,
    "pycharm": {
     "name": "#%% md\n"
    }
   },
   "source": [
    "### Print statements\n"
   ]
  },
  {
   "cell_type": "code",
   "execution_count": 143,
   "metadata": {
    "collapsed": false,
    "pycharm": {
     "name": "#%%\n"
    }
   },
   "outputs": [
    {
     "name": "stdout",
     "output_type": "stream",
     "text": [
      "3.14\n",
      "3.14 2.718\n",
      "x is 3.14 and y is 2.718\n"
     ]
    }
   ],
   "source": [
    "x = 3.14\n",
    "y = 2.718\n",
    "print(x)\n",
    "print(x, y)\n",
    "print(\"x is\", x, \"and y is\", y)\n"
   ]
  },
  {
   "cell_type": "markdown",
   "metadata": {
    "collapsed": false,
    "pycharm": {
     "name": "#%% md\n"
    }
   },
   "source": [
    "### Working with lists\n",
    "\n",
    "* Counting starts from zero.  \n",
    "* Ranges int1:int2 start with int1 and go to but not including int2.\n",
    "* Consequently, the subset has int2 - int1 elements\n",
    "* Last item can be accessed as -1, next-to-last as -2, etc.\n",
    "* Can use range int1:int2:int3 to go from int1 to int2 stepping by int3\n",
    "* In range int1:int2:int3, int3 can be negative and int1>int2\n",
    "* Concatenate lists with +\n",
    "\n"
   ]
  },
  {
   "cell_type": "code",
   "execution_count": 144,
   "metadata": {
    "collapsed": false,
    "pycharm": {
     "name": "#%%\n"
    }
   },
   "outputs": [],
   "source": [
    "x = ['a', 'b', 'c', 'd']\n",
    "y = ['m', 'n', 'o' 'p', 'q']\n",
    "\n",
    "# len(x)\n",
    "# x[0]\n",
    "# x[1]\n",
    "# x[:2]\n",
    "# x[0:2]\n",
    "# x[1:4]\n",
    "# x[1:4:2]\n",
    "# x[4:1:-1]\n",
    "# x[-1]\n",
    "# x[:-1]\n",
    "# x[-2]\n",
    "# x[-3:]\n",
    "# x[-3:-1]\n",
    "# x[1]='w'\n",
    "# x[1:3] = ['y','z']\n",
    "# x.append('u')\n",
    "# indx = x.index('a')\n",
    "# x.remove('a')\n",
    "# x.insert(indx, 's')\n",
    "# x.reverse()\n",
    "# x + y\n",
    "# 3 * x\n",
    "# 7 * [0]"
   ]
  },
  {
   "cell_type": "markdown",
   "metadata": {
    "collapsed": false,
    "pycharm": {
     "name": "#%% md\n"
    }
   },
   "source": [
    "### Working with strings\n",
    "\n",
    "* Can use either single or double quotes\n",
    "* Concatenate with +\n",
    "* Strings are basically lists of characters, and many list operations work on strings"
   ]
  },
  {
   "cell_type": "code",
   "execution_count": 145,
   "metadata": {
    "collapsed": false,
    "pycharm": {
     "name": "#%%\n"
    }
   },
   "outputs": [],
   "source": [
    "string1 = 'This is some text'\n",
    "string2 = \"This is some different text\"\n",
    "\n",
    "# string1[:4]\n",
    "# string1[-4:]\n",
    "# string1 + \". \" + string2 + \".\"\n",
    "# string1.split(\" \")\n",
    "# string1.split(\" \")[0] + \" \" + string1.split(\" \")[3]\n",
    "# string1.title()\n",
    "# string1.upper()\n",
    "\n"
   ]
  },
  {
   "cell_type": "markdown",
   "metadata": {
    "collapsed": false,
    "pycharm": {
     "name": "#%% md\n"
    }
   },
   "source": [
    "### Logical conditions\n",
    "\n",
    "A single = is an assignment, so to test for equality we use =="
   ]
  },
  {
   "cell_type": "code",
   "execution_count": 146,
   "metadata": {
    "collapsed": false,
    "pycharm": {
     "name": "#%%\n"
    }
   },
   "outputs": [],
   "source": [
    "# 3 == 3\n",
    "# 3 == 5\n",
    "# 3 != 5\n",
    "# not(3==5)\n",
    "# 3 > 5\n",
    "# (2<4) and (3>5)\n",
    "# (2<4) & (3>5)\n",
    "# (2<4) or (3>5)\n",
    "# (2<4) | (3>5)\n",
    "# 1 in [3, 4]\n",
    "# 1 not in [3, 4]\n",
    "# 1 * (3>5)\n",
    "# 1 * (2<4)\n"
   ]
  },
  {
   "cell_type": "markdown",
   "metadata": {
    "collapsed": false,
    "pycharm": {
     "name": "#%% md\n"
    }
   },
   "source": [
    "### Ternary operator\n",
    "\n",
    "\n"
   ]
  },
  {
   "cell_type": "code",
   "execution_count": 147,
   "metadata": {
    "collapsed": false,
    "pycharm": {
     "name": "#%%\n"
    }
   },
   "outputs": [],
   "source": [
    "# \"yes\" if 3>5 else \"no\"\n",
    "# 10 if 3>5 else 100\n",
    "# 10 if (2<4) or (3>5) else 100\n",
    "# 10 if 0 else 100\n",
    "# 10 if None else 100\n",
    "# 10 if 16 else 100"
   ]
  },
  {
   "cell_type": "markdown",
   "metadata": {
    "collapsed": false,
    "pycharm": {
     "name": "#%% md\n"
    }
   },
   "source": [
    "### List enumeration"
   ]
  },
  {
   "cell_type": "code",
   "execution_count": 148,
   "metadata": {
    "collapsed": false,
    "pycharm": {
     "name": "#%%\n"
    }
   },
   "outputs": [],
   "source": [
    "letters = ['a', 'b', 'c', 'd']\n",
    "# [x + '1' for x in letters]\n",
    "# [x + '1' for x in letters if not x=='c']\n"
   ]
  },
  {
   "cell_type": "markdown",
   "metadata": {
    "collapsed": false,
    "pycharm": {
     "name": "#%% md\n"
    }
   },
   "source": [
    "### Range objects"
   ]
  },
  {
   "cell_type": "code",
   "execution_count": 149,
   "metadata": {
    "collapsed": false,
    "pycharm": {
     "name": "#%%\n"
    }
   },
   "outputs": [],
   "source": [
    "# [i for i in range(6)]\n",
    "# [i for i in range(1,7)]\n",
    "# [i for i in range(2,8,2)]\n",
    "# [i for i in range(6,2,-1)]"
   ]
  },
  {
   "cell_type": "markdown",
   "metadata": {
    "collapsed": false,
    "pycharm": {
     "name": "#%% md\n"
    }
   },
   "source": [
    "### Assign by reference or by value\n",
    "\n",
    "\"By reference\" means the memory location is assigned to a variable.  Multiple variables can be assigned to the same location and changes to any of them will affect all of them.  Integers and floats are assigned by value.  Lists and other types of arrays are assigned by reference.\n",
    "\n",
    "Lists have a copy method that creates a copy at a new memory location."
   ]
  },
  {
   "cell_type": "code",
   "execution_count": 150,
   "metadata": {
    "collapsed": false,
    "pycharm": {
     "name": "#%%\n"
    }
   },
   "outputs": [
    {
     "data": {
      "text/plain": [
       "3"
      ]
     },
     "execution_count": 150,
     "metadata": {},
     "output_type": "execute_result"
    }
   ],
   "source": [
    "x = 3\n",
    "y = x\n",
    "x = x + 1\n",
    "y"
   ]
  },
  {
   "cell_type": "code",
   "execution_count": 151,
   "metadata": {
    "collapsed": false,
    "pycharm": {
     "name": "#%%\n"
    }
   },
   "outputs": [
    {
     "data": {
      "text/plain": [
       "['a', 'b', 'c', 'd']"
      ]
     },
     "execution_count": 151,
     "metadata": {},
     "output_type": "execute_result"
    }
   ],
   "source": [
    "x = ['a', 'b', 'c']\n",
    "y = x\n",
    "x.append('d')\n",
    "y"
   ]
  },
  {
   "cell_type": "code",
   "execution_count": 152,
   "metadata": {
    "collapsed": false,
    "pycharm": {
     "name": "#%%\n"
    }
   },
   "outputs": [
    {
     "data": {
      "text/plain": [
       "['a', 'b', 'c']"
      ]
     },
     "execution_count": 152,
     "metadata": {},
     "output_type": "execute_result"
    }
   ],
   "source": [
    "x = ['a', 'b', 'c']\n",
    "y = x.copy()\n",
    "x.append('d')\n",
    "y"
   ]
  },
  {
   "cell_type": "markdown",
   "metadata": {
    "collapsed": false,
    "pycharm": {
     "name": "#%% md\n"
    }
   },
   "source": [
    "### Numpy\n",
    "\n",
    "Numpy is a wrapper to code written in C or a variant that performs fast mathematical operations.  Numpy functions operate element-wise on lists and return numpy arrays."
   ]
  },
  {
   "cell_type": "code",
   "execution_count": 153,
   "metadata": {
    "collapsed": false,
    "pycharm": {
     "name": "#%%\n"
    }
   },
   "outputs": [],
   "source": [
    "x = [1, 2, 3]\n",
    "# np.sqrt(x)\n",
    "# np.log(x)\n",
    "# np.exp(x)"
   ]
  },
  {
   "cell_type": "markdown",
   "metadata": {
    "collapsed": false,
    "pycharm": {
     "name": "#%% md\n"
    }
   },
   "source": [
    "### Numpy arrays\n",
    "\n",
    "* For lists, + concatenates and * duplicates.  For numpy arrays, + adds and * multiplies element-wise.\n",
    "* Exponentiation in python is **.  It operates on numpy arrays element-wise."
   ]
  },
  {
   "cell_type": "code",
   "execution_count": 154,
   "metadata": {
    "collapsed": false,
    "pycharm": {
     "name": "#%%\n"
    }
   },
   "outputs": [],
   "source": [
    "x = np.array([1, 2, 3])\n",
    "y = np.array([4, 5, 6])\n",
    "# x + y\n",
    "# x * y\n",
    "# x**2\n",
    "# 3**x"
   ]
  },
  {
   "cell_type": "markdown",
   "metadata": {
    "collapsed": false,
    "pycharm": {
     "name": "#%% md\n"
    }
   },
   "source": [
    "### Higher-dimensional arrays\n",
    "\n"
   ]
  },
  {
   "cell_type": "code",
   "execution_count": 155,
   "metadata": {
    "collapsed": false,
    "pycharm": {
     "name": "#%%\n"
    }
   },
   "outputs": [
    {
     "data": {
      "text/plain": [
       "array([[ 1,  2,  3,  4],\n",
       "       [ 5,  6,  7,  8],\n",
       "       [ 9, 10, 11, 12]])"
      ]
     },
     "execution_count": 155,
     "metadata": {},
     "output_type": "execute_result"
    }
   ],
   "source": [
    "x = np.array([[1, 2, 3, 4], [5, 6, 7, 8], [9, 10, 11, 12]])\n",
    "x"
   ]
  },
  {
   "cell_type": "markdown",
   "metadata": {
    "collapsed": false,
    "pycharm": {
     "name": "#%% md\n"
    }
   },
   "source": [
    "The following illustrates a formatting convention that can make code more readable.  It is useful in many places and is not actually related to numpy arrays.  Arbitrary indentation is allowed inside parentheses or braces."
   ]
  },
  {
   "cell_type": "code",
   "execution_count": 156,
   "metadata": {
    "collapsed": false,
    "pycharm": {
     "name": "#%%\n"
    }
   },
   "outputs": [
    {
     "data": {
      "text/plain": [
       "array([[ 1,  2,  3,  4],\n",
       "       [ 5,  6,  7,  8],\n",
       "       [ 9, 10, 11, 12]])"
      ]
     },
     "execution_count": 156,
     "metadata": {},
     "output_type": "execute_result"
    }
   ],
   "source": [
    "x = np.array(\n",
    "    [ \n",
    "        [1, 2, 3, 4],\n",
    "        [5, 6, 7, 8],\n",
    "        [9, 10, 11, 12]\n",
    "    ]\n",
    ")\n",
    "x"
   ]
  },
  {
   "cell_type": "markdown",
   "metadata": {
    "collapsed": false,
    "pycharm": {
     "name": "#%% md\n"
    }
   },
   "source": [
    "### Shape and reshape"
   ]
  },
  {
   "cell_type": "code",
   "execution_count": 157,
   "metadata": {
    "collapsed": false,
    "pycharm": {
     "name": "#%%\n"
    }
   },
   "outputs": [
    {
     "data": {
      "text/plain": [
       "(3, 4)"
      ]
     },
     "execution_count": 157,
     "metadata": {},
     "output_type": "execute_result"
    }
   ],
   "source": [
    "x.shape"
   ]
  },
  {
   "cell_type": "code",
   "execution_count": 158,
   "metadata": {
    "collapsed": false,
    "pycharm": {
     "name": "#%%\n"
    }
   },
   "outputs": [
    {
     "data": {
      "text/plain": [
       "array([[ 1,  2,  3,  4],\n",
       "       [ 5,  6,  7,  8],\n",
       "       [ 9, 10, 11, 12]])"
      ]
     },
     "execution_count": 158,
     "metadata": {},
     "output_type": "execute_result"
    }
   ],
   "source": [
    "x = np.array([i for i in range(1,13)]).reshape(3,4)\n",
    "x"
   ]
  },
  {
   "cell_type": "markdown",
   "metadata": {
    "collapsed": false,
    "pycharm": {
     "name": "#%% md\n"
    }
   },
   "source": [
    "### Some standard arrays"
   ]
  },
  {
   "cell_type": "code",
   "execution_count": 159,
   "metadata": {
    "collapsed": false,
    "pycharm": {
     "name": "#%%\n"
    }
   },
   "outputs": [],
   "source": [
    "# np.ones(4)\n",
    "# np.zeros(3)\n",
    "# np.identity(3)"
   ]
  },
  {
   "cell_type": "markdown",
   "metadata": {
    "collapsed": false,
    "pycharm": {
     "name": "#%% md\n"
    }
   },
   "source": [
    "### Matrix algebra"
   ]
  },
  {
   "cell_type": "code",
   "execution_count": 160,
   "metadata": {
    "collapsed": false,
    "pycharm": {
     "name": "#%%\n"
    }
   },
   "outputs": [
    {
     "data": {
      "text/plain": [
       "array([ 60, 132, 204])"
      ]
     },
     "execution_count": 160,
     "metadata": {},
     "output_type": "execute_result"
    }
   ],
   "source": [
    "x = np.array([i for i in range(1,13)]).reshape(3, 4)\n",
    "y = np.array([1, 2, 5, 10])\n",
    "x @ y"
   ]
  },
  {
   "cell_type": "code",
   "execution_count": 161,
   "metadata": {
    "collapsed": false,
    "pycharm": {
     "name": "#%%\n"
    }
   },
   "outputs": [
    {
     "data": {
      "text/plain": [
       "array([[ 1,  5,  9],\n",
       "       [ 2,  6, 10],\n",
       "       [ 3,  7, 11],\n",
       "       [ 4,  8, 12]])"
      ]
     },
     "execution_count": 161,
     "metadata": {},
     "output_type": "execute_result"
    }
   ],
   "source": [
    "x.T"
   ]
  },
  {
   "cell_type": "code",
   "execution_count": 162,
   "metadata": {
    "collapsed": false,
    "pycharm": {
     "name": "#%%\n"
    }
   },
   "outputs": [
    {
     "data": {
      "text/plain": [
       "array([[ -2.11419774,   1.99759341,  -5.75981365],\n",
       "       [ -4.71864406,   4.25781027,  -9.73289074],\n",
       "       [ -5.23935791,   3.58330758, -10.1319865 ]])"
      ]
     },
     "execution_count": 162,
     "metadata": {},
     "output_type": "execute_result"
    }
   ],
   "source": [
    "x = norm.rvs(loc=0, scale=1, size=9).reshape(3, 3)\n",
    "np.linalg.inv(x)"
   ]
  },
  {
   "cell_type": "code",
   "execution_count": 163,
   "metadata": {
    "collapsed": false,
    "pycharm": {
     "name": "#%%\n"
    }
   },
   "outputs": [
    {
     "data": {
      "text/plain": [
       "array([[ 1.00000000e+00,  3.17743911e-17, -2.74429201e-16],\n",
       "       [ 1.09818171e-15,  1.00000000e+00, -7.52238570e-16],\n",
       "       [ 3.21179533e-16,  6.60041733e-16,  1.00000000e+00]])"
      ]
     },
     "execution_count": 163,
     "metadata": {},
     "output_type": "execute_result"
    }
   ],
   "source": [
    "np.linalg.inv(x) @ x"
   ]
  },
  {
   "cell_type": "markdown",
   "metadata": {
    "collapsed": false,
    "pycharm": {
     "name": "#%% md\n"
    }
   },
   "source": [
    "### Concatenating numpy arrays"
   ]
  },
  {
   "cell_type": "code",
   "execution_count": 164,
   "metadata": {
    "collapsed": false,
    "pycharm": {
     "name": "#%%\n"
    }
   },
   "outputs": [
    {
     "data": {
      "text/plain": [
       "array([1, 2, 3, 4, 5, 6, 7])"
      ]
     },
     "execution_count": 164,
     "metadata": {},
     "output_type": "execute_result"
    }
   ],
   "source": [
    "x = np.array([1, 2, 3])\n",
    "y = np.array([4, 5, 6, 7])\n",
    "np.concatenate((x, y))"
   ]
  },
  {
   "cell_type": "markdown",
   "metadata": {
    "collapsed": false,
    "pycharm": {
     "name": "#%% md\n"
    }
   },
   "source": [
    "### Defining functions\n",
    "\n",
    "Why functions?  Modularized code is easier to test, maintain, and reuse.\n",
    "\n",
    "* The def keyword starts the function definition.\n",
    "* Arguments are enclosed in parentheses and followed by a colon.\n",
    "* The return keyword indicates the value returned by the function.\n",
    "* Functions can return numbers, lists, strings, ...\n",
    "* Indentation is crucial.  All lines within the function definition must be indented the same number of spaces, unless there is a reason the line must be indented further (more later) or it is within parentheses or braces.  A good IDE will prompt you to indent and tell you when you have indentation wrong.\n"
   ]
  },
  {
   "cell_type": "code",
   "execution_count": 165,
   "metadata": {
    "collapsed": false,
    "pycharm": {
     "name": "#%%\n"
    }
   },
   "outputs": [
    {
     "data": {
      "text/plain": [
       "6"
      ]
     },
     "execution_count": 165,
     "metadata": {},
     "output_type": "execute_result"
    }
   ],
   "source": [
    "def double(x):\n",
    "    return 2*x\n",
    "\n",
    "double(3)"
   ]
  },
  {
   "cell_type": "markdown",
   "metadata": {
    "collapsed": false,
    "pycharm": {
     "name": "#%% md\n"
    }
   },
   "source": [
    "### Passing arguments by name"
   ]
  },
  {
   "cell_type": "code",
   "execution_count": 166,
   "metadata": {
    "collapsed": false,
    "pycharm": {
     "name": "#%%\n"
    }
   },
   "outputs": [],
   "source": [
    "def exponentiate(base, exponent):\n",
    "    return base ** exponent\n",
    "\n",
    "# exponentiate(2, 5)\n",
    "# exponentiate(base=2, exponent=5)\n",
    "# exponentiate(exponent=5, base=2)\n",
    "# exponentiate(5, 2)"
   ]
  },
  {
   "cell_type": "markdown",
   "metadata": {
    "collapsed": false,
    "pycharm": {
     "name": "#%% md\n"
    }
   },
   "source": [
    "### Returning tuples\n"
   ]
  },
  {
   "cell_type": "code",
   "execution_count": 167,
   "metadata": {
    "collapsed": false,
    "pycharm": {
     "name": "#%%\n"
    }
   },
   "outputs": [
    {
     "data": {
      "text/plain": [
       "6"
      ]
     },
     "execution_count": 167,
     "metadata": {},
     "output_type": "execute_result"
    }
   ],
   "source": [
    "def f(x):\n",
    "    return 2*x, 3*x \n",
    "\n",
    "a, b = f(2)\n",
    "b"
   ]
  },
  {
   "cell_type": "markdown",
   "metadata": {
    "collapsed": false,
    "pycharm": {
     "name": "#%% md\n"
    }
   },
   "source": [
    "### Defining classes\n",
    "\n",
    "Why classes?  To store data so we don't have to input it repeatedly into functions.\n",
    "\n",
    "* Main takeaways: objects have attributes and methods\n",
    "* Attributes are data (in a general sense - not necessarily numbers) that are stored in the object\n",
    "* Methods are functions that operate on the data and possibly on other arguments\n",
    "* A class definition is initiated with the class keyword\n",
    "* The __init__ method is how an instance of the object is created.  It usually defines the attributes.\n",
    "* Note that the lines following the class keyword must be indented, and method definitions must be further indented.\n",
    "* In general, indentation is sequential.  Each class / function / for or while block / if-else block must be further indented.\n"
   ]
  },
  {
   "cell_type": "code",
   "execution_count": 168,
   "metadata": {
    "collapsed": false,
    "pycharm": {
     "name": "#%%\n"
    }
   },
   "outputs": [],
   "source": [
    "class multiplier():\n",
    "    def __init__(self,x) :\n",
    "        self.factor = x\n",
    "    def multiply(self, y) :\n",
    "        return y * self.factor\n",
    "\n",
    "x = multiplier(3)\n",
    "# x.multiply(4)\n",
    "# x.factor"
   ]
  },
  {
   "cell_type": "markdown",
   "metadata": {
    "collapsed": false,
    "pycharm": {
     "name": "#%% md\n"
    }
   },
   "source": [
    "### Sets\n",
    "\n",
    "Sets are unordered collections with no repeated items."
   ]
  },
  {
   "cell_type": "code",
   "execution_count": 169,
   "metadata": {
    "collapsed": false,
    "pycharm": {
     "name": "#%%\n"
    }
   },
   "outputs": [
    {
     "data": {
      "text/plain": [
       "{1, 2, 3}"
      ]
     },
     "execution_count": 169,
     "metadata": {},
     "output_type": "execute_result"
    }
   ],
   "source": [
    "x = set([1, 1, 2, 3])\n",
    "x"
   ]
  },
  {
   "cell_type": "code",
   "execution_count": 170,
   "metadata": {
    "collapsed": false,
    "pycharm": {
     "name": "#%%\n"
    }
   },
   "outputs": [
    {
     "data": {
      "text/plain": [
       "True"
      ]
     },
     "execution_count": 170,
     "metadata": {},
     "output_type": "execute_result"
    }
   ],
   "source": [
    "x.issubset([1, 2, 2, 3, 4, 4])"
   ]
  },
  {
   "cell_type": "markdown",
   "metadata": {
    "collapsed": false,
    "pycharm": {
     "name": "#%% md\n"
    }
   },
   "source": [
    "### Dictionaries\n",
    "\n",
    "* Dictionaries are unordered collections of key/value pairs\n",
    "* Sometimes called look-up tables or hash tables \n",
    "* Compared to normal dictionaries, key $\\sim$ word and value $\\sim$ definition.\n",
    "* Created with dict function or by enclosing key/value pairs in {}\n",
    "* Keys and values can be any types of objects"
   ]
  },
  {
   "cell_type": "code",
   "execution_count": 171,
   "metadata": {
    "collapsed": false,
    "pycharm": {
     "name": "#%%\n"
    }
   },
   "outputs": [
    {
     "data": {
      "text/plain": [
       "1"
      ]
     },
     "execution_count": 171,
     "metadata": {},
     "output_type": "execute_result"
    }
   ],
   "source": [
    "x = {'a': 1, 'b': 2}\n",
    "x['a']"
   ]
  },
  {
   "cell_type": "code",
   "execution_count": 172,
   "metadata": {
    "collapsed": false,
    "pycharm": {
     "name": "#%%\n"
    }
   },
   "outputs": [],
   "source": [
    "x = dict(a=1, b=2)\n",
    "# x['a']\n",
    "# list(x.keys())\n",
    "# list(x.values())"
   ]
  },
  {
   "cell_type": "markdown",
   "metadata": {
    "collapsed": false,
    "pycharm": {
     "name": "#%% md\n"
    }
   },
   "source": [
    "### Pandas\n",
    "\n",
    "* Pandas was created and is maintained by Wes McKinney, formerly of AQR.\n",
    "* .loc extracts rows using row labels (index).  In this case, the labels are just 0, 1, 2, ...\n",
    "* .iloc extracts rows using the index location.  It works like extracting items from a list, starting at 0.\n",
    "* Because the row labels here are just 0, 1, 2, ... .loc and .iloc work almost the same.  The only difference is that .iloc works like extracting items from a list, so it goes up to but not including the last number.  .loc uses the row labels including the last label."
   ]
  },
  {
   "cell_type": "code",
   "execution_count": 173,
   "metadata": {
    "collapsed": false,
    "pycharm": {
     "name": "#%%\n"
    }
   },
   "outputs": [],
   "source": [
    "tips = load_dataset(\"tips\")\n",
    "# tips.info()\n",
    "# tips.describe()\n",
    "# tips.dtypes\n",
    "# tips.head()\n",
    "# tips.tail()\n",
    "# tips.columns\n",
    "# tips.index\n",
    "# tips.day.unique()\n",
    "# tips.loc[0]\n",
    "# tips.loc[3:6]\n",
    "# tips.loc[-1]\n",
    "# tips.loc[-4:]\n",
    "# tips.iloc[0]\n",
    "# tips.iloc[3:6]\n",
    "# tips.iloc[3:10:2]\n",
    "# tips.iloc[-1]\n",
    "# tips.iloc[-4:]\n",
    "# tips['tip']\n",
    "# tips.tip\n",
    "# tips[['total_bill', 'tip]]\n",
    "# tips[['total_bill', 'tip']].loc[3:7]\n",
    "# tips.loc[3:7][['total_bill', 'tip']]\n",
    "# tips.to_dict()\n",
    "# tips.to_dict('records')\n",
    "# tips[['total_bill', 'tip']].to_numpy()"
   ]
  },
  {
   "cell_type": "code",
   "execution_count": 174,
   "metadata": {
    "collapsed": false,
    "pycharm": {
     "name": "#%%\n"
    }
   },
   "outputs": [
    {
     "data": {
      "text/html": [
       "<div>\n",
       "<style scoped>\n",
       "    .dataframe tbody tr th:only-of-type {\n",
       "        vertical-align: middle;\n",
       "    }\n",
       "\n",
       "    .dataframe tbody tr th {\n",
       "        vertical-align: top;\n",
       "    }\n",
       "\n",
       "    .dataframe thead th {\n",
       "        text-align: right;\n",
       "    }\n",
       "</style>\n",
       "<table border=\"1\" class=\"dataframe\">\n",
       "  <thead>\n",
       "    <tr style=\"text-align: right;\">\n",
       "      <th></th>\n",
       "      <th>new_total_bill</th>\n",
       "      <th>new_tip</th>\n",
       "      <th>new_sex</th>\n",
       "      <th>new_smoker</th>\n",
       "      <th>new_day</th>\n",
       "      <th>new_time</th>\n",
       "      <th>new_size</th>\n",
       "    </tr>\n",
       "  </thead>\n",
       "  <tbody>\n",
       "    <tr>\n",
       "      <th>0</th>\n",
       "      <td>16.99</td>\n",
       "      <td>1.01</td>\n",
       "      <td>Female</td>\n",
       "      <td>No</td>\n",
       "      <td>Sun</td>\n",
       "      <td>Dinner</td>\n",
       "      <td>2</td>\n",
       "    </tr>\n",
       "    <tr>\n",
       "      <th>1</th>\n",
       "      <td>10.34</td>\n",
       "      <td>1.66</td>\n",
       "      <td>Male</td>\n",
       "      <td>No</td>\n",
       "      <td>Sun</td>\n",
       "      <td>Dinner</td>\n",
       "      <td>3</td>\n",
       "    </tr>\n",
       "    <tr>\n",
       "      <th>2</th>\n",
       "      <td>21.01</td>\n",
       "      <td>3.50</td>\n",
       "      <td>Male</td>\n",
       "      <td>No</td>\n",
       "      <td>Sun</td>\n",
       "      <td>Dinner</td>\n",
       "      <td>3</td>\n",
       "    </tr>\n",
       "  </tbody>\n",
       "</table>\n",
       "</div>"
      ],
      "text/plain": [
       "   new_total_bill  new_tip new_sex new_smoker new_day new_time  new_size\n",
       "0           16.99     1.01  Female         No     Sun   Dinner         2\n",
       "1           10.34     1.66    Male         No     Sun   Dinner         3\n",
       "2           21.01     3.50    Male         No     Sun   Dinner         3"
      ]
     },
     "execution_count": 174,
     "metadata": {},
     "output_type": "execute_result"
    }
   ],
   "source": [
    "tips2 = tips.copy()\n",
    "tips2.columns = ['new_' + c for c in tips2.columns]\n",
    "tips2.head(3)"
   ]
  },
  {
   "cell_type": "code",
   "execution_count": 175,
   "metadata": {
    "collapsed": false,
    "pycharm": {
     "name": "#%%\n"
    }
   },
   "outputs": [
    {
     "data": {
      "text/html": [
       "<div>\n",
       "<style scoped>\n",
       "    .dataframe tbody tr th:only-of-type {\n",
       "        vertical-align: middle;\n",
       "    }\n",
       "\n",
       "    .dataframe tbody tr th {\n",
       "        vertical-align: top;\n",
       "    }\n",
       "\n",
       "    .dataframe thead th {\n",
       "        text-align: right;\n",
       "    }\n",
       "</style>\n",
       "<table border=\"1\" class=\"dataframe\">\n",
       "  <thead>\n",
       "    <tr style=\"text-align: right;\">\n",
       "      <th></th>\n",
       "      <th>new_total_bill</th>\n",
       "      <th>new_tip</th>\n",
       "      <th>new_sex</th>\n",
       "      <th>new_new_smoker</th>\n",
       "      <th>new_day</th>\n",
       "      <th>new_time</th>\n",
       "      <th>new_size</th>\n",
       "    </tr>\n",
       "  </thead>\n",
       "  <tbody>\n",
       "    <tr>\n",
       "      <th>0</th>\n",
       "      <td>16.99</td>\n",
       "      <td>1.01</td>\n",
       "      <td>Female</td>\n",
       "      <td>No</td>\n",
       "      <td>Sun</td>\n",
       "      <td>Dinner</td>\n",
       "      <td>2</td>\n",
       "    </tr>\n",
       "    <tr>\n",
       "      <th>1</th>\n",
       "      <td>10.34</td>\n",
       "      <td>1.66</td>\n",
       "      <td>Male</td>\n",
       "      <td>No</td>\n",
       "      <td>Sun</td>\n",
       "      <td>Dinner</td>\n",
       "      <td>3</td>\n",
       "    </tr>\n",
       "    <tr>\n",
       "      <th>2</th>\n",
       "      <td>21.01</td>\n",
       "      <td>3.50</td>\n",
       "      <td>Male</td>\n",
       "      <td>No</td>\n",
       "      <td>Sun</td>\n",
       "      <td>Dinner</td>\n",
       "      <td>3</td>\n",
       "    </tr>\n",
       "  </tbody>\n",
       "</table>\n",
       "</div>"
      ],
      "text/plain": [
       "   new_total_bill  new_tip new_sex new_new_smoker new_day new_time  new_size\n",
       "0           16.99     1.01  Female             No     Sun   Dinner         2\n",
       "1           10.34     1.66    Male             No     Sun   Dinner         3\n",
       "2           21.01     3.50    Male             No     Sun   Dinner         3"
      ]
     },
     "execution_count": 175,
     "metadata": {},
     "output_type": "execute_result"
    }
   ],
   "source": [
    "tips2 = tips2.rename(columns={'new_smoker': 'new_new_smoker'})\n",
    "tips2.head(3)"
   ]
  },
  {
   "cell_type": "markdown",
   "metadata": {
    "collapsed": false,
    "pycharm": {
     "name": "#%% md\n"
    }
   },
   "source": [
    "### Sorting"
   ]
  },
  {
   "cell_type": "code",
   "execution_count": 176,
   "metadata": {
    "collapsed": false,
    "pycharm": {
     "name": "#%%\n"
    }
   },
   "outputs": [
    {
     "data": {
      "text/html": [
       "<div>\n",
       "<style scoped>\n",
       "    .dataframe tbody tr th:only-of-type {\n",
       "        vertical-align: middle;\n",
       "    }\n",
       "\n",
       "    .dataframe tbody tr th {\n",
       "        vertical-align: top;\n",
       "    }\n",
       "\n",
       "    .dataframe thead th {\n",
       "        text-align: right;\n",
       "    }\n",
       "</style>\n",
       "<table border=\"1\" class=\"dataframe\">\n",
       "  <thead>\n",
       "    <tr style=\"text-align: right;\">\n",
       "      <th></th>\n",
       "      <th>total_bill</th>\n",
       "      <th>tip</th>\n",
       "      <th>sex</th>\n",
       "      <th>smoker</th>\n",
       "      <th>day</th>\n",
       "      <th>time</th>\n",
       "      <th>size</th>\n",
       "    </tr>\n",
       "  </thead>\n",
       "  <tbody>\n",
       "    <tr>\n",
       "      <th>172</th>\n",
       "      <td>7.25</td>\n",
       "      <td>5.15</td>\n",
       "      <td>Male</td>\n",
       "      <td>Yes</td>\n",
       "      <td>Sun</td>\n",
       "      <td>Dinner</td>\n",
       "      <td>2</td>\n",
       "    </tr>\n",
       "    <tr>\n",
       "      <th>149</th>\n",
       "      <td>7.51</td>\n",
       "      <td>2.00</td>\n",
       "      <td>Male</td>\n",
       "      <td>No</td>\n",
       "      <td>Thur</td>\n",
       "      <td>Lunch</td>\n",
       "      <td>2</td>\n",
       "    </tr>\n",
       "    <tr>\n",
       "      <th>195</th>\n",
       "      <td>7.56</td>\n",
       "      <td>1.44</td>\n",
       "      <td>Male</td>\n",
       "      <td>No</td>\n",
       "      <td>Thur</td>\n",
       "      <td>Lunch</td>\n",
       "      <td>2</td>\n",
       "    </tr>\n",
       "    <tr>\n",
       "      <th>218</th>\n",
       "      <td>7.74</td>\n",
       "      <td>1.44</td>\n",
       "      <td>Male</td>\n",
       "      <td>Yes</td>\n",
       "      <td>Sat</td>\n",
       "      <td>Dinner</td>\n",
       "      <td>2</td>\n",
       "    </tr>\n",
       "    <tr>\n",
       "      <th>126</th>\n",
       "      <td>8.52</td>\n",
       "      <td>1.48</td>\n",
       "      <td>Male</td>\n",
       "      <td>No</td>\n",
       "      <td>Thur</td>\n",
       "      <td>Lunch</td>\n",
       "      <td>2</td>\n",
       "    </tr>\n",
       "  </tbody>\n",
       "</table>\n",
       "</div>"
      ],
      "text/plain": [
       "     total_bill   tip   sex smoker   day    time  size\n",
       "172        7.25  5.15  Male    Yes   Sun  Dinner     2\n",
       "149        7.51  2.00  Male     No  Thur   Lunch     2\n",
       "195        7.56  1.44  Male     No  Thur   Lunch     2\n",
       "218        7.74  1.44  Male    Yes   Sat  Dinner     2\n",
       "126        8.52  1.48  Male     No  Thur   Lunch     2"
      ]
     },
     "execution_count": 176,
     "metadata": {},
     "output_type": "execute_result"
    }
   ],
   "source": [
    "tips = tips.sort_values(by=['sex', 'total_bill'])\n",
    "tips.head()"
   ]
  },
  {
   "cell_type": "markdown",
   "metadata": {
    "collapsed": false,
    "pycharm": {
     "name": "#%% md\n"
    }
   },
   "source": [
    "### Inserting columns\n",
    "\n",
    "We can add new rows and columns.  More often, we want to add new columns.  Operations on columns are element-wise as with numpy."
   ]
  },
  {
   "cell_type": "code",
   "execution_count": 177,
   "metadata": {
    "collapsed": false,
    "pycharm": {
     "name": "#%%\n"
    }
   },
   "outputs": [
    {
     "data": {
      "text/html": [
       "<div>\n",
       "<style scoped>\n",
       "    .dataframe tbody tr th:only-of-type {\n",
       "        vertical-align: middle;\n",
       "    }\n",
       "\n",
       "    .dataframe tbody tr th {\n",
       "        vertical-align: top;\n",
       "    }\n",
       "\n",
       "    .dataframe thead th {\n",
       "        text-align: right;\n",
       "    }\n",
       "</style>\n",
       "<table border=\"1\" class=\"dataframe\">\n",
       "  <thead>\n",
       "    <tr style=\"text-align: right;\">\n",
       "      <th></th>\n",
       "      <th>total_bill</th>\n",
       "      <th>tip</th>\n",
       "      <th>sex</th>\n",
       "      <th>smoker</th>\n",
       "      <th>day</th>\n",
       "      <th>time</th>\n",
       "      <th>size</th>\n",
       "      <th>pct</th>\n",
       "      <th>day_type</th>\n",
       "    </tr>\n",
       "  </thead>\n",
       "  <tbody>\n",
       "    <tr>\n",
       "      <th>172</th>\n",
       "      <td>7.25</td>\n",
       "      <td>5.15</td>\n",
       "      <td>Male</td>\n",
       "      <td>Yes</td>\n",
       "      <td>Sun</td>\n",
       "      <td>Dinner</td>\n",
       "      <td>2</td>\n",
       "      <td>0.710345</td>\n",
       "      <td>Weekend</td>\n",
       "    </tr>\n",
       "    <tr>\n",
       "      <th>149</th>\n",
       "      <td>7.51</td>\n",
       "      <td>2.00</td>\n",
       "      <td>Male</td>\n",
       "      <td>No</td>\n",
       "      <td>Thur</td>\n",
       "      <td>Lunch</td>\n",
       "      <td>2</td>\n",
       "      <td>0.266312</td>\n",
       "      <td>Weekday</td>\n",
       "    </tr>\n",
       "    <tr>\n",
       "      <th>195</th>\n",
       "      <td>7.56</td>\n",
       "      <td>1.44</td>\n",
       "      <td>Male</td>\n",
       "      <td>No</td>\n",
       "      <td>Thur</td>\n",
       "      <td>Lunch</td>\n",
       "      <td>2</td>\n",
       "      <td>0.190476</td>\n",
       "      <td>Weekday</td>\n",
       "    </tr>\n",
       "  </tbody>\n",
       "</table>\n",
       "</div>"
      ],
      "text/plain": [
       "     total_bill   tip   sex smoker   day    time  size       pct day_type\n",
       "172        7.25  5.15  Male    Yes   Sun  Dinner     2  0.710345  Weekend\n",
       "149        7.51  2.00  Male     No  Thur   Lunch     2  0.266312  Weekday\n",
       "195        7.56  1.44  Male     No  Thur   Lunch     2  0.190476  Weekday"
      ]
     },
     "execution_count": 177,
     "metadata": {},
     "output_type": "execute_result"
    }
   ],
   "source": [
    "tips['pct'] = tips.tip / tips.total_bill\n",
    "tips['day_type'] = tips.day.map(lambda x: 'Weekend' if x in ['Sat', 'Sun'] else 'Weekday')\n",
    "tips.head(3)"
   ]
  },
  {
   "cell_type": "markdown",
   "metadata": {
    "collapsed": false,
    "pycharm": {
     "name": "#%% md\n"
    }
   },
   "source": [
    "### Filtering"
   ]
  },
  {
   "cell_type": "code",
   "execution_count": 178,
   "metadata": {
    "collapsed": false,
    "pycharm": {
     "name": "#%%\n"
    }
   },
   "outputs": [],
   "source": [
    "# tips[tips.sex==\"Male\"].head()\n",
    "# tips[(tips.sex==\"Male\") & (tips.pct>0.2)].head()\n",
    "# tips[(tips.sex==\"Male\") | (tips.pct>0.2)].head()\n"
   ]
  },
  {
   "cell_type": "markdown",
   "metadata": {
    "collapsed": false,
    "pycharm": {
     "name": "#%% md\n"
    }
   },
   "source": [
    "### Aggregating\n",
    "\n",
    "There are built-in methods and you can create your own with apply.  Often it is more convenient to define a new function with the \"lambda\" method instead of \"def ...\" but \"def\" is useful for longer functions."
   ]
  },
  {
   "cell_type": "code",
   "execution_count": 179,
   "metadata": {
    "collapsed": false,
    "pycharm": {
     "name": "#%%\n"
    }
   },
   "outputs": [
    {
     "data": {
      "text/plain": [
       "total_bill    114780.4443\n",
       "tip             2658.6932\n",
       "dtype: float64"
      ]
     },
     "execution_count": 179,
     "metadata": {},
     "output_type": "execute_result"
    }
   ],
   "source": [
    "tips2 = tips[['total_bill', 'tip']]\n",
    "\n",
    "# tips2.sum()\n",
    "# tips[['total_bill\", 'tip']].sum()\n",
    "# tips.total_bill.sum()\n",
    "# tips['total_bill'].sum()\n",
    "# tips2.mean()\n",
    "# tips2.std()\n",
    "# tips2.corr()\n",
    "# tips2.cov()\n",
    "# tips2.median()\n",
    "# tips2.quantile([0.25, 0.5, 0.75])\n",
    "# tips2.sum(axis=1)\n",
    "tips2.apply(lambda x: (x**2).sum())\n",
    "# def sumsquares(x):\n",
    "#     return (x**2).sum()\n",
    "# tips2.apply(sumsquares)\n"
   ]
  },
  {
   "cell_type": "markdown",
   "metadata": {
    "collapsed": false,
    "pycharm": {
     "name": "#%% md\n"
    }
   },
   "source": [
    "### Aggregating by groups\n",
    "\n",
    "In empirical asset pricing, we are constantly either grouping by stock and doing something to each time series of stock data, or we are grouping by date and doing something to each cross-section.  "
   ]
  },
  {
   "cell_type": "code",
   "execution_count": 180,
   "metadata": {},
   "outputs": [
    {
     "data": {
      "text/html": [
       "<div>\n",
       "<style scoped>\n",
       "    .dataframe tbody tr th:only-of-type {\n",
       "        vertical-align: middle;\n",
       "    }\n",
       "\n",
       "    .dataframe tbody tr th {\n",
       "        vertical-align: top;\n",
       "    }\n",
       "\n",
       "    .dataframe thead th {\n",
       "        text-align: right;\n",
       "    }\n",
       "</style>\n",
       "<table border=\"1\" class=\"dataframe\">\n",
       "  <thead>\n",
       "    <tr style=\"text-align: right;\">\n",
       "      <th></th>\n",
       "      <th>total_bill</th>\n",
       "      <th>tip</th>\n",
       "      <th>sex</th>\n",
       "      <th>smoker</th>\n",
       "      <th>day</th>\n",
       "      <th>time</th>\n",
       "      <th>size</th>\n",
       "      <th>pct</th>\n",
       "      <th>day_type</th>\n",
       "    </tr>\n",
       "  </thead>\n",
       "  <tbody>\n",
       "    <tr>\n",
       "      <th>172</th>\n",
       "      <td>7.25</td>\n",
       "      <td>5.15</td>\n",
       "      <td>Male</td>\n",
       "      <td>Yes</td>\n",
       "      <td>Sun</td>\n",
       "      <td>Dinner</td>\n",
       "      <td>2</td>\n",
       "      <td>0.710345</td>\n",
       "      <td>Weekend</td>\n",
       "    </tr>\n",
       "    <tr>\n",
       "      <th>149</th>\n",
       "      <td>7.51</td>\n",
       "      <td>2.00</td>\n",
       "      <td>Male</td>\n",
       "      <td>No</td>\n",
       "      <td>Thur</td>\n",
       "      <td>Lunch</td>\n",
       "      <td>2</td>\n",
       "      <td>0.266312</td>\n",
       "      <td>Weekday</td>\n",
       "    </tr>\n",
       "    <tr>\n",
       "      <th>195</th>\n",
       "      <td>7.56</td>\n",
       "      <td>1.44</td>\n",
       "      <td>Male</td>\n",
       "      <td>No</td>\n",
       "      <td>Thur</td>\n",
       "      <td>Lunch</td>\n",
       "      <td>2</td>\n",
       "      <td>0.190476</td>\n",
       "      <td>Weekday</td>\n",
       "    </tr>\n",
       "    <tr>\n",
       "      <th>218</th>\n",
       "      <td>7.74</td>\n",
       "      <td>1.44</td>\n",
       "      <td>Male</td>\n",
       "      <td>Yes</td>\n",
       "      <td>Sat</td>\n",
       "      <td>Dinner</td>\n",
       "      <td>2</td>\n",
       "      <td>0.186047</td>\n",
       "      <td>Weekend</td>\n",
       "    </tr>\n",
       "    <tr>\n",
       "      <th>126</th>\n",
       "      <td>8.52</td>\n",
       "      <td>1.48</td>\n",
       "      <td>Male</td>\n",
       "      <td>No</td>\n",
       "      <td>Thur</td>\n",
       "      <td>Lunch</td>\n",
       "      <td>2</td>\n",
       "      <td>0.173709</td>\n",
       "      <td>Weekday</td>\n",
       "    </tr>\n",
       "  </tbody>\n",
       "</table>\n",
       "</div>"
      ],
      "text/plain": [
       "     total_bill   tip   sex smoker   day    time  size       pct day_type\n",
       "172        7.25  5.15  Male    Yes   Sun  Dinner     2  0.710345  Weekend\n",
       "149        7.51  2.00  Male     No  Thur   Lunch     2  0.266312  Weekday\n",
       "195        7.56  1.44  Male     No  Thur   Lunch     2  0.190476  Weekday\n",
       "218        7.74  1.44  Male    Yes   Sat  Dinner     2  0.186047  Weekend\n",
       "126        8.52  1.48  Male     No  Thur   Lunch     2  0.173709  Weekday"
      ]
     },
     "execution_count": 180,
     "metadata": {},
     "output_type": "execute_result"
    }
   ],
   "source": [
    "tips.head()"
   ]
  },
  {
   "cell_type": "code",
   "execution_count": 181,
   "metadata": {
    "collapsed": false,
    "pycharm": {
     "name": "#%%\n"
    }
   },
   "outputs": [],
   "source": [
    "# tips.groupby('sex').total_bill.mean()\n",
    "# tips.groupby(['sex', 'time']).total_bill.mean()\n",
    "# tips.groupby(['sex']).total_bill.apply(lambda x: (x**2).sum())"
   ]
  },
  {
   "cell_type": "markdown",
   "metadata": {},
   "source": [
    "### Transform\n",
    "\n",
    "When we aggregate, we get a lower-dimensional object - for example, just one number for each column.  With transform, we get an object of the same dimension we started with, which is useful when we want to paste it into the original object.  This new object will repeat the aggregate in order to be of the same dimension as the original.  This is useful, for example, if we want to include a group mean as a characteristic in a model."
   ]
  },
  {
   "cell_type": "code",
   "execution_count": 182,
   "metadata": {},
   "outputs": [
    {
     "data": {
      "text/html": [
       "<div>\n",
       "<style scoped>\n",
       "    .dataframe tbody tr th:only-of-type {\n",
       "        vertical-align: middle;\n",
       "    }\n",
       "\n",
       "    .dataframe tbody tr th {\n",
       "        vertical-align: top;\n",
       "    }\n",
       "\n",
       "    .dataframe thead th {\n",
       "        text-align: right;\n",
       "    }\n",
       "</style>\n",
       "<table border=\"1\" class=\"dataframe\">\n",
       "  <thead>\n",
       "    <tr style=\"text-align: right;\">\n",
       "      <th></th>\n",
       "      <th>total_bill</th>\n",
       "      <th>tip</th>\n",
       "      <th>sex</th>\n",
       "      <th>smoker</th>\n",
       "      <th>day</th>\n",
       "      <th>time</th>\n",
       "      <th>size</th>\n",
       "      <th>pct</th>\n",
       "      <th>day_type</th>\n",
       "      <th>total_by_sex</th>\n",
       "    </tr>\n",
       "  </thead>\n",
       "  <tbody>\n",
       "    <tr>\n",
       "      <th>172</th>\n",
       "      <td>7.25</td>\n",
       "      <td>5.15</td>\n",
       "      <td>Male</td>\n",
       "      <td>Yes</td>\n",
       "      <td>Sun</td>\n",
       "      <td>Dinner</td>\n",
       "      <td>2</td>\n",
       "      <td>0.710345</td>\n",
       "      <td>Weekend</td>\n",
       "      <td>20.744076</td>\n",
       "    </tr>\n",
       "    <tr>\n",
       "      <th>149</th>\n",
       "      <td>7.51</td>\n",
       "      <td>2.00</td>\n",
       "      <td>Male</td>\n",
       "      <td>No</td>\n",
       "      <td>Thur</td>\n",
       "      <td>Lunch</td>\n",
       "      <td>2</td>\n",
       "      <td>0.266312</td>\n",
       "      <td>Weekday</td>\n",
       "      <td>20.744076</td>\n",
       "    </tr>\n",
       "    <tr>\n",
       "      <th>195</th>\n",
       "      <td>7.56</td>\n",
       "      <td>1.44</td>\n",
       "      <td>Male</td>\n",
       "      <td>No</td>\n",
       "      <td>Thur</td>\n",
       "      <td>Lunch</td>\n",
       "      <td>2</td>\n",
       "      <td>0.190476</td>\n",
       "      <td>Weekday</td>\n",
       "      <td>20.744076</td>\n",
       "    </tr>\n",
       "    <tr>\n",
       "      <th>218</th>\n",
       "      <td>7.74</td>\n",
       "      <td>1.44</td>\n",
       "      <td>Male</td>\n",
       "      <td>Yes</td>\n",
       "      <td>Sat</td>\n",
       "      <td>Dinner</td>\n",
       "      <td>2</td>\n",
       "      <td>0.186047</td>\n",
       "      <td>Weekend</td>\n",
       "      <td>20.744076</td>\n",
       "    </tr>\n",
       "    <tr>\n",
       "      <th>126</th>\n",
       "      <td>8.52</td>\n",
       "      <td>1.48</td>\n",
       "      <td>Male</td>\n",
       "      <td>No</td>\n",
       "      <td>Thur</td>\n",
       "      <td>Lunch</td>\n",
       "      <td>2</td>\n",
       "      <td>0.173709</td>\n",
       "      <td>Weekday</td>\n",
       "      <td>20.744076</td>\n",
       "    </tr>\n",
       "  </tbody>\n",
       "</table>\n",
       "</div>"
      ],
      "text/plain": [
       "     total_bill   tip   sex smoker   day    time  size       pct day_type  \\\n",
       "172        7.25  5.15  Male    Yes   Sun  Dinner     2  0.710345  Weekend   \n",
       "149        7.51  2.00  Male     No  Thur   Lunch     2  0.266312  Weekday   \n",
       "195        7.56  1.44  Male     No  Thur   Lunch     2  0.190476  Weekday   \n",
       "218        7.74  1.44  Male    Yes   Sat  Dinner     2  0.186047  Weekend   \n",
       "126        8.52  1.48  Male     No  Thur   Lunch     2  0.173709  Weekday   \n",
       "\n",
       "     total_by_sex  \n",
       "172     20.744076  \n",
       "149     20.744076  \n",
       "195     20.744076  \n",
       "218     20.744076  \n",
       "126     20.744076  "
      ]
     },
     "execution_count": 182,
     "metadata": {},
     "output_type": "execute_result"
    }
   ],
   "source": [
    "tips['total_by_sex'] = tips.groupby('sex').total_bill.transform(lambda x: x.mean())\n",
    "tips.head()"
   ]
  },
  {
   "cell_type": "markdown",
   "metadata": {},
   "source": [
    "### Demeaning by group\n",
    "\n",
    "If we want to demean by group, we can use apply instead of transform, because demeaning is not an aggregation."
   ]
  },
  {
   "cell_type": "code",
   "execution_count": 183,
   "metadata": {},
   "outputs": [
    {
     "data": {
      "text/html": [
       "<div>\n",
       "<style scoped>\n",
       "    .dataframe tbody tr th:only-of-type {\n",
       "        vertical-align: middle;\n",
       "    }\n",
       "\n",
       "    .dataframe tbody tr th {\n",
       "        vertical-align: top;\n",
       "    }\n",
       "\n",
       "    .dataframe thead th {\n",
       "        text-align: right;\n",
       "    }\n",
       "</style>\n",
       "<table border=\"1\" class=\"dataframe\">\n",
       "  <thead>\n",
       "    <tr style=\"text-align: right;\">\n",
       "      <th></th>\n",
       "      <th>total_bill</th>\n",
       "      <th>tip</th>\n",
       "      <th>sex</th>\n",
       "      <th>smoker</th>\n",
       "      <th>day</th>\n",
       "      <th>time</th>\n",
       "      <th>size</th>\n",
       "      <th>pct</th>\n",
       "      <th>day_type</th>\n",
       "      <th>total_by_sex</th>\n",
       "      <th>total_dev_from_mean_by_sex</th>\n",
       "    </tr>\n",
       "  </thead>\n",
       "  <tbody>\n",
       "    <tr>\n",
       "      <th>172</th>\n",
       "      <td>7.25</td>\n",
       "      <td>5.15</td>\n",
       "      <td>Male</td>\n",
       "      <td>Yes</td>\n",
       "      <td>Sun</td>\n",
       "      <td>Dinner</td>\n",
       "      <td>2</td>\n",
       "      <td>0.710345</td>\n",
       "      <td>Weekend</td>\n",
       "      <td>20.744076</td>\n",
       "      <td>-13.494076</td>\n",
       "    </tr>\n",
       "    <tr>\n",
       "      <th>149</th>\n",
       "      <td>7.51</td>\n",
       "      <td>2.00</td>\n",
       "      <td>Male</td>\n",
       "      <td>No</td>\n",
       "      <td>Thur</td>\n",
       "      <td>Lunch</td>\n",
       "      <td>2</td>\n",
       "      <td>0.266312</td>\n",
       "      <td>Weekday</td>\n",
       "      <td>20.744076</td>\n",
       "      <td>-13.234076</td>\n",
       "    </tr>\n",
       "    <tr>\n",
       "      <th>195</th>\n",
       "      <td>7.56</td>\n",
       "      <td>1.44</td>\n",
       "      <td>Male</td>\n",
       "      <td>No</td>\n",
       "      <td>Thur</td>\n",
       "      <td>Lunch</td>\n",
       "      <td>2</td>\n",
       "      <td>0.190476</td>\n",
       "      <td>Weekday</td>\n",
       "      <td>20.744076</td>\n",
       "      <td>-13.184076</td>\n",
       "    </tr>\n",
       "    <tr>\n",
       "      <th>218</th>\n",
       "      <td>7.74</td>\n",
       "      <td>1.44</td>\n",
       "      <td>Male</td>\n",
       "      <td>Yes</td>\n",
       "      <td>Sat</td>\n",
       "      <td>Dinner</td>\n",
       "      <td>2</td>\n",
       "      <td>0.186047</td>\n",
       "      <td>Weekend</td>\n",
       "      <td>20.744076</td>\n",
       "      <td>-13.004076</td>\n",
       "    </tr>\n",
       "    <tr>\n",
       "      <th>126</th>\n",
       "      <td>8.52</td>\n",
       "      <td>1.48</td>\n",
       "      <td>Male</td>\n",
       "      <td>No</td>\n",
       "      <td>Thur</td>\n",
       "      <td>Lunch</td>\n",
       "      <td>2</td>\n",
       "      <td>0.173709</td>\n",
       "      <td>Weekday</td>\n",
       "      <td>20.744076</td>\n",
       "      <td>-12.224076</td>\n",
       "    </tr>\n",
       "  </tbody>\n",
       "</table>\n",
       "</div>"
      ],
      "text/plain": [
       "     total_bill   tip   sex smoker   day    time  size       pct day_type  \\\n",
       "172        7.25  5.15  Male    Yes   Sun  Dinner     2  0.710345  Weekend   \n",
       "149        7.51  2.00  Male     No  Thur   Lunch     2  0.266312  Weekday   \n",
       "195        7.56  1.44  Male     No  Thur   Lunch     2  0.190476  Weekday   \n",
       "218        7.74  1.44  Male    Yes   Sat  Dinner     2  0.186047  Weekend   \n",
       "126        8.52  1.48  Male     No  Thur   Lunch     2  0.173709  Weekday   \n",
       "\n",
       "     total_by_sex  total_dev_from_mean_by_sex  \n",
       "172     20.744076                  -13.494076  \n",
       "149     20.744076                  -13.234076  \n",
       "195     20.744076                  -13.184076  \n",
       "218     20.744076                  -13.004076  \n",
       "126     20.744076                  -12.224076  "
      ]
     },
     "execution_count": 183,
     "metadata": {},
     "output_type": "execute_result"
    }
   ],
   "source": [
    "tips['total_dev_from_mean_by_sex'] = tips.groupby('sex').total_bill.apply(lambda x: x - x.mean())\n",
    "tips.head()"
   ]
  },
  {
   "cell_type": "markdown",
   "metadata": {
    "collapsed": false,
    "pycharm": {
     "name": "#%% md\n"
    }
   },
   "source": [
    "### Index and reset index"
   ]
  },
  {
   "cell_type": "code",
   "execution_count": 184,
   "metadata": {
    "collapsed": false,
    "pycharm": {
     "name": "#%%\n"
    }
   },
   "outputs": [],
   "source": [
    "avgs = tips.groupby(['sex', 'time']).total_bill.mean()\n",
    "# avgs\n",
    "# avgs.loc[('Male', 'Dinner')]\n",
    "# avgs.index\n",
    "# avgs.reset_index()\n",
    "# avgs.reset_index().set_index(['sex', 'time])"
   ]
  },
  {
   "cell_type": "markdown",
   "metadata": {
    "collapsed": false,
    "pycharm": {
     "name": "#%% md\n"
    }
   },
   "source": [
    "### Wide versus long form"
   ]
  },
  {
   "cell_type": "code",
   "execution_count": 185,
   "metadata": {
    "collapsed": false,
    "pycharm": {
     "name": "#%%\n"
    }
   },
   "outputs": [],
   "source": [
    "# avgs.unstack()\n",
    "# avgs.unstack().stack()"
   ]
  },
  {
   "cell_type": "markdown",
   "metadata": {
    "collapsed": false,
    "pycharm": {
     "name": "#%% md\n"
    }
   },
   "source": [
    "### Dataframes versus series\n",
    "\n",
    "* Pandas provides two classes: DataFrame and Series.  \n",
    "* A series is like a one column dataframe but not quite.  There are occasionally dataframe methods that are not available for a series.  \n",
    "* We can convert a series to a dataframe with pd.DataFrame."
   ]
  },
  {
   "cell_type": "code",
   "execution_count": 186,
   "metadata": {
    "collapsed": false,
    "pycharm": {
     "name": "#%%\n"
    }
   },
   "outputs": [],
   "source": [
    "# type(tips)\n",
    "# type(tips.tip)\n",
    "# type(avgs)\n",
    "# type(avgs.unstack())\n",
    "# type(pd.DataFrame(tips.tip))"
   ]
  },
  {
   "cell_type": "markdown",
   "metadata": {
    "collapsed": false,
    "pycharm": {
     "name": "#%% md\n"
    }
   },
   "source": [
    "### Pandas data reader"
   ]
  },
  {
   "cell_type": "code",
   "execution_count": 187,
   "metadata": {
    "collapsed": false,
    "pycharm": {
     "name": "#%%\n"
    }
   },
   "outputs": [],
   "source": [
    "treasury10 = pdr('DGS10', 'fred', start=1980)\n",
    "treasury30 = pdr('DGS30', 'fred', start=1980)\n",
    "both = pdr(['DGS10', 'DGS30'], 'fred', start=1980)\n",
    "\n",
    "# treasury10.head()\n",
    "# treasury30.head()\n",
    "# both.head()\n",
    "# treasury10.index\n",
    "# type(treasury10)\n",
    "# np.log(1+both/100)"
   ]
  },
  {
   "cell_type": "markdown",
   "metadata": {
    "collapsed": false,
    "pycharm": {
     "name": "#%% md\n"
    }
   },
   "source": [
    "### Merging dataframes\n",
    "\n",
    "* Merge, join, and concatenate are different methods for combining dataframes.  \n",
    "* Merge provides the finest control."
   ]
  },
  {
   "cell_type": "code",
   "execution_count": 188,
   "metadata": {
    "collapsed": false,
    "pycharm": {
     "name": "#%%\n"
    }
   },
   "outputs": [
    {
     "data": {
      "text/plain": [
       "[True, True, True, True]"
      ]
     },
     "execution_count": 188,
     "metadata": {},
     "output_type": "execute_result"
    }
   ],
   "source": [
    "both1 = treasury10.merge(treasury30, left_index=True, right_index=True)\n",
    "both2 = treasury10.merge(treasury30, on='DATE')\n",
    "both3 = treasury10.join(treasury30)\n",
    "both4 = pd.concat((treasury10, treasury30), axis=1)\n",
    "[both.equals(b) for b in [both1, both2, both3, both4]]\n"
   ]
  },
  {
   "cell_type": "markdown",
   "metadata": {
    "collapsed": false,
    "pycharm": {
     "name": "#%% md\n"
    }
   },
   "source": [
    "### Missing data\n",
    "\n",
    "* Missing values are recorded as NaN (not a number).  \n",
    "* We can drop them or fill them.  \n",
    "* We can fill with a specific value or fill from the previous entry or the next entry."
   ]
  },
  {
   "cell_type": "code",
   "execution_count": 189,
   "metadata": {
    "collapsed": false,
    "pycharm": {
     "name": "#%%\n"
    }
   },
   "outputs": [],
   "source": [
    "# both.isna()\n",
    "# both.dropna()\n",
    "# both.dropna(subset=['DGS10'])\n",
    "# both.fillna(0)\n",
    "# both.bfill()\n",
    "# both.ffill()"
   ]
  },
  {
   "cell_type": "markdown",
   "metadata": {
    "collapsed": false,
    "pycharm": {
     "name": "#%% md\n"
    }
   },
   "source": [
    "### Working with time series\n",
    "\n"
   ]
  },
  {
   "cell_type": "code",
   "execution_count": 190,
   "metadata": {
    "collapsed": false,
    "pycharm": {
     "name": "#%%\n"
    }
   },
   "outputs": [],
   "source": [
    "# both.shift().head()\n",
    "# both.shift(2).head()\n",
    "# both.shift(-1).head()\n",
    "# both.diff().head()\n",
    "# both.diff(2).head()\n",
    "# both.pct_change()\n",
    "# both.rolling(5).mean()\n",
    "# both.rolling(5).std()\n",
    "# both.resample('M').last()\n",
    "# both.resample('MS').first()\n",
    "# both.resample('M').mean()"
   ]
  },
  {
   "cell_type": "markdown",
   "metadata": {},
   "source": [
    "The datetime format is a standard format.  When pdr gets daily data, it returns dates in the datetime format.  The datetime module contains functions for working with datetime objects.  Pandas implements some of them.  strftime will format datetime objects in many different ways.  Its inverse is strptime, which converts dates in different string formats into datetime objects."
   ]
  },
  {
   "cell_type": "code",
   "execution_count": 191,
   "metadata": {},
   "outputs": [],
   "source": [
    "# both.index.dtype\n",
    "# [x.year for x in both.index]\n",
    "# both.index.map(lambda x: x.month)\n",
    "# both.index.astype(str)\n",
    "# both.index.strftime(\"%b %d, %Y\")\n",
    "# both.resample('M').last().index.to_period('M')"
   ]
  },
  {
   "cell_type": "markdown",
   "metadata": {},
   "source": [
    "### Upsampling\n",
    "\n",
    "We can map a time series into a higher frequency index with reindex.  This creates NaN's for the new dates.  We might want to fill those NaN's by inserting the most recent valid value with ffill (forward filling the time series).  Downsampling is done with resample as shown above."
   ]
  },
  {
   "cell_type": "code",
   "execution_count": 192,
   "metadata": {},
   "outputs": [
    {
     "data": {
      "text/html": [
       "<div>\n",
       "<style scoped>\n",
       "    .dataframe tbody tr th:only-of-type {\n",
       "        vertical-align: middle;\n",
       "    }\n",
       "\n",
       "    .dataframe tbody tr th {\n",
       "        vertical-align: top;\n",
       "    }\n",
       "\n",
       "    .dataframe thead th {\n",
       "        text-align: right;\n",
       "    }\n",
       "</style>\n",
       "<table border=\"1\" class=\"dataframe\">\n",
       "  <thead>\n",
       "    <tr style=\"text-align: right;\">\n",
       "      <th></th>\n",
       "      <th>DGS10</th>\n",
       "      <th>DGS30</th>\n",
       "    </tr>\n",
       "  </thead>\n",
       "  <tbody>\n",
       "    <tr>\n",
       "      <th>1980-01-01</th>\n",
       "      <td>10.5</td>\n",
       "      <td>10.23</td>\n",
       "    </tr>\n",
       "    <tr>\n",
       "      <th>1980-01-02</th>\n",
       "      <td>10.5</td>\n",
       "      <td>10.23</td>\n",
       "    </tr>\n",
       "    <tr>\n",
       "      <th>1980-01-03</th>\n",
       "      <td>10.5</td>\n",
       "      <td>10.23</td>\n",
       "    </tr>\n",
       "    <tr>\n",
       "      <th>1980-01-04</th>\n",
       "      <td>10.5</td>\n",
       "      <td>10.23</td>\n",
       "    </tr>\n",
       "    <tr>\n",
       "      <th>1980-01-05</th>\n",
       "      <td>10.5</td>\n",
       "      <td>10.23</td>\n",
       "    </tr>\n",
       "  </tbody>\n",
       "</table>\n",
       "</div>"
      ],
      "text/plain": [
       "            DGS10  DGS30\n",
       "1980-01-01   10.5  10.23\n",
       "1980-01-02   10.5  10.23\n",
       "1980-01-03   10.5  10.23\n",
       "1980-01-04   10.5  10.23\n",
       "1980-01-05   10.5  10.23"
      ]
     },
     "execution_count": 192,
     "metadata": {},
     "output_type": "execute_result"
    }
   ],
   "source": [
    "monthly = both.resample('MS').first()\n",
    "min_date = monthly.index.min()\n",
    "max_date = monthly.index.max()\n",
    "new_index = pd.date_range(start=min_date, end=max_date, freq=\"D\")\n",
    "monthly = monthly.reindex(new_index).ffill()\n",
    "monthly.head()"
   ]
  },
  {
   "cell_type": "markdown",
   "metadata": {
    "collapsed": false,
    "pycharm": {
     "name": "#%% md\n"
    }
   },
   "source": [
    "### Saving and reading dataframes\n",
    "\n",
    "* To save or read in Colab, you need to \"mount\" your Google Drive.  Click on the file icon in the left toolbar and then click the Google drive icon.\n",
    "* pandas has pd.read_csv, pd.read_stata, pd.read_sas, and pd.read_excel functions."
   ]
  },
  {
   "cell_type": "code",
   "execution_count": 195,
   "metadata": {
    "collapsed": false,
    "pycharm": {
     "name": "#%%\n"
    }
   },
   "outputs": [],
   "source": [
    "both.to_csv('filename.csv')\n",
    "newboth = pd.read_csv('filename.csv', parse_dates=['DATE'])"
   ]
  },
  {
   "cell_type": "markdown",
   "metadata": {
    "collapsed": false,
    "pycharm": {
     "name": "#%% md\n"
    }
   },
   "source": [
    "### Loops\n",
    "\n",
    "* A loop is a block of code that is executed repeatedly, for a given number of times (for loop) or until some condition is met (while loop).\n",
    "* It is not common to need a while loop.\n",
    "* On the other hand, zip and enumerate are often useful (especially zip) in for loops.\n",
    "* Indentation is again crucial.  "
   ]
  },
  {
   "cell_type": "code",
   "execution_count": null,
   "metadata": {
    "collapsed": false,
    "pycharm": {
     "name": "#%%\n"
    }
   },
   "outputs": [],
   "source": [
    "for i in range(5):\n",
    "    print(i)"
   ]
  },
  {
   "cell_type": "code",
   "execution_count": null,
   "metadata": {
    "collapsed": false,
    "pycharm": {
     "name": "#%%\n"
    }
   },
   "outputs": [],
   "source": [
    "for ltr in ['a', 'b', 'c']:\n",
    "    print(ltr)"
   ]
  },
  {
   "cell_type": "code",
   "execution_count": null,
   "metadata": {
    "collapsed": false,
    "pycharm": {
     "name": "#%%\n"
    }
   },
   "outputs": [],
   "source": [
    "both5 = None\n",
    "for data in [treasury10, treasury30]:\n",
    "    both5 = pd.concat((both5, data), axis=1)\n",
    "both5.head()"
   ]
  },
  {
   "cell_type": "code",
   "execution_count": null,
   "metadata": {
    "collapsed": false,
    "pycharm": {
     "name": "#%%\n"
    }
   },
   "outputs": [],
   "source": [
    "lst1 = ['a', 'b', 'c']\n",
    "lst2 = ['1', '2', '3']\n",
    "for a, b in zip(lst1, lst2):\n",
    "    print(a+b)"
   ]
  },
  {
   "cell_type": "code",
   "execution_count": null,
   "metadata": {
    "collapsed": false,
    "pycharm": {
     "name": "#%%\n"
    }
   },
   "outputs": [],
   "source": [
    "for i, ltr in enumerate(lst1):\n",
    "    print(ltr+lst2[i])"
   ]
  },
  {
   "cell_type": "code",
   "execution_count": null,
   "metadata": {
    "collapsed": false,
    "pycharm": {
     "name": "#%%\n"
    }
   },
   "outputs": [],
   "source": [
    "i = 0\n",
    "while i<3:\n",
    "    print(i)\n",
    "    i = i + 1"
   ]
  },
  {
   "cell_type": "markdown",
   "metadata": {
    "collapsed": false,
    "pycharm": {
     "name": "#%% md\n"
    }
   },
   "source": [
    "### Conditional execution\n",
    "\n",
    "* An indented block following an if statement is executed only if the condition evaluates to True.\n",
    "* Often but not always there is an else with another indented block following the if block.\n",
    "* There can also be one or more elif (else if) blocks based on additional conditions."
   ]
  },
  {
   "cell_type": "code",
   "execution_count": null,
   "metadata": {
    "collapsed": false,
    "pycharm": {
     "name": "#%%\n"
    }
   },
   "outputs": [],
   "source": [
    "def f(number):\n",
    "    if number < 10:\n",
    "        return 'small' \n",
    "    elif number < 100:\n",
    "        return 'medium' \n",
    "    else:\n",
    "        return 'large' \n",
    "\n",
    "f(20)"
   ]
  },
  {
   "cell_type": "code",
   "execution_count": null,
   "metadata": {
    "collapsed": false,
    "pycharm": {
     "name": "#%%\n"
    }
   },
   "outputs": [],
   "source": [
    "def g(number):\n",
    "    return 'small' if number<10 else ('medium' if number<100 else 'large')\n",
    "\n",
    "g(20)"
   ]
  },
  {
   "cell_type": "markdown",
   "metadata": {},
   "source": [
    "### Dictionaries\n",
    "\n",
    "* Dictionaries are unordered collections of key/value pairs\n",
    "* Sometimes called look-up tables or hash tables \n",
    "* Compared to normal dictionaries, key $\\sim$ word and value $\\sim$ definition.\n",
    "* Created with dict function or by enclosing key/value pairs in {}\n",
    "* Keys and values can be any types of objects"
   ]
  },
  {
   "cell_type": "code",
   "execution_count": 257,
   "metadata": {},
   "outputs": [
    {
     "data": {
      "text/plain": [
       "1"
      ]
     },
     "execution_count": 257,
     "metadata": {},
     "output_type": "execute_result"
    }
   ],
   "source": [
    "x = {'a': 1, 'b': 2}\n",
    "x['a']"
   ]
  },
  {
   "cell_type": "code",
   "execution_count": 258,
   "metadata": {},
   "outputs": [],
   "source": [
    "x = dict(a=1, b=2)\n",
    "# x['a']\n",
    "# list(x.keys())\n",
    "# list(x.values())"
   ]
  },
  {
   "cell_type": "markdown",
   "metadata": {
    "collapsed": false,
    "pycharm": {
     "name": "#%% md\n"
    }
   },
   "source": [
    "### Pandas\n",
    "\n",
    "* Pandas was created and is maintained by Wes McKinney, formerly of AQR.\n",
    "* .loc extracts rows using row labels (index).  In this case, the labels are just 0, 1, 2, ...\n",
    "* .iloc extracts rows using the index location.  It works like extracting items from a list, starting at 0.\n",
    "* Because the row labels here are just 0, 1, 2, ... .loc and .iloc work almost the same.  The only difference is that .iloc works like extracting items from a list, so it goes up to but not including the last number.  .loc uses the row labels including the last label."
   ]
  },
  {
   "cell_type": "code",
   "execution_count": 259,
   "metadata": {
    "collapsed": false,
    "pycharm": {
     "name": "#%%\n"
    }
   },
   "outputs": [],
   "source": [
    "tips = load_dataset(\"tips\")\n",
    "# tips.info()\n",
    "# tips.describe()\n",
    "# tips.dtypes\n",
    "# tips.head()\n",
    "# tips.tail()\n",
    "# tips.columns\n",
    "# tips.index\n",
    "# tips.day.unique()\n",
    "# tips.loc[0]\n",
    "# tips.loc[3:6]\n",
    "# tips.loc[-1]\n",
    "# tips.loc[-4:]\n",
    "# tips.iloc[0]\n",
    "# tips.iloc[3:6]\n",
    "# tips.iloc[3:10:2]\n",
    "# tips.iloc[-1]\n",
    "# tips.iloc[-4:]\n",
    "# tips['tip']\n",
    "# tips.tip\n",
    "# tips[['total_bill', 'tip]]\n",
    "# tips[['total_bill', 'tip']].loc[3:7]\n",
    "# tips.loc[3:7][['total_bill', 'tip']]\n",
    "# tips.to_dict()\n",
    "# tips.to_dict('records')\n",
    "# tips[['total_bill', 'tip']].to_numpy()"
   ]
  },
  {
   "cell_type": "code",
   "execution_count": 260,
   "metadata": {},
   "outputs": [
    {
     "data": {
      "text/html": [
       "<div>\n",
       "<style scoped>\n",
       "    .dataframe tbody tr th:only-of-type {\n",
       "        vertical-align: middle;\n",
       "    }\n",
       "\n",
       "    .dataframe tbody tr th {\n",
       "        vertical-align: top;\n",
       "    }\n",
       "\n",
       "    .dataframe thead th {\n",
       "        text-align: right;\n",
       "    }\n",
       "</style>\n",
       "<table border=\"1\" class=\"dataframe\">\n",
       "  <thead>\n",
       "    <tr style=\"text-align: right;\">\n",
       "      <th></th>\n",
       "      <th>new_total_bill</th>\n",
       "      <th>new_tip</th>\n",
       "      <th>new_sex</th>\n",
       "      <th>new_smoker</th>\n",
       "      <th>new_day</th>\n",
       "      <th>new_time</th>\n",
       "      <th>new_size</th>\n",
       "    </tr>\n",
       "  </thead>\n",
       "  <tbody>\n",
       "    <tr>\n",
       "      <th>0</th>\n",
       "      <td>16.99</td>\n",
       "      <td>1.01</td>\n",
       "      <td>Female</td>\n",
       "      <td>No</td>\n",
       "      <td>Sun</td>\n",
       "      <td>Dinner</td>\n",
       "      <td>2</td>\n",
       "    </tr>\n",
       "    <tr>\n",
       "      <th>1</th>\n",
       "      <td>10.34</td>\n",
       "      <td>1.66</td>\n",
       "      <td>Male</td>\n",
       "      <td>No</td>\n",
       "      <td>Sun</td>\n",
       "      <td>Dinner</td>\n",
       "      <td>3</td>\n",
       "    </tr>\n",
       "    <tr>\n",
       "      <th>2</th>\n",
       "      <td>21.01</td>\n",
       "      <td>3.50</td>\n",
       "      <td>Male</td>\n",
       "      <td>No</td>\n",
       "      <td>Sun</td>\n",
       "      <td>Dinner</td>\n",
       "      <td>3</td>\n",
       "    </tr>\n",
       "  </tbody>\n",
       "</table>\n",
       "</div>"
      ],
      "text/plain": [
       "   new_total_bill  new_tip new_sex new_smoker new_day new_time  new_size\n",
       "0           16.99     1.01  Female         No     Sun   Dinner         2\n",
       "1           10.34     1.66    Male         No     Sun   Dinner         3\n",
       "2           21.01     3.50    Male         No     Sun   Dinner         3"
      ]
     },
     "execution_count": 260,
     "metadata": {},
     "output_type": "execute_result"
    }
   ],
   "source": [
    "tips2 = tips.copy()\n",
    "tips2.columns = ['new_' + c for c in tips2.columns]\n",
    "tips2.head(3)"
   ]
  },
  {
   "cell_type": "code",
   "execution_count": 261,
   "metadata": {},
   "outputs": [
    {
     "data": {
      "text/html": [
       "<div>\n",
       "<style scoped>\n",
       "    .dataframe tbody tr th:only-of-type {\n",
       "        vertical-align: middle;\n",
       "    }\n",
       "\n",
       "    .dataframe tbody tr th {\n",
       "        vertical-align: top;\n",
       "    }\n",
       "\n",
       "    .dataframe thead th {\n",
       "        text-align: right;\n",
       "    }\n",
       "</style>\n",
       "<table border=\"1\" class=\"dataframe\">\n",
       "  <thead>\n",
       "    <tr style=\"text-align: right;\">\n",
       "      <th></th>\n",
       "      <th>new_total_bill</th>\n",
       "      <th>new_tip</th>\n",
       "      <th>new_sex</th>\n",
       "      <th>new_new_smoker</th>\n",
       "      <th>new_day</th>\n",
       "      <th>new_time</th>\n",
       "      <th>new_size</th>\n",
       "    </tr>\n",
       "  </thead>\n",
       "  <tbody>\n",
       "    <tr>\n",
       "      <th>0</th>\n",
       "      <td>16.99</td>\n",
       "      <td>1.01</td>\n",
       "      <td>Female</td>\n",
       "      <td>No</td>\n",
       "      <td>Sun</td>\n",
       "      <td>Dinner</td>\n",
       "      <td>2</td>\n",
       "    </tr>\n",
       "    <tr>\n",
       "      <th>1</th>\n",
       "      <td>10.34</td>\n",
       "      <td>1.66</td>\n",
       "      <td>Male</td>\n",
       "      <td>No</td>\n",
       "      <td>Sun</td>\n",
       "      <td>Dinner</td>\n",
       "      <td>3</td>\n",
       "    </tr>\n",
       "    <tr>\n",
       "      <th>2</th>\n",
       "      <td>21.01</td>\n",
       "      <td>3.50</td>\n",
       "      <td>Male</td>\n",
       "      <td>No</td>\n",
       "      <td>Sun</td>\n",
       "      <td>Dinner</td>\n",
       "      <td>3</td>\n",
       "    </tr>\n",
       "  </tbody>\n",
       "</table>\n",
       "</div>"
      ],
      "text/plain": [
       "   new_total_bill  new_tip new_sex new_new_smoker new_day new_time  new_size\n",
       "0           16.99     1.01  Female             No     Sun   Dinner         2\n",
       "1           10.34     1.66    Male             No     Sun   Dinner         3\n",
       "2           21.01     3.50    Male             No     Sun   Dinner         3"
      ]
     },
     "execution_count": 261,
     "metadata": {},
     "output_type": "execute_result"
    }
   ],
   "source": [
    "tips2 = tips2.rename(columns={'new_smoker': 'new_new_smoker'})\n",
    "tips2.head(3)"
   ]
  },
  {
   "cell_type": "markdown",
   "metadata": {
    "pycharm": {
     "name": "#%% md\n"
    }
   },
   "source": [
    "### Sorting"
   ]
  },
  {
   "cell_type": "code",
   "execution_count": 262,
   "metadata": {
    "pycharm": {
     "name": "#%%\n"
    }
   },
   "outputs": [
    {
     "data": {
      "text/html": [
       "<div>\n",
       "<style scoped>\n",
       "    .dataframe tbody tr th:only-of-type {\n",
       "        vertical-align: middle;\n",
       "    }\n",
       "\n",
       "    .dataframe tbody tr th {\n",
       "        vertical-align: top;\n",
       "    }\n",
       "\n",
       "    .dataframe thead th {\n",
       "        text-align: right;\n",
       "    }\n",
       "</style>\n",
       "<table border=\"1\" class=\"dataframe\">\n",
       "  <thead>\n",
       "    <tr style=\"text-align: right;\">\n",
       "      <th></th>\n",
       "      <th>total_bill</th>\n",
       "      <th>tip</th>\n",
       "      <th>sex</th>\n",
       "      <th>smoker</th>\n",
       "      <th>day</th>\n",
       "      <th>time</th>\n",
       "      <th>size</th>\n",
       "    </tr>\n",
       "  </thead>\n",
       "  <tbody>\n",
       "    <tr>\n",
       "      <th>172</th>\n",
       "      <td>7.25</td>\n",
       "      <td>5.15</td>\n",
       "      <td>Male</td>\n",
       "      <td>Yes</td>\n",
       "      <td>Sun</td>\n",
       "      <td>Dinner</td>\n",
       "      <td>2</td>\n",
       "    </tr>\n",
       "    <tr>\n",
       "      <th>149</th>\n",
       "      <td>7.51</td>\n",
       "      <td>2.00</td>\n",
       "      <td>Male</td>\n",
       "      <td>No</td>\n",
       "      <td>Thur</td>\n",
       "      <td>Lunch</td>\n",
       "      <td>2</td>\n",
       "    </tr>\n",
       "    <tr>\n",
       "      <th>195</th>\n",
       "      <td>7.56</td>\n",
       "      <td>1.44</td>\n",
       "      <td>Male</td>\n",
       "      <td>No</td>\n",
       "      <td>Thur</td>\n",
       "      <td>Lunch</td>\n",
       "      <td>2</td>\n",
       "    </tr>\n",
       "    <tr>\n",
       "      <th>218</th>\n",
       "      <td>7.74</td>\n",
       "      <td>1.44</td>\n",
       "      <td>Male</td>\n",
       "      <td>Yes</td>\n",
       "      <td>Sat</td>\n",
       "      <td>Dinner</td>\n",
       "      <td>2</td>\n",
       "    </tr>\n",
       "    <tr>\n",
       "      <th>126</th>\n",
       "      <td>8.52</td>\n",
       "      <td>1.48</td>\n",
       "      <td>Male</td>\n",
       "      <td>No</td>\n",
       "      <td>Thur</td>\n",
       "      <td>Lunch</td>\n",
       "      <td>2</td>\n",
       "    </tr>\n",
       "  </tbody>\n",
       "</table>\n",
       "</div>"
      ],
      "text/plain": [
       "     total_bill   tip   sex smoker   day    time  size\n",
       "172        7.25  5.15  Male    Yes   Sun  Dinner     2\n",
       "149        7.51  2.00  Male     No  Thur   Lunch     2\n",
       "195        7.56  1.44  Male     No  Thur   Lunch     2\n",
       "218        7.74  1.44  Male    Yes   Sat  Dinner     2\n",
       "126        8.52  1.48  Male     No  Thur   Lunch     2"
      ]
     },
     "execution_count": 262,
     "metadata": {},
     "output_type": "execute_result"
    }
   ],
   "source": [
    "tips = tips.sort_values(by=['sex', 'total_bill'])\n",
    "tips.head()"
   ]
  },
  {
   "cell_type": "markdown",
   "metadata": {
    "pycharm": {
     "name": "#%% md\n"
    }
   },
   "source": [
    "### Inserting columns\n",
    "\n",
    "We can add new rows and columns.  More often, we want to add new columns.  Operations on columns are element-wise as with numpy."
   ]
  },
  {
   "cell_type": "code",
   "execution_count": 263,
   "metadata": {
    "pycharm": {
     "name": "#%%\n"
    }
   },
   "outputs": [
    {
     "data": {
      "text/html": [
       "<div>\n",
       "<style scoped>\n",
       "    .dataframe tbody tr th:only-of-type {\n",
       "        vertical-align: middle;\n",
       "    }\n",
       "\n",
       "    .dataframe tbody tr th {\n",
       "        vertical-align: top;\n",
       "    }\n",
       "\n",
       "    .dataframe thead th {\n",
       "        text-align: right;\n",
       "    }\n",
       "</style>\n",
       "<table border=\"1\" class=\"dataframe\">\n",
       "  <thead>\n",
       "    <tr style=\"text-align: right;\">\n",
       "      <th></th>\n",
       "      <th>total_bill</th>\n",
       "      <th>tip</th>\n",
       "      <th>sex</th>\n",
       "      <th>smoker</th>\n",
       "      <th>day</th>\n",
       "      <th>time</th>\n",
       "      <th>size</th>\n",
       "      <th>pct</th>\n",
       "      <th>day_type</th>\n",
       "    </tr>\n",
       "  </thead>\n",
       "  <tbody>\n",
       "    <tr>\n",
       "      <th>172</th>\n",
       "      <td>7.25</td>\n",
       "      <td>5.15</td>\n",
       "      <td>Male</td>\n",
       "      <td>Yes</td>\n",
       "      <td>Sun</td>\n",
       "      <td>Dinner</td>\n",
       "      <td>2</td>\n",
       "      <td>0.710345</td>\n",
       "      <td>Weekend</td>\n",
       "    </tr>\n",
       "    <tr>\n",
       "      <th>149</th>\n",
       "      <td>7.51</td>\n",
       "      <td>2.00</td>\n",
       "      <td>Male</td>\n",
       "      <td>No</td>\n",
       "      <td>Thur</td>\n",
       "      <td>Lunch</td>\n",
       "      <td>2</td>\n",
       "      <td>0.266312</td>\n",
       "      <td>Weekday</td>\n",
       "    </tr>\n",
       "    <tr>\n",
       "      <th>195</th>\n",
       "      <td>7.56</td>\n",
       "      <td>1.44</td>\n",
       "      <td>Male</td>\n",
       "      <td>No</td>\n",
       "      <td>Thur</td>\n",
       "      <td>Lunch</td>\n",
       "      <td>2</td>\n",
       "      <td>0.190476</td>\n",
       "      <td>Weekday</td>\n",
       "    </tr>\n",
       "  </tbody>\n",
       "</table>\n",
       "</div>"
      ],
      "text/plain": [
       "     total_bill   tip   sex smoker   day    time  size       pct day_type\n",
       "172        7.25  5.15  Male    Yes   Sun  Dinner     2  0.710345  Weekend\n",
       "149        7.51  2.00  Male     No  Thur   Lunch     2  0.266312  Weekday\n",
       "195        7.56  1.44  Male     No  Thur   Lunch     2  0.190476  Weekday"
      ]
     },
     "execution_count": 263,
     "metadata": {},
     "output_type": "execute_result"
    }
   ],
   "source": [
    "tips['pct'] = tips.tip / tips.total_bill\n",
    "tips['day_type'] = tips.day.map(lambda x: 'Weekend' if x in ['Sat', 'Sun'] else 'Weekday')\n",
    "tips.head(3)"
   ]
  },
  {
   "cell_type": "markdown",
   "metadata": {},
   "source": [
    "### Filtering"
   ]
  },
  {
   "cell_type": "code",
   "execution_count": 264,
   "metadata": {},
   "outputs": [],
   "source": [
    "# tips[tips.sex==\"Male\"].head()\n",
    "# tips[(tips.sex==\"Male\") & (tips.pct>0.2)].head()\n",
    "# tips[(tips.sex==\"Male\") | (tips.pct>0.2)].head()\n"
   ]
  },
  {
   "cell_type": "markdown",
   "metadata": {},
   "source": [
    "### Aggregating"
   ]
  },
  {
   "cell_type": "code",
   "execution_count": 265,
   "metadata": {},
   "outputs": [],
   "source": [
    "tips2 = tips[['total_bill', 'tip']]\n",
    "\n",
    "# tips2.sum()\n",
    "# tips2.mean()\n",
    "# tips2.std()\n",
    "# tips2.corr()\n",
    "# tips2.cov()\n",
    "# tips2.median()\n",
    "# tips2.quantile([0.25, 0.5, 0.75])\n",
    "# tips2.sum(axis=1)\n",
    "# tips2.apply(lambda x: (x**2).sum())\n"
   ]
  },
  {
   "cell_type": "markdown",
   "metadata": {},
   "source": [
    "### Aggregating by groups\n",
    "\n",
    "In empirical asset pricing, we are constantly either grouping by stock and doing something to each time series of stock data, or we are grouping by date and doing something to each cross-section."
   ]
  },
  {
   "cell_type": "code",
   "execution_count": 266,
   "metadata": {},
   "outputs": [],
   "source": [
    "# tips.groupby('sex').total_bill.mean()\n",
    "# tips.groupby(['sex', 'time']).total_bill.mean()"
   ]
  },
  {
   "cell_type": "markdown",
   "metadata": {},
   "source": [
    "### Index and reset index"
   ]
  },
  {
   "cell_type": "code",
   "execution_count": 267,
   "metadata": {},
   "outputs": [],
   "source": [
    "avgs = tips.groupby(['sex', 'time']).total_bill.mean()\n",
    "# avgs\n",
    "# avgs.loc[('Male', 'Dinner')]\n",
    "# avgs.index\n",
    "# avgs.reset_index()\n",
    "# avgs.reset_index().set_index(['sex', 'time])"
   ]
  },
  {
   "cell_type": "markdown",
   "metadata": {},
   "source": [
    "### Wide versus long form"
   ]
  },
  {
   "cell_type": "code",
   "execution_count": 268,
   "metadata": {},
   "outputs": [],
   "source": [
    "# avgs.unstack()\n",
    "# avgs.unstack().stack()"
   ]
  },
  {
   "cell_type": "markdown",
   "metadata": {},
   "source": [
    "### Dataframes versus series\n",
    "\n",
    "* Pandas provides two classes: DataFrame and Series.  \n",
    "* A series is like a one column dataframe but not quite.  There are occasionally dataframe methods that are not available for a series.  \n",
    "* We can convert a series to a dataframe with pd.DataFrame."
   ]
  },
  {
   "cell_type": "code",
   "execution_count": 269,
   "metadata": {},
   "outputs": [],
   "source": [
    "# type(tips)\n",
    "# type(tips.tip)\n",
    "# type(avgs)\n",
    "# type(avgs.unstack())\n",
    "# type(pd.DataFrame(tips.tip))"
   ]
  },
  {
   "cell_type": "markdown",
   "metadata": {},
   "source": [
    "### Pandas data reader"
   ]
  },
  {
   "cell_type": "code",
   "execution_count": 270,
   "metadata": {},
   "outputs": [],
   "source": [
    "treasury10 = pdr('DGS10', 'fred', start=1980)\n",
    "treasury30 = pdr('DGS30', 'fred', start=1980)\n",
    "both = pdr(['DGS10', 'DGS30'], 'fred', start=1980)\n",
    "\n",
    "# treasury10.head()\n",
    "# treasury30.head()\n",
    "# both.head()\n",
    "# treasury10.index\n",
    "# type(treasury10)\n",
    "# np.log(1+both/100)"
   ]
  },
  {
   "cell_type": "markdown",
   "metadata": {},
   "source": [
    "### Merging dataframes\n",
    "\n",
    "* Merge, join, and concatenate are different methods for combining dataframes.  \n",
    "* Merge provides the finest control."
   ]
  },
  {
   "cell_type": "code",
   "execution_count": 271,
   "metadata": {},
   "outputs": [
    {
     "data": {
      "text/plain": [
       "[True, True, True, True]"
      ]
     },
     "execution_count": 271,
     "metadata": {},
     "output_type": "execute_result"
    }
   ],
   "source": [
    "both1 = treasury10.merge(treasury30, left_index=True, right_index=True)\n",
    "both2 = treasury10.merge(treasury30, on='DATE')\n",
    "both3 = treasury10.join(treasury30)\n",
    "both4 = pd.concat((treasury10, treasury30), axis=1)\n",
    "[both.equals(b) for b in [both1, both2, both3, both4]]\n"
   ]
  },
  {
   "cell_type": "markdown",
   "metadata": {},
   "source": [
    "### Missing data\n",
    "\n",
    "* Missing values are recorded as NaN (not a number).  \n",
    "* We can drop them or fill them.  \n",
    "* We can fill with a specific value or fill from the previous entry or the next entry."
   ]
  },
  {
   "cell_type": "code",
   "execution_count": 272,
   "metadata": {},
   "outputs": [],
   "source": [
    "# both.isna()\n",
    "# both.dropna()\n",
    "# both.dropna(subset=['DGS10'])\n",
    "# both.fillna(0)\n",
    "# both.bfill()\n",
    "# both.ffill()"
   ]
  },
  {
   "cell_type": "markdown",
   "metadata": {},
   "source": [
    "### Working with time series\n",
    "\n"
   ]
  },
  {
   "cell_type": "code",
   "execution_count": 273,
   "metadata": {},
   "outputs": [],
   "source": [
    "# both.shift().head()\n",
    "# both.shift(2).head()\n",
    "# both.shift(-1).head()\n",
    "# both.diff().head()\n",
    "# both.diff(2).head()\n",
    "# both.pct_change()\n",
    "# both.rolling(5).mean()\n",
    "# both.rolling(5).std()\n",
    "# both.resample('M').last()"
   ]
  },
  {
   "cell_type": "markdown",
   "metadata": {},
   "source": [
    "### Working with dates\n",
    "\n",
    "* The following use the pandas period M and period Y formats.  \n",
    "* The datetime module has more functions for working with dates (and times of course).\n",
    "* Google strftime for more ways to format dates as strings.\n",
    "* More often, we need to convert dates in various formats to a standard format using strptime."
   ]
  },
  {
   "cell_type": "code",
   "execution_count": 274,
   "metadata": {},
   "outputs": [],
   "source": [
    "monthly = both.resample('M').last()\n",
    "# monthly.index\n",
    "# monthly.index = monthly.index.to_period('M')\n",
    "# monthly.index\n",
    "# monthly.index = monthly.index.astype(str)\n",
    "# monthly.index"
   ]
  },
  {
   "cell_type": "code",
   "execution_count": 275,
   "metadata": {},
   "outputs": [],
   "source": [
    "annual = both.resample('Y').last()\n",
    "annual = annual.reset_index()\n",
    "# annual.head()\n",
    "# annual.DATE = annual.DATE.dt.to_period('Y')\n",
    "# annual.dtypes\n",
    "# annual.DATE = annual.DATE.astype(str).astype(int)\n",
    "# annual.dtypes"
   ]
  },
  {
   "cell_type": "code",
   "execution_count": 276,
   "metadata": {},
   "outputs": [
    {
     "data": {
      "text/html": [
       "<div>\n",
       "<style scoped>\n",
       "    .dataframe tbody tr th:only-of-type {\n",
       "        vertical-align: middle;\n",
       "    }\n",
       "\n",
       "    .dataframe tbody tr th {\n",
       "        vertical-align: top;\n",
       "    }\n",
       "\n",
       "    .dataframe thead th {\n",
       "        text-align: right;\n",
       "    }\n",
       "</style>\n",
       "<table border=\"1\" class=\"dataframe\">\n",
       "  <thead>\n",
       "    <tr style=\"text-align: right;\">\n",
       "      <th></th>\n",
       "      <th>DGS10</th>\n",
       "      <th>DGS30</th>\n",
       "      <th>Year</th>\n",
       "      <th>Month</th>\n",
       "      <th>date</th>\n",
       "    </tr>\n",
       "    <tr>\n",
       "      <th>DATE</th>\n",
       "      <th></th>\n",
       "      <th></th>\n",
       "      <th></th>\n",
       "      <th></th>\n",
       "      <th></th>\n",
       "    </tr>\n",
       "  </thead>\n",
       "  <tbody>\n",
       "    <tr>\n",
       "      <th>1980-01-01</th>\n",
       "      <td>NaN</td>\n",
       "      <td>NaN</td>\n",
       "      <td>1980</td>\n",
       "      <td>1</td>\n",
       "      <td>Jan 01, 1980</td>\n",
       "    </tr>\n",
       "    <tr>\n",
       "      <th>1980-01-02</th>\n",
       "      <td>10.50</td>\n",
       "      <td>10.23</td>\n",
       "      <td>1980</td>\n",
       "      <td>1</td>\n",
       "      <td>Jan 02, 1980</td>\n",
       "    </tr>\n",
       "    <tr>\n",
       "      <th>1980-01-03</th>\n",
       "      <td>10.60</td>\n",
       "      <td>10.31</td>\n",
       "      <td>1980</td>\n",
       "      <td>1</td>\n",
       "      <td>Jan 03, 1980</td>\n",
       "    </tr>\n",
       "    <tr>\n",
       "      <th>1980-01-04</th>\n",
       "      <td>10.66</td>\n",
       "      <td>10.34</td>\n",
       "      <td>1980</td>\n",
       "      <td>1</td>\n",
       "      <td>Jan 04, 1980</td>\n",
       "    </tr>\n",
       "    <tr>\n",
       "      <th>1980-01-07</th>\n",
       "      <td>10.63</td>\n",
       "      <td>10.35</td>\n",
       "      <td>1980</td>\n",
       "      <td>1</td>\n",
       "      <td>Jan 07, 1980</td>\n",
       "    </tr>\n",
       "  </tbody>\n",
       "</table>\n",
       "</div>"
      ],
      "text/plain": [
       "            DGS10  DGS30  Year  Month          date\n",
       "DATE                                               \n",
       "1980-01-01    NaN    NaN  1980      1  Jan 01, 1980\n",
       "1980-01-02  10.50  10.23  1980      1  Jan 02, 1980\n",
       "1980-01-03  10.60  10.31  1980      1  Jan 03, 1980\n",
       "1980-01-04  10.66  10.34  1980      1  Jan 04, 1980\n",
       "1980-01-07  10.63  10.35  1980      1  Jan 07, 1980"
      ]
     },
     "execution_count": 276,
     "metadata": {},
     "output_type": "execute_result"
    }
   ],
   "source": [
    "both['Year'] = both.index.map(lambda x: x.year)\n",
    "both['Month'] = both.index.map(lambda x: x.month)\n",
    "both['date'] = both.index.strftime(\"%b %d, %Y\")\n",
    "both.head()"
   ]
  },
  {
   "cell_type": "markdown",
   "metadata": {},
   "source": [
    "### Saving and reading dataframes\n",
    "\n",
    "* To save or read in Colab, you need to \"mount\" your Google Drive.  Click on the file icon in the left toolbar and then click the Google drive icon.\n",
    "* pandas has pd.read_csv, pd.read_stata, pd.read_sas, and pd.read_excel functions."
   ]
  },
  {
   "cell_type": "code",
   "execution_count": 277,
   "metadata": {},
   "outputs": [],
   "source": [
    "both.to_csv('filename.csv')\n",
    "newboth = pd.read_csv('filename.csv')"
   ]
  },
  {
   "cell_type": "markdown",
   "metadata": {},
   "source": [
    "### Loops\n",
    "\n",
    "* A loop is a block of code that is executed repeatedly, for a given number of times (for loop) or until some condition is met (while loop).\n",
    "* It is not common to need a while loop.\n",
    "* On the other hand, zip and enumerate are often useful (especially zip) in for loops.\n",
    "* Indentation is again crucial.  "
   ]
  },
  {
   "cell_type": "code",
   "execution_count": 278,
   "metadata": {},
   "outputs": [
    {
     "name": "stdout",
     "output_type": "stream",
     "text": [
      "0\n",
      "1\n",
      "2\n",
      "3\n",
      "4\n"
     ]
    }
   ],
   "source": [
    "for i in range(5):\n",
    "    print(i)"
   ]
  },
  {
   "cell_type": "code",
   "execution_count": 279,
   "metadata": {},
   "outputs": [
    {
     "name": "stdout",
     "output_type": "stream",
     "text": [
      "a\n",
      "b\n",
      "c\n"
     ]
    }
   ],
   "source": [
    "for ltr in ['a', 'b', 'c']:\n",
    "    print(ltr)"
   ]
  },
  {
   "cell_type": "code",
   "execution_count": 280,
   "metadata": {},
   "outputs": [
    {
     "data": {
      "text/html": [
       "<div>\n",
       "<style scoped>\n",
       "    .dataframe tbody tr th:only-of-type {\n",
       "        vertical-align: middle;\n",
       "    }\n",
       "\n",
       "    .dataframe tbody tr th {\n",
       "        vertical-align: top;\n",
       "    }\n",
       "\n",
       "    .dataframe thead th {\n",
       "        text-align: right;\n",
       "    }\n",
       "</style>\n",
       "<table border=\"1\" class=\"dataframe\">\n",
       "  <thead>\n",
       "    <tr style=\"text-align: right;\">\n",
       "      <th></th>\n",
       "      <th>DGS10</th>\n",
       "      <th>DGS30</th>\n",
       "    </tr>\n",
       "    <tr>\n",
       "      <th>DATE</th>\n",
       "      <th></th>\n",
       "      <th></th>\n",
       "    </tr>\n",
       "  </thead>\n",
       "  <tbody>\n",
       "    <tr>\n",
       "      <th>1980-01-01</th>\n",
       "      <td>NaN</td>\n",
       "      <td>NaN</td>\n",
       "    </tr>\n",
       "    <tr>\n",
       "      <th>1980-01-02</th>\n",
       "      <td>10.50</td>\n",
       "      <td>10.23</td>\n",
       "    </tr>\n",
       "    <tr>\n",
       "      <th>1980-01-03</th>\n",
       "      <td>10.60</td>\n",
       "      <td>10.31</td>\n",
       "    </tr>\n",
       "    <tr>\n",
       "      <th>1980-01-04</th>\n",
       "      <td>10.66</td>\n",
       "      <td>10.34</td>\n",
       "    </tr>\n",
       "    <tr>\n",
       "      <th>1980-01-07</th>\n",
       "      <td>10.63</td>\n",
       "      <td>10.35</td>\n",
       "    </tr>\n",
       "  </tbody>\n",
       "</table>\n",
       "</div>"
      ],
      "text/plain": [
       "            DGS10  DGS30\n",
       "DATE                    \n",
       "1980-01-01    NaN    NaN\n",
       "1980-01-02  10.50  10.23\n",
       "1980-01-03  10.60  10.31\n",
       "1980-01-04  10.66  10.34\n",
       "1980-01-07  10.63  10.35"
      ]
     },
     "execution_count": 280,
     "metadata": {},
     "output_type": "execute_result"
    }
   ],
   "source": [
    "both5 = None\n",
    "for data in [treasury10, treasury30]:\n",
    "    both5 = pd.concat((both5, data), axis=1)\n",
    "both5.head()"
   ]
  },
  {
   "cell_type": "code",
   "execution_count": 281,
   "metadata": {},
   "outputs": [
    {
     "name": "stdout",
     "output_type": "stream",
     "text": [
      "a1\n",
      "b2\n",
      "c3\n"
     ]
    }
   ],
   "source": [
    "lst1 = ['a', 'b', 'c']\n",
    "lst2 = ['1', '2', '3']\n",
    "for a, b in zip(lst1, lst2):\n",
    "    print(a+b)"
   ]
  },
  {
   "cell_type": "code",
   "execution_count": 282,
   "metadata": {},
   "outputs": [
    {
     "name": "stdout",
     "output_type": "stream",
     "text": [
      "a1\n",
      "b2\n",
      "c3\n"
     ]
    }
   ],
   "source": [
    "for i, ltr in enumerate(lst1):\n",
    "    print(ltr+lst2[i])"
   ]
  },
  {
   "cell_type": "code",
   "execution_count": 283,
   "metadata": {},
   "outputs": [
    {
     "name": "stdout",
     "output_type": "stream",
     "text": [
      "0\n",
      "1\n",
      "2\n"
     ]
    }
   ],
   "source": [
    "i = 0\n",
    "while i<3:\n",
    "    print(i)\n",
    "    i = i + 1"
   ]
  },
  {
   "cell_type": "markdown",
   "metadata": {},
   "source": [
    "### Conditional execution\n",
    "\n",
    "* An indented block following an if statement is executed only if the condition evaluates to True.\n",
    "* Often but not always there is an else with another indented block following the if block.\n",
    "* There can also be one or more elif (else if) blocks based on additional conditions."
   ]
  },
  {
   "cell_type": "code",
   "execution_count": 284,
   "metadata": {},
   "outputs": [
    {
     "data": {
      "text/plain": [
       "'medium'"
      ]
     },
     "execution_count": 284,
     "metadata": {},
     "output_type": "execute_result"
    }
   ],
   "source": [
    "def f(number):\n",
    "    if number < 10:\n",
    "        return 'small' \n",
    "    elif number < 100:\n",
    "        return 'medium' \n",
    "    else:\n",
    "        return 'large' \n",
    "\n",
    "f(20)"
   ]
  },
  {
   "cell_type": "code",
   "execution_count": 222,
   "metadata": {},
   "outputs": [
    {
     "data": {
      "text/plain": [
       "'medium'"
      ]
     },
     "execution_count": 222,
     "metadata": {},
     "output_type": "execute_result"
    }
   ],
   "source": [
    "def g(number):\n",
    "    return 'small' if number<10 else ('medium' if number<100 else 'large')\n",
    "\n",
    "g(20)"
   ]
  }
 ],
 "metadata": {
  "kernelspec": {
   "display_name": "Python 3.10.3 64-bit",
   "language": "python",
   "name": "python3"
  },
  "language_info": {
   "codemirror_mode": {
    "name": "ipython",
    "version": 3
   },
   "file_extension": ".py",
   "mimetype": "text/x-python",
   "name": "python",
   "nbconvert_exporter": "python",
   "pygments_lexer": "ipython3",
   "version": "3.10.3"
  },
  "orig_nbformat": 4,
  "vscode": {
   "interpreter": {
    "hash": "a98f34b6005ae2330f135078450db511ef8910ecc790235ef0560aa88aa6ce12"
   }
  }
 },
 "nbformat": 4,
 "nbformat_minor": 2
}
