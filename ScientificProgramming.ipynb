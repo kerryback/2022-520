{
  "cells": [
    {
      "cell_type": "markdown",
      "metadata": {
        "id": "khhNALeloCLn"
      },
      "source": [
        "<a href=\"https://colab.research.google.com/github/kerryback/2022-BUSI520/blob/main/ScientificProgramming.ipynb\" target=\"_parent\"><img src=\"https://colab.research.google.com/assets/colab-badge.svg\" alt=\"Open In Colab\"/></a>"
      ]
    },
    {
      "cell_type": "code",
      "execution_count": 1,
      "metadata": {
        "id": "1nL_ioCWoCLr",
        "outputId": "872cb659-f100-43b9-fd57-73826c28749d",
        "colab": {
          "base_uri": "https://localhost:8080/"
        }
      },
      "outputs": [
        {
          "output_type": "stream",
          "name": "stdout",
          "text": [
            "Looking in indexes: https://pypi.org/simple, https://us-python.pkg.dev/colab-wheels/public/simple/\n",
            "Requirement already satisfied: pandas-datareader in /usr/local/lib/python3.7/dist-packages (0.10.0)\n",
            "Requirement already satisfied: requests>=2.19.0 in /usr/local/lib/python3.7/dist-packages (from pandas-datareader) (2.23.0)\n",
            "Requirement already satisfied: pandas>=0.23 in /usr/local/lib/python3.7/dist-packages (from pandas-datareader) (1.3.5)\n",
            "Requirement already satisfied: lxml in /usr/local/lib/python3.7/dist-packages (from pandas-datareader) (4.9.1)\n",
            "Requirement already satisfied: python-dateutil>=2.7.3 in /usr/local/lib/python3.7/dist-packages (from pandas>=0.23->pandas-datareader) (2.8.2)\n",
            "Requirement already satisfied: pytz>=2017.3 in /usr/local/lib/python3.7/dist-packages (from pandas>=0.23->pandas-datareader) (2022.2.1)\n",
            "Requirement already satisfied: numpy>=1.17.3 in /usr/local/lib/python3.7/dist-packages (from pandas>=0.23->pandas-datareader) (1.21.6)\n",
            "Requirement already satisfied: six>=1.5 in /usr/local/lib/python3.7/dist-packages (from python-dateutil>=2.7.3->pandas>=0.23->pandas-datareader) (1.15.0)\n",
            "Requirement already satisfied: idna<3,>=2.5 in /usr/local/lib/python3.7/dist-packages (from requests>=2.19.0->pandas-datareader) (2.10)\n",
            "Requirement already satisfied: chardet<4,>=3.0.2 in /usr/local/lib/python3.7/dist-packages (from requests>=2.19.0->pandas-datareader) (3.0.4)\n",
            "Requirement already satisfied: urllib3!=1.25.0,!=1.25.1,<1.26,>=1.21.1 in /usr/local/lib/python3.7/dist-packages (from requests>=2.19.0->pandas-datareader) (1.24.3)\n",
            "Requirement already satisfied: certifi>=2017.4.17 in /usr/local/lib/python3.7/dist-packages (from requests>=2.19.0->pandas-datareader) (2022.6.15)\n",
            "Looking in indexes: https://pypi.org/simple, https://us-python.pkg.dev/colab-wheels/public/simple/\n",
            "Requirement already satisfied: cvxopt in /usr/local/lib/python3.7/dist-packages (1.3.0)\n"
          ]
        }
      ],
      "source": [
        "!pip install --upgrade pandas-datareader\n",
        "!pip install cvxopt\n",
        "\n",
        "import numpy as np\n",
        "import pandas as pd\n",
        "from pandas_datareader import DataReader as pdr\n",
        "import matplotlib.pyplot as plt\n",
        "import seaborn as sns\n",
        "from scipy.stats import norm\n",
        "import statsmodels.formula.api as smf\n",
        "\n",
        "\n",
        "from scipy.optimize import minimize_scalar, minimize, fsolve\n",
        "from scipy.interpolate import interp1d\n",
        "from cvxopt.solvers import qp\n",
        "from cvxopt import matrix\n",
        "from statsmodels.tsa.arima_process import ArmaProcess"
      ]
    },
    {
      "cell_type": "code",
      "execution_count": 2,
      "metadata": {
        "id": "sJqu7KePoCLs",
        "outputId": "4e2f38ab-2a30-4cdb-8ffa-3e60785fca97",
        "colab": {
          "base_uri": "https://localhost:8080/",
          "height": 282
        }
      },
      "outputs": [
        {
          "output_type": "execute_result",
          "data": {
            "text/plain": [
              "[<matplotlib.lines.Line2D at 0x7f7068c86910>]"
            ]
          },
          "metadata": {},
          "execution_count": 2
        },
        {
          "output_type": "display_data",
          "data": {
            "text/plain": [
              "<Figure size 432x288 with 1 Axes>"
            ],
            "image/png": "[encoded data removed]"
          },
          "metadata": {
            "needs_background": "light"
          }
        }
      ],
      "source": [
        "lst = []\n",
        "thetas = np.linspace(-1,1,20)\n",
        "for theta in thetas:\n",
        "    result = minimize_scalar(lambda x: x**2-theta*x)\n",
        "    x = result.x if result.success else np.nan\n",
        "    lst.append(x)\n",
        "\n",
        "plt.plot(thetas, lst)"
      ]
    },
    {
      "cell_type": "markdown",
      "metadata": {
        "id": "vRAzTqFMoCLt"
      },
      "source": [
        "### Basic optimizaton"
      ]
    },
    {
      "cell_type": "code",
      "execution_count": 3,
      "metadata": {
        "id": "CeR7TvdcoCLt",
        "outputId": "4a9b2036-441d-49ad-b954-6b0e37888f40",
        "colab": {
          "base_uri": "https://localhost:8080/"
        }
      },
      "outputs": [
        {
          "output_type": "execute_result",
          "data": {
            "text/plain": [
              "2.0"
            ]
          },
          "metadata": {},
          "execution_count": 3
        }
      ],
      "source": [
        "\n",
        "\n",
        "result = minimize_scalar(lambda x: x**2 - 4*x)\n",
        "\n",
        "result\n",
        "result.x if result.success else np.nan"
      ]
    },
    {
      "cell_type": "code",
      "execution_count": 3,
      "metadata": {
        "id": "v0QwT0xUoCLu"
      },
      "outputs": [],
      "source": []
    },
    {
      "cell_type": "markdown",
      "metadata": {
        "id": "dXDJE13VoCLu"
      },
      "source": [
        "### Exercise\n",
        "\n",
        "For $\\theta$ in some grid, find the argmin of $x^2 - \\theta x$ and plot it versus $\\theta$."
      ]
    },
    {
      "cell_type": "markdown",
      "metadata": {
        "id": "c8wmpExdoCLv"
      },
      "source": [
        "### Multidimensional optimizaton"
      ]
    },
    {
      "cell_type": "code",
      "execution_count": 4,
      "metadata": {
        "id": "rg1d09sKoCLw",
        "outputId": "27800d89-dbd8-4981-8e4a-f52f8481b215",
        "colab": {
          "base_uri": "https://localhost:8080/"
        }
      },
      "outputs": [
        {
          "output_type": "stream",
          "name": "stdout",
          "text": [
            "[-2.66666698  9.33333375] [-2.66666672  9.33333336] [-2.66666672  9.33333336]\n"
          ]
        },
        {
          "output_type": "stream",
          "name": "stderr",
          "text": [
            "/usr/local/lib/python3.7/dist-packages/scipy/optimize/_minimize.py:528: RuntimeWarning: Method BFGS does not use Hessian information (hess).\n",
            "  RuntimeWarning)\n"
          ]
        }
      ],
      "source": [
        "A = np.identity(2)\n",
        "A[1, 0] = A[0, 1] = 0.5\n",
        "b = [-2, -8]\n",
        "\n",
        "def f(x):\n",
        "    return b @ x + 0.5 * x @ A @ x\n",
        "\n",
        "def f1(x):\n",
        "    return b + A @ x\n",
        "\n",
        "def f2(x):\n",
        "    return A\n",
        "\n",
        "result1 = minimize(f, x0 = np.zeros(2))\n",
        "result2 = minimize(f, x0=np.zeros(2), jac=f1)\n",
        "result3 = minimize(f, x0=np.zeros(2), jac=f1, hess=f2)\n",
        "\n",
        "print(result1.x, result2.x, result3.x)"
      ]
    },
    {
      "cell_type": "markdown",
      "metadata": {
        "id": "P_iyWdgJoCLx"
      },
      "source": [
        "### 3D plotting"
      ]
    },
    {
      "cell_type": "code",
      "execution_count": 5,
      "metadata": {
        "id": "dpxdjx_ioCLx"
      },
      "outputs": [],
      "source": [
        "def f(x, y):\n",
        "    u = np.array([x, y])\n",
        "    return b @ u + 0.5 * u @ A @ u\n",
        "\n",
        "x = np.linspace(-5, 5, 30)\n",
        "y = np.linspace(-3, 3, 30)\n",
        "X, Y = np.meshgrid(x, y)\n",
        "\n",
        "f = np.frompyfunc(f, 2, 1)\n",
        "\n",
        "Z = f(X, Y)"
      ]
    },
    {
      "cell_type": "code",
      "source": [
        "Z.shape"
      ],
      "metadata": {
        "id": "RHwlCRTboq-l",
        "outputId": "64e48f52-5ec5-4667-d330-70de444ebc74",
        "colab": {
          "base_uri": "https://localhost:8080/"
        }
      },
      "execution_count": 6,
      "outputs": [
        {
          "output_type": "execute_result",
          "data": {
            "text/plain": [
              "(30, 30)"
            ]
          },
          "metadata": {},
          "execution_count": 6
        }
      ]
    },
    {
      "cell_type": "code",
      "execution_count": 7,
      "metadata": {
        "id": "YEmPf7WLoCLy",
        "outputId": "3e62fd60-f9f7-48cd-fba3-bd27769ab1be",
        "colab": {
          "base_uri": "https://localhost:8080/",
          "height": 53
        }
      },
      "outputs": [
        {
          "output_type": "execute_result",
          "data": {
            "text/plain": [
              "\"\\nfig = plt.figure()\\nax = plt.axes(projection='3d')\\nim = ax.plot_surface(X, Y, Z, rstride=1, cstride=1, cmap='viridis', edgecolor='none')\\nplt.colorbar(im)\\n\""
            ],
            "application/vnd.google.colaboratory.intrinsic+json": {
              "type": "string"
            }
          },
          "metadata": {},
          "execution_count": 7
        }
      ],
      "source": [
        "\"\"\"\n",
        "fig = plt.figure()\n",
        "ax = plt.axes(projection='3d')\n",
        "im = ax.plot_surface(X, Y, Z, rstride=1, cstride=1, cmap='viridis', edgecolor='none')\n",
        "plt.colorbar(im)\n",
        "\"\"\"\n"
      ]
    },
    {
      "cell_type": "markdown",
      "metadata": {
        "id": "SykZy8-VoCLy"
      },
      "source": [
        "### Contour plot"
      ]
    },
    {
      "cell_type": "code",
      "execution_count": 8,
      "metadata": {
        "id": "KejVog6noCLz",
        "outputId": "d43576af-5685-45b0-c163-04fac4198df9",
        "colab": {
          "base_uri": "https://localhost:8080/",
          "height": 0
        }
      },
      "outputs": [
        {
          "output_type": "execute_result",
          "data": {
            "text/plain": [
              "<matplotlib.colorbar.Colorbar at 0x7f706850df50>"
            ]
          },
          "metadata": {},
          "execution_count": 8
        },
        {
          "output_type": "display_data",
          "data": {
            "text/plain": [
              "<Figure size 432x288 with 2 Axes>"
            ],
            "image/png": "[encoded data removed]"
          },
          "metadata": {
            "needs_background": "light"
          }
        }
      ],
      "source": [
        "im = plt.contourf(X, Y, Z, 20, cmap='viridis')\n",
        "plt.colorbar(im)"
      ]
    },
    {
      "cell_type": "markdown",
      "metadata": {
        "id": "uyPnQUNeoCLz"
      },
      "source": [
        "### Stock return data from Yahoo"
      ]
    },
    {
      "cell_type": "code",
      "execution_count": 9,
      "metadata": {
        "id": "-rsbinMxoCLz",
        "outputId": "4af7303d-ac2e-4420-b77d-6200dcf0c51e",
        "colab": {
          "base_uri": "https://localhost:8080/"
        }
      },
      "outputs": [
        {
          "output_type": "stream",
          "name": "stdout",
          "text": [
            "Looking in indexes: https://pypi.org/simple, https://us-python.pkg.dev/colab-wheels/public/simple/\n",
            "Requirement already satisfied: pandas-datareader in /usr/local/lib/python3.7/dist-packages (0.10.0)\n",
            "Requirement already satisfied: requests>=2.19.0 in /usr/local/lib/python3.7/dist-packages (from pandas-datareader) (2.23.0)\n",
            "Requirement already satisfied: lxml in /usr/local/lib/python3.7/dist-packages (from pandas-datareader) (4.9.1)\n",
            "Requirement already satisfied: pandas>=0.23 in /usr/local/lib/python3.7/dist-packages (from pandas-datareader) (1.3.5)\n",
            "Requirement already satisfied: numpy>=1.17.3 in /usr/local/lib/python3.7/dist-packages (from pandas>=0.23->pandas-datareader) (1.21.6)\n",
            "Requirement already satisfied: pytz>=2017.3 in /usr/local/lib/python3.7/dist-packages (from pandas>=0.23->pandas-datareader) (2022.2.1)\n",
            "Requirement already satisfied: python-dateutil>=2.7.3 in /usr/local/lib/python3.7/dist-packages (from pandas>=0.23->pandas-datareader) (2.8.2)\n",
            "Requirement already satisfied: six>=1.5 in /usr/local/lib/python3.7/dist-packages (from python-dateutil>=2.7.3->pandas>=0.23->pandas-datareader) (1.15.0)\n",
            "Requirement already satisfied: urllib3!=1.25.0,!=1.25.1,<1.26,>=1.21.1 in /usr/local/lib/python3.7/dist-packages (from requests>=2.19.0->pandas-datareader) (1.24.3)\n",
            "Requirement already satisfied: idna<3,>=2.5 in /usr/local/lib/python3.7/dist-packages (from requests>=2.19.0->pandas-datareader) (2.10)\n",
            "Requirement already satisfied: chardet<4,>=3.0.2 in /usr/local/lib/python3.7/dist-packages (from requests>=2.19.0->pandas-datareader) (3.0.4)\n",
            "Requirement already satisfied: certifi>=2017.4.17 in /usr/local/lib/python3.7/dist-packages (from requests>=2.19.0->pandas-datareader) (2022.6.15)\n"
          ]
        }
      ],
      "source": [
        "!pip install --upgrade pandas-datareader"
      ]
    },
    {
      "cell_type": "code",
      "execution_count": 10,
      "metadata": {
        "id": "dhwXhJfaoCLz",
        "outputId": "ce8e6855-2b23-463d-a633-a121670fb74f",
        "colab": {
          "base_uri": "https://localhost:8080/",
          "height": 237
        }
      },
      "outputs": [
        {
          "output_type": "execute_result",
          "data": {
            "text/plain": [
              "Symbols            SPY        IEF         LQD         GLD\n",
              "Date                                                     \n",
              "2017-09-29  230.543365  98.365326  104.402718  121.580002\n",
              "2017-10-02  231.543610  98.253418  104.500282  120.769997\n",
              "2017-10-03  232.039185  98.392136  104.733429  120.830002\n",
              "2017-10-04  232.314453  98.364410  104.672981  121.169998\n",
              "2017-10-05  233.690948  98.262657  104.526184  120.519997"
            ],
            "text/html": [
              "\n",
              "  <div id=\"df-a12001af-a548-4e53-8f89-9e26815f277d\">\n",
              "    <div class=\"colab-df-container\">\n",
              "      <div>\n",
              "<style scoped>\n",
              "    .dataframe tbody tr th:only-of-type {\n",
              "        vertical-align: middle;\n",
              "    }\n",
              "\n",
              "    .dataframe tbody tr th {\n",
              "        vertical-align: top;\n",
              "    }\n",
              "\n",
              "    .dataframe thead th {\n",
              "        text-align: right;\n",
              "    }\n",
              "</style>\n",
              "<table border=\"1\" class=\"dataframe\">\n",
              "  <thead>\n",
              "    <tr style=\"text-align: right;\">\n",
              "      <th>Symbols</th>\n",
              "      <th>SPY</th>\n",
              "      <th>IEF</th>\n",
              "      <th>LQD</th>\n",
              "      <th>GLD</th>\n",
              "    </tr>\n",
              "    <tr>\n",
              "      <th>Date</th>\n",
              "      <th></th>\n",
              "      <th></th>\n",
              "      <th></th>\n",
              "      <th></th>\n",
              "    </tr>\n",
              "  </thead>\n",
              "  <tbody>\n",
              "    <tr>\n",
              "      <th>2017-09-29</th>\n",
              "      <td>230.543365</td>\n",
              "      <td>98.365326</td>\n",
              "      <td>104.402718</td>\n",
              "      <td>121.580002</td>\n",
              "    </tr>\n",
              "    <tr>\n",
              "      <th>2017-10-02</th>\n",
              "      <td>231.543610</td>\n",
              "      <td>98.253418</td>\n",
              "      <td>104.500282</td>\n",
              "      <td>120.769997</td>\n",
              "    </tr>\n",
              "    <tr>\n",
              "      <th>2017-10-03</th>\n",
              "      <td>232.039185</td>\n",
              "      <td>98.392136</td>\n",
              "      <td>104.733429</td>\n",
              "      <td>120.830002</td>\n",
              "    </tr>\n",
              "    <tr>\n",
              "      <th>2017-10-04</th>\n",
              "      <td>232.314453</td>\n",
              "      <td>98.364410</td>\n",
              "      <td>104.672981</td>\n",
              "      <td>121.169998</td>\n",
              "    </tr>\n",
              "    <tr>\n",
              "      <th>2017-10-05</th>\n",
              "      <td>233.690948</td>\n",
              "      <td>98.262657</td>\n",
              "      <td>104.526184</td>\n",
              "      <td>120.519997</td>\n",
              "    </tr>\n",
              "  </tbody>\n",
              "</table>\n",
              "</div>\n",
              "      <button class=\"colab-df-convert\" onclick=\"convertToInteractive('df-a12001af-a548-4e53-8f89-9e26815f277d')\"\n",
              "              title=\"Convert this dataframe to an interactive table.\"\n",
              "              style=\"display:none;\">\n",
              "        \n",
              "  <svg xmlns=\"http://www.w3.org/2000/svg\" height=\"24px\"viewBox=\"0 0 24 24\"\n",
              "       width=\"24px\">\n",
              "    <path d=\"M0 0h24v24H0V0z\" fill=\"none\"/>\n",
              "    <path d=\"M18.56 5.44l.94 2.06.94-2.06 2.06-.94-2.06-.94-.94-2.06-.94 2.06-2.06.94zm-11 1L8.5 8.5l.94-2.06 2.06-.94-2.06-.94L8.5 2.5l-.94 2.06-2.06.94zm10 10l.94 2.06.94-2.06 2.06-.94-2.06-.94-.94-2.06-.94 2.06-2.06.94z\"/><path d=\"M17.41 7.96l-1.37-1.37c-.4-.4-.92-.59-1.43-.59-.52 0-1.04.2-1.43.59L10.3 9.45l-7.72 7.72c-.78.78-.78 2.05 0 2.83L4 21.41c.39.39.9.59 1.41.59.51 0 1.02-.2 1.41-.59l7.78-7.78 2.81-2.81c.8-.78.8-2.07 0-2.86zM5.41 20L4 18.59l7.72-7.72 1.47 1.35L5.41 20z\"/>\n",
              "  </svg>\n",
              "      </button>\n",
              "      \n",
              "  <style>\n",
              "    .colab-df-container {\n",
              "      display:flex;\n",
              "      flex-wrap:wrap;\n",
              "      gap: 12px;\n",
              "    }\n",
              "\n",
              "    .colab-df-convert {\n",
              "      background-color: #E8F0FE;\n",
              "      border: none;\n",
              "      border-radius: 50%;\n",
              "      cursor: pointer;\n",
              "      display: none;\n",
              "      fill: #1967D2;\n",
              "      height: 32px;\n",
              "      padding: 0 0 0 0;\n",
              "      width: 32px;\n",
              "    }\n",
              "\n",
              "    .colab-df-convert:hover {\n",
              "      background-color: #E2EBFA;\n",
              "      box-shadow: 0px 1px 2px rgba(60, 64, 67, 0.3), 0px 1px 3px 1px rgba(60, 64, 67, 0.15);\n",
              "      fill: #174EA6;\n",
              "    }\n",
              "\n",
              "    [theme=dark] .colab-df-convert {\n",
              "      background-color: #3B4455;\n",
              "      fill: #D2E3FC;\n",
              "    }\n",
              "\n",
              "    [theme=dark] .colab-df-convert:hover {\n",
              "      background-color: #434B5C;\n",
              "      box-shadow: 0px 1px 3px 1px rgba(0, 0, 0, 0.15);\n",
              "      filter: drop-shadow(0px 1px 2px rgba(0, 0, 0, 0.3));\n",
              "      fill: #FFFFFF;\n",
              "    }\n",
              "  </style>\n",
              "\n",
              "      <script>\n",
              "        const buttonEl =\n",
              "          document.querySelector('#df-a12001af-a548-4e53-8f89-9e26815f277d button.colab-df-convert');\n",
              "        buttonEl.style.display =\n",
              "          google.colab.kernel.accessAllowed ? 'block' : 'none';\n",
              "\n",
              "        async function convertToInteractive(key) {\n",
              "          const element = document.querySelector('#df-a12001af-a548-4e53-8f89-9e26815f277d');\n",
              "          const dataTable =\n",
              "            await google.colab.kernel.invokeFunction('convertToInteractive',\n",
              "                                                     [key], {});\n",
              "          if (!dataTable) return;\n",
              "\n",
              "          const docLinkHtml = 'Like what you see? Visit the ' +\n",
              "            '<a target=\"_blank\" href=https://colab.research.google.com/notebooks/data_table.ipynb>data table notebook</a>'\n",
              "            + ' to learn more about interactive tables.';\n",
              "          element.innerHTML = '';\n",
              "          dataTable['output_type'] = 'display_data';\n",
              "          await google.colab.output.renderOutput(dataTable, element);\n",
              "          const docLink = document.createElement('div');\n",
              "          docLink.innerHTML = docLinkHtml;\n",
              "          element.appendChild(docLink);\n",
              "        }\n",
              "      </script>\n",
              "    </div>\n",
              "  </div>\n",
              "  "
            ]
          },
          "metadata": {},
          "execution_count": 10
        }
      ],
      "source": [
        "prices = pdr(['SPY', 'IEF', 'LQD', 'GLD'], \"yahoo\")[\"Adj Close\"]\n",
        "prices.head()"
      ]
    },
    {
      "cell_type": "code",
      "execution_count": 11,
      "metadata": {
        "id": "jojIfd9aoCL0"
      },
      "outputs": [],
      "source": [
        "prices = pdr(['SPY', 'IEF', 'LQD', 'GLD'], \"yahoo\")[\"Adj Close\"]\n",
        "prices = prices.sort_index()\n",
        "prices = prices.resample(\"M\").last()\n",
        "rets = prices.pct_change()\n",
        "means = rets.mean().to_numpy()\n",
        "cov = rets.cov().to_numpy()"
      ]
    },
    {
      "cell_type": "markdown",
      "metadata": {
        "id": "jk3XFdnmoCL0"
      },
      "source": [
        "### Optimal portfolio\n",
        "\n",
        "$x_s \\geq 0$ is amount saved, $x_b \\geq 0$ is amount borrowed (both per \\$ invested).  Weights $w \\in \\mathbb{R}^n$ on risky assets.  Constraint is $x_s + 1_n^\\top w = 1 + x_b$.  Expected return is $x_s r_s + w^\\top \\mu - x_b r_b$.  Variance is $w^\\top C w$, where $\\mu=$ means and $C=$ covariance matrix.  \n",
        "\n",
        "Maximize mean - (1/2) * riskaver * variance.  Equivalently, minimize (1/2) * riskaver * variance - mean"
      ]
    },
    {
      "cell_type": "markdown",
      "metadata": {
        "id": "TVWSo38poCL0"
      },
      "source": [
        "### Quadratic programming\n",
        "\n",
        "minimize a quadratic objective\n",
        "\n",
        "$$p^\\top x + (1/2) x^\\top Q x$$\n",
        "\n",
        "subject to inequality constraints\n",
        "\n",
        "$$ Gx \\le h$$\n",
        "\n",
        "and equality constraints\n",
        "\n",
        "$$Ax = b$$\n",
        "\n",
        "for matrices $Q$, $G$, and $A$ and vectors $p$, $h$, and $b$."
      ]
    },
    {
      "cell_type": "code",
      "execution_count": 12,
      "metadata": {
        "id": "60In4eiooCL0"
      },
      "outputs": [],
      "source": [
        "C = cov\n",
        "raver = 4\n",
        "rs = 0.02\n",
        "rb = 0.05\n",
        "\n",
        "p = np.concatenate(([-rs, rb], -means))\n",
        "Q = np.zeros((6,6))\n",
        "Q[2:, 2:] = raver*C\n",
        "\n",
        "G = np.zeros((2, 6))\n",
        "G[0,0] = G[1,1] = -1\n",
        "h = np.zeros(2)\n",
        "\n",
        "A = np.concatenate(([1, -1], np.ones(4)))\n",
        "b = np.ones(1)"
      ]
    },
    {
      "cell_type": "markdown",
      "metadata": {
        "id": "pOc6w4-_oCL1"
      },
      "source": [
        "### Exercise\n",
        "\n",
        "Define the matrices and vectors for the portfolio choice problem."
      ]
    },
    {
      "cell_type": "markdown",
      "metadata": {
        "id": "Ots1kB9WoCL1"
      },
      "source": [
        "### Review: Working with numpy arrays"
      ]
    },
    {
      "cell_type": "code",
      "execution_count": 13,
      "metadata": {
        "id": "4s8FbEd0oCL1"
      },
      "outputs": [],
      "source": [
        "# means[1:]\n",
        "# means[1:3]\n",
        "# means[:-1]\n",
        "# means.shape\n",
        "\n",
        "# cov[:, :]\n",
        "# cov[1:, :]\n",
        "# cov[2:, 2:]\n",
        "# cov.shape\n",
        "\n",
        "# np.ones(3)\n",
        "# np.zeros(4)\n",
        "# np.zeros(mean.shape)\n",
        "# np.identity(3)\n",
        "# np.zeros((4, 4))\n",
        "# np.zeros(cov.shape)\n",
        "\n",
        "# x = np.empty_like(means)\n",
        "# x[0], x[1], x[2], x[3] = 3, 6, 5, 4\n",
        "# x\n",
        "\n"
      ]
    },
    {
      "cell_type": "markdown",
      "metadata": {
        "id": "UCIvQEPkoCL1"
      },
      "source": [
        "### Solving the portfolio choice problem\n",
        "\n",
        "Once we have the numpy arrays, use the following:"
      ]
    },
    {
      "cell_type": "code",
      "execution_count": 14,
      "metadata": {
        "id": "1Op5eHmjoCL1",
        "outputId": "d7f88138-a02d-4be0-bfbb-c876b246eae9",
        "colab": {
          "base_uri": "https://localhost:8080/"
        }
      },
      "outputs": [
        {
          "output_type": "stream",
          "name": "stdout",
          "text": [
            "     pcost       dcost       gap    pres   dres\n",
            " 0: -1.4319e-02  1.9034e-02  2e+00  1e+00  1e+00\n",
            " 1:  1.1228e-02 -6.8403e-02  8e-02  4e-02  4e-02\n",
            " 2: -5.6272e-02 -9.3449e-02  4e-02  2e-02  2e-02\n",
            " 3: -1.6207e-01 -2.2463e-01  6e-02  1e-13  1e-17\n",
            " 4: -1.7492e-01 -1.7632e-01  1e-03  6e-15  6e-18\n",
            " 5: -1.7502e-01 -1.7503e-01  1e-05  4e-16  7e-18\n",
            " 6: -1.7502e-01 -1.7502e-01  1e-07  4e-15  1e-17\n",
            "Optimal solution found.\n"
          ]
        },
        {
          "output_type": "execute_result",
          "data": {
            "text/plain": [
              "array([[ 1.70276429e+01],\n",
              "       [ 3.22107419e-07],\n",
              "       [-1.19736411e+00],\n",
              "       [-1.50115994e+01],\n",
              "       [ 4.43711082e-01],\n",
              "       [-2.62390209e-01]])"
            ]
          },
          "metadata": {},
          "execution_count": 14
        }
      ],
      "source": [
        "Q = matrix(Q, (6, 6))\n",
        "p = matrix(p, (6, 1))\n",
        "G = matrix(G, (2, 6))\n",
        "h = matrix(h, (2, 1))\n",
        "A = matrix(A, (1, 6))\n",
        "b = matrix(b, (1, 1))\n",
        "\n",
        "result = qp(Q, p, G, h, A, b)\n",
        "np.array(result[\"x\"])"
      ]
    },
    {
      "cell_type": "markdown",
      "metadata": {
        "id": "dZCgRTlUoCL2"
      },
      "source": [
        "### Solving linear equations\n",
        "\n",
        "Example: find w such that cov @ w = constant vector and np.sum(w) = 1."
      ]
    },
    {
      "cell_type": "code",
      "execution_count": 15,
      "metadata": {
        "id": "1UVlmIHBoCL2"
      },
      "outputs": [],
      "source": [
        "w = np.linalg.solve(cov, np.ones(4))\n",
        "w = w / np.sum(w)"
      ]
    },
    {
      "cell_type": "markdown",
      "metadata": {
        "id": "ZIqy7VgToCL2"
      },
      "source": [
        "### Solving nonlinear equations"
      ]
    },
    {
      "cell_type": "code",
      "execution_count": 17,
      "metadata": {
        "id": "AJ-nWAOfoCL2",
        "outputId": "c156e4a0-0a93-4f07-c2b9-e8903ad5d957",
        "colab": {
          "base_uri": "https://localhost:8080/"
        }
      },
      "outputs": [
        {
          "output_type": "stream",
          "name": "stdout",
          "text": [
            "[1.] [1.] [4.]\n"
          ]
        }
      ],
      "source": [
        "def f(x):\n",
        "    return x**2 - 5*x + 4\n",
        "\n",
        "def f1(x):\n",
        "    return 2*x - 5\n",
        "\n",
        "result1 = fsolve(f, x0=0)\n",
        "result2 = fsolve(f, x0=0, fprime=f1)\n",
        "result3 = fsolve(f, x0=6)\n",
        "print(result1, result2, result3)"
      ]
    },
    {
      "cell_type": "markdown",
      "metadata": {
        "id": "dDrRUto_oCL2"
      },
      "source": [
        "### Dynamic programming (cake-eating problem)\n",
        "\n",
        "maximize\n",
        "\n",
        "$$\\sum_{t=0}^\\infty \\delta^t \\sqrt{c_t}$$\n",
        "\n",
        "subject to\n",
        "\n",
        "$$\\sum_{t=0}^\\infty c_t  \\leq 1$$\n",
        "\n",
        "Dynamic programming: value function $v$, state variable $x$ with $x_{t+1} = x_t - c_t$, $x_0=1$.  Bellman equation:\n",
        "\n",
        "$$v(x) = \\max_{0 \\le c \\le x} \\sqrt{c} + \\delta v(x-c)$$"
      ]
    },
    {
      "cell_type": "markdown",
      "metadata": {
        "id": "zS8aphEGoCL3"
      },
      "source": [
        "### Value function iteration\n",
        "\n",
        "Start with an initial guess for $v$ on a grid.  Use it as the right-hand side of the Bellman equation.  Compute the max to get the left-hand side.  Use the new $v$ on the right-hand side and repeat until convergence."
      ]
    },
    {
      "cell_type": "code",
      "execution_count": 18,
      "metadata": {
        "id": "M0ZAPdWOoCL3"
      },
      "outputs": [],
      "source": [
        "\n",
        "delta = 0.9    # discount rate\n",
        "grid = np.linspace(0, 1, 100)\n"
      ]
    },
    {
      "cell_type": "markdown",
      "metadata": {
        "id": "PW73tel2oCL3"
      },
      "source": [
        "A small problem is that to compute the max, we want $v(x-c)$ defined for all $c\\leq x$, not just on the grid.  So, we interpolate linearly between grid points."
      ]
    },
    {
      "cell_type": "code",
      "execution_count": 19,
      "metadata": {
        "id": "8I1_6Xx-oCL3"
      },
      "outputs": [],
      "source": [
        "def rhs(v, x):\n",
        "\n",
        "    # extend v to be defined on [0,1]\n",
        "    v = interp1d(grid, v)\n",
        "\n",
        "    # write maximization objective as minimization objective\n",
        "    obj = lambda c: - np.sqrt(c) - delta * v(x-c)\n",
        "\n",
        "    # solve the minimization problem\n",
        "    result = minimize_scalar(obj, bounds=(0, x), method=\"bounded\")\n",
        "\n",
        "    # return the value at the optimum\n",
        "    return - result.fun"
      ]
    },
    {
      "cell_type": "markdown",
      "metadata": {
        "id": "YJLKVrPloCL3"
      },
      "source": [
        "Now we can define the contraction map."
      ]
    },
    {
      "cell_type": "code",
      "execution_count": 20,
      "metadata": {
        "id": "tR2WWI1SoCL4"
      },
      "outputs": [],
      "source": [
        "def cmap(v):\n",
        "   \n",
        "    # convert the rhs function to operate on an array (in x)\n",
        "    rhs_u = np.frompyfunc(lambda x: rhs(v,x), 1, 1)\n",
        "\n",
        "    # apply the rhs function to get the LHS of Bellman equation\n",
        "    newv = rhs_u(grid)\n",
        "\n",
        "    # return the new v and also how far apart the two v's are\n",
        "    return newv, np.mean((newv-v)**2)"
      ]
    },
    {
      "cell_type": "markdown",
      "metadata": {
        "id": "bkbsf5yKoCL4"
      },
      "source": [
        "We iterate on the contraction map until convergence."
      ]
    },
    {
      "cell_type": "code",
      "execution_count": 21,
      "metadata": {
        "id": "48reN7ZOoCL4",
        "outputId": "5c4f7c6e-92bb-4264-d33d-106f031f2791",
        "colab": {
          "base_uri": "https://localhost:8080/",
          "height": 0
        }
      },
      "outputs": [
        {
          "output_type": "execute_result",
          "data": {
            "text/plain": [
              "[<matplotlib.lines.Line2D at 0x7f7067e0d3d0>]"
            ]
          },
          "metadata": {},
          "execution_count": 21
        },
        {
          "output_type": "display_data",
          "data": {
            "text/plain": [
              "<Figure size 432x288 with 1 Axes>"
            ],
            "image/png": "[encoded data removed]"
          },
          "metadata": {
            "needs_background": "light"
          }
        }
      ],
      "source": [
        "# initialize the iteration\n",
        "v = np.zeros(len(grid))\n",
        "\n",
        "# set tolerance and maximum number of iterations\n",
        "tol = 1.0e-10\n",
        "maxiters = 100\n",
        "\n",
        "# initialize error and counter for iterations\n",
        "err = 1\n",
        "iter = 0\n",
        "\n",
        "# run the loop\n",
        "while (err > tol) and (iter < maxiters):\n",
        "    v, err = cmap(v)\n",
        "    iter += 1\n",
        "\n",
        "plt.plot(grid, v)"
      ]
    },
    {
      "cell_type": "markdown",
      "metadata": {
        "id": "VI0G2eNxoCL4"
      },
      "source": [
        "To find the optimal decisions at each grid point, we repeat some of the previous code.  optimum is just like rhs except that it returns the argmax instead of the value.  \n",
        "\n",
        "The analytic optimal policy is $$c^* = (1-\\delta^2)x.$$"
      ]
    },
    {
      "cell_type": "code",
      "execution_count": 22,
      "metadata": {
        "id": "C3TuMTaWoCL4",
        "outputId": "11e4f571-9e1a-43ea-efa9-22de72fc1de8",
        "colab": {
          "base_uri": "https://localhost:8080/",
          "height": 0
        }
      },
      "outputs": [
        {
          "output_type": "execute_result",
          "data": {
            "text/plain": [
              "<matplotlib.legend.Legend at 0x7f7067cfdd90>"
            ]
          },
          "metadata": {},
          "execution_count": 22
        },
        {
          "output_type": "display_data",
          "data": {
            "text/plain": [
              "<Figure size 432x288 with 1 Axes>"
            ],
            "image/png": "[encoded data removed]"
          },
          "metadata": {}
        }
      ],
      "source": [
        "def optimum(v, x):\n",
        "\n",
        "    # extend v to be defined on [0,1]\n",
        "    v = interp1d(grid, v)\n",
        "\n",
        "    # write maximization objective as minimization objective\n",
        "    obj = lambda c: - np.sqrt(c) - delta * v(x-c)\n",
        "\n",
        "    # solve the minimization problem\n",
        "    result = minimize_scalar(obj, bounds=(0, x), method=\"bounded\")\n",
        "\n",
        "    # return the optimal decision\n",
        "    return result.x\n",
        "\n",
        "# optimum_u = np.frompyfunc(lambda x: optimum(v, x), 1, 1)\n",
        "# c = optimum_u(grid)\n",
        "\n",
        "c = [optimum(v,x) for x in grid]\n",
        "\n",
        "cstar = (1-delta**2) * grid\n",
        "\n",
        "sns.set_style('whitegrid')\n",
        "plt.plot(grid, c, label=\"numeric\")\n",
        "plt.plot(grid, cstar, label=\"analytic\")\n",
        "plt.legend()"
      ]
    },
    {
      "cell_type": "markdown",
      "metadata": {
        "id": "vdFxkrYgoCL4"
      },
      "source": [
        "### Exercise\n",
        "\n",
        "Instead of stopping when err <= tol, just iterate $n$ times for $n \\in [20, 40, 60, 80, 100]$.  Plot the value function you compute for each $n$, all in the same figure with a legend.  Also, the true value function is known to be\n",
        "$$v^*(x) = \\frac{\\sqrt{x}}{\\sqrt{1-\\delta^2}}$$\n",
        "Plot it in the same figure."
      ]
    },
    {
      "cell_type": "markdown",
      "metadata": {
        "id": "oEx7rWj5oCL5"
      },
      "source": [
        "### Simulating a path of a geometric Brownian motion"
      ]
    },
    {
      "cell_type": "code",
      "execution_count": 23,
      "metadata": {
        "id": "SkpWh6f9oCL5",
        "outputId": "7dd0da79-fde8-4ca4-aa2f-13bfdffcee46",
        "colab": {
          "base_uri": "https://localhost:8080/",
          "height": 0
        }
      },
      "outputs": [
        {
          "output_type": "execute_result",
          "data": {
            "text/plain": [
              "[<matplotlib.lines.Line2D at 0x7f7067f06250>]"
            ]
          },
          "metadata": {},
          "execution_count": 23
        },
        {
          "output_type": "display_data",
          "data": {
            "text/plain": [
              "<Figure size 432x288 with 1 Axes>"
            ],
            "image/png": "[encoded data removed]"
          },
          "metadata": {}
        }
      ],
      "source": [
        "# parameters\n",
        "mu = 0.05\n",
        "sigma = 0.2\n",
        "logdrift = mu - 0.5*sigma**2\n",
        "X0 = 100\n",
        "\n",
        "# grid and Brownian shocks\n",
        "dt = 0.01\n",
        "grid = np.arange(dt, 1+dt, dt)\n",
        "dB = norm.rvs(loc=0, scale=np.sqrt(dt), size=len(grid))\n",
        "\n",
        "# geometric Brownian motion path\n",
        "X = X0 * np.exp(logdrift*grid + sigma*np.cumsum(dB))\n",
        "\n",
        "plt.plot(grid, X)"
      ]
    },
    {
      "cell_type": "markdown",
      "metadata": {
        "id": "_RQEn8JQoCL5"
      },
      "source": [
        "### Valuing a lookback call\n",
        "\n",
        "Let's compute $E[\\max(0, M-K)]$ where $M = max_{0 \\leq t \\leq T} X_t$.  Take $T=1$.  Start with the value at maturity for a single path."
      ]
    },
    {
      "cell_type": "code",
      "execution_count": 24,
      "metadata": {
        "id": "-gkVsgMAoCL5",
        "outputId": "f972b61e-6324-4170-f4cb-c09825a0b263",
        "colab": {
          "base_uri": "https://localhost:8080/"
        }
      },
      "outputs": [
        {
          "output_type": "execute_result",
          "data": {
            "text/plain": [
              "11.53065842983554"
            ]
          },
          "metadata": {},
          "execution_count": 24
        }
      ],
      "source": [
        "K = 110\n",
        "\n",
        "M = np.max(X)\n",
        "lookback = max(0, M-K)\n",
        "lookback"
      ]
    },
    {
      "cell_type": "markdown",
      "metadata": {
        "id": "g7LXNAO7oCL5"
      },
      "source": [
        "### Exercise\n",
        "\n",
        "1.  Write a loop to generate multiple paths and calculate the mean value of the lookback call at maturity.\n",
        "2.  Do it without a loop."
      ]
    },
    {
      "cell_type": "markdown",
      "metadata": {
        "id": "nujzTQY_oCL5"
      },
      "source": [
        "### AR(1) processes\n",
        "\n",
        "We will work with\n",
        "$$ x_t = \\phi x_{t-1} + u_t$$\n",
        "\n",
        "### Exercise\n",
        "\n",
        "Write a loop to simulate a path of $x$.  Plot it.\n",
        "\n",
        "### Here is an alternate way to simulate a path."
      ]
    },
    {
      "cell_type": "code",
      "execution_count": 25,
      "metadata": {
        "id": "VKvz1i14oCL5",
        "outputId": "fb50c613-8c0c-4a05-dbf0-cfa0eb77d0f6",
        "colab": {
          "base_uri": "https://localhost:8080/",
          "height": 282
        }
      },
      "outputs": [
        {
          "output_type": "execute_result",
          "data": {
            "text/plain": [
              "<matplotlib.axes._subplots.AxesSubplot at 0x7f7067cb4550>"
            ]
          },
          "metadata": {},
          "execution_count": 25
        },
        {
          "output_type": "display_data",
          "data": {
            "text/plain": [
              "<Figure size 432x288 with 1 Axes>"
            ],
            "image/png": "[encoded data removed]"
          },
          "metadata": {}
        }
      ],
      "source": [
        "phi, sigma_u = 0.9, 0.1\n",
        "\n",
        "ar = np.array([1, -phi])\n",
        "ma = np.array([1])\n",
        "AR1 = ArmaProcess(ar, ma)\n",
        "x = AR1.generate_sample(nsample=100, scale=sigma_u)\n",
        "x = pd.Series(x)\n",
        "x.plot()\n"
      ]
    },
    {
      "cell_type": "markdown",
      "metadata": {
        "id": "yX9INbU5oCL6"
      },
      "source": [
        "Here are the shocks $u$.  They should be white noise.  The last value will be NaN."
      ]
    },
    {
      "cell_type": "code",
      "execution_count": 33,
      "metadata": {
        "id": "x_utcF_poCL6",
        "outputId": "20d178b0-62a1-47bc-b4da-f75c556d62de",
        "colab": {
          "base_uri": "https://localhost:8080/",
          "height": 282
        }
      },
      "outputs": [
        {
          "output_type": "execute_result",
          "data": {
            "text/plain": [
              "<matplotlib.axes._subplots.AxesSubplot at 0x7f706503c890>"
            ]
          },
          "metadata": {},
          "execution_count": 33
        },
        {
          "output_type": "display_data",
          "data": {
            "text/plain": [
              "<Figure size 432x288 with 1 Axes>"
            ],
            "image/png": "[encoded data removed]"
          },
          "metadata": {}
        }
      ],
      "source": [
        "u = x.shift(-1) - phi*x\n",
        "u.plot()"
      ]
    },
    {
      "cell_type": "markdown",
      "metadata": {
        "id": "mB8N7FzUoCL6"
      },
      "source": [
        "### Stambaugh bias\n",
        "\n",
        "Predictive model with an AR(1) regressor:\n",
        "\n",
        "$$x_{t+1} = \\phi x_{t} + u_t$$\n",
        "$$y_t = \\beta x_t + v_t$$\n",
        "\n",
        "\n",
        "The series $(u_t, v_t)$ is iid in $t$ and joint normal with correlation $\\rho$."
      ]
    },
    {
      "cell_type": "markdown",
      "metadata": {
        "id": "vj7a1rhroCL6"
      },
      "source": [
        "Simulate $x$ and $u$."
      ]
    },
    {
      "cell_type": "code",
      "execution_count": 34,
      "metadata": {
        "id": "0UIYOtARoCL6"
      },
      "outputs": [],
      "source": [
        "phi, rho, beta, sigma_u, sigma_v = 0.9, -0.5, 0.5, 0.1, 0.2\n",
        "nsample = 100\n",
        "\n",
        "ar = np.array([1, -phi])\n",
        "ma = np.array([1])\n",
        "AR1 = ArmaProcess(ar, ma)\n",
        "x = AR1.generate_sample(nsample=nsample+1, scale=sigma_u)  \n",
        "x = pd.Series(x)\n",
        "u = x.shift(-1) - phi*x\n",
        "\n",
        "x = x.iloc[:-1]\n",
        "u = u.iloc[:-1]"
      ]
    },
    {
      "cell_type": "markdown",
      "metadata": {
        "id": "c1Bk1IYKoCL6"
      },
      "source": [
        "Simulate $v$ and $y$"
      ]
    },
    {
      "cell_type": "code",
      "execution_count": 35,
      "metadata": {
        "id": "nmnZcpgzoCL6"
      },
      "outputs": [],
      "source": [
        "e = norm.rvs(size=nsample)\n",
        "v = sigma_v * (rho*u/sigma_u + np.sqrt(1-rho**2)*e)\n",
        "\n",
        "y = beta*x + v"
      ]
    },
    {
      "cell_type": "markdown",
      "metadata": {
        "id": "4J4z3fQ7oCL6"
      },
      "source": [
        "Run regression"
      ]
    },
    {
      "cell_type": "code",
      "execution_count": 36,
      "metadata": {
        "id": "_RyMw7AVoCL7",
        "outputId": "2500ccb6-0372-48a7-8e8e-c6753e71d518",
        "colab": {
          "base_uri": "https://localhost:8080/"
        }
      },
      "outputs": [
        {
          "output_type": "execute_result",
          "data": {
            "text/plain": [
              "Intercept    0.013507\n",
              "x            0.574242\n",
              "dtype: float64"
            ]
          },
          "metadata": {},
          "execution_count": 36
        }
      ],
      "source": [
        "data = pd.concat((x, y), axis=1)\n",
        "data.columns = [\"x\", \"y\"]\n",
        "model = smf.ols(\"y ~ x\", data=data)\n",
        "result = model.fit()\n",
        "result.params"
      ]
    },
    {
      "cell_type": "markdown",
      "metadata": {
        "id": "c1dOpsBFoCL7"
      },
      "source": [
        "### Exercise\n",
        "\n",
        "Put the simulation and regression in a loop.  Run 1,000 times.  Save the betas.  Calculate the distribution and examine bias.  \n",
        "\n",
        "beta is result.params[\"x\"]"
      ]
    }
  ],
  "metadata": {
    "kernelspec": {
      "display_name": "Python 3.10.6 ('venv': venv)",
      "language": "python",
      "name": "python3"
    },
    "language_info": {
      "codemirror_mode": {
        "name": "ipython",
        "version": 3
      },
      "file_extension": ".py",
      "mimetype": "text/x-python",
      "name": "python",
      "nbconvert_exporter": "python",
      "pygments_lexer": "ipython3",
      "version": "3.10.6"
    },
    "orig_nbformat": 4,
    "vscode": {
      "interpreter": {
        "hash": "e9c182eb2c6b77cc7a6e636d1b5173df89a0a80b42c041014ee844b6f22ab6ab"
      }
    },
    "colab": {
      "provenance": []
    }
  },
  "nbformat": 4,
  "nbformat_minor": 0
}