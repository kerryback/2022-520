{
 "cells": [
  {
   "cell_type": "code",
   "execution_count": 36,
   "metadata": {},
   "outputs": [],
   "source": [
    "import pandas as pd\n",
    "import statsmodels.formula.api as smf\n",
    "from stargazer.stargazer import Stargazer"
   ]
  },
  {
   "cell_type": "markdown",
   "metadata": {},
   "source": [
    "### Code from Visualization notebook to create wages data frame"
   ]
  },
  {
   "cell_type": "code",
   "execution_count": 37,
   "metadata": {},
   "outputs": [
    {
     "data": {
      "text/html": [
       "<div>\n",
       "<style scoped>\n",
       "    .dataframe tbody tr th:only-of-type {\n",
       "        vertical-align: middle;\n",
       "    }\n",
       "\n",
       "    .dataframe tbody tr th {\n",
       "        vertical-align: top;\n",
       "    }\n",
       "\n",
       "    .dataframe thead th {\n",
       "        text-align: right;\n",
       "    }\n",
       "</style>\n",
       "<table border=\"1\" class=\"dataframe\">\n",
       "  <thead>\n",
       "    <tr style=\"text-align: right;\">\n",
       "      <th></th>\n",
       "      <th>wage</th>\n",
       "      <th>educ</th>\n",
       "      <th>exper</th>\n",
       "      <th>tenure</th>\n",
       "      <th>nonwhite</th>\n",
       "      <th>female</th>\n",
       "      <th>married</th>\n",
       "      <th>numdep</th>\n",
       "      <th>smsa</th>\n",
       "      <th>area</th>\n",
       "      <th>occup</th>\n",
       "    </tr>\n",
       "  </thead>\n",
       "  <tbody>\n",
       "    <tr>\n",
       "      <th>0</th>\n",
       "      <td>3.10</td>\n",
       "      <td>11</td>\n",
       "      <td>2</td>\n",
       "      <td>0</td>\n",
       "      <td>0</td>\n",
       "      <td>1</td>\n",
       "      <td>0</td>\n",
       "      <td>2</td>\n",
       "      <td>1</td>\n",
       "      <td>west</td>\n",
       "      <td>other</td>\n",
       "    </tr>\n",
       "    <tr>\n",
       "      <th>1</th>\n",
       "      <td>3.24</td>\n",
       "      <td>12</td>\n",
       "      <td>22</td>\n",
       "      <td>2</td>\n",
       "      <td>0</td>\n",
       "      <td>1</td>\n",
       "      <td>1</td>\n",
       "      <td>3</td>\n",
       "      <td>1</td>\n",
       "      <td>west</td>\n",
       "      <td>services</td>\n",
       "    </tr>\n",
       "    <tr>\n",
       "      <th>2</th>\n",
       "      <td>3.00</td>\n",
       "      <td>11</td>\n",
       "      <td>2</td>\n",
       "      <td>0</td>\n",
       "      <td>0</td>\n",
       "      <td>0</td>\n",
       "      <td>0</td>\n",
       "      <td>2</td>\n",
       "      <td>0</td>\n",
       "      <td>west</td>\n",
       "      <td>trade</td>\n",
       "    </tr>\n",
       "    <tr>\n",
       "      <th>3</th>\n",
       "      <td>6.00</td>\n",
       "      <td>8</td>\n",
       "      <td>44</td>\n",
       "      <td>28</td>\n",
       "      <td>0</td>\n",
       "      <td>0</td>\n",
       "      <td>1</td>\n",
       "      <td>0</td>\n",
       "      <td>1</td>\n",
       "      <td>west</td>\n",
       "      <td>other</td>\n",
       "    </tr>\n",
       "    <tr>\n",
       "      <th>4</th>\n",
       "      <td>5.30</td>\n",
       "      <td>12</td>\n",
       "      <td>7</td>\n",
       "      <td>2</td>\n",
       "      <td>0</td>\n",
       "      <td>0</td>\n",
       "      <td>1</td>\n",
       "      <td>1</td>\n",
       "      <td>0</td>\n",
       "      <td>west</td>\n",
       "      <td>other</td>\n",
       "    </tr>\n",
       "  </tbody>\n",
       "</table>\n",
       "</div>"
      ],
      "text/plain": [
       "   wage  educ  exper  tenure  nonwhite  female  married  numdep  smsa  area  \\\n",
       "0  3.10    11      2       0         0       1        0       2     1  west   \n",
       "1  3.24    12     22       2         0       1        1       3     1  west   \n",
       "2  3.00    11      2       0         0       0        0       2     0  west   \n",
       "3  6.00     8     44      28         0       0        1       0     1  west   \n",
       "4  5.30    12      7       2         0       0        1       1     0  west   \n",
       "\n",
       "      occup  \n",
       "0     other  \n",
       "1  services  \n",
       "2     trade  \n",
       "3     other  \n",
       "4     other  "
      ]
     },
     "execution_count": 37,
     "metadata": {},
     "output_type": "execute_result"
    }
   ],
   "source": [
    "from io import BytesIO\n",
    "from zipfile import ZipFile\n",
    "from urllib.request import urlopen\n",
    "    \n",
    "url = urlopen(\"https://www.cengage.com/aise/economics/wooldridge_3e_datasets/statafiles.zip\")\n",
    "\n",
    "with ZipFile(BytesIO(url.read())) as zipped:\n",
    "    file = zipped.open(\"WAGE1.DTA\")\n",
    "\n",
    "stata = pd.read_stata(file, iterator=True)\n",
    "wages = stata.read()\n",
    "\n",
    "wages['area'] = 0\n",
    "for i, col in enumerate(['northcen', 'south', 'west']):\n",
    "    wages['area'] += (i+1) * wages[col]\n",
    "wages['area'] = wages.area.map({0: 'northeast', 1: 'northcen', 2: 'south', 3: 'west'})\n",
    "\n",
    "occupations = wages.columns.to_list()[12:18] \n",
    "wages['occup'] = 0\n",
    "for i, col in enumerate(occupations):\n",
    "    wages['occup'] += (i+1) * wages[col]\n",
    "dct = {0: 'other'}\n",
    "dct.update({(i+1): occupations[i] for i in range(6)})\n",
    "wages['occup'] = wages.occup.map(dct)\n",
    "\n",
    "wages = wages[\n",
    "    [\n",
    "        'wage', \n",
    "        'educ', \n",
    "        'exper', \n",
    "        'tenure', \n",
    "        'nonwhite', \n",
    "        'female', \n",
    "        'married',\n",
    "        'numdep',\n",
    "        'smsa',\n",
    "        'area', \n",
    "        'occup'\n",
    "    ]\n",
    "]\n",
    "wages.head()"
   ]
  },
  {
   "cell_type": "markdown",
   "metadata": {},
   "source": [
    "### Basic regression"
   ]
  },
  {
   "cell_type": "code",
   "execution_count": 38,
   "metadata": {},
   "outputs": [],
   "source": [
    "model = smf.ols(\"wage ~ educ\", data=wages)\n",
    "result = model.fit()\n",
    "# result.summary()"
   ]
  },
  {
   "cell_type": "markdown",
   "metadata": {},
   "source": [
    "### Heteroskedasticity consistent standard errors"
   ]
  },
  {
   "cell_type": "code",
   "execution_count": 39,
   "metadata": {},
   "outputs": [],
   "source": [
    "model = smf.ols(\"wage ~ educ\", data=wages)\n",
    "result = model.fit(cov_type=\"HC3\")\n",
    "# result.summary()"
   ]
  },
  {
   "cell_type": "markdown",
   "metadata": {},
   "source": [
    "### Saving output to Excel"
   ]
  },
  {
   "cell_type": "code",
   "execution_count": 40,
   "metadata": {},
   "outputs": [],
   "source": [
    "excel = result.summary().tables[1]\n",
    "pd.DataFrame(excel).to_excel('table.xlsx', header=False, index=False)"
   ]
  },
  {
   "cell_type": "markdown",
   "metadata": {},
   "source": [
    "### Saving output to latex"
   ]
  },
  {
   "cell_type": "code",
   "execution_count": 41,
   "metadata": {},
   "outputs": [],
   "source": [
    "stargazer = Stargazer([result])\n",
    "tex = stargazer.render_latex()\n",
    "with open(\"table.tex\", \"w\") as file:\n",
    "    file.write(tex)\n",
    "\n",
    "# print(tex)"
   ]
  },
  {
   "cell_type": "markdown",
   "metadata": {},
   "source": [
    "### Multivariate"
   ]
  },
  {
   "cell_type": "code",
   "execution_count": 42,
   "metadata": {},
   "outputs": [],
   "source": [
    "model = smf.ols(\"wage ~ educ+exper+tenure+numdep\", data=wages)\n",
    "result = model.fit(cov_type=\"HC3\")\n",
    "# result.summary()\n"
   ]
  },
  {
   "cell_type": "markdown",
   "metadata": {},
   "source": [
    "### Dummy and Categorical Variables\n",
    "\n",
    "We could do C(area) and C(occup) but this is unnecessary for categorical text variables.  We might want to treat numdep as numerical, but using C(numdep) causes it to be treated as categorical (generating dummy variables)."
   ]
  },
  {
   "cell_type": "code",
   "execution_count": 43,
   "metadata": {},
   "outputs": [],
   "source": [
    "model = smf.ols(\n",
    "    \"wage ~ educ+exper+tenure+C(numdep)+female+nonwhite+married+smsa+area+occup\", \n",
    "    data=wages\n",
    ")\n",
    "result = model.fit(cov_type='HC3')\n",
    "# result.summary()"
   ]
  },
  {
   "cell_type": "code",
   "execution_count": 44,
   "metadata": {},
   "outputs": [],
   "source": [
    "stargazer = Stargazer([result])\n",
    "stargazer.covariate_order(\n",
    "    [\n",
    "        'educ', \n",
    "        'exper', \n",
    "        'tenure', \n",
    "        'female', \n",
    "        'nonwhite', \n",
    "        'married'\n",
    "    ]\n",
    ")\n",
    "tex = stargazer.render_latex()\n",
    "with open(\"table.tex\", \"w\") as file:\n",
    "    file.write(tex)\n",
    "\n",
    "# print(tex)"
   ]
  },
  {
   "cell_type": "markdown",
   "metadata": {},
   "source": [
    "### Multiple models"
   ]
  },
  {
   "cell_type": "code",
   "execution_count": 45,
   "metadata": {},
   "outputs": [],
   "source": [
    "mod1 = smf.ols(\n",
    "    \"wage ~ educ+C(numdep)+smsa+area+occup\", \n",
    "    data=wages\n",
    ")\n",
    "\n",
    "mod2 = smf.ols(\n",
    "    \"wage ~ educ+exper+tenure+C(numdep)+smsa+area+occup\", \n",
    "    data=wages\n",
    ")\n",
    "\n",
    "mod3 = smf.ols(\n",
    "    \"wage ~ educ+exper+tenure+female+nonwhite+married+C(numdep)+smsa+area+occup\", \n",
    "    data=wages\n",
    ")\n",
    "\n",
    "results = []\n",
    "for mod in [mod1, mod2, mod3]: \n",
    "    result = mod.fit(cov_type=\"HC3\")\n",
    "    results.append(result)\n",
    "\n",
    "stargazer = Stargazer(results)\n",
    "stargazer.covariate_order(\n",
    "    [\n",
    "        'educ', \n",
    "        'exper', \n",
    "        'tenure', \n",
    "        'female', \n",
    "        'nonwhite', \n",
    "        'married'\n",
    "    ]\n",
    ")\n",
    "tex = stargazer.render_latex()\n",
    "with open(\"table.tex\", \"w\") as file:\n",
    "    file.write(tex)\n",
    "\n",
    "# print(tex)"
   ]
  },
  {
   "cell_type": "markdown",
   "metadata": {},
   "source": [
    "### Logit"
   ]
  },
  {
   "cell_type": "code",
   "execution_count": 48,
   "metadata": {},
   "outputs": [
    {
     "name": "stdout",
     "output_type": "stream",
     "text": [
      "Optimization terminated successfully.\n",
      "         Current function value: 0.635312\n",
      "         Iterations 6\n"
     ]
    },
    {
     "data": {
      "text/html": [
       "<table class=\"simpletable\">\n",
       "<caption>Logit Regression Results</caption>\n",
       "<tr>\n",
       "  <th>Dep. Variable:</th>        <td>married</td>     <th>  No. Observations:  </th>  <td>   526</td>  \n",
       "</tr>\n",
       "<tr>\n",
       "  <th>Model:</th>                 <td>Logit</td>      <th>  Df Residuals:      </th>  <td>   523</td>  \n",
       "</tr>\n",
       "<tr>\n",
       "  <th>Method:</th>                 <td>MLE</td>       <th>  Df Model:          </th>  <td>     2</td>  \n",
       "</tr>\n",
       "<tr>\n",
       "  <th>Date:</th>            <td>Mon, 22 Aug 2022</td> <th>  Pseudo R-squ.:     </th>  <td>0.05103</td> \n",
       "</tr>\n",
       "<tr>\n",
       "  <th>Time:</th>                <td>08:37:13</td>     <th>  Log-Likelihood:    </th> <td> -334.17</td> \n",
       "</tr>\n",
       "<tr>\n",
       "  <th>converged:</th>             <td>True</td>       <th>  LL-Null:           </th> <td> -352.14</td> \n",
       "</tr>\n",
       "<tr>\n",
       "  <th>Covariance Type:</th>     <td>nonrobust</td>    <th>  LLR p-value:       </th> <td>1.571e-08</td>\n",
       "</tr>\n",
       "</table>\n",
       "<table class=\"simpletable\">\n",
       "<tr>\n",
       "      <td></td>         <th>coef</th>     <th>std err</th>      <th>z</th>      <th>P>|z|</th>  <th>[0.025</th>    <th>0.975]</th>  \n",
       "</tr>\n",
       "<tr>\n",
       "  <th>Intercept</th> <td>   -0.1671</td> <td>    0.250</td> <td>   -0.667</td> <td> 0.505</td> <td>   -0.658</td> <td>    0.324</td>\n",
       "</tr>\n",
       "<tr>\n",
       "  <th>wage</th>      <td>    0.1436</td> <td>    0.034</td> <td>    4.172</td> <td> 0.000</td> <td>    0.076</td> <td>    0.211</td>\n",
       "</tr>\n",
       "<tr>\n",
       "  <th>female</th>    <td>   -0.3854</td> <td>    0.194</td> <td>   -1.984</td> <td> 0.047</td> <td>   -0.766</td> <td>   -0.005</td>\n",
       "</tr>\n",
       "</table>"
      ],
      "text/plain": [
       "<class 'statsmodels.iolib.summary.Summary'>\n",
       "\"\"\"\n",
       "                           Logit Regression Results                           \n",
       "==============================================================================\n",
       "Dep. Variable:                married   No. Observations:                  526\n",
       "Model:                          Logit   Df Residuals:                      523\n",
       "Method:                           MLE   Df Model:                            2\n",
       "Date:                Mon, 22 Aug 2022   Pseudo R-squ.:                 0.05103\n",
       "Time:                        08:37:13   Log-Likelihood:                -334.17\n",
       "converged:                       True   LL-Null:                       -352.14\n",
       "Covariance Type:            nonrobust   LLR p-value:                 1.571e-08\n",
       "==============================================================================\n",
       "                 coef    std err          z      P>|z|      [0.025      0.975]\n",
       "------------------------------------------------------------------------------\n",
       "Intercept     -0.1671      0.250     -0.667      0.505      -0.658       0.324\n",
       "wage           0.1436      0.034      4.172      0.000       0.076       0.211\n",
       "female        -0.3854      0.194     -1.984      0.047      -0.766      -0.005\n",
       "==============================================================================\n",
       "\"\"\""
      ]
     },
     "execution_count": 48,
     "metadata": {},
     "output_type": "execute_result"
    }
   ],
   "source": [
    "model = smf.logit(\"married ~ wage+female\", data=wages)\n",
    "result = model.fit()\n",
    "stargazer = Stargazer([result])\n",
    "tex = stargazer.render_latex()\n",
    "with open(\"table.tex\", \"w\") as file:\n",
    "    file.write(tex)\n",
    "\n",
    "# result.summary()"
   ]
  },
  {
   "cell_type": "markdown",
   "metadata": {},
   "source": []
  },
  {
   "cell_type": "code",
   "execution_count": null,
   "metadata": {},
   "outputs": [],
   "source": []
  }
 ],
 "metadata": {
  "kernelspec": {
   "display_name": "Python 3.10.3 ('venv': venv)",
   "language": "python",
   "name": "python3"
  },
  "language_info": {
   "codemirror_mode": {
    "name": "ipython",
    "version": 3
   },
   "file_extension": ".py",
   "mimetype": "text/x-python",
   "name": "python",
   "nbconvert_exporter": "python",
   "pygments_lexer": "ipython3",
   "version": "3.10.3"
  },
  "orig_nbformat": 4,
  "vscode": {
   "interpreter": {
    "hash": "e9c182eb2c6b77cc7a6e636d1b5173df89a0a80b42c041014ee844b6f22ab6ab"
   }
  }
 },
 "nbformat": 4,
 "nbformat_minor": 2
}
