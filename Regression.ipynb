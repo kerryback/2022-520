{
  "cells": [
    {
      "cell_type": "markdown",
      "metadata": {
        "id": "view-in-github",
        "colab_type": "text"
      },
      "source": [
        "<a href=\"https://colab.research.google.com/github/kerryback/2022-BUSI520/blob/main/Regression.ipynb\" target=\"_parent\"><img src=\"https://colab.research.google.com/assets/colab-badge.svg\" alt=\"Open In Colab\"/></a>"
      ]
    },
    {
      "cell_type": "code",
      "execution_count": 3,
      "metadata": {
        "colab": {
          "base_uri": "https://localhost:8080/"
        },
        "id": "oFGV9ZevWxdW",
        "outputId": "229643e9-8c05-4e2e-e0d8-c293cb36746c"
      },
      "outputs": [
        {
          "output_type": "stream",
          "name": "stdout",
          "text": [
            "Looking in indexes: https://pypi.org/simple, https://us-python.pkg.dev/colab-wheels/public/simple/\n",
            "Collecting stargazer\n",
            "  Downloading stargazer-0.0.5-py3-none-any.whl (9.7 kB)\n",
            "Installing collected packages: stargazer\n",
            "Successfully installed stargazer-0.0.5\n"
          ]
        }
      ],
      "source": [
        "# uncomment and execute the following if necessary\n",
        "\n",
        "# !pip install stargazer"
      ]
    },
    {
      "cell_type": "code",
      "execution_count": 4,
      "metadata": {
        "id": "yWCBy6XRWxde"
      },
      "outputs": [],
      "source": [
        "import pandas as pd\n",
        "from stargazer.stargazer import Stargazer\n",
        "import statsmodels.formula.api as smf"
      ]
    },
    {
      "cell_type": "markdown",
      "metadata": {
        "id": "ht2gCfBpWxdf"
      },
      "source": [
        "### Example data\n",
        "\n",
        "We'll use the wage data set used in Wooldridge's Introductory Econometrics.  We could just go to the Cengage website and download and extract the zipfile in the usual way and then read the Stata file.  \n",
        "\n",
        "The data set comes with dummy variables.  That is not normally the way we encounter our data, so I've converted the categorical data back to categories."
      ]
    },
    {
      "cell_type": "code",
      "execution_count": 5,
      "metadata": {
        "colab": {
          "base_uri": "https://localhost:8080/",
          "height": 206
        },
        "id": "QF11UWvyWxdi",
        "outputId": "15b26c8d-b21e-4069-e2a9-fff3836a738a"
      },
      "outputs": [
        {
          "output_type": "execute_result",
          "data": {
            "text/plain": [
              "   wage  educ  exper  tenure  nonwhite  female  married  numdep  smsa  area  \\\n",
              "0  3.10    11      2       0         0       1        0       2     1  west   \n",
              "1  3.24    12     22       2         0       1        1       3     1  west   \n",
              "2  3.00    11      2       0         0       0        0       2     0  west   \n",
              "3  6.00     8     44      28         0       0        1       0     1  west   \n",
              "4  5.30    12      7       2         0       0        1       1     0  west   \n",
              "\n",
              "      occup occup_cat  \n",
              "0     other     other  \n",
              "1  services   servocc  \n",
              "2     trade     other  \n",
              "3     other   clerocc  \n",
              "4     other     other  "
            ],
            "text/html": [
              "\n",
              "  <div id=\"df-449f1595-6170-4c99-82ac-810819fb2ab7\">\n",
              "    <div class=\"colab-df-container\">\n",
              "      <div>\n",
              "<style scoped>\n",
              "    .dataframe tbody tr th:only-of-type {\n",
              "        vertical-align: middle;\n",
              "    }\n",
              "\n",
              "    .dataframe tbody tr th {\n",
              "        vertical-align: top;\n",
              "    }\n",
              "\n",
              "    .dataframe thead th {\n",
              "        text-align: right;\n",
              "    }\n",
              "</style>\n",
              "<table border=\"1\" class=\"dataframe\">\n",
              "  <thead>\n",
              "    <tr style=\"text-align: right;\">\n",
              "      <th></th>\n",
              "      <th>wage</th>\n",
              "      <th>educ</th>\n",
              "      <th>exper</th>\n",
              "      <th>tenure</th>\n",
              "      <th>nonwhite</th>\n",
              "      <th>female</th>\n",
              "      <th>married</th>\n",
              "      <th>numdep</th>\n",
              "      <th>smsa</th>\n",
              "      <th>area</th>\n",
              "      <th>occup</th>\n",
              "      <th>occup_cat</th>\n",
              "    </tr>\n",
              "  </thead>\n",
              "  <tbody>\n",
              "    <tr>\n",
              "      <th>0</th>\n",
              "      <td>3.10</td>\n",
              "      <td>11</td>\n",
              "      <td>2</td>\n",
              "      <td>0</td>\n",
              "      <td>0</td>\n",
              "      <td>1</td>\n",
              "      <td>0</td>\n",
              "      <td>2</td>\n",
              "      <td>1</td>\n",
              "      <td>west</td>\n",
              "      <td>other</td>\n",
              "      <td>other</td>\n",
              "    </tr>\n",
              "    <tr>\n",
              "      <th>1</th>\n",
              "      <td>3.24</td>\n",
              "      <td>12</td>\n",
              "      <td>22</td>\n",
              "      <td>2</td>\n",
              "      <td>0</td>\n",
              "      <td>1</td>\n",
              "      <td>1</td>\n",
              "      <td>3</td>\n",
              "      <td>1</td>\n",
              "      <td>west</td>\n",
              "      <td>services</td>\n",
              "      <td>servocc</td>\n",
              "    </tr>\n",
              "    <tr>\n",
              "      <th>2</th>\n",
              "      <td>3.00</td>\n",
              "      <td>11</td>\n",
              "      <td>2</td>\n",
              "      <td>0</td>\n",
              "      <td>0</td>\n",
              "      <td>0</td>\n",
              "      <td>0</td>\n",
              "      <td>2</td>\n",
              "      <td>0</td>\n",
              "      <td>west</td>\n",
              "      <td>trade</td>\n",
              "      <td>other</td>\n",
              "    </tr>\n",
              "    <tr>\n",
              "      <th>3</th>\n",
              "      <td>6.00</td>\n",
              "      <td>8</td>\n",
              "      <td>44</td>\n",
              "      <td>28</td>\n",
              "      <td>0</td>\n",
              "      <td>0</td>\n",
              "      <td>1</td>\n",
              "      <td>0</td>\n",
              "      <td>1</td>\n",
              "      <td>west</td>\n",
              "      <td>other</td>\n",
              "      <td>clerocc</td>\n",
              "    </tr>\n",
              "    <tr>\n",
              "      <th>4</th>\n",
              "      <td>5.30</td>\n",
              "      <td>12</td>\n",
              "      <td>7</td>\n",
              "      <td>2</td>\n",
              "      <td>0</td>\n",
              "      <td>0</td>\n",
              "      <td>1</td>\n",
              "      <td>1</td>\n",
              "      <td>0</td>\n",
              "      <td>west</td>\n",
              "      <td>other</td>\n",
              "      <td>other</td>\n",
              "    </tr>\n",
              "  </tbody>\n",
              "</table>\n",
              "</div>\n",
              "      <button class=\"colab-df-convert\" onclick=\"convertToInteractive('df-449f1595-6170-4c99-82ac-810819fb2ab7')\"\n",
              "              title=\"Convert this dataframe to an interactive table.\"\n",
              "              style=\"display:none;\">\n",
              "        \n",
              "  <svg xmlns=\"http://www.w3.org/2000/svg\" height=\"24px\"viewBox=\"0 0 24 24\"\n",
              "       width=\"24px\">\n",
              "    <path d=\"M0 0h24v24H0V0z\" fill=\"none\"/>\n",
              "    <path d=\"M18.56 5.44l.94 2.06.94-2.06 2.06-.94-2.06-.94-.94-2.06-.94 2.06-2.06.94zm-11 1L8.5 8.5l.94-2.06 2.06-.94-2.06-.94L8.5 2.5l-.94 2.06-2.06.94zm10 10l.94 2.06.94-2.06 2.06-.94-2.06-.94-.94-2.06-.94 2.06-2.06.94z\"/><path d=\"M17.41 7.96l-1.37-1.37c-.4-.4-.92-.59-1.43-.59-.52 0-1.04.2-1.43.59L10.3 9.45l-7.72 7.72c-.78.78-.78 2.05 0 2.83L4 21.41c.39.39.9.59 1.41.59.51 0 1.02-.2 1.41-.59l7.78-7.78 2.81-2.81c.8-.78.8-2.07 0-2.86zM5.41 20L4 18.59l7.72-7.72 1.47 1.35L5.41 20z\"/>\n",
              "  </svg>\n",
              "      </button>\n",
              "      \n",
              "  <style>\n",
              "    .colab-df-container {\n",
              "      display:flex;\n",
              "      flex-wrap:wrap;\n",
              "      gap: 12px;\n",
              "    }\n",
              "\n",
              "    .colab-df-convert {\n",
              "      background-color: #E8F0FE;\n",
              "      border: none;\n",
              "      border-radius: 50%;\n",
              "      cursor: pointer;\n",
              "      display: none;\n",
              "      fill: #1967D2;\n",
              "      height: 32px;\n",
              "      padding: 0 0 0 0;\n",
              "      width: 32px;\n",
              "    }\n",
              "\n",
              "    .colab-df-convert:hover {\n",
              "      background-color: #E2EBFA;\n",
              "      box-shadow: 0px 1px 2px rgba(60, 64, 67, 0.3), 0px 1px 3px 1px rgba(60, 64, 67, 0.15);\n",
              "      fill: #174EA6;\n",
              "    }\n",
              "\n",
              "    [theme=dark] .colab-df-convert {\n",
              "      background-color: #3B4455;\n",
              "      fill: #D2E3FC;\n",
              "    }\n",
              "\n",
              "    [theme=dark] .colab-df-convert:hover {\n",
              "      background-color: #434B5C;\n",
              "      box-shadow: 0px 1px 3px 1px rgba(0, 0, 0, 0.15);\n",
              "      filter: drop-shadow(0px 1px 2px rgba(0, 0, 0, 0.3));\n",
              "      fill: #FFFFFF;\n",
              "    }\n",
              "  </style>\n",
              "\n",
              "      <script>\n",
              "        const buttonEl =\n",
              "          document.querySelector('#df-449f1595-6170-4c99-82ac-810819fb2ab7 button.colab-df-convert');\n",
              "        buttonEl.style.display =\n",
              "          google.colab.kernel.accessAllowed ? 'block' : 'none';\n",
              "\n",
              "        async function convertToInteractive(key) {\n",
              "          const element = document.querySelector('#df-449f1595-6170-4c99-82ac-810819fb2ab7');\n",
              "          const dataTable =\n",
              "            await google.colab.kernel.invokeFunction('convertToInteractive',\n",
              "                                                     [key], {});\n",
              "          if (!dataTable) return;\n",
              "\n",
              "          const docLinkHtml = 'Like what you see? Visit the ' +\n",
              "            '<a target=\"_blank\" href=https://colab.research.google.com/notebooks/data_table.ipynb>data table notebook</a>'\n",
              "            + ' to learn more about interactive tables.';\n",
              "          element.innerHTML = '';\n",
              "          dataTable['output_type'] = 'display_data';\n",
              "          await google.colab.output.renderOutput(dataTable, element);\n",
              "          const docLink = document.createElement('div');\n",
              "          docLink.innerHTML = docLinkHtml;\n",
              "          element.appendChild(docLink);\n",
              "        }\n",
              "      </script>\n",
              "    </div>\n",
              "  </div>\n",
              "  "
            ]
          },
          "metadata": {},
          "execution_count": 5
        }
      ],
      "source": [
        "from io import BytesIO\n",
        "from zipfile import ZipFile\n",
        "from urllib.request import urlopen\n",
        "    \n",
        "url = urlopen(\"https://www.cengage.com/aise/economics/wooldridge_3e_datasets/statafiles.zip\")\n",
        "\n",
        "with ZipFile(BytesIO(url.read())) as zipped:\n",
        "    file = zipped.open(\"WAGE1.DTA\")\n",
        "stata = pd.read_stata(file, iterator=True)\n",
        "wages = stata.read()\n",
        "\n",
        "wages['area'] = 0\n",
        "for i, col in enumerate(['northcen', 'south', 'west']):\n",
        "    wages['area'] += (i+1) * wages[col]\n",
        "wages['area'] = wages.area.map({0: 'northeast', 1: 'northcen', 2: 'south', 3: 'west'})\n",
        "\n",
        "occupations = wages.columns.to_list()[12:18] \n",
        "wages['occup'] = 0\n",
        "for i, col in enumerate(occupations):\n",
        "    wages['occup'] += (i+1) * wages[col]\n",
        "dct = {0: 'other'}\n",
        "dct.update({(i+1): occupations[i] for i in range(6)})\n",
        "wages['occup'] = wages.occup.map(dct)\n",
        "\n",
        "occup_cats = ['profocc', 'servocc', 'clerocc']\n",
        "wages['occup_cat'] = 0\n",
        "for i, col in enumerate(occup_cats):\n",
        "    wages['occup_cat'] += (i+1) * wages[col]\n",
        "dct = {0: 'other'}\n",
        "dct.update({(i+1): occup_cats[i] for i in range(3)})\n",
        "wages['occup_cat'] = wages.occup_cat.map(dct)\n",
        "\n",
        "wages = wages[ \n",
        "    [ \n",
        "        \"wage\",\n",
        "        \"educ\",\n",
        "        \"exper\",\n",
        "        \"tenure\",\n",
        "        \"nonwhite\",\n",
        "        \"female\",\n",
        "        \"married\",\n",
        "        \"numdep\",\n",
        "        \"smsa\",\n",
        "        \"area\",\n",
        "        \"occup\",\n",
        "        \"occup_cat\",\n",
        "    ]\n",
        "]\n",
        "wages.head()"
      ]
    },
    {
      "cell_type": "markdown",
      "metadata": {
        "id": "GyD_cOOHWxdk"
      },
      "source": [
        "### Basic regression"
      ]
    },
    {
      "cell_type": "code",
      "execution_count": 6,
      "metadata": {
        "id": "bp_PfZX9Wxdk"
      },
      "outputs": [],
      "source": [
        "model = smf.ols(\"wage ~ educ\", data=wages)\n",
        "result = model.fit()\n",
        "# result.summary()"
      ]
    },
    {
      "cell_type": "markdown",
      "metadata": {
        "id": "PStiNRNsWxdl"
      },
      "source": [
        "### Heteroskedasticity consistent standard errors"
      ]
    },
    {
      "cell_type": "code",
      "execution_count": 7,
      "metadata": {
        "id": "R6gCI8o1Wxdl"
      },
      "outputs": [],
      "source": [
        "model = smf.ols(\"wage ~ educ\", data=wages)\n",
        "result = model.fit(cov_type=\"HC3\")\n",
        "# result.summary()"
      ]
    },
    {
      "cell_type": "markdown",
      "metadata": {
        "id": "C3KzuXvYWxdl"
      },
      "source": [
        "### Saving output to Excel"
      ]
    },
    {
      "cell_type": "code",
      "execution_count": 8,
      "metadata": {
        "id": "oQ7TIpx8Wxdm"
      },
      "outputs": [],
      "source": [
        "table = result.summary().tables[1]\n",
        "table = pd.DataFrame(table)\n",
        "table.to_excel('table.xlsx', header=False, index=False)"
      ]
    },
    {
      "cell_type": "markdown",
      "metadata": {
        "id": "l0SrpUfIWxdm"
      },
      "source": [
        "### Saving output to latex"
      ]
    },
    {
      "cell_type": "code",
      "execution_count": 9,
      "metadata": {
        "id": "nrdpb3IiWxdn"
      },
      "outputs": [],
      "source": [
        "stargazer = Stargazer([result])\n",
        "table = stargazer.render_latex()\n",
        "with open(\"table.tex\", \"w\") as file:\n",
        "    file.write(table)\n",
        "\n",
        "# print(table)"
      ]
    },
    {
      "cell_type": "markdown",
      "metadata": {
        "id": "m8VmGcBCWxdn"
      },
      "source": [
        "### Multivariate"
      ]
    },
    {
      "cell_type": "code",
      "execution_count": 10,
      "metadata": {
        "id": "183o5iR5Wxdn"
      },
      "outputs": [],
      "source": [
        "model = smf.ols(\"wage ~ educ + exper + tenure\", data=wages)\n",
        "result = model.fit(cov_type=\"HC3\")\n",
        "# result.summary()"
      ]
    },
    {
      "cell_type": "markdown",
      "metadata": {
        "id": "lOHEHMpdWxdo"
      },
      "source": [
        "### Dummy and Categorical Variables\n",
        "\n",
        "We could do C(area) and C(occup) but this is unnecessary for categorical text variables.  We might want to treat numdep as numerical, but using C(numdep) causes it to be treated as categorical (generating dummy variables)."
      ]
    },
    {
      "cell_type": "code",
      "execution_count": 11,
      "metadata": {
        "id": "ZW6N4MidWxdo"
      },
      "outputs": [],
      "source": [
        "model = smf.ols(\n",
        "    \"wage ~ educ+exper+tenure+C(numdep)+female+nonwhite+married+smsa+area+occup\", \n",
        "    data=wages\n",
        ")\n",
        "result = model.fit(cov_type='HC3')\n",
        "# result.summary()"
      ]
    },
    {
      "cell_type": "code",
      "execution_count": 12,
      "metadata": {
        "id": "zRgjZxdeWxdo"
      },
      "outputs": [],
      "source": [
        "stargazer = Stargazer([result])\n",
        "stargazer.covariate_order(\n",
        "    [\n",
        "        'educ', \n",
        "        'exper', \n",
        "        'tenure', \n",
        "        'female', \n",
        "        'nonwhite', \n",
        "        'married'\n",
        "    ]\n",
        ")\n",
        "tex = stargazer.render_latex()\n",
        "with open(\"table.tex\", \"w\") as file:\n",
        "    file.write(tex)\n",
        "\n",
        "# print(tex)"
      ]
    },
    {
      "cell_type": "markdown",
      "metadata": {
        "id": "tbSzgguVWxdp"
      },
      "source": [
        "### Interactions"
      ]
    },
    {
      "cell_type": "code",
      "execution_count": 13,
      "metadata": {
        "id": "_-qHV58sWxdp"
      },
      "outputs": [],
      "source": [
        "model = smf.ols(\n",
        "    \"wage ~ educ + exper + educ*exper + tenure + female + nonwhite + female*educ + nonwhite*educ + female*area\", \n",
        "    data=wages\n",
        ")\n",
        "result = model.fit(cov_type='HC3')\n",
        "# result.summary()"
      ]
    },
    {
      "cell_type": "markdown",
      "metadata": {
        "id": "oK_BFsbMWxdp"
      },
      "source": [
        "### Multiple models"
      ]
    },
    {
      "cell_type": "code",
      "execution_count": 14,
      "metadata": {
        "id": "_HUNz_8KWxdp"
      },
      "outputs": [],
      "source": [
        "mod1 = smf.ols(\n",
        "    \"wage ~ educ+C(numdep)+smsa+area+occup\", \n",
        "    data=wages\n",
        ")\n",
        "\n",
        "mod2 = smf.ols(\n",
        "    \"wage ~ educ+exper+tenure+C(numdep)+smsa+area+occup\", \n",
        "    data=wages\n",
        ")\n",
        "\n",
        "mod3 = smf.ols(\n",
        "    \"wage ~ educ+exper+tenure+female+nonwhite+married+C(numdep)+smsa+area+occup\", \n",
        "    data=wages\n",
        ")\n",
        "\n",
        "results = [mod.fit(cov_type=\"HC3\") for mod in [mod1, mod2, mod3]]\n",
        "\n",
        "stargazer = Stargazer(results)\n",
        "stargazer.covariate_order(\n",
        "    [\n",
        "        'educ', \n",
        "        'exper', \n",
        "        'tenure', \n",
        "        'female', \n",
        "        'nonwhite', \n",
        "        'married'\n",
        "    ]\n",
        ")\n",
        "tex = stargazer.render_latex()\n",
        "with open(\"table.tex\", \"w\") as file:\n",
        "    file.write(tex)\n",
        "\n",
        "# print(tex)"
      ]
    },
    {
      "cell_type": "markdown",
      "metadata": {
        "id": "BS5sl732Wxdq"
      },
      "source": [
        "### Logit"
      ]
    },
    {
      "cell_type": "code",
      "execution_count": 15,
      "metadata": {
        "colab": {
          "base_uri": "https://localhost:8080/"
        },
        "id": "DqiR20XGWxdq",
        "outputId": "064d8404-55d0-43f6-b425-5c5e5e6239ba"
      },
      "outputs": [
        {
          "output_type": "stream",
          "name": "stdout",
          "text": [
            "Optimization terminated successfully.\n",
            "         Current function value: 0.635312\n",
            "         Iterations 6\n"
          ]
        }
      ],
      "source": [
        "model = smf.logit(\"married ~ wage + female\", data=wages)\n",
        "result = model.fit()\n",
        "stargazer = Stargazer([result])\n",
        "tex = stargazer.render_latex()\n",
        "with open(\"table.tex\", \"w\") as file:\n",
        "    file.write(tex)\n",
        "\n",
        "# result.summary()"
      ]
    }
  ],
  "metadata": {
    "kernelspec": {
      "display_name": "Python 3.10.3 ('venv': venv)",
      "language": "python",
      "name": "python3"
    },
    "language_info": {
      "codemirror_mode": {
        "name": "ipython",
        "version": 3
      },
      "file_extension": ".py",
      "mimetype": "text/x-python",
      "name": "python",
      "nbconvert_exporter": "python",
      "pygments_lexer": "ipython3",
      "version": "3.10.3"
    },
    "orig_nbformat": 4,
    "vscode": {
      "interpreter": {
        "hash": "e9c182eb2c6b77cc7a6e636d1b5173df89a0a80b42c041014ee844b6f22ab6ab"
      }
    },
    "colab": {
      "provenance": [],
      "include_colab_link": true
    }
  },
  "nbformat": 4,
  "nbformat_minor": 0
}