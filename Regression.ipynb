{
  "cells": [
    {
      "cell_type": "markdown",
      "metadata": {
        "colab_type": "text",
        "id": "view-in-github"
      },
      "source": [
        "<a href=\"https://colab.research.google.com/github/kerryback/2022-BUSI520/blob/main/Regression.ipynb\" target=\"_parent\"><img src=\"https://colab.research.google.com/assets/colab-badge.svg\" alt=\"Open In Colab\"/></a>"
      ]
    },
    {
      "cell_type": "code",
      "execution_count": 47,
      "metadata": {
        "colab": {
          "base_uri": "https://localhost:8080/"
        },
        "id": "oFGV9ZevWxdW",
        "outputId": "229643e9-8c05-4e2e-e0d8-c293cb36746c"
      },
      "outputs": [],
      "source": [
        "# uncomment and execute the following if necessary\n",
        "\n",
        "# !pip install pystout"
      ]
    },
    {
      "cell_type": "code",
      "execution_count": 48,
      "metadata": {
        "id": "yWCBy6XRWxde"
      },
      "outputs": [],
      "source": [
        "import warnings\n",
        "warnings.simplefilter(action='ignore', category=FutureWarning)\n",
        "\n",
        "import pandas as pd\n",
        "from pystout import pystout\n",
        "import statsmodels.formula.api as smf"
      ]
    },
    {
      "cell_type": "markdown",
      "metadata": {
        "id": "ht2gCfBpWxdf"
      },
      "source": [
        "### Example data\n",
        "\n",
        "We'll use the wage data set used in Wooldridge's Introductory Econometrics.  We could just go to the Cengage website and download and extract the zipfile in the usual way and then read the Stata file.  \n",
        "\n",
        "The data set comes with dummy variables.  That is not normally the way we encounter our data, so I've converted the categorical data back to categories."
      ]
    },
    {
      "cell_type": "code",
      "execution_count": 49,
      "metadata": {
        "colab": {
          "base_uri": "https://localhost:8080/",
          "height": 206
        },
        "id": "QF11UWvyWxdi",
        "outputId": "15b26c8d-b21e-4069-e2a9-fff3836a738a"
      },
      "outputs": [
        {
          "data": {
            "text/html": [
              "<div>\n",
              "<style scoped>\n",
              "    .dataframe tbody tr th:only-of-type {\n",
              "        vertical-align: middle;\n",
              "    }\n",
              "\n",
              "    .dataframe tbody tr th {\n",
              "        vertical-align: top;\n",
              "    }\n",
              "\n",
              "    .dataframe thead th {\n",
              "        text-align: right;\n",
              "    }\n",
              "</style>\n",
              "<table border=\"1\" class=\"dataframe\">\n",
              "  <thead>\n",
              "    <tr style=\"text-align: right;\">\n",
              "      <th></th>\n",
              "      <th>wage</th>\n",
              "      <th>educ</th>\n",
              "      <th>exper</th>\n",
              "      <th>tenure</th>\n",
              "      <th>nonwhite</th>\n",
              "      <th>female</th>\n",
              "      <th>married</th>\n",
              "      <th>numdep</th>\n",
              "      <th>smsa</th>\n",
              "      <th>area</th>\n",
              "      <th>occup</th>\n",
              "      <th>occup_cat</th>\n",
              "    </tr>\n",
              "  </thead>\n",
              "  <tbody>\n",
              "    <tr>\n",
              "      <th>0</th>\n",
              "      <td>3.10</td>\n",
              "      <td>11</td>\n",
              "      <td>2</td>\n",
              "      <td>0</td>\n",
              "      <td>0</td>\n",
              "      <td>1</td>\n",
              "      <td>0</td>\n",
              "      <td>2</td>\n",
              "      <td>1</td>\n",
              "      <td>west</td>\n",
              "      <td>other</td>\n",
              "      <td>other</td>\n",
              "    </tr>\n",
              "    <tr>\n",
              "      <th>1</th>\n",
              "      <td>3.24</td>\n",
              "      <td>12</td>\n",
              "      <td>22</td>\n",
              "      <td>2</td>\n",
              "      <td>0</td>\n",
              "      <td>1</td>\n",
              "      <td>1</td>\n",
              "      <td>3</td>\n",
              "      <td>1</td>\n",
              "      <td>west</td>\n",
              "      <td>services</td>\n",
              "      <td>servocc</td>\n",
              "    </tr>\n",
              "    <tr>\n",
              "      <th>2</th>\n",
              "      <td>3.00</td>\n",
              "      <td>11</td>\n",
              "      <td>2</td>\n",
              "      <td>0</td>\n",
              "      <td>0</td>\n",
              "      <td>0</td>\n",
              "      <td>0</td>\n",
              "      <td>2</td>\n",
              "      <td>0</td>\n",
              "      <td>west</td>\n",
              "      <td>trade</td>\n",
              "      <td>other</td>\n",
              "    </tr>\n",
              "    <tr>\n",
              "      <th>3</th>\n",
              "      <td>6.00</td>\n",
              "      <td>8</td>\n",
              "      <td>44</td>\n",
              "      <td>28</td>\n",
              "      <td>0</td>\n",
              "      <td>0</td>\n",
              "      <td>1</td>\n",
              "      <td>0</td>\n",
              "      <td>1</td>\n",
              "      <td>west</td>\n",
              "      <td>other</td>\n",
              "      <td>clerocc</td>\n",
              "    </tr>\n",
              "    <tr>\n",
              "      <th>4</th>\n",
              "      <td>5.30</td>\n",
              "      <td>12</td>\n",
              "      <td>7</td>\n",
              "      <td>2</td>\n",
              "      <td>0</td>\n",
              "      <td>0</td>\n",
              "      <td>1</td>\n",
              "      <td>1</td>\n",
              "      <td>0</td>\n",
              "      <td>west</td>\n",
              "      <td>other</td>\n",
              "      <td>other</td>\n",
              "    </tr>\n",
              "  </tbody>\n",
              "</table>\n",
              "</div>"
            ],
            "text/plain": [
              "   wage  educ  exper  tenure  nonwhite  female  married  numdep  smsa  area  \\\n",
              "0  3.10    11      2       0         0       1        0       2     1  west   \n",
              "1  3.24    12     22       2         0       1        1       3     1  west   \n",
              "2  3.00    11      2       0         0       0        0       2     0  west   \n",
              "3  6.00     8     44      28         0       0        1       0     1  west   \n",
              "4  5.30    12      7       2         0       0        1       1     0  west   \n",
              "\n",
              "      occup occup_cat  \n",
              "0     other     other  \n",
              "1  services   servocc  \n",
              "2     trade     other  \n",
              "3     other   clerocc  \n",
              "4     other     other  "
            ]
          },
          "execution_count": 49,
          "metadata": {},
          "output_type": "execute_result"
        }
      ],
      "source": [
        "from io import BytesIO\n",
        "from zipfile import ZipFile\n",
        "from urllib.request import urlopen\n",
        "    \n",
        "url = urlopen(\"https://www.cengage.com/aise/economics/wooldridge_3e_datasets/statafiles.zip\")\n",
        "\n",
        "with ZipFile(BytesIO(url.read())) as zipped:\n",
        "    file = zipped.open(\"WAGE1.DTA\")\n",
        "stata = pd.read_stata(file, iterator=True)\n",
        "wages = stata.read()\n",
        "\n",
        "wages['area'] = 0\n",
        "for i, col in enumerate(['northcen', 'south', 'west']):\n",
        "    wages['area'] += (i+1) * wages[col]\n",
        "wages['area'] = wages.area.map({0: 'northeast', 1: 'northcen', 2: 'south', 3: 'west'})\n",
        "\n",
        "occupations = wages.columns.to_list()[12:18] \n",
        "wages['occup'] = 0\n",
        "for i, col in enumerate(occupations):\n",
        "    wages['occup'] += (i+1) * wages[col]\n",
        "dct = {0: 'other'}\n",
        "dct.update({(i+1): occupations[i] for i in range(6)})\n",
        "wages['occup'] = wages.occup.map(dct)\n",
        "\n",
        "occup_cats = ['profocc', 'servocc', 'clerocc']\n",
        "wages['occup_cat'] = 0\n",
        "for i, col in enumerate(occup_cats):\n",
        "    wages['occup_cat'] += (i+1) * wages[col]\n",
        "dct = {0: 'other'}\n",
        "dct.update({(i+1): occup_cats[i] for i in range(3)})\n",
        "wages['occup_cat'] = wages.occup_cat.map(dct)\n",
        "\n",
        "wages = wages[ \n",
        "    [ \n",
        "        \"wage\",\n",
        "        \"educ\",\n",
        "        \"exper\",\n",
        "        \"tenure\",\n",
        "        \"nonwhite\",\n",
        "        \"female\",\n",
        "        \"married\",\n",
        "        \"numdep\",\n",
        "        \"smsa\",\n",
        "        \"area\",\n",
        "        \"occup\",\n",
        "        \"occup_cat\",\n",
        "    ]\n",
        "]\n",
        "wages.head()"
      ]
    },
    {
      "cell_type": "markdown",
      "metadata": {
        "id": "GyD_cOOHWxdk"
      },
      "source": [
        "### Basic regression"
      ]
    },
    {
      "cell_type": "code",
      "execution_count": 50,
      "metadata": {
        "id": "bp_PfZX9Wxdk"
      },
      "outputs": [],
      "source": [
        "model = smf.ols(\"wage ~ educ\", data=wages)\n",
        "result = model.fit()\n",
        "# result.summary()"
      ]
    },
    {
      "cell_type": "markdown",
      "metadata": {
        "id": "PStiNRNsWxdl"
      },
      "source": [
        "### Heteroskedasticity consistent standard errors"
      ]
    },
    {
      "cell_type": "code",
      "execution_count": 51,
      "metadata": {
        "id": "R6gCI8o1Wxdl"
      },
      "outputs": [],
      "source": [
        "model = smf.ols(\"wage ~ educ\", data=wages)\n",
        "result = model.fit(cov_type=\"HC3\")\n",
        "# result.summary()"
      ]
    },
    {
      "cell_type": "markdown",
      "metadata": {
        "id": "C3KzuXvYWxdl"
      },
      "source": [
        "### Saving output to Excel"
      ]
    },
    {
      "cell_type": "code",
      "execution_count": 52,
      "metadata": {
        "id": "oQ7TIpx8Wxdm"
      },
      "outputs": [],
      "source": [
        "table = result.summary().tables[1]\n",
        "table = pd.DataFrame(table)\n",
        "table.to_excel('table.xlsx', header=False, index=False)"
      ]
    },
    {
      "cell_type": "markdown",
      "metadata": {
        "id": "m8VmGcBCWxdn"
      },
      "source": [
        "### Multivariate"
      ]
    },
    {
      "cell_type": "code",
      "execution_count": 53,
      "metadata": {
        "id": "183o5iR5Wxdn"
      },
      "outputs": [],
      "source": [
        "model = smf.ols(\"wage ~ educ + exper + tenure\", data=wages)\n",
        "result = model.fit(cov_type=\"HC3\")\n",
        "# result.summary()"
      ]
    },
    {
      "cell_type": "markdown",
      "metadata": {
        "id": "lOHEHMpdWxdo"
      },
      "source": [
        "### Dummy and Categorical Variables\n",
        "\n",
        "We could do C(area) and C(occup) but this is unnecessary for categorical text variables.  We might want to treat numdep as numerical, but using C(numdep) causes it to be treated as categorical (generating dummy variables)."
      ]
    },
    {
      "cell_type": "code",
      "execution_count": 54,
      "metadata": {
        "id": "ZW6N4MidWxdo"
      },
      "outputs": [],
      "source": [
        "model = smf.ols(\n",
        "    \"wage ~ educ+exper+tenure+C(numdep)+female+nonwhite+married+smsa+area+occup\", \n",
        "    data=wages\n",
        "    )\n",
        "result = model.fit(cov_type='HC3')\n",
        "# result.summary()"
      ]
    },
    {
      "cell_type": "code",
      "execution_count": 55,
      "metadata": {},
      "outputs": [
        {
          "name": "stderr",
          "output_type": "stream",
          "text": [
            "c:\\Users\\kerry\\Repos\\2022-BUSI520\\venv\\lib\\site-packages\\pystout\\pystout.py:377: FutureWarning: The frame.append method is deprecated and will be removed from pandas in a future version. Use pandas.concat instead.\n",
            "  options = options.append(pd.DataFrame([r],index=[value]))\n",
            "c:\\Users\\kerry\\Repos\\2022-BUSI520\\venv\\lib\\site-packages\\pystout\\pystout.py:377: FutureWarning: The frame.append method is deprecated and will be removed from pandas in a future version. Use pandas.concat instead.\n",
            "  options = options.append(pd.DataFrame([r],index=[value]))\n"
          ]
        }
      ],
      "source": [
        "pystout(\n",
        "    [result], \n",
        "    file=\"table.tex\",\n",
        "    endog_names = [\"wage\"],\n",
        "    exogvars=[\n",
        "        'educ', \n",
        "        'exper', \n",
        "        'tenure', \n",
        "        'female', \n",
        "        'nonwhite', \n",
        "        'married'\n",
        "        ],\n",
        "    stars={0.1: \"*\", 0.05: \"**\", 0.01: \"***\"},\n",
        "    addnotes=[\n",
        "        \"with urban/rural, geographic area, and occupation controls\",\n",
        "        \"$^*p<0.1$, $^{**}p<0.05$, $^{***}p<0.01$\",\n",
        "        ],\n",
        "    modstat={\"nobs\": \"Obs\", \"rsquared_adj\": \"Adj $R^2$\"},\n",
        "    title=\"Wage Equation\",\n",
        "    label=\"tab:wage\"\n",
        "\n",
        ")"
      ]
    },
    {
      "cell_type": "markdown",
      "metadata": {
        "id": "tbSzgguVWxdp"
      },
      "source": [
        "### Interactions"
      ]
    },
    {
      "cell_type": "code",
      "execution_count": 56,
      "metadata": {
        "id": "_-qHV58sWxdp"
      },
      "outputs": [],
      "source": [
        "model = smf.ols(\n",
        "    \"wage ~ educ + exper + educ*exper + tenure + female + nonwhite + female*educ + nonwhite*educ + female*area\", \n",
        "    data=wages\n",
        "    )\n",
        "result = model.fit(cov_type='HC3')\n",
        "# result.summary()"
      ]
    },
    {
      "cell_type": "markdown",
      "metadata": {
        "id": "oK_BFsbMWxdp"
      },
      "source": [
        "### Multiple models"
      ]
    },
    {
      "cell_type": "code",
      "execution_count": 57,
      "metadata": {
        "id": "_HUNz_8KWxdp"
      },
      "outputs": [
        {
          "name": "stderr",
          "output_type": "stream",
          "text": [
            "c:\\Users\\kerry\\Repos\\2022-BUSI520\\venv\\lib\\site-packages\\pystout\\pystout.py:377: FutureWarning: The frame.append method is deprecated and will be removed from pandas in a future version. Use pandas.concat instead.\n",
            "  options = options.append(pd.DataFrame([r],index=[value]))\n",
            "c:\\Users\\kerry\\Repos\\2022-BUSI520\\venv\\lib\\site-packages\\pystout\\pystout.py:377: FutureWarning: The frame.append method is deprecated and will be removed from pandas in a future version. Use pandas.concat instead.\n",
            "  options = options.append(pd.DataFrame([r],index=[value]))\n"
          ]
        }
      ],
      "source": [
        "mod1 = smf.ols(\n",
        "    \"wage ~ educ+C(numdep)+smsa+area+occup\", \n",
        "    data=wages\n",
        "    )\n",
        "\n",
        "mod2 = smf.ols(\n",
        "    \"wage ~ educ+exper+tenure+C(numdep)+smsa+area+occup\", \n",
        "    data=wages\n",
        "    )\n",
        "\n",
        "mod3 = smf.ols(\n",
        "    \"wage ~ educ+exper+tenure+female+nonwhite+married+C(numdep)+smsa+area+occup\", \n",
        "    data=wages\n",
        "    )\n",
        "\n",
        "pystout(\n",
        "    models=[mod.fit(cov_type=\"HC3\") for mod in [mod1, mod2, mod3]],\n",
        "    file=\"table.tex\",\n",
        "       exogvars=[\n",
        "        'educ', \n",
        "        'exper', \n",
        "        'tenure', \n",
        "        'female', \n",
        "        'nonwhite', \n",
        "        'married',\n",
        "        ],\n",
        "    stars={0.1: \"*\", 0.05: \"**\", 0.01: \"***\"},\n",
        "    addnotes=[\n",
        "        \"with number dependents, urban/rural, geographic area, and occupation controls\",\n",
        "        \"$^*p<0.1$, $^{**}p<0.05$, $^{***}p<0.01$\",\n",
        "        ],\n",
        "    modstat={\"nobs\": \"Obs\", \"rsquared_adj\": \"Adj $R^2$\"},\n",
        "    title=\"Wage Equation\",\n",
        "    label=\"tab:wage\"\n",
        "    )"
      ]
    },
    {
      "cell_type": "markdown",
      "metadata": {
        "id": "BS5sl732Wxdq"
      },
      "source": [
        "### Logit"
      ]
    },
    {
      "cell_type": "code",
      "execution_count": 59,
      "metadata": {
        "colab": {
          "base_uri": "https://localhost:8080/"
        },
        "id": "DqiR20XGWxdq",
        "outputId": "064d8404-55d0-43f6-b425-5c5e5e6239ba"
      },
      "outputs": [
        {
          "name": "stdout",
          "output_type": "stream",
          "text": [
            "Optimization terminated successfully.\n",
            "         Current function value: 0.635312\n",
            "         Iterations 6\n"
          ]
        }
      ],
      "source": [
        "model = smf.logit(\"married ~ wage + female\", data=wages)\n",
        "result = model.fit()\n",
        "# result.summary()"
      ]
    }
  ],
  "metadata": {
    "colab": {
      "include_colab_link": true,
      "provenance": []
    },
    "kernelspec": {
      "display_name": "Python 3.10.3 ('venv': venv)",
      "language": "python",
      "name": "python3"
    },
    "language_info": {
      "codemirror_mode": {
        "name": "ipython",
        "version": 3
      },
      "file_extension": ".py",
      "mimetype": "text/x-python",
      "name": "python",
      "nbconvert_exporter": "python",
      "pygments_lexer": "ipython3",
      "version": "3.10.3"
    },
    "orig_nbformat": 4,
    "vscode": {
      "interpreter": {
        "hash": "e9c182eb2c6b77cc7a6e636d1b5173df89a0a80b42c041014ee844b6f22ab6ab"
      }
    }
  },
  "nbformat": 4,
  "nbformat_minor": 0
}
