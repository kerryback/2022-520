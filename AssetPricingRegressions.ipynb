{
 "cells": [
  {
   "cell_type": "code",
   "execution_count": 45,
   "metadata": {},
   "outputs": [],
   "source": [
    "import numpy as np\n",
    "import pandas as pd\n",
    "from pandas_datareader import DataReader as pdr\n",
    "import matplotlib.pyplot as plt\n",
    "import seaborn as sns\n",
    "import statsmodels.formula.api as smf\n",
    "from statsmodels.regression.rolling import RollingOLS"
   ]
  },
  {
   "cell_type": "markdown",
   "metadata": {},
   "source": [
    "### Example data\n",
    "\n",
    "A small data set with acc=accruals and agr=asset growth, monthly data since 2010, roughly 2,000 stocks per month."
   ]
  },
  {
   "cell_type": "code",
   "execution_count": 46,
   "metadata": {},
   "outputs": [],
   "source": [
    "data = pd.read_csv(\"https://www.dropbox.com/s/012c6y4gxsxss6y/ghz.csv?dl=1\", parse_dates=[\"date\"])\n",
    "data.permno = data.permno.astype(int)\n",
    "data['date'] = data.date.dt.to_period('M')\n",
    "data = data.sort_values(by=['permno', 'date']).reset_index(drop=True)\n",
    "# data.head(3)"
   ]
  },
  {
   "cell_type": "markdown",
   "metadata": {},
   "source": [
    "### View cross-sections"
   ]
  },
  {
   "cell_type": "code",
   "execution_count": 47,
   "metadata": {},
   "outputs": [
    {
     "data": {
      "text/plain": [
       "'\\ndate = input(\"Input a date: \")\\ndf = data[data.date==date]\\nfig = plt.boxplot([df.acc, df.agr]) \\n'"
      ]
     },
     "execution_count": 47,
     "metadata": {},
     "output_type": "execute_result"
    }
   ],
   "source": [
    "\"\"\"\n",
    "date = input(\"Input a date: \")\n",
    "df = data[data.date==date]\n",
    "fig = plt.boxplot([df.acc, df.agr]) \n",
    "\"\"\""
   ]
  },
  {
   "cell_type": "markdown",
   "metadata": {},
   "source": [
    "### Standardize cross-sections"
   ]
  },
  {
   "cell_type": "code",
   "execution_count": 48,
   "metadata": {},
   "outputs": [],
   "source": [
    "data.agr = np.log(1+data.agr)\n",
    "\n",
    "def winsorize(ser):\n",
    "    return ser.clip(lower=ser.quantile(0.01), upper=ser.quantile(0.99))\n",
    "\n",
    "\n",
    "for char in [\"acc\", \"agr\"]:\n",
    "    data[char] = data.groupby(\"date\")[char].apply(winsorize)\n",
    "    data[char] = data.groupby(\"date\")[char].apply(lambda x: (x-x.mean()) / x.std())"
   ]
  },
  {
   "cell_type": "markdown",
   "metadata": {},
   "source": [
    "### Fama-MacBeth regressions"
   ]
  },
  {
   "cell_type": "code",
   "execution_count": 49,
   "metadata": {},
   "outputs": [],
   "source": [
    "def xreg(df):\n",
    "    model = smf.ols(\"ret ~ acc + agr\", data=df)\n",
    "    result = model.fit()\n",
    "    return result.params\n",
    "\n",
    "fm = data.groupby('date').apply(xreg)\n",
    "# fm.head(3)"
   ]
  },
  {
   "cell_type": "markdown",
   "metadata": {},
   "source": [
    "### t tests with Newey-West standard errors"
   ]
  },
  {
   "cell_type": "code",
   "execution_count": 50,
   "metadata": {},
   "outputs": [
    {
     "data": {
      "text/plain": [
       "'\\ntable = None\\nfor char in [\"acc\", \"agr\"]:\\n    result = ttest(char, data=fm)\\n    result.index = [char]\\n    table = pd.concat((table, result))\\n\\nprint(table.round(3).to_latex())\\n'"
      ]
     },
     "execution_count": 50,
     "metadata": {},
     "output_type": "execute_result"
    }
   ],
   "source": [
    "def ttest(name, data):\n",
    "    model = smf.ols(name + \" ~ 1\", data=data)\n",
    "    result = model.fit(cov_type='HAC', cov_kwds={\"kernel\": \"bartlett\", \"maxlags\": 12})\n",
    "    return result.summary2().tables[1]\n",
    "\n",
    "# ttest(\"acc\", data=fm)\n",
    "\n",
    "\"\"\"\n",
    "table = None\n",
    "for char in [\"acc\", \"agr\"]:\n",
    "    result = ttest(char, data=fm)\n",
    "    result.index = [char]\n",
    "    table = pd.concat((table, result))\n",
    "\n",
    "print(table.round(3).to_latex())\n",
    "\"\"\""
   ]
  },
  {
   "cell_type": "markdown",
   "metadata": {},
   "source": [
    "### Fama-MacBeth with linearmodels"
   ]
  },
  {
   "cell_type": "code",
   "execution_count": null,
   "metadata": {},
   "outputs": [],
   "source": []
  },
  {
   "cell_type": "markdown",
   "metadata": {},
   "source": [
    "### Fama-French factors"
   ]
  },
  {
   "cell_type": "code",
   "execution_count": 51,
   "metadata": {},
   "outputs": [],
   "source": [
    "ff = pdr(\"F-F_Research_Data_Factors\", \"famafrench\", start=2000)[0] / 100\n",
    "data = data.merge(ff, left_on='date', right_index=True, how=\"left\") \n",
    "data = data.rename(columns={\"Mkt-RF\": \"Mkt_RF\"})\n",
    "data[\"ret_RF\"] = data.ret - data.RF"
   ]
  },
  {
   "cell_type": "markdown",
   "metadata": {},
   "source": [
    "### Rolling window betas"
   ]
  },
  {
   "cell_type": "code",
   "execution_count": 52,
   "metadata": {},
   "outputs": [],
   "source": [
    "def rolling_betas(df):\n",
    "    n = df.shape[0]\n",
    "    if n >= 24:\n",
    "        data = df.set_index(\"date\") \n",
    "        model = RollingOLS.from_formula(\n",
    "            \"ret_RF ~ Mkt_RF + SMB + HML\",\n",
    "            window=min(n, 60),\n",
    "            min_nobs=24,\n",
    "            expanding=True,\n",
    "            data=data\n",
    "        )\n",
    "        result = model.fit()\n",
    "        return result.params[['Mkt_RF', 'SMB', 'HML']].dropna()\n",
    "    else:\n",
    "        pass\n",
    "    \n",
    "    \n",
    "betas = data.groupby(\"permno\").apply(rolling_betas)\n",
    "# betas.head(3)"
   ]
  },
  {
   "cell_type": "markdown",
   "metadata": {},
   "source": [
    "### Quantile sorts"
   ]
  },
  {
   "cell_type": "code",
   "execution_count": 53,
   "metadata": {},
   "outputs": [],
   "source": [
    "def decile(df, char):\n",
    "    deciles = pd.qcut(df[char], 10, labels=range(1,11))\n",
    "    return df.groupby(deciles).ret.mean()\n",
    "\n",
    "rets_acc = data.groupby(\"date\").apply(lambda d: decile(d, \"acc\"))\n",
    "rets_agr = data.groupby(\"date\").apply(lambda d: decile(d, \"agr\"))\n",
    "\n",
    "# rets_agr.head(3)"
   ]
  }
 ],
 "metadata": {
  "kernelspec": {
   "display_name": "Python 3.10.3 ('venv': venv)",
   "language": "python",
   "name": "python3"
  },
  "language_info": {
   "codemirror_mode": {
    "name": "ipython",
    "version": 3
   },
   "file_extension": ".py",
   "mimetype": "text/x-python",
   "name": "python",
   "nbconvert_exporter": "python",
   "pygments_lexer": "ipython3",
   "version": "3.10.3"
  },
  "orig_nbformat": 4,
  "vscode": {
   "interpreter": {
    "hash": "e9c182eb2c6b77cc7a6e636d1b5173df89a0a80b42c041014ee844b6f22ab6ab"
   }
  }
 },
 "nbformat": 4,
 "nbformat_minor": 2
}
