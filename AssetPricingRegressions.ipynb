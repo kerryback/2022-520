{
 "cells": [
  {
   "cell_type": "code",
   "execution_count": 71,
   "metadata": {},
   "outputs": [],
   "source": [
    "import pandas as pd\n",
    "from pandas_datareader import DataReader as pdr\n",
    "import statsmodels.formula.api as smf\n",
    "from statsmodels.regression.rolling import RollingOLS"
   ]
  },
  {
   "cell_type": "markdown",
   "metadata": {},
   "source": [
    "### Example data\n",
    "\n",
    "A small data set with acc=accruals and agr=asset growth, monthly data since 2010, roughly 2,000 stocks per month."
   ]
  },
  {
   "cell_type": "code",
   "execution_count": 65,
   "metadata": {},
   "outputs": [
    {
     "data": {
      "text/html": [
       "<div>\n",
       "<style scoped>\n",
       "    .dataframe tbody tr th:only-of-type {\n",
       "        vertical-align: middle;\n",
       "    }\n",
       "\n",
       "    .dataframe tbody tr th {\n",
       "        vertical-align: top;\n",
       "    }\n",
       "\n",
       "    .dataframe thead th {\n",
       "        text-align: right;\n",
       "    }\n",
       "</style>\n",
       "<table border=\"1\" class=\"dataframe\">\n",
       "  <thead>\n",
       "    <tr style=\"text-align: right;\">\n",
       "      <th></th>\n",
       "      <th>permno</th>\n",
       "      <th>date</th>\n",
       "      <th>ret</th>\n",
       "      <th>acc</th>\n",
       "      <th>agr</th>\n",
       "    </tr>\n",
       "  </thead>\n",
       "  <tbody>\n",
       "    <tr>\n",
       "      <th>0</th>\n",
       "      <td>10025</td>\n",
       "      <td>2012-10</td>\n",
       "      <td>0.055125</td>\n",
       "      <td>-0.028995</td>\n",
       "      <td>0.184931</td>\n",
       "    </tr>\n",
       "    <tr>\n",
       "      <th>1</th>\n",
       "      <td>10025</td>\n",
       "      <td>2012-11</td>\n",
       "      <td>-0.053652</td>\n",
       "      <td>-0.028995</td>\n",
       "      <td>0.184931</td>\n",
       "    </tr>\n",
       "    <tr>\n",
       "      <th>2</th>\n",
       "      <td>10025</td>\n",
       "      <td>2012-12</td>\n",
       "      <td>-0.020992</td>\n",
       "      <td>-0.028995</td>\n",
       "      <td>0.184931</td>\n",
       "    </tr>\n",
       "    <tr>\n",
       "      <th>3</th>\n",
       "      <td>10025</td>\n",
       "      <td>2013-01</td>\n",
       "      <td>0.086949</td>\n",
       "      <td>-0.028995</td>\n",
       "      <td>0.184931</td>\n",
       "    </tr>\n",
       "    <tr>\n",
       "      <th>4</th>\n",
       "      <td>10025</td>\n",
       "      <td>2013-02</td>\n",
       "      <td>0.095527</td>\n",
       "      <td>-0.028995</td>\n",
       "      <td>0.184931</td>\n",
       "    </tr>\n",
       "  </tbody>\n",
       "</table>\n",
       "</div>"
      ],
      "text/plain": [
       "   permno     date       ret       acc       agr\n",
       "0   10025  2012-10  0.055125 -0.028995  0.184931\n",
       "1   10025  2012-11 -0.053652 -0.028995  0.184931\n",
       "2   10025  2012-12 -0.020992 -0.028995  0.184931\n",
       "3   10025  2013-01  0.086949 -0.028995  0.184931\n",
       "4   10025  2013-02  0.095527 -0.028995  0.184931"
      ]
     },
     "execution_count": 65,
     "metadata": {},
     "output_type": "execute_result"
    }
   ],
   "source": [
    "data = pd.read_csv(\"https://www.dropbox.com/s/012c6y4gxsxss6y/ghz.csv?dl=1\", parse_dates=[\"date\"])\n",
    "data.permno = data.permno.astype(int)\n",
    "data['date'] = data.date.dt.to_period('M')\n",
    "data = data.sort_values(by=['permno', 'date']).reset_index(drop=True)\n",
    "data.head()"
   ]
  },
  {
   "cell_type": "markdown",
   "metadata": {},
   "source": [
    "### Fama-MacBeth regressions"
   ]
  },
  {
   "cell_type": "code",
   "execution_count": 66,
   "metadata": {},
   "outputs": [
    {
     "data": {
      "text/html": [
       "<div>\n",
       "<style scoped>\n",
       "    .dataframe tbody tr th:only-of-type {\n",
       "        vertical-align: middle;\n",
       "    }\n",
       "\n",
       "    .dataframe tbody tr th {\n",
       "        vertical-align: top;\n",
       "    }\n",
       "\n",
       "    .dataframe thead th {\n",
       "        text-align: right;\n",
       "    }\n",
       "</style>\n",
       "<table border=\"1\" class=\"dataframe\">\n",
       "  <thead>\n",
       "    <tr style=\"text-align: right;\">\n",
       "      <th></th>\n",
       "      <th>Intercept</th>\n",
       "      <th>acc</th>\n",
       "      <th>agr</th>\n",
       "    </tr>\n",
       "    <tr>\n",
       "      <th>date</th>\n",
       "      <th></th>\n",
       "      <th></th>\n",
       "      <th></th>\n",
       "    </tr>\n",
       "  </thead>\n",
       "  <tbody>\n",
       "    <tr>\n",
       "      <th>2010-01</th>\n",
       "      <td>-0.029367</td>\n",
       "      <td>0.021650</td>\n",
       "      <td>-0.011795</td>\n",
       "    </tr>\n",
       "    <tr>\n",
       "      <th>2010-02</th>\n",
       "      <td>0.040089</td>\n",
       "      <td>-0.052454</td>\n",
       "      <td>-0.003666</td>\n",
       "    </tr>\n",
       "    <tr>\n",
       "      <th>2010-03</th>\n",
       "      <td>0.081821</td>\n",
       "      <td>0.037491</td>\n",
       "      <td>-0.024873</td>\n",
       "    </tr>\n",
       "    <tr>\n",
       "      <th>2010-04</th>\n",
       "      <td>0.042478</td>\n",
       "      <td>-0.090209</td>\n",
       "      <td>-0.009522</td>\n",
       "    </tr>\n",
       "    <tr>\n",
       "      <th>2010-05</th>\n",
       "      <td>-0.074971</td>\n",
       "      <td>0.008434</td>\n",
       "      <td>0.005427</td>\n",
       "    </tr>\n",
       "  </tbody>\n",
       "</table>\n",
       "</div>"
      ],
      "text/plain": [
       "         Intercept       acc       agr\n",
       "date                                  \n",
       "2010-01  -0.029367  0.021650 -0.011795\n",
       "2010-02   0.040089 -0.052454 -0.003666\n",
       "2010-03   0.081821  0.037491 -0.024873\n",
       "2010-04   0.042478 -0.090209 -0.009522\n",
       "2010-05  -0.074971  0.008434  0.005427"
      ]
     },
     "execution_count": 66,
     "metadata": {},
     "output_type": "execute_result"
    }
   ],
   "source": [
    "def xreg(df):\n",
    "    model = smf.ols(\"ret ~ acc + agr\", data=df)\n",
    "    result = model.fit()\n",
    "    return result.params\n",
    "\n",
    "fm = data.groupby('date').apply(xreg)\n",
    "fm.head()"
   ]
  },
  {
   "cell_type": "markdown",
   "metadata": {},
   "source": [
    "### t tests with Newey-West standard errors"
   ]
  },
  {
   "cell_type": "code",
   "execution_count": 67,
   "metadata": {},
   "outputs": [
    {
     "name": "stdout",
     "output_type": "stream",
     "text": [
      "==============================================================================\n",
      "                 coef    std err          z      P>|z|      [0.025      0.975]\n",
      "------------------------------------------------------------------------------\n",
      "Intercept      0.0041      0.009      0.438      0.661      -0.014       0.022\n",
      "==============================================================================\n",
      "==============================================================================\n",
      "                 coef    std err          z      P>|z|      [0.025      0.975]\n",
      "------------------------------------------------------------------------------\n",
      "Intercept     -0.0028      0.002     -1.575      0.115      -0.006       0.001\n",
      "==============================================================================\n"
     ]
    }
   ],
   "source": [
    "def ttest(name, data):\n",
    "    model = smf.ols(name + \" ~ 1\", data=data)\n",
    "    result = model.fit(cov_type='HAC', cov_kwds={\"kernel\": \"bartlett\", \"maxlags\": 12})\n",
    "    return result.summary().tables[1]\n",
    "\n",
    "print(ttest('acc', data=fm))\n",
    "print(ttest('agr', data=fm))"
   ]
  },
  {
   "cell_type": "markdown",
   "metadata": {},
   "source": [
    "### Fama-French factors"
   ]
  },
  {
   "cell_type": "code",
   "execution_count": 68,
   "metadata": {},
   "outputs": [],
   "source": [
    "ff = pdr(\"F-F_Research_Data_Factors\", \"famafrench\", start=2000)[0] / 100\n",
    "data = data.merge(ff, left_on='date', right_index=True, how=\"left\") \n",
    "data = data.rename(columns={\"Mkt-RF\": \"Mkt_RF\"})\n",
    "data[\"ret_RF\"] = data.ret - data.RF"
   ]
  },
  {
   "cell_type": "markdown",
   "metadata": {},
   "source": [
    "### Rolling window betas"
   ]
  },
  {
   "cell_type": "code",
   "execution_count": 76,
   "metadata": {},
   "outputs": [
    {
     "data": {
      "text/html": [
       "<div>\n",
       "<style scoped>\n",
       "    .dataframe tbody tr th:only-of-type {\n",
       "        vertical-align: middle;\n",
       "    }\n",
       "\n",
       "    .dataframe tbody tr th {\n",
       "        vertical-align: top;\n",
       "    }\n",
       "\n",
       "    .dataframe thead th {\n",
       "        text-align: right;\n",
       "    }\n",
       "</style>\n",
       "<table border=\"1\" class=\"dataframe\">\n",
       "  <thead>\n",
       "    <tr style=\"text-align: right;\">\n",
       "      <th></th>\n",
       "      <th></th>\n",
       "      <th>Mkt_RF</th>\n",
       "      <th>SMB</th>\n",
       "      <th>HML</th>\n",
       "    </tr>\n",
       "    <tr>\n",
       "      <th>permno</th>\n",
       "      <th>date</th>\n",
       "      <th></th>\n",
       "      <th></th>\n",
       "      <th></th>\n",
       "    </tr>\n",
       "  </thead>\n",
       "  <tbody>\n",
       "    <tr>\n",
       "      <th rowspan=\"5\" valign=\"top\">10026</th>\n",
       "      <th>2011-12</th>\n",
       "      <td>0.174161</td>\n",
       "      <td>1.804534</td>\n",
       "      <td>-0.241938</td>\n",
       "    </tr>\n",
       "    <tr>\n",
       "      <th>2012-01</th>\n",
       "      <td>0.114215</td>\n",
       "      <td>1.730630</td>\n",
       "      <td>-0.122765</td>\n",
       "    </tr>\n",
       "    <tr>\n",
       "      <th>2012-02</th>\n",
       "      <td>0.125485</td>\n",
       "      <td>1.700585</td>\n",
       "      <td>-0.119297</td>\n",
       "    </tr>\n",
       "    <tr>\n",
       "      <th>2012-03</th>\n",
       "      <td>0.154238</td>\n",
       "      <td>1.604118</td>\n",
       "      <td>-0.050139</td>\n",
       "    </tr>\n",
       "    <tr>\n",
       "      <th>2012-04</th>\n",
       "      <td>0.136965</td>\n",
       "      <td>1.589787</td>\n",
       "      <td>-0.049729</td>\n",
       "    </tr>\n",
       "  </tbody>\n",
       "</table>\n",
       "</div>"
      ],
      "text/plain": [
       "                  Mkt_RF       SMB       HML\n",
       "permno date                                 \n",
       "10026  2011-12  0.174161  1.804534 -0.241938\n",
       "       2012-01  0.114215  1.730630 -0.122765\n",
       "       2012-02  0.125485  1.700585 -0.119297\n",
       "       2012-03  0.154238  1.604118 -0.050139\n",
       "       2012-04  0.136965  1.589787 -0.049729"
      ]
     },
     "execution_count": 76,
     "metadata": {},
     "output_type": "execute_result"
    }
   ],
   "source": [
    "def rolling_betas(df):\n",
    "    n = df.shape[0]\n",
    "    if n >= 24:\n",
    "        data = df.set_index(\"date\") \n",
    "        model = RollingOLS.from_formula(\n",
    "            \"ret_RF ~ Mkt_RF + SMB + HML\",\n",
    "            window=min(n, 60),\n",
    "            min_nobs=24,\n",
    "            expanding=True,\n",
    "            data=data\n",
    "        )\n",
    "        result = model.fit()\n",
    "        return result.params[['Mkt_RF', 'SMB', 'HML']].dropna()\n",
    "    else:\n",
    "        pass\n",
    "    \n",
    "    \n",
    "betas = data.groupby(\"permno\").apply(rolling_betas)\n",
    "betas.head()"
   ]
  },
  {
   "cell_type": "markdown",
   "metadata": {},
   "source": [
    "### Fama-MacBeth regressions on characteristics and betas\n",
    "\n",
    "You don't really want to do this, because there is a huge errors-in-variables problem."
   ]
  },
  {
   "cell_type": "code",
   "execution_count": null,
   "metadata": {},
   "outputs": [],
   "source": []
  },
  {
   "cell_type": "code",
   "execution_count": 77,
   "metadata": {},
   "outputs": [
    {
     "data": {
      "text/html": [
       "<div>\n",
       "<style scoped>\n",
       "    .dataframe tbody tr th:only-of-type {\n",
       "        vertical-align: middle;\n",
       "    }\n",
       "\n",
       "    .dataframe tbody tr th {\n",
       "        vertical-align: top;\n",
       "    }\n",
       "\n",
       "    .dataframe thead th {\n",
       "        text-align: right;\n",
       "    }\n",
       "</style>\n",
       "<table border=\"1\" class=\"dataframe\">\n",
       "  <thead>\n",
       "    <tr style=\"text-align: right;\">\n",
       "      <th></th>\n",
       "      <th>Intercept</th>\n",
       "      <th>acc</th>\n",
       "      <th>agr</th>\n",
       "      <th>beta_Mkt_RF</th>\n",
       "      <th>beta_SMB</th>\n",
       "      <th>beta_HML</th>\n",
       "    </tr>\n",
       "    <tr>\n",
       "      <th>date</th>\n",
       "      <th></th>\n",
       "      <th></th>\n",
       "      <th></th>\n",
       "      <th></th>\n",
       "      <th></th>\n",
       "      <th></th>\n",
       "    </tr>\n",
       "  </thead>\n",
       "  <tbody>\n",
       "    <tr>\n",
       "      <th>2011-12</th>\n",
       "      <td>0.023291</td>\n",
       "      <td>-0.019703</td>\n",
       "      <td>-0.012003</td>\n",
       "      <td>-0.016053</td>\n",
       "      <td>-0.008991</td>\n",
       "      <td>0.021857</td>\n",
       "    </tr>\n",
       "    <tr>\n",
       "      <th>2012-01</th>\n",
       "      <td>-0.021065</td>\n",
       "      <td>0.018477</td>\n",
       "      <td>0.012990</td>\n",
       "      <td>0.070754</td>\n",
       "      <td>0.028548</td>\n",
       "      <td>-0.004710</td>\n",
       "    </tr>\n",
       "    <tr>\n",
       "      <th>2012-02</th>\n",
       "      <td>0.013333</td>\n",
       "      <td>-0.065099</td>\n",
       "      <td>-0.002168</td>\n",
       "      <td>0.029940</td>\n",
       "      <td>-0.019291</td>\n",
       "      <td>0.009224</td>\n",
       "    </tr>\n",
       "    <tr>\n",
       "      <th>2012-03</th>\n",
       "      <td>0.026480</td>\n",
       "      <td>0.008151</td>\n",
       "      <td>-0.012212</td>\n",
       "      <td>0.002125</td>\n",
       "      <td>-0.010058</td>\n",
       "      <td>0.014605</td>\n",
       "    </tr>\n",
       "    <tr>\n",
       "      <th>2012-04</th>\n",
       "      <td>0.026504</td>\n",
       "      <td>0.077710</td>\n",
       "      <td>-0.011132</td>\n",
       "      <td>-0.029257</td>\n",
       "      <td>-0.008745</td>\n",
       "      <td>-0.008338</td>\n",
       "    </tr>\n",
       "  </tbody>\n",
       "</table>\n",
       "</div>"
      ],
      "text/plain": [
       "         Intercept       acc       agr  beta_Mkt_RF  beta_SMB  beta_HML\n",
       "date                                                                   \n",
       "2011-12   0.023291 -0.019703 -0.012003    -0.016053 -0.008991  0.021857\n",
       "2012-01  -0.021065  0.018477  0.012990     0.070754  0.028548 -0.004710\n",
       "2012-02   0.013333 -0.065099 -0.002168     0.029940 -0.019291  0.009224\n",
       "2012-03   0.026480  0.008151 -0.012212     0.002125 -0.010058  0.014605\n",
       "2012-04   0.026504  0.077710 -0.011132    -0.029257 -0.008745 -0.008338"
      ]
     },
     "execution_count": 77,
     "metadata": {},
     "output_type": "execute_result"
    }
   ],
   "source": [
    "betas.columns = ['beta_' + c for c in betas.columns]\n",
    "data = data.merge(betas, left_on=[\"permno\", \"date\"], right_index=True, how=\"inner\")\n",
    "\n",
    "def xreg(df):\n",
    "    model = smf.ols(\"ret ~ acc + agr + beta_Mkt_RF + beta_SMB + beta_HML\", data=df)\n",
    "    result = model.fit()\n",
    "    return result.params\n",
    "\n",
    "fm = data.groupby('date').apply(xreg)\n",
    "fm.head()"
   ]
  },
  {
   "cell_type": "code",
   "execution_count": 78,
   "metadata": {},
   "outputs": [
    {
     "name": "stdout",
     "output_type": "stream",
     "text": [
      "acc\n",
      "==============================================================================\n",
      "                 coef    std err          z      P>|z|      [0.025      0.975]\n",
      "------------------------------------------------------------------------------\n",
      "Intercept      0.0257      0.008      3.090      0.002       0.009       0.042\n",
      "==============================================================================\n",
      "agr\n",
      "==============================================================================\n",
      "                 coef    std err          z      P>|z|      [0.025      0.975]\n",
      "------------------------------------------------------------------------------\n",
      "Intercept     -0.0004      0.001     -0.302      0.763      -0.003       0.002\n",
      "==============================================================================\n",
      "beta_Mkt_RF\n",
      "==============================================================================\n",
      "                 coef    std err          z      P>|z|      [0.025      0.975]\n",
      "------------------------------------------------------------------------------\n",
      "Intercept      0.0021      0.004      0.581      0.562      -0.005       0.009\n",
      "==============================================================================\n",
      "beta_SMB\n",
      "==============================================================================\n",
      "                 coef    std err          z      P>|z|      [0.025      0.975]\n",
      "------------------------------------------------------------------------------\n",
      "Intercept      0.0027      0.003      0.827      0.408      -0.004       0.009\n",
      "==============================================================================\n",
      "beta_HML\n",
      "==============================================================================\n",
      "                 coef    std err          z      P>|z|      [0.025      0.975]\n",
      "------------------------------------------------------------------------------\n",
      "Intercept     -0.0007      0.004     -0.148      0.882      -0.009       0.008\n",
      "==============================================================================\n"
     ]
    }
   ],
   "source": [
    "for x in [\"acc\", \"agr\", \"beta_Mkt_RF\", \"beta_SMB\", \"beta_HML\"]:\n",
    "    print(x)\n",
    "    print(ttest(x, fm))"
   ]
  }
 ],
 "metadata": {
  "kernelspec": {
   "display_name": "Python 3.10.3 ('venv': venv)",
   "language": "python",
   "name": "python3"
  },
  "language_info": {
   "codemirror_mode": {
    "name": "ipython",
    "version": 3
   },
   "file_extension": ".py",
   "mimetype": "text/x-python",
   "name": "python",
   "nbconvert_exporter": "python",
   "pygments_lexer": "ipython3",
   "version": "3.10.3"
  },
  "orig_nbformat": 4,
  "vscode": {
   "interpreter": {
    "hash": "e9c182eb2c6b77cc7a6e636d1b5173df89a0a80b42c041014ee844b6f22ab6ab"
   }
  }
 },
 "nbformat": 4,
 "nbformat_minor": 2
}
