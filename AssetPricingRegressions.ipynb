{
  "cells": [
    {
      "cell_type": "markdown",
      "metadata": {
        "id": "view-in-github",
        "colab_type": "text"
      },
      "source": [
        "<a href=\"https://colab.research.google.com/github/kerryback/2022-BUSI520/blob/main/AssetPricingRegressions.ipynb\" target=\"_parent\"><img src=\"https://colab.research.google.com/assets/colab-badge.svg\" alt=\"Open In Colab\"/></a>"
      ]
    },
    {
      "cell_type": "code",
      "execution_count": null,
      "metadata": {
        "id": "GloPfI4zXw6-"
      },
      "outputs": [],
      "source": [
        "import numpy as np\n",
        "import pandas as pd\n",
        "from pandas_datareader import DataReader as pdr\n",
        "import matplotlib.pyplot as plt\n",
        "import seaborn as sns\n",
        "import statsmodels.formula.api as smf\n",
        "from statsmodels.regression.rolling import RollingOLS"
      ]
    },
    {
      "cell_type": "markdown",
      "metadata": {
        "id": "BPQPzNXUXw7A"
      },
      "source": [
        "### Example data\n",
        "\n",
        "A small data set with acc=accruals and agr=asset growth, monthly data since 2010, roughly 2,000 stocks per month."
      ]
    },
    {
      "cell_type": "code",
      "execution_count": null,
      "metadata": {
        "id": "jXntUQcZXw7B"
      },
      "outputs": [],
      "source": [
        "data = pd.read_csv(\"https://www.dropbox.com/s/012c6y4gxsxss6y/ghz.csv?dl=1\", parse_dates=[\"date\"])\n",
        "data.permno = data.permno.astype(int)\n",
        "data['date'] = data.date.dt.to_period('M')\n",
        "data = data.sort_values(by=['permno', 'date']).reset_index(drop=True)\n",
        "# data.head(3)"
      ]
    },
    {
      "cell_type": "markdown",
      "metadata": {
        "id": "Ci8OXeq5Xw7C"
      },
      "source": [
        "### View cross-sections"
      ]
    },
    {
      "cell_type": "code",
      "execution_count": null,
      "metadata": {
        "id": "CkPWR3AoXw7C",
        "outputId": "25282699-0708-43de-9cc4-c3efc2c5c585",
        "colab": {
          "base_uri": "https://localhost:8080/",
          "height": 36
        }
      },
      "outputs": [
        {
          "output_type": "execute_result",
          "data": {
            "text/plain": [
              "'\\ndate = input(\"Input a date: \")\\ndf = data[data.date==date]\\nfig = plt.boxplot([df.acc, df.agr]) \\n'"
            ],
            "application/vnd.google.colaboratory.intrinsic+json": {
              "type": "string"
            }
          },
          "metadata": {},
          "execution_count": 3
        }
      ],
      "source": [
        "\"\"\"\n",
        "date = input(\"Input a date: \")\n",
        "df = data[data.date==date]\n",
        "fig = plt.boxplot([df.acc, df.agr]) \n",
        "\"\"\""
      ]
    },
    {
      "cell_type": "markdown",
      "metadata": {
        "id": "wjp0wdTYXw7D"
      },
      "source": [
        "### Standardize cross-sections"
      ]
    },
    {
      "cell_type": "code",
      "execution_count": null,
      "metadata": {
        "id": "cxj8BHDeXw7E"
      },
      "outputs": [],
      "source": [
        "data.agr = np.log(1+data.agr)\n",
        "\n",
        "def winsorize(ser):\n",
        "    return ser.clip(lower=ser.quantile(0.01), upper=ser.quantile(0.99))\n",
        "\n",
        "\n",
        "for char in [\"acc\", \"agr\"]:\n",
        "    data[char] = data.groupby(\"date\")[char].apply(winsorize)\n",
        "    data[char] = data.groupby(\"date\")[char].apply(lambda x: (x-x.mean()) / x.std())"
      ]
    },
    {
      "cell_type": "markdown",
      "metadata": {
        "id": "-JAEQzFAXw7F"
      },
      "source": [
        "### Fama-MacBeth regressions"
      ]
    },
    {
      "cell_type": "code",
      "execution_count": null,
      "metadata": {
        "id": "YMZ2bVkpXw7F"
      },
      "outputs": [],
      "source": [
        "def xreg(df):\n",
        "    model = smf.ols(\"ret ~ acc + agr\", data=df)\n",
        "    result = model.fit()\n",
        "    return result.params\n",
        "\n",
        "fm = data.groupby('date').apply(xreg)\n",
        "# fm.head(3)"
      ]
    },
    {
      "cell_type": "markdown",
      "metadata": {
        "id": "gbyjl7TiXw7G"
      },
      "source": [
        "### t tests with Newey-West standard errors"
      ]
    },
    {
      "cell_type": "code",
      "execution_count": null,
      "metadata": {
        "id": "_C1Xqz0BXw7G",
        "outputId": "a60ed339-4134-4ea8-c699-d41ae1c26203",
        "colab": {
          "base_uri": "https://localhost:8080/",
          "height": 53
        }
      },
      "outputs": [
        {
          "output_type": "execute_result",
          "data": {
            "text/plain": [
              "'\\ntable = None\\nfor char in [\"acc\", \"agr\"]:\\n    result = ttest(char, data=fm)\\n    result.index = [char]\\n    table = pd.concat((table, result))\\n\\nprint(table.round(3).to_latex())\\n'"
            ],
            "application/vnd.google.colaboratory.intrinsic+json": {
              "type": "string"
            }
          },
          "metadata": {},
          "execution_count": 6
        }
      ],
      "source": [
        "def ttest(name, data):\n",
        "    model = smf.ols(name + \" ~ 1\", data=data)\n",
        "    result = model.fit(cov_type='HAC', cov_kwds={\"kernel\": \"bartlett\", \"maxlags\": 12})\n",
        "    return result.summary2().tables[1]\n",
        "\n",
        "# ttest(\"acc\", data=fm)\n",
        "\n",
        "\"\"\"\n",
        "table = None\n",
        "for char in [\"acc\", \"agr\"]:\n",
        "    result = ttest(char, data=fm)\n",
        "    result.index = [char]\n",
        "    table = pd.concat((table, result))\n",
        "\n",
        "print(table.round(3).to_latex())\n",
        "\"\"\""
      ]
    },
    {
      "cell_type": "markdown",
      "metadata": {
        "id": "L66NUd_gXw7H"
      },
      "source": [
        "### Fama-French factors"
      ]
    },
    {
      "cell_type": "code",
      "execution_count": null,
      "metadata": {
        "id": "xpG1z2AWXw7I"
      },
      "outputs": [],
      "source": [
        "ff = pdr(\"F-F_Research_Data_Factors\", \"famafrench\", start=2000)[0] / 100\n",
        "data = data.merge(ff, left_on='date', right_index=True, how=\"left\") \n",
        "data = data.rename(columns={\"Mkt-RF\": \"Mkt_RF\"})\n",
        "data[\"ret_RF\"] = data.ret - data.RF"
      ]
    },
    {
      "cell_type": "markdown",
      "metadata": {
        "id": "rqFFL95fXw7I"
      },
      "source": [
        "### Rolling window betas"
      ]
    },
    {
      "cell_type": "code",
      "execution_count": null,
      "metadata": {
        "id": "tLAis8LcXw7I"
      },
      "outputs": [],
      "source": [
        "def rolling_betas(df):\n",
        "    n = df.shape[0]\n",
        "    if n >= 24:\n",
        "        data = df.set_index(\"date\") \n",
        "        model = RollingOLS.from_formula(\n",
        "            \"ret_RF ~ Mkt_RF + SMB + HML\",\n",
        "            window=min(n, 60),\n",
        "            min_nobs=24,\n",
        "            expanding=True,\n",
        "            data=data\n",
        "        )\n",
        "        result = model.fit()\n",
        "        return result.params[['Mkt_RF', 'SMB', 'HML']].dropna()\n",
        "    else:\n",
        "        pass\n",
        "    \n",
        "    \n",
        "betas = data.groupby(\"permno\").apply(rolling_betas)\n",
        "# betas.head(3)"
      ]
    },
    {
      "cell_type": "markdown",
      "metadata": {
        "id": "m4l-18J1Xw7J"
      },
      "source": [
        "### Quantile sorts"
      ]
    },
    {
      "cell_type": "code",
      "execution_count": null,
      "metadata": {
        "id": "imCmyWmUXw7J"
      },
      "outputs": [],
      "source": [
        "def decile(df, char):\n",
        "    deciles = pd.qcut(df[char], 10, labels=range(1,11))\n",
        "    return df.groupby(deciles).ret.mean()\n",
        "\n",
        "rets_acc = data.groupby(\"date\").apply(lambda d: decile(d, \"acc\"))\n",
        "rets_agr = data.groupby(\"date\").apply(lambda d: decile(d, \"agr\"))\n",
        "\n",
        "# rets_agr.head(3)"
      ]
    }
  ],
  "metadata": {
    "kernelspec": {
      "display_name": "Python 3.10.3 ('venv': venv)",
      "language": "python",
      "name": "python3"
    },
    "language_info": {
      "codemirror_mode": {
        "name": "ipython",
        "version": 3
      },
      "file_extension": ".py",
      "mimetype": "text/x-python",
      "name": "python",
      "nbconvert_exporter": "python",
      "pygments_lexer": "ipython3",
      "version": "3.10.3"
    },
    "orig_nbformat": 4,
    "vscode": {
      "interpreter": {
        "hash": "e9c182eb2c6b77cc7a6e636d1b5173df89a0a80b42c041014ee844b6f22ab6ab"
      }
    },
    "colab": {
      "provenance": [],
      "include_colab_link": true
    }
  },
  "nbformat": 4,
  "nbformat_minor": 0
}