{
 "cells": [
  {
   "cell_type": "code",
   "execution_count": 121,
   "metadata": {},
   "outputs": [],
   "source": [
    "import numpy as np\n",
    "import pandas as pd\n",
    "import seaborn as sns\n",
    "import matplotlib.pyplot as plt\n",
    "import statsmodels.formula.api as smf\n",
    "\n",
    "# models used in this notebook\n",
    "from sklearn.linear_model import LinearRegression\n",
    "from sklearn.linear_model import Lasso\n",
    "from sklearn.linear_model import Ridge\n",
    "from sklearn.linear_model import ElasticNet\n",
    "from sklearn.linear_model import LogisticRegression\n",
    "\n",
    "# to select best hyperparameters\n",
    "from sklearn.model_selection import GridSearchCV\n",
    "\n",
    "# preprocessing steps\n",
    "from sklearn.preprocessing import QuantileTransformer\n",
    "from sklearn.preprocessing import StandardScaler\n",
    "from sklearn.preprocessing import PolynomialFeatures\n",
    "from sklearn.decomposition import PCA\n",
    "\n",
    "# to combine preprocessing and fitting\n",
    "from sklearn.pipeline import make_pipeline\n",
    "\n",
    "# useful tools for classification problems\n",
    "from sklearn.metrics import ConfusionMatrixDisplay\n",
    "from sklearn.metrics import RocCurveDisplay\n"
   ]
  },
  {
   "cell_type": "markdown",
   "metadata": {},
   "source": [
    "### A small data set"
   ]
  },
  {
   "cell_type": "code",
   "execution_count": 122,
   "metadata": {},
   "outputs": [],
   "source": [
    "data = pd.read_csv(\"https://www.dropbox.com/s/012c6y4gxsxss6y/ghz.csv?dl=1\", parse_dates=[\"date\"])\n",
    "data.permno = data.permno.astype(int)\n",
    "data['date'] = data.date.dt.to_period('M')\n",
    "data = data.sort_values(by=['permno', 'date']).reset_index(drop=True)\n",
    "data.ret *= 100"
   ]
  },
  {
   "cell_type": "markdown",
   "metadata": {},
   "source": [
    "### OLS with statsmodels"
   ]
  },
  {
   "cell_type": "code",
   "execution_count": 123,
   "metadata": {},
   "outputs": [
    {
     "data": {
      "text/html": [
       "<table class=\"simpletable\">\n",
       "<caption>OLS Regression Results</caption>\n",
       "<tr>\n",
       "  <th>Dep. Variable:</th>           <td>ret</td>       <th>  R-squared:         </th>  <td>   0.000</td>  \n",
       "</tr>\n",
       "<tr>\n",
       "  <th>Model:</th>                   <td>OLS</td>       <th>  Adj. R-squared:    </th>  <td>   0.000</td>  \n",
       "</tr>\n",
       "<tr>\n",
       "  <th>Method:</th>             <td>Least Squares</td>  <th>  F-statistic:       </th>  <td>   11.78</td>  \n",
       "</tr>\n",
       "<tr>\n",
       "  <th>Date:</th>             <td>Mon, 12 Sep 2022</td> <th>  Prob (F-statistic):</th>  <td>7.63e-06</td>  \n",
       "</tr>\n",
       "<tr>\n",
       "  <th>Time:</th>                 <td>09:31:36</td>     <th>  Log-Likelihood:    </th> <td>-1.1078e+06</td>\n",
       "</tr>\n",
       "<tr>\n",
       "  <th>No. Observations:</th>      <td>282598</td>      <th>  AIC:               </th>  <td>2.216e+06</td> \n",
       "</tr>\n",
       "<tr>\n",
       "  <th>Df Residuals:</th>          <td>282595</td>      <th>  BIC:               </th>  <td>2.216e+06</td> \n",
       "</tr>\n",
       "<tr>\n",
       "  <th>Df Model:</th>              <td>     2</td>      <th>                     </th>      <td> </td>     \n",
       "</tr>\n",
       "<tr>\n",
       "  <th>Covariance Type:</th>      <td>nonrobust</td>    <th>                     </th>      <td> </td>     \n",
       "</tr>\n",
       "</table>\n",
       "<table class=\"simpletable\">\n",
       "<tr>\n",
       "      <td></td>         <th>coef</th>     <th>std err</th>      <th>t</th>      <th>P>|t|</th>  <th>[0.025</th>    <th>0.975]</th>  \n",
       "</tr>\n",
       "<tr>\n",
       "  <th>Intercept</th> <td>    1.3470</td> <td>    0.030</td> <td>   45.338</td> <td> 0.000</td> <td>    1.289</td> <td>    1.405</td>\n",
       "</tr>\n",
       "<tr>\n",
       "  <th>acc</th>       <td>    0.1735</td> <td>    0.282</td> <td>    0.616</td> <td> 0.538</td> <td>   -0.378</td> <td>    0.725</td>\n",
       "</tr>\n",
       "<tr>\n",
       "  <th>agr</th>       <td>   -0.3454</td> <td>    0.071</td> <td>   -4.836</td> <td> 0.000</td> <td>   -0.485</td> <td>   -0.205</td>\n",
       "</tr>\n",
       "</table>\n",
       "<table class=\"simpletable\">\n",
       "<tr>\n",
       "  <th>Omnibus:</th>       <td>481798.941</td> <th>  Durbin-Watson:     </th>    <td>   2.045</td>    \n",
       "</tr>\n",
       "<tr>\n",
       "  <th>Prob(Omnibus):</th>   <td> 0.000</td>   <th>  Jarque-Bera (JB):  </th> <td>16139038607.161</td>\n",
       "</tr>\n",
       "<tr>\n",
       "  <th>Skew:</th>            <td>10.459</td>   <th>  Prob(JB):          </th>    <td>    0.00</td>    \n",
       "</tr>\n",
       "<tr>\n",
       "  <th>Kurtosis:</th>       <td>1173.552</td>  <th>  Cond. No.          </th>    <td>    12.4</td>    \n",
       "</tr>\n",
       "</table><br/><br/>Notes:<br/>[1] Standard Errors assume that the covariance matrix of the errors is correctly specified."
      ],
      "text/plain": [
       "<class 'statsmodels.iolib.summary.Summary'>\n",
       "\"\"\"\n",
       "                            OLS Regression Results                            \n",
       "==============================================================================\n",
       "Dep. Variable:                    ret   R-squared:                       0.000\n",
       "Model:                            OLS   Adj. R-squared:                  0.000\n",
       "Method:                 Least Squares   F-statistic:                     11.78\n",
       "Date:                Mon, 12 Sep 2022   Prob (F-statistic):           7.63e-06\n",
       "Time:                        09:31:36   Log-Likelihood:            -1.1078e+06\n",
       "No. Observations:              282598   AIC:                         2.216e+06\n",
       "Df Residuals:                  282595   BIC:                         2.216e+06\n",
       "Df Model:                           2                                         \n",
       "Covariance Type:            nonrobust                                         \n",
       "==============================================================================\n",
       "                 coef    std err          t      P>|t|      [0.025      0.975]\n",
       "------------------------------------------------------------------------------\n",
       "Intercept      1.3470      0.030     45.338      0.000       1.289       1.405\n",
       "acc            0.1735      0.282      0.616      0.538      -0.378       0.725\n",
       "agr           -0.3454      0.071     -4.836      0.000      -0.485      -0.205\n",
       "==============================================================================\n",
       "Omnibus:                   481798.941   Durbin-Watson:                   2.045\n",
       "Prob(Omnibus):                  0.000   Jarque-Bera (JB):      16139038607.161\n",
       "Skew:                          10.459   Prob(JB):                         0.00\n",
       "Kurtosis:                    1173.552   Cond. No.                         12.4\n",
       "==============================================================================\n",
       "\n",
       "Notes:\n",
       "[1] Standard Errors assume that the covariance matrix of the errors is correctly specified.\n",
       "\"\"\""
      ]
     },
     "execution_count": 123,
     "metadata": {},
     "output_type": "execute_result"
    }
   ],
   "source": [
    "model = smf.ols(\"ret ~ acc + agr\", data=data)\n",
    "result = model.fit()\n",
    "result.summary()\n"
   ]
  },
  {
   "cell_type": "markdown",
   "metadata": {},
   "source": [
    "### OLS with scikit-learn"
   ]
  },
  {
   "cell_type": "code",
   "execution_count": 124,
   "metadata": {},
   "outputs": [
    {
     "name": "stdout",
     "output_type": "stream",
     "text": [
      "intercept = 1.3469625469981983 , OLS betas = [ 0.17345459 -0.34536579]\n"
     ]
    }
   ],
   "source": [
    "model = LinearRegression()\n",
    "X = data[['acc', 'agr']]\n",
    "y = data['ret']\n",
    "\n",
    "model.fit(X,y)\n",
    "\n",
    "print(\"intercept =\", model.intercept_, \", OLS betas =\", model.coef_)"
   ]
  },
  {
   "cell_type": "markdown",
   "metadata": {},
   "source": [
    "### Predicting with scikit-learn"
   ]
  },
  {
   "cell_type": "code",
   "execution_count": 125,
   "metadata": {},
   "outputs": [
    {
     "data": {
      "text/plain": [
       "array([1.29523485])"
      ]
     },
     "execution_count": 125,
     "metadata": {},
     "output_type": "execute_result"
    }
   ],
   "source": [
    "newx = pd.DataFrame({\"acc\": [0.1], \"agr\": [0.2]})\n",
    "model.predict(newx)"
   ]
  },
  {
   "cell_type": "markdown",
   "metadata": {},
   "source": [
    "### Train and test\n",
    "\n",
    "In ML, models are evaluated by how well they predict out of sample.  Split the data into train and test sets.  Fit the model on the training set.  Evaluate on the test set.  The standard metric for evaluating performance is the out-of-sample $R^2$.\n",
    "\n",
    "The out-of-sample $R^2$ is 1 - (sum of squared errors) / (sum of squared deviations from mean).  The model can be worse than predicting the mean (the mean is calculated from ytest and the model doesn't use ytest), so the out-of-sample $R^2$ can be negative.\n",
    "\n",
    "It is common to randomly split into training and test sets.  But, asset return data has a time element, and we usually take the test set to be after the training set.  Here is an example.\n",
    "\n",
    "In the model.fit line, regression coefficients are computed on the training data.  \n",
    "\n",
    "In the model.score line, the same regression coefficients are applied to the X variables in the test data to get predictions.  These predictions are compared to the actual y data in the test data set, andhe $R^2$ of the predictions is computed."
   ]
  },
  {
   "cell_type": "code",
   "execution_count": 126,
   "metadata": {},
   "outputs": [
    {
     "name": "stdout",
     "output_type": "stream",
     "text": [
      "OLS out-of-sample R2 is -0.0027\n"
     ]
    }
   ],
   "source": [
    "train = data[data.date<\"2020\"].copy()\n",
    "test = data[data.date>=\"2020\"].copy()\n",
    "\n",
    "Xtrain = train[['acc', 'agr']]\n",
    "Xtest = test[['acc', 'agr']]\n",
    "\n",
    "ytrain = train.ret \n",
    "ytest = test.ret\n",
    "\n",
    "model.fit(Xtrain, ytrain)\n",
    "score = model.score(Xtest, ytest)\n",
    "print(f\"OLS out-of-sample R2 is {score:.4f}\")"
   ]
  },
  {
   "cell_type": "markdown",
   "metadata": {},
   "source": [
    "### Lasso\n",
    "\n",
    "OLS minimizes the mean squared error.  Lasso is an example of \"penalized linear regression.\"  It chooses coefficients to minimize\n",
    "\n",
    "$$\\frac{1}{2}\\text{MSE} + \\text{penalty} \\times \\sum_{i=1}^n |\\beta_i|$$\n",
    "\n",
    "The penalty is a parameter you input.  It is called \"alpha\" (not the regression intercept).\n",
    "\n",
    "The penalty is an example of what is called a hyperparameter.  It is not fit from the data.  Instead, it is an input.  We will discuss how to choose it optimally.\n",
    "\n",
    "The larger the penalty, the smaller the estimated betas will be.  For large alpha, the estimated betas will be zeros.\n",
    "\n",
    "Lasso is a way to do \"automatic feature selection.\"  Features are variables used to predict.  Dropping variables with zero lasso betas is a reasonable thing to do in some settings."
   ]
  },
  {
   "cell_type": "code",
   "execution_count": 127,
   "metadata": {},
   "outputs": [
    {
     "name": "stdout",
     "output_type": "stream",
     "text": [
      "alpha =  0.0001 , Lasso betas =  [ 0.15824011 -0.3442439 ]\n",
      "alpha =  0.001 , Lasso betas =  [ 0.02130976 -0.33414689]\n",
      "alpha =  0.01 , Lasso betas =  [ 0.         -0.24684358]\n",
      "alpha =  0.1 , Lasso betas =  [ 0. -0.]\n",
      "alpha =  1 , Lasso betas =  [ 0. -0.]\n"
     ]
    }
   ],
   "source": [
    "for alpha in (0.0001, 0.001, 0.01, 0.1, 1):\n",
    "    model = Lasso(alpha=alpha)\n",
    "    model.fit(X,y)\n",
    "    print(\"alpha = \", alpha, \", Lasso betas = \", model.coef_)"
   ]
  },
  {
   "cell_type": "markdown",
   "metadata": {},
   "source": [
    "### Train and test with lasso"
   ]
  },
  {
   "cell_type": "code",
   "execution_count": 128,
   "metadata": {},
   "outputs": [
    {
     "name": "stdout",
     "output_type": "stream",
     "text": [
      "Lasso out-of-sample R2 with alpha=0.01 is -0.0027\n"
     ]
    }
   ],
   "source": [
    "alpha = 0.01\n",
    "model = Lasso(alpha=alpha)\n",
    "model.fit(Xtrain, ytrain)\n",
    "score = model.score(Xtest, ytest)\n",
    "print(f\"Lasso out-of-sample R2 with alpha={alpha:.2f} is {score:.4f}\")"
   ]
  },
  {
   "cell_type": "markdown",
   "metadata": {},
   "source": [
    "### Ridge regression\n",
    "\n",
    "In ridge regression, the coefficients are chosen to minimize\n",
    "$$\\text{SSE} + \\text{penalty} \\times \\sum_{i=1}^n \\beta_i^2$$\n",
    "Again, the penalty is called \"alpha.\""
   ]
  },
  {
   "cell_type": "code",
   "execution_count": 129,
   "metadata": {},
   "outputs": [
    {
     "name": "stdout",
     "output_type": "stream",
     "text": [
      "alpha =  10 , Ridge betas =  [ 0.17251647 -0.34523807]\n",
      "alpha =  100 , Ridge betas =  [ 0.16450115 -0.3440968 ]\n",
      "alpha =  1000 , Ridge betas =  [ 0.11197401 -0.33332903]\n",
      "alpha =  10000 , Ridge betas =  [ 0.02521629 -0.25615389]\n"
     ]
    }
   ],
   "source": [
    "for alpha in (10, 100, 1000, 10000):\n",
    "    model = Ridge(alpha=alpha)\n",
    "    model.fit(X,y)\n",
    "    print(\"alpha = \", alpha, \", Ridge betas = \", model.coef_)"
   ]
  },
  {
   "cell_type": "markdown",
   "metadata": {},
   "source": [
    "### Train and test with ridge regression"
   ]
  },
  {
   "cell_type": "code",
   "execution_count": 130,
   "metadata": {},
   "outputs": [
    {
     "name": "stdout",
     "output_type": "stream",
     "text": [
      "Ridge out-of-sample R2 with alpha=10,000 is -0.0026\n"
     ]
    }
   ],
   "source": [
    "alpha=10000\n",
    "model = Ridge(alpha=alpha)\n",
    "model.fit(Xtrain, ytrain)\n",
    "score = model.score(Xtest, ytest)\n",
    "print(f\"Ridge out-of-sample R2 with alpha={alpha:,.0f} is {score:.4f}\")\n"
   ]
  },
  {
   "cell_type": "markdown",
   "metadata": {},
   "source": [
    "### Elastic net\n",
    "\n",
    "An elastic net combines the lasso and ridge penalties.  It chooses coefficients to minimize\n",
    "$$\\frac{1}{2} \\text{MSE} + \\text{alpha} \\times \\text{l1\\_ratio} \\times \\sum_{i=1}^n |\\beta_i| + \n",
    "\\text{alpha} \\times (1 - \\text{l1\\_ratio}) \\sum_{i=1}^n \\beta_i^2$$\n",
    "\n",
    "The sum of absolute values penalty is called an $\\ell^1$ penalty.  The sum of squares is called an $\\ell^2$ penalty.\n",
    "\n"
   ]
  },
  {
   "cell_type": "code",
   "execution_count": 131,
   "metadata": {},
   "outputs": [
    {
     "name": "stdout",
     "output_type": "stream",
     "text": [
      "Elastic net out-of-sample R2 with alpha=1.000 and l1_ratio=0.500 is -0.0025\n"
     ]
    }
   ],
   "source": [
    "alpha = 1\n",
    "l1_ratio = 0.5\n",
    "model = ElasticNet(alpha=alpha, l1_ratio=l1_ratio)\n",
    "model.fit(Xtrain, ytrain)\n",
    "score = model.score(Xtest, ytest)\n",
    "print(f\"Elastic net out-of-sample R2 with alpha={alpha:.3f} and l1_ratio={l1_ratio:.3f} is {score:.4f}\")"
   ]
  },
  {
   "cell_type": "markdown",
   "metadata": {},
   "source": [
    "### An aside on creating grids\n",
    "\n",
    "linspace(a,b) creates a grid [x0=1, x1, ..., xn=b] with points equally spaced.\n",
    "\n",
    "The default base for logspace is 10.  logspace(a,b) creates a grid [x0=a, x1, ..., xn=b] with points equally spaced and returns [10^x0, 10^x1, ..., 10^xn].  So, it samples small numbers more closely."
   ]
  },
  {
   "cell_type": "code",
   "execution_count": 132,
   "metadata": {},
   "outputs": [
    {
     "name": "stdout",
     "output_type": "stream",
     "text": [
      "[  0.01    25.0075  50.005   75.0025 100.    ]\n",
      "[  0.01   0.1    1.    10.   100.  ]\n"
     ]
    }
   ],
   "source": [
    "grid1 = np.linspace(0.01, 100, 5)\n",
    "grid2 = np.logspace(-2, 2, 5)\n",
    "\n",
    "np.set_printoptions(suppress=True)\n",
    "print(grid1)\n",
    "print(grid2)"
   ]
  },
  {
   "cell_type": "markdown",
   "metadata": {},
   "source": [
    "### Train, validate, and test\n",
    "\n",
    "To choose hyperparameters like alpha and the l1_ratio in the elastic net, we don't want to optimize the score on the test set.  The maximum score is a biased estimate of what the model will achieve on new data.  So, we split our data into three sets and do the following:\n",
    "\n",
    "* train on the train set\n",
    "* calculate scores on the validation set\n",
    "* choose the hyperparameters with the best score on the validation set and retrain on train+validation sets\n",
    "* test on the test set\n",
    "\n",
    "Usually, the train, validation, and test sets are chosen randomly, but it is customary in asset pricing to train on old data, validate on newer data, and test on the newest data."
   ]
  },
  {
   "cell_type": "code",
   "execution_count": 133,
   "metadata": {},
   "outputs": [
    {
     "name": "stdout",
     "output_type": "stream",
     "text": [
      "best alpha is 0.0016\n",
      "best l1_ratio is 0.9990\n"
     ]
    }
   ],
   "source": [
    "train2 = data[data.date<\"2015\"]\n",
    "validate = data[(data.date>=\"2015\") & (data.date<\"2020\")]\n",
    "\n",
    "Xtrain2 = train2[['acc', 'agr']]\n",
    "Xvalidate = validate[['acc', 'agr']]\n",
    "\n",
    "ytrain2 = train2.ret \n",
    "yvalidate = validate.ret \n",
    "\n",
    "alphas = np.logspace(-4, 2, 11)   \n",
    "l1_ratios = np.linspace(0.001, 0.999, 11)\n",
    "\n",
    "dct = {}\n",
    "for alpha in alphas:\n",
    "    for l1_ratio in l1_ratios:\n",
    "        model = ElasticNet(alpha=alpha, l1_ratio=l1_ratio)\n",
    "        model.fit(Xtrain2, ytrain2)\n",
    "        score = model.score(Xvalidate, yvalidate)\n",
    "        dct[(alpha, l1_ratio)] = score\n",
    "        \n",
    "best_params = max(dct, key=dct.get)\n",
    "print(f\"best alpha is {best_params[0]:.4f}\")\n",
    "print(f\"best l1_ratio is {best_params[1]:.4f}\")\n"
   ]
  },
  {
   "cell_type": "markdown",
   "metadata": {},
   "source": [
    "Having gotten some idea of what the best parameters are, we can search again within a narrower range."
   ]
  },
  {
   "cell_type": "code",
   "execution_count": 134,
   "metadata": {},
   "outputs": [
    {
     "name": "stdout",
     "output_type": "stream",
     "text": [
      "best alpha is 0.0020\n",
      "best l1_ratio is 0.9990\n"
     ]
    }
   ],
   "source": [
    "alphas = np.logspace(-3, -2, 11)\n",
    "l1_ratios = np.linspace(l1_ratios[-2], l1_ratios[-1], 11)\n",
    "for alpha in alphas:\n",
    "    for l1_ratio in l1_ratios:\n",
    "        model = ElasticNet(alpha=alpha, l1_ratio=l1_ratio)\n",
    "        model.fit(Xtrain2, ytrain2)\n",
    "        score = model.score(Xvalidate, yvalidate)\n",
    "        dct[(alpha, l1_ratio)] = score\n",
    "\n",
    "best_params = max(dct, key=dct.get)\n",
    "print(f\"best alpha is {best_params[0]:.4f}\")\n",
    "print(f\"best l1_ratio is {best_params[1]:.4f}\")"
   ]
  },
  {
   "cell_type": "markdown",
   "metadata": {},
   "source": [
    "Re-fit on full training set (train = train2+validate) and test on test set."
   ]
  },
  {
   "cell_type": "code",
   "execution_count": 135,
   "metadata": {},
   "outputs": [
    {
     "name": "stdout",
     "output_type": "stream",
     "text": [
      "Elastic net out-of-sample R2 with alpha=0.002 and l1_ratio = 0.9990 is -0.0027\n"
     ]
    }
   ],
   "source": [
    "alpha = best_params[0]\n",
    "l1_ratio = best_params[1]\n",
    "model = ElasticNet(alpha=alpha, l1_ratio=l1_ratio)\n",
    "model.fit(Xtrain, ytrain)\n",
    "score = model.score(Xtest, ytest)\n",
    "print(f\"Elastic net out-of-sample R2 with alpha={alpha:.3f} and l1_ratio = {l1_ratio:.4f} is {score:.4f}\")"
   ]
  },
  {
   "cell_type": "markdown",
   "metadata": {},
   "source": [
    "### Aside on storing calculations from loops\n",
    "\n",
    "We stored the elastic net calculations in a dictionary.  Here are some other options."
   ]
  },
  {
   "cell_type": "code",
   "execution_count": 136,
   "metadata": {},
   "outputs": [
    {
     "data": {
      "text/plain": [
       "'\\nser.name = \"score\"\\nser = ser.reset_index()\\nser\\n'"
      ]
     },
     "execution_count": 136,
     "metadata": {},
     "output_type": "execute_result"
    }
   ],
   "source": [
    "# make the examples simpler\n",
    "\n",
    "alphas = alphas[:3]\n",
    "l1_ratios = l1_ratios[:3] \n",
    "\n",
    "# # store in a list\n",
    "\n",
    "lst = []\n",
    "for alpha in alphas:\n",
    "    for l1_ratio in l1_ratios:\n",
    "        model = ElasticNet(alpha=alpha, l1_ratio=l1_ratio)\n",
    "        model.fit(Xtrain2, ytrain2)\n",
    "        score = model.score(Xvalidate, yvalidate)\n",
    "        lst.append(score)\n",
    "\n",
    "# store in a data frame\n",
    "\n",
    "df = pd.DataFrame(dtype=float, columns=['alpha', 'l1_ratio', 'score'])\n",
    "for alpha in alphas:\n",
    "    for l1_ratio in l1_ratios:\n",
    "        model = ElasticNet(alpha=alpha, l1_ratio=l1_ratio)\n",
    "        model.fit(Xtrain2, ytrain2)\n",
    "        score = model.score(Xvalidate, yvalidate)\n",
    "        df.loc[df.shape[0]+1] = [alpha, l1_ratio, score]\n",
    "\n",
    "# store in a series\n",
    "\n",
    "indx = pd.MultiIndex.from_tuples(zip(alphas, l1_ratios))\n",
    "ser = pd.Series(dtype=float, index=indx)\n",
    "ser.index.names = ['alpha', 'l1_ratio']\n",
    "for alpha in alphas:\n",
    "    for l1_ratio in l1_ratios:\n",
    "        model = ElasticNet(alpha=alpha, l1_ratio=l1_ratio)\n",
    "        model.fit(Xtrain2, ytrain2)\n",
    "        score = model.score(Xvalidate, yvalidate)\n",
    "        ser[(alpha, l1_ratio)] = score\n",
    "\n",
    "\n",
    "# lst\n",
    "# df\n",
    "# ser\n",
    "\"\"\"\n",
    "ser.name = \"score\"\n",
    "ser = ser.reset_index()\n",
    "ser\n",
    "\"\"\""
   ]
  },
  {
   "cell_type": "markdown",
   "metadata": {},
   "source": [
    "### k-fold cross validation\n",
    "\n",
    "Instead of one training and one validation set, k-fold cross validation uses k training and validation sets.  \n",
    "\n",
    "First, split the data into train and test (no validation).  \n",
    "\n",
    "Then run k-fold cross validation on the training set.  The default for GridSearchCV is k=5.  With k=5, the training set is split into five pieces randomly.  1 of the 5 is chosen to be the validation set and the other 4 are lumped together to be a training set.  For each set of hyperparameters, the model is trained on the training set and tested on the validation set and the scores are saved.  Then a different 1 of the 5 is chosen to be the validation set and the process is repeated.  After all 5 have been used as validation sets, we have 5 scores for each set of hyperparameters.  Average them.  The hyperparameters with the highest average are the best parameters.\n",
    "\n",
    "GridSearchCV has an optional argument \"refit\" with the default being True.  This means that the model is refit on the full training set (all k folds) using the best set of hyperparameters.  This means that we are ready to test the model on the test set.\n",
    "\n"
   ]
  },
  {
   "cell_type": "code",
   "execution_count": 137,
   "metadata": {},
   "outputs": [
    {
     "name": "stdout",
     "output_type": "stream",
     "text": [
      "best parameters are {'alpha': 0.01, 'l1_ratio': 0.001}\n",
      "out of sample R2 is -0.0027107038872318245\n",
      "cross-validation results are\n"
     ]
    },
    {
     "data": {
      "text/html": [
       "<div>\n",
       "<style scoped>\n",
       "    .dataframe tbody tr th:only-of-type {\n",
       "        vertical-align: middle;\n",
       "    }\n",
       "\n",
       "    .dataframe tbody tr th {\n",
       "        vertical-align: top;\n",
       "    }\n",
       "\n",
       "    .dataframe thead th {\n",
       "        text-align: right;\n",
       "    }\n",
       "</style>\n",
       "<table border=\"1\" class=\"dataframe\">\n",
       "  <thead>\n",
       "    <tr style=\"text-align: right;\">\n",
       "      <th></th>\n",
       "      <th>mean_fit_time</th>\n",
       "      <th>std_fit_time</th>\n",
       "      <th>mean_score_time</th>\n",
       "      <th>std_score_time</th>\n",
       "      <th>param_alpha</th>\n",
       "      <th>param_l1_ratio</th>\n",
       "      <th>params</th>\n",
       "      <th>split0_test_score</th>\n",
       "      <th>split1_test_score</th>\n",
       "      <th>split2_test_score</th>\n",
       "      <th>split3_test_score</th>\n",
       "      <th>split4_test_score</th>\n",
       "      <th>mean_test_score</th>\n",
       "      <th>std_test_score</th>\n",
       "      <th>rank_test_score</th>\n",
       "    </tr>\n",
       "  </thead>\n",
       "  <tbody>\n",
       "    <tr>\n",
       "      <th>0</th>\n",
       "      <td>0.027024</td>\n",
       "      <td>0.007122</td>\n",
       "      <td>0.004405</td>\n",
       "      <td>0.001192</td>\n",
       "      <td>0.001</td>\n",
       "      <td>0.001</td>\n",
       "      <td>{'alpha': 0.001, 'l1_ratio': 0.001}</td>\n",
       "      <td>0.000304</td>\n",
       "      <td>2.683273e-04</td>\n",
       "      <td>0.000198</td>\n",
       "      <td>-0.000193</td>\n",
       "      <td>0.000171</td>\n",
       "      <td>0.000150</td>\n",
       "      <td>0.000178</td>\n",
       "      <td>2</td>\n",
       "    </tr>\n",
       "    <tr>\n",
       "      <th>1</th>\n",
       "      <td>0.022071</td>\n",
       "      <td>0.007224</td>\n",
       "      <td>0.002672</td>\n",
       "      <td>0.001794</td>\n",
       "      <td>0.001</td>\n",
       "      <td>0.5</td>\n",
       "      <td>{'alpha': 0.001, 'l1_ratio': 0.5}</td>\n",
       "      <td>0.000300</td>\n",
       "      <td>2.702071e-04</td>\n",
       "      <td>0.000201</td>\n",
       "      <td>-0.000198</td>\n",
       "      <td>0.000169</td>\n",
       "      <td>0.000148</td>\n",
       "      <td>0.000179</td>\n",
       "      <td>3</td>\n",
       "    </tr>\n",
       "    <tr>\n",
       "      <th>2</th>\n",
       "      <td>0.019381</td>\n",
       "      <td>0.002312</td>\n",
       "      <td>0.001406</td>\n",
       "      <td>0.001961</td>\n",
       "      <td>0.001</td>\n",
       "      <td>0.999</td>\n",
       "      <td>{'alpha': 0.001, 'l1_ratio': 0.999}</td>\n",
       "      <td>0.000296</td>\n",
       "      <td>2.722209e-04</td>\n",
       "      <td>0.000204</td>\n",
       "      <td>-0.000205</td>\n",
       "      <td>0.000167</td>\n",
       "      <td>0.000147</td>\n",
       "      <td>0.000182</td>\n",
       "      <td>4</td>\n",
       "    </tr>\n",
       "    <tr>\n",
       "      <th>3</th>\n",
       "      <td>0.018990</td>\n",
       "      <td>0.001999</td>\n",
       "      <td>0.001999</td>\n",
       "      <td>0.002449</td>\n",
       "      <td>0.01</td>\n",
       "      <td>0.001</td>\n",
       "      <td>{'alpha': 0.01, 'l1_ratio': 0.001}</td>\n",
       "      <td>0.000272</td>\n",
       "      <td>2.687337e-04</td>\n",
       "      <td>0.000207</td>\n",
       "      <td>-0.000168</td>\n",
       "      <td>0.000170</td>\n",
       "      <td>0.000150</td>\n",
       "      <td>0.000164</td>\n",
       "      <td>1</td>\n",
       "    </tr>\n",
       "    <tr>\n",
       "      <th>4</th>\n",
       "      <td>0.022987</td>\n",
       "      <td>0.006778</td>\n",
       "      <td>0.001999</td>\n",
       "      <td>0.002449</td>\n",
       "      <td>0.01</td>\n",
       "      <td>0.5</td>\n",
       "      <td>{'alpha': 0.01, 'l1_ratio': 0.5}</td>\n",
       "      <td>0.000241</td>\n",
       "      <td>2.673045e-04</td>\n",
       "      <td>0.000211</td>\n",
       "      <td>-0.000162</td>\n",
       "      <td>0.000166</td>\n",
       "      <td>0.000145</td>\n",
       "      <td>0.000157</td>\n",
       "      <td>5</td>\n",
       "    </tr>\n",
       "    <tr>\n",
       "      <th>5</th>\n",
       "      <td>0.020993</td>\n",
       "      <td>0.001997</td>\n",
       "      <td>0.002994</td>\n",
       "      <td>0.002444</td>\n",
       "      <td>0.01</td>\n",
       "      <td>0.999</td>\n",
       "      <td>{'alpha': 0.01, 'l1_ratio': 0.999}</td>\n",
       "      <td>0.000211</td>\n",
       "      <td>2.579378e-04</td>\n",
       "      <td>0.000201</td>\n",
       "      <td>-0.000148</td>\n",
       "      <td>0.000166</td>\n",
       "      <td>0.000138</td>\n",
       "      <td>0.000146</td>\n",
       "      <td>6</td>\n",
       "    </tr>\n",
       "    <tr>\n",
       "      <th>6</th>\n",
       "      <td>0.020994</td>\n",
       "      <td>0.002009</td>\n",
       "      <td>0.002993</td>\n",
       "      <td>0.002444</td>\n",
       "      <td>0.1</td>\n",
       "      <td>0.001</td>\n",
       "      <td>{'alpha': 0.1, 'l1_ratio': 0.001}</td>\n",
       "      <td>0.000094</td>\n",
       "      <td>1.898230e-04</td>\n",
       "      <td>0.000130</td>\n",
       "      <td>-0.000064</td>\n",
       "      <td>0.000140</td>\n",
       "      <td>0.000098</td>\n",
       "      <td>0.000087</td>\n",
       "      <td>7</td>\n",
       "    </tr>\n",
       "    <tr>\n",
       "      <th>7</th>\n",
       "      <td>0.018227</td>\n",
       "      <td>0.002189</td>\n",
       "      <td>0.005003</td>\n",
       "      <td>0.003169</td>\n",
       "      <td>0.1</td>\n",
       "      <td>0.5</td>\n",
       "      <td>{'alpha': 0.1, 'l1_ratio': 0.5}</td>\n",
       "      <td>-0.000183</td>\n",
       "      <td>2.746470e-05</td>\n",
       "      <td>-0.000054</td>\n",
       "      <td>-0.000055</td>\n",
       "      <td>0.000002</td>\n",
       "      <td>-0.000052</td>\n",
       "      <td>0.000073</td>\n",
       "      <td>8</td>\n",
       "    </tr>\n",
       "    <tr>\n",
       "      <th>8</th>\n",
       "      <td>0.025157</td>\n",
       "      <td>0.012768</td>\n",
       "      <td>0.000994</td>\n",
       "      <td>0.001988</td>\n",
       "      <td>0.1</td>\n",
       "      <td>0.999</td>\n",
       "      <td>{'alpha': 0.1, 'l1_ratio': 0.999}</td>\n",
       "      <td>-0.000183</td>\n",
       "      <td>-1.029057e-07</td>\n",
       "      <td>-0.000061</td>\n",
       "      <td>-0.000068</td>\n",
       "      <td>-0.000001</td>\n",
       "      <td>-0.000063</td>\n",
       "      <td>0.000067</td>\n",
       "      <td>9</td>\n",
       "    </tr>\n",
       "  </tbody>\n",
       "</table>\n",
       "</div>"
      ],
      "text/plain": [
       "   mean_fit_time  std_fit_time  mean_score_time  std_score_time param_alpha  \\\n",
       "0       0.027024      0.007122         0.004405        0.001192       0.001   \n",
       "1       0.022071      0.007224         0.002672        0.001794       0.001   \n",
       "2       0.019381      0.002312         0.001406        0.001961       0.001   \n",
       "3       0.018990      0.001999         0.001999        0.002449        0.01   \n",
       "4       0.022987      0.006778         0.001999        0.002449        0.01   \n",
       "5       0.020993      0.001997         0.002994        0.002444        0.01   \n",
       "6       0.020994      0.002009         0.002993        0.002444         0.1   \n",
       "7       0.018227      0.002189         0.005003        0.003169         0.1   \n",
       "8       0.025157      0.012768         0.000994        0.001988         0.1   \n",
       "\n",
       "  param_l1_ratio                               params  split0_test_score  \\\n",
       "0          0.001  {'alpha': 0.001, 'l1_ratio': 0.001}           0.000304   \n",
       "1            0.5    {'alpha': 0.001, 'l1_ratio': 0.5}           0.000300   \n",
       "2          0.999  {'alpha': 0.001, 'l1_ratio': 0.999}           0.000296   \n",
       "3          0.001   {'alpha': 0.01, 'l1_ratio': 0.001}           0.000272   \n",
       "4            0.5     {'alpha': 0.01, 'l1_ratio': 0.5}           0.000241   \n",
       "5          0.999   {'alpha': 0.01, 'l1_ratio': 0.999}           0.000211   \n",
       "6          0.001    {'alpha': 0.1, 'l1_ratio': 0.001}           0.000094   \n",
       "7            0.5      {'alpha': 0.1, 'l1_ratio': 0.5}          -0.000183   \n",
       "8          0.999    {'alpha': 0.1, 'l1_ratio': 0.999}          -0.000183   \n",
       "\n",
       "   split1_test_score  split2_test_score  split3_test_score  split4_test_score  \\\n",
       "0       2.683273e-04           0.000198          -0.000193           0.000171   \n",
       "1       2.702071e-04           0.000201          -0.000198           0.000169   \n",
       "2       2.722209e-04           0.000204          -0.000205           0.000167   \n",
       "3       2.687337e-04           0.000207          -0.000168           0.000170   \n",
       "4       2.673045e-04           0.000211          -0.000162           0.000166   \n",
       "5       2.579378e-04           0.000201          -0.000148           0.000166   \n",
       "6       1.898230e-04           0.000130          -0.000064           0.000140   \n",
       "7       2.746470e-05          -0.000054          -0.000055           0.000002   \n",
       "8      -1.029057e-07          -0.000061          -0.000068          -0.000001   \n",
       "\n",
       "   mean_test_score  std_test_score  rank_test_score  \n",
       "0         0.000150        0.000178                2  \n",
       "1         0.000148        0.000179                3  \n",
       "2         0.000147        0.000182                4  \n",
       "3         0.000150        0.000164                1  \n",
       "4         0.000145        0.000157                5  \n",
       "5         0.000138        0.000146                6  \n",
       "6         0.000098        0.000087                7  \n",
       "7        -0.000052        0.000073                8  \n",
       "8        -0.000063        0.000067                9  "
      ]
     },
     "execution_count": 137,
     "metadata": {},
     "output_type": "execute_result"
    }
   ],
   "source": [
    "alpha_grid = np.logspace(-3, -1, 3)\n",
    "l1_ratio_grid = np.linspace(0.001, 0.999, 3)\n",
    "cv = GridSearchCV(ElasticNet(), param_grid={\"alpha\": alpha_grid, \"l1_ratio\": l1_ratio_grid})\n",
    "cv.fit(Xtrain, ytrain)\n",
    "score = cv.score(Xtest, ytest)\n",
    "print(\"best parameters are\", cv.best_params_)\n",
    "print(\"out of sample R2 is\", score)\n",
    "print(\"cross-validation results are\")\n",
    "pd.DataFrame(cv.cv_results_)"
   ]
  },
  {
   "cell_type": "markdown",
   "metadata": {},
   "source": [
    "### Outliers and skewness\n",
    "\n",
    "Any standardizations that we apply on the training set must be applied also on the test set and for any new observations for which we want to predict.  \n",
    "\n",
    "If we winsorize, for example, we have to store the procedure (which points get mapped where) so we can apply it to new data.\n",
    "\n",
    "Winsorizing and taking logs are common in academic statistical work, but there are other transformations commonly used in ML.  Quantile transformer maps a variable monotonically into a variable having the desired distribution."
   ]
  },
  {
   "cell_type": "code",
   "execution_count": 138,
   "metadata": {},
   "outputs": [
    {
     "data": {
      "text/plain": [
       "'\\nsns.kdeplot(data.agr, label=\"agr\")\\nsns.kdeplot(data.transformed_agr, label=\"transformed agr\")\\nplt.legend()\\n'"
      ]
     },
     "execution_count": 138,
     "metadata": {},
     "output_type": "execute_result"
    }
   ],
   "source": [
    "qt = QuantileTransformer(output_distribution=\"normal\")\n",
    "\n",
    "# the fit_transform method needs a column vector\n",
    "agr = data.agr.to_numpy().reshape(-1,1)\n",
    "\n",
    "data['transformed_agr'] = qt.fit_transform(agr)\n",
    "\n",
    "# see what we did\n",
    "\n",
    "# data.sort_values(by=\"date\").head()\n",
    "\n",
    "\"\"\"\n",
    "sns.kdeplot(data.agr, label=\"agr\")\n",
    "sns.kdeplot(data.transformed_agr, label=\"transformed agr\")\n",
    "plt.legend()\n",
    "\"\"\""
   ]
  },
  {
   "cell_type": "markdown",
   "metadata": {},
   "source": [
    "### Scaling\n",
    "\n",
    "Penalized regression penalizes all coefficients the same, so it is important that the input variables be on the same scale.  StandardScaler subtracts the mean and divides by the std dev, so the transformed variable has zero mean and unit variance."
   ]
  },
  {
   "cell_type": "code",
   "execution_count": 139,
   "metadata": {},
   "outputs": [],
   "source": [
    "transformed_agr = data.transformed_agr.to_numpy().reshape(-1,1)\n",
    "scaler = StandardScaler()\n",
    "data['transformed2_agr'] = scaler.fit_transform(transformed_agr)\n",
    "\n",
    "# sns.kdeplot(data.transformed2_agr)\n"
   ]
  },
  {
   "cell_type": "markdown",
   "metadata": {},
   "source": [
    "### Pipelines\n",
    "\n",
    "We don't want to apply QuantileTransformer and StandardScaler directly to test data.  That would create new transformations, based on the properties of the test data.  How would we create those transformations for new observations?\n",
    "\n",
    "Instead, we want to remember the transformations used on the training data and apply the same transformations to the test data (and to any new observations that arise).  For example, StandardScaler subtracts a number (the mean) and divides by a number (the std dev).  We want to subtract the same number and divide by the same number on the test data.\n",
    "\n",
    "Pipelines let us transform and fit in one step.  Then, when we score the model on the test data, the same transformation is applied to the test data."
   ]
  },
  {
   "cell_type": "code",
   "execution_count": 140,
   "metadata": {},
   "outputs": [
    {
     "name": "stdout",
     "output_type": "stream",
     "text": [
      "With standardization, elastic net out-of-sample R2 with alpha=0.001 and l1_ratio = 0.5000 is -0.0028\n"
     ]
    }
   ],
   "source": [
    "alpha = 0.001\n",
    "l1_ratio = 0.5\n",
    "model = ElasticNet(alpha=alpha, l1_ratio=l1_ratio)\n",
    "\n",
    "qt = QuantileTransformer(output_distribution=\"normal\")\n",
    "scale = StandardScaler()\n",
    "pipe = make_pipeline(qt, scale, model)\n",
    "\n",
    "pipe.fit(Xtrain, ytrain)\n",
    "score = pipe.score(Xtest, ytest)\n",
    "print(f\"With standardization, elastic net out-of-sample R2 with alpha={alpha:.3f} and l1_ratio = {l1_ratio:.4f} is {score:.4f}\")\n"
   ]
  },
  {
   "cell_type": "markdown",
   "metadata": {},
   "source": [
    "### Adding squares, products, etc.\n",
    "\n",
    "PolynomialFeatures expands the number of right-hand side variables.  With degree=2, it adds all squares and products.  With degree=3, it also adds all cubes and $x_1 \\times x_2 \\times x_3$ (including $x_1 \\times x_2^2$, etc.)"
   ]
  },
  {
   "cell_type": "code",
   "execution_count": 141,
   "metadata": {},
   "outputs": [
    {
     "name": "stdout",
     "output_type": "stream",
     "text": [
      "With standardization and poly features, elastic net out-of-sample R2 with alpha=0.001 and l1_ratio = 0.5000 is -0.0027\n"
     ]
    }
   ],
   "source": [
    "poly = PolynomialFeatures(degree=3)\n",
    "\n",
    "pipe = make_pipeline(qt, scale, poly, model)\n",
    "\n",
    "pipe.fit(Xtrain, ytrain)\n",
    "score = pipe.score(Xtest, ytest)\n",
    "print(f\"With standardization and poly features, elastic net out-of-sample R2 with alpha={alpha:.3f} and l1_ratio = {l1_ratio:.4f} is {score:.4f}\")"
   ]
  },
  {
   "cell_type": "markdown",
   "metadata": {},
   "source": [
    "### Principal components\n",
    "\n",
    "The principal components of a set of variables are linear combinations of the variables.  The linear coefficients are the eigenvectors corresponding to the largest eigenvalues.  These linear combinations have the highest variance, so they are regarded as likely to be the most informative.\n",
    "\n",
    "Principal components is one type of \"dimensionality reduction.\""
   ]
  },
  {
   "cell_type": "code",
   "execution_count": 142,
   "metadata": {},
   "outputs": [
    {
     "name": "stdout",
     "output_type": "stream",
     "text": [
      "With standardization, poly features, and PCA, elastic net out-of-sample R2 with alpha=0.001 and l1_ratio = 0.5000 is -0.0024\n"
     ]
    }
   ],
   "source": [
    "pca = PCA(n_components=4)\n",
    "\n",
    "pipe = make_pipeline(qt, scale, poly, pca, model)\n",
    "\n",
    "pipe.fit(Xtrain, ytrain)\n",
    "score = pipe.score(Xtest, ytest)\n",
    "print(f\"With standardization, poly features, and PCA, elastic net out-of-sample R2 with alpha={alpha:.3f} and l1_ratio = {l1_ratio:.4f} is {score:.4f}\")"
   ]
  },
  {
   "cell_type": "markdown",
   "metadata": {},
   "source": [
    "### Cross validation on a pipeline\n",
    "\n",
    "We can pass a pipeline to GridSearchCV and we can use it to evaluate hyperparameters of the transformations as well as hyperparameters of the model.\n",
    "\n",
    "In the dictionary specifying the parameter grids, the keys must be the transform or model name in lower case followed by a double underscore followed by the parameter name.  "
   ]
  },
  {
   "cell_type": "code",
   "execution_count": 143,
   "metadata": {},
   "outputs": [
    {
     "name": "stdout",
     "output_type": "stream",
     "text": [
      "best parameters are {'elasticnet__alpha': 0.001, 'elasticnet__l1_ratio': 0.1, 'pca__n_components': 4, 'polynomialfeatures__degree': 2}\n",
      "out of sample R2 is -0.0027194797517058333\n"
     ]
    }
   ],
   "source": [
    "model = ElasticNet()\n",
    "poly = PolynomialFeatures()\n",
    "pca = PCA()\n",
    "pipe = make_pipeline(qt, scale, poly, pca, model)\n",
    "\n",
    "alpha_grid = np.logspace(-3, -1, 3)\n",
    "l1_ratio_grid = np.linspace(0.1, 0.9, 3)\n",
    "poly_grid = (2, 3)\n",
    "pca_grid = (2, 4)\n",
    "param_grid = {\n",
    "    \"elasticnet__alpha\": alpha_grid,\n",
    "    \"elasticnet__l1_ratio\": l1_ratio_grid,\n",
    "    \"polynomialfeatures__degree\": poly_grid,\n",
    "    \"pca__n_components\": pca_grid\n",
    "}\n",
    "\n",
    "cv = GridSearchCV(pipe, param_grid=param_grid)\n",
    "cv.fit(Xtrain, ytrain)\n",
    "score = cv.score(Xtest, ytest)\n",
    "\n",
    "print(\"best parameters are\", cv.best_params_)\n",
    "print(\"out of sample R2 is\", score)"
   ]
  },
  {
   "cell_type": "markdown",
   "metadata": {},
   "source": [
    "### Target variable\n",
    "\n",
    "If we want to pick stocks, rather than time the market, then we should be trying to predict relative performance.  One possibility is to use the return in excess of the cross-sectional mean each month as the target variable."
   ]
  },
  {
   "cell_type": "code",
   "execution_count": 144,
   "metadata": {},
   "outputs": [
    {
     "name": "stdout",
     "output_type": "stream",
     "text": [
      "best parameters are {'elasticnet__alpha': 0.1, 'elasticnet__l1_ratio': 0.5, 'pca__n_components': 2, 'polynomialfeatures__degree': 3}\n",
      "out of sample R2 is 9.241002070758952e-05\n"
     ]
    }
   ],
   "source": [
    "train.loc[:, 'xret'] = train.groupby('date').ret.apply(lambda x: x - x.mean())\n",
    "test.loc[:, 'xret'] = test.groupby('date').ret.apply(lambda x: x - x.mean())\n",
    "\n",
    "ytrain = train.xret\n",
    "ytest = test.xret\n",
    "\n",
    "cv = GridSearchCV(pipe, param_grid=param_grid)\n",
    "cv.fit(Xtrain, ytrain)\n",
    "score = cv.score(Xtest, ytest)\n",
    "\n",
    "print(\"best parameters are\", cv.best_params_)\n",
    "print(\"out of sample R2 is\", score)\n"
   ]
  },
  {
   "cell_type": "markdown",
   "metadata": {},
   "source": [
    "### Sensitivity to outliers\n",
    "\n",
    "Minimizing the sum of *squared* errors causes outlier values of the target variable to have a large influence on the coefficient estimates.  Minimizing the sum of *absolute* errors is often a better choice.  \n",
    "\n",
    "Another possibility is to transform the target variable.  For example, if we want to predict relative performance, we could use the ranks of returns rather than the returns as the target.  Because the number of stocks may vary over time, we should normalize the ranks, for example to lie between 0 and 1.  This can be done using pandas percentile rank method."
   ]
  },
  {
   "cell_type": "code",
   "execution_count": 145,
   "metadata": {},
   "outputs": [
    {
     "name": "stdout",
     "output_type": "stream",
     "text": [
      "best parameters are {'elasticnet__alpha': 0.001, 'elasticnet__l1_ratio': 0.1, 'pca__n_components': 4, 'polynomialfeatures__degree': 2}\n",
      "out of sample R2 is 0.0011142641981700674\n"
     ]
    }
   ],
   "source": [
    "train['pct'] = train.groupby('date').ret.rank(pct=True)\n",
    "test['pct'] = test.groupby('date').ret.rank(pct=True)\n",
    "\n",
    "ytrain = train.pct\n",
    "ytest = test.pct \n",
    "\n",
    "cv = GridSearchCV(pipe, param_grid=param_grid)\n",
    "cv.fit(Xtrain, ytrain)\n",
    "score = cv.score(Xtest, ytest)\n",
    "\n",
    "print(\"best parameters are\", cv.best_params_)\n",
    "print(\"out of sample R2 is\", score)"
   ]
  },
  {
   "cell_type": "markdown",
   "metadata": {},
   "source": [
    "## Classification\n",
    "\n",
    "Many ML problems are classification problems.  Logistic regression is one classification model.  The default imposes an $\\ell^2$ penalty.  We can specify penalty=\"l1\", penalty=\"l2\", penalty=\"elasticnet\", or penalty=\"none.\"  If penalty=\"elasticnet\", specify l1_ratio and solver=\"saga.\"  The size of the penalty is inverse to the parameter C.\n",
    "\n",
    "We can put logistic regression in a pipeline with preprocessing transformations as in the previous example, and we can run the pipeline through GridSearchCV as in the previous example.\n",
    "\n",
    "The score for logistic regression is the fraction of correct predictions.  "
   ]
  },
  {
   "cell_type": "code",
   "execution_count": 146,
   "metadata": {},
   "outputs": [
    {
     "name": "stdout",
     "output_type": "stream",
     "text": [
      "fraction of correct predictions on test data is 0.4955625\n"
     ]
    }
   ],
   "source": [
    "train['category'] = train.groupby('date').ret.apply(lambda x: 1*(x>x.median()))\n",
    "test['category'] = test.groupby('date').ret.apply(lambda x: 1*(x>x.median()))\n",
    "\n",
    "ytrain = train.category\n",
    "ytest = test.category\n",
    "\n",
    "model = LogisticRegression(penalty=\"l2\", C=0.001)\n",
    "model.fit(Xtrain, ytrain)\n",
    "score = model.score(Xtest, ytest)\n",
    "print(\"fraction of correct predictions on test data is\", score)"
   ]
  },
  {
   "cell_type": "markdown",
   "metadata": {},
   "source": [
    "### Predictions and probabilities"
   ]
  },
  {
   "cell_type": "code",
   "execution_count": 147,
   "metadata": {},
   "outputs": [
    {
     "name": "stdout",
     "output_type": "stream",
     "text": [
      "0    1\n",
      "1    1\n",
      "2    1\n",
      "3    1\n",
      "4    1\n",
      "dtype: int32\n",
      "          0         1\n",
      "0  0.499163  0.500837\n",
      "1  0.499163  0.500837\n",
      "2  0.499163  0.500837\n",
      "3  0.499802  0.500198\n",
      "4  0.499802  0.500198\n"
     ]
    }
   ],
   "source": [
    "predictions = pd.Series(model.predict(Xtest))\n",
    "probabilities = pd.DataFrame(model.predict_proba(Xtest), columns=[0,1])\n",
    "print(predictions.head())\n",
    "print(probabilities.head())"
   ]
  },
  {
   "cell_type": "markdown",
   "metadata": {},
   "source": [
    "### Confusion matrix"
   ]
  },
  {
   "cell_type": "code",
   "execution_count": 148,
   "metadata": {},
   "outputs": [
    {
     "data": {
      "text/plain": [
       "<sklearn.metrics._plot.confusion_matrix.ConfusionMatrixDisplay at 0x2c2dcf3b4f0>"
      ]
     },
     "execution_count": 148,
     "metadata": {},
     "output_type": "execute_result"
    },
    {
     "data": {
      "image/png": "[encoded data removed]",
      "text/plain": [
       "<Figure size 640x480 with 2 Axes>"
      ]
     },
     "metadata": {},
     "output_type": "display_data"
    }
   ],
   "source": [
    "ConfusionMatrixDisplay.from_estimator(estimator=model, X=Xtest, y=ytest)"
   ]
  },
  {
   "cell_type": "markdown",
   "metadata": {},
   "source": [
    "### ROC curve\n",
    "\n",
    "ROC = Receiver Operating Characteristics (not sure why).  In binary classification, we can vary the threshold to change the frequency of \"positive\" predictions (in our case, positive = return above median).  Hopefully, we can increase the number of true positives without increasing the number of false positives too much.  This corresponds to an ROC curve above the 45 degree line.  In our case, our predictions are basically random, which manifests as ROC curve = 45 degree line."
   ]
  },
  {
   "cell_type": "code",
   "execution_count": 149,
   "metadata": {},
   "outputs": [
    {
     "data": {
      "text/plain": [
       "<sklearn.metrics._plot.roc_curve.RocCurveDisplay at 0x2c2dcc0d090>"
      ]
     },
     "execution_count": 149,
     "metadata": {},
     "output_type": "execute_result"
    },
    {
     "data": {
      "image/png": "[encoded data removed]",
      "text/plain": [
       "<Figure size 640x480 with 1 Axes>"
      ]
     },
     "metadata": {},
     "output_type": "display_data"
    }
   ],
   "source": [
    "RocCurveDisplay.from_estimator(estimator=model, X=Xtest, y=ytest)"
   ]
  },
  {
   "cell_type": "markdown",
   "metadata": {},
   "source": [
    "### Multi-class classification"
   ]
  },
  {
   "cell_type": "code",
   "execution_count": 150,
   "metadata": {},
   "outputs": [
    {
     "name": "stdout",
     "output_type": "stream",
     "text": [
      "fraction of correct predictions on test data is 0.35804166666666665\n"
     ]
    }
   ],
   "source": [
    "train['category'] = train.groupby('date').ret.apply(lambda x: pd.qcut(x, 3, labels=range(1,4)))\n",
    "test['category'] = test.groupby('date').ret.apply(lambda x: pd.qcut(x, 3, labels=range(1,4)))\n",
    "\n",
    "ytrain = train.category\n",
    "ytest = test.category\n",
    "\n",
    "model = LogisticRegression(penalty=\"l2\", C=0.001)\n",
    "model.fit(Xtrain, ytrain)\n",
    "score = model.score(Xtest, ytest)\n",
    "print(\"fraction of correct predictions on test data is\", score)"
   ]
  },
  {
   "cell_type": "code",
   "execution_count": 151,
   "metadata": {},
   "outputs": [
    {
     "data": {
      "text/plain": [
       "<sklearn.metrics._plot.confusion_matrix.ConfusionMatrixDisplay at 0x2c2dfc9bb80>"
      ]
     },
     "execution_count": 151,
     "metadata": {},
     "output_type": "execute_result"
    },
    {
     "data": {
      "image/png": "[encoded data removed]",
      "text/plain": [
       "<Figure size 640x480 with 2 Axes>"
      ]
     },
     "metadata": {},
     "output_type": "display_data"
    }
   ],
   "source": [
    "ConfusionMatrixDisplay.from_estimator(estimator=model, X=Xtest, y=ytest)"
   ]
  },
  {
   "cell_type": "code",
   "execution_count": 152,
   "metadata": {},
   "outputs": [
    {
     "ename": "TypeError",
     "evalue": "'Categorical' with dtype category does not support reduction 'sum'",
     "output_type": "error",
     "traceback": [
      "\u001b[1;31m---------------------------------------------------------------------------\u001b[0m",
      "\u001b[1;31mTypeError\u001b[0m                                 Traceback (most recent call last)",
      "\u001b[1;32mc:\\Users\\kerry\\Repos\\2022-BUSI520\\quarto\\ML1.ipynb Cell 61\u001b[0m in \u001b[0;36m<cell line: 1>\u001b[1;34m()\u001b[0m\n\u001b[1;32m----> <a href='vscode-notebook-cell:/c%3A/Users/kerry/Repos/2022-BUSI520/quarto/ML1.ipynb#Y120sZmlsZQ%3D%3D?line=0'>1</a>\u001b[0m ytrain\u001b[39m.\u001b[39;49msum() \u001b[39m/\u001b[39m \u001b[39mlen\u001b[39m(ytrain)\n",
      "File \u001b[1;32mc:\\Users\\kerry\\Repos\\2022-BUSI520\\venv\\lib\\site-packages\\pandas\\core\\generic.py:11069\u001b[0m, in \u001b[0;36mNDFrame._add_numeric_operations.<locals>.sum\u001b[1;34m(self, axis, skipna, level, numeric_only, min_count, **kwargs)\u001b[0m\n\u001b[0;32m  11049\u001b[0m \u001b[39m@doc\u001b[39m(\n\u001b[0;32m  11050\u001b[0m     _num_doc,\n\u001b[0;32m  11051\u001b[0m     desc\u001b[39m=\u001b[39m\u001b[39m\"\u001b[39m\u001b[39mReturn the sum of the values over the requested axis.\u001b[39m\u001b[39m\\n\u001b[39;00m\u001b[39m\\n\u001b[39;00m\u001b[39m\"\u001b[39m\n\u001b[1;32m   (...)\u001b[0m\n\u001b[0;32m  11067\u001b[0m     \u001b[39m*\u001b[39m\u001b[39m*\u001b[39mkwargs,\n\u001b[0;32m  11068\u001b[0m ):\n\u001b[1;32m> 11069\u001b[0m     \u001b[39mreturn\u001b[39;00m NDFrame\u001b[39m.\u001b[39msum(\n\u001b[0;32m  11070\u001b[0m         \u001b[39mself\u001b[39m, axis, skipna, level, numeric_only, min_count, \u001b[39m*\u001b[39m\u001b[39m*\u001b[39mkwargs\n\u001b[0;32m  11071\u001b[0m     )\n",
      "File \u001b[1;32mc:\\Users\\kerry\\Repos\\2022-BUSI520\\venv\\lib\\site-packages\\pandas\\core\\generic.py:10789\u001b[0m, in \u001b[0;36mNDFrame.sum\u001b[1;34m(self, axis, skipna, level, numeric_only, min_count, **kwargs)\u001b[0m\n\u001b[0;32m  10780\u001b[0m \u001b[39mdef\u001b[39;00m \u001b[39msum\u001b[39m(\n\u001b[0;32m  10781\u001b[0m     \u001b[39mself\u001b[39m,\n\u001b[0;32m  10782\u001b[0m     axis: Axis \u001b[39m|\u001b[39m \u001b[39mNone\u001b[39;00m \u001b[39m=\u001b[39m \u001b[39mNone\u001b[39;00m,\n\u001b[1;32m   (...)\u001b[0m\n\u001b[0;32m  10787\u001b[0m     \u001b[39m*\u001b[39m\u001b[39m*\u001b[39mkwargs,\n\u001b[0;32m  10788\u001b[0m ):\n\u001b[1;32m> 10789\u001b[0m     \u001b[39mreturn\u001b[39;00m \u001b[39mself\u001b[39m\u001b[39m.\u001b[39m_min_count_stat_function(\n\u001b[0;32m  10790\u001b[0m         \u001b[39m\"\u001b[39m\u001b[39msum\u001b[39m\u001b[39m\"\u001b[39m, nanops\u001b[39m.\u001b[39mnansum, axis, skipna, level, numeric_only, min_count, \u001b[39m*\u001b[39m\u001b[39m*\u001b[39mkwargs\n\u001b[0;32m  10791\u001b[0m     )\n",
      "File \u001b[1;32mc:\\Users\\kerry\\Repos\\2022-BUSI520\\venv\\lib\\site-packages\\pandas\\core\\generic.py:10771\u001b[0m, in \u001b[0;36mNDFrame._min_count_stat_function\u001b[1;34m(self, name, func, axis, skipna, level, numeric_only, min_count, **kwargs)\u001b[0m\n\u001b[0;32m  10755\u001b[0m     warnings\u001b[39m.\u001b[39mwarn(\n\u001b[0;32m  10756\u001b[0m         \u001b[39m\"\u001b[39m\u001b[39mUsing the level keyword in DataFrame and Series aggregations is \u001b[39m\u001b[39m\"\u001b[39m\n\u001b[0;32m  10757\u001b[0m         \u001b[39m\"\u001b[39m\u001b[39mdeprecated and will be removed in a future version. Use groupby \u001b[39m\u001b[39m\"\u001b[39m\n\u001b[1;32m   (...)\u001b[0m\n\u001b[0;32m  10760\u001b[0m         stacklevel\u001b[39m=\u001b[39mfind_stack_level(),\n\u001b[0;32m  10761\u001b[0m     )\n\u001b[0;32m  10762\u001b[0m     \u001b[39mreturn\u001b[39;00m \u001b[39mself\u001b[39m\u001b[39m.\u001b[39m_agg_by_level(\n\u001b[0;32m  10763\u001b[0m         name,\n\u001b[0;32m  10764\u001b[0m         axis\u001b[39m=\u001b[39maxis,\n\u001b[1;32m   (...)\u001b[0m\n\u001b[0;32m  10768\u001b[0m         numeric_only\u001b[39m=\u001b[39mnumeric_only,\n\u001b[0;32m  10769\u001b[0m     )\n\u001b[1;32m> 10771\u001b[0m \u001b[39mreturn\u001b[39;00m \u001b[39mself\u001b[39;49m\u001b[39m.\u001b[39;49m_reduce(\n\u001b[0;32m  10772\u001b[0m     func,\n\u001b[0;32m  10773\u001b[0m     name\u001b[39m=\u001b[39;49mname,\n\u001b[0;32m  10774\u001b[0m     axis\u001b[39m=\u001b[39;49maxis,\n\u001b[0;32m  10775\u001b[0m     skipna\u001b[39m=\u001b[39;49mskipna,\n\u001b[0;32m  10776\u001b[0m     numeric_only\u001b[39m=\u001b[39;49mnumeric_only,\n\u001b[0;32m  10777\u001b[0m     min_count\u001b[39m=\u001b[39;49mmin_count,\n\u001b[0;32m  10778\u001b[0m )\n",
      "File \u001b[1;32mc:\\Users\\kerry\\Repos\\2022-BUSI520\\venv\\lib\\site-packages\\pandas\\core\\series.py:4459\u001b[0m, in \u001b[0;36mSeries._reduce\u001b[1;34m(self, op, name, axis, skipna, numeric_only, filter_type, **kwds)\u001b[0m\n\u001b[0;32m   4455\u001b[0m     \u001b[39mself\u001b[39m\u001b[39m.\u001b[39m_get_axis_number(axis)\n\u001b[0;32m   4457\u001b[0m \u001b[39mif\u001b[39;00m \u001b[39misinstance\u001b[39m(delegate, ExtensionArray):\n\u001b[0;32m   4458\u001b[0m     \u001b[39m# dispatch to ExtensionArray interface\u001b[39;00m\n\u001b[1;32m-> 4459\u001b[0m     \u001b[39mreturn\u001b[39;00m delegate\u001b[39m.\u001b[39m_reduce(name, skipna\u001b[39m=\u001b[39mskipna, \u001b[39m*\u001b[39m\u001b[39m*\u001b[39mkwds)\n\u001b[0;32m   4461\u001b[0m \u001b[39melse\u001b[39;00m:\n\u001b[0;32m   4462\u001b[0m     \u001b[39m# dispatch to numpy arrays\u001b[39;00m\n\u001b[0;32m   4463\u001b[0m     \u001b[39mif\u001b[39;00m numeric_only:\n",
      "File \u001b[1;32mc:\\Users\\kerry\\Repos\\2022-BUSI520\\venv\\lib\\site-packages\\pandas\\core\\arrays\\base.py:1369\u001b[0m, in \u001b[0;36mExtensionArray._reduce\u001b[1;34m(self, name, skipna, **kwargs)\u001b[0m\n\u001b[0;32m   1367\u001b[0m meth \u001b[39m=\u001b[39m \u001b[39mgetattr\u001b[39m(\u001b[39mself\u001b[39m, name, \u001b[39mNone\u001b[39;00m)\n\u001b[0;32m   1368\u001b[0m \u001b[39mif\u001b[39;00m meth \u001b[39mis\u001b[39;00m \u001b[39mNone\u001b[39;00m:\n\u001b[1;32m-> 1369\u001b[0m     \u001b[39mraise\u001b[39;00m \u001b[39mTypeError\u001b[39;00m(\n\u001b[0;32m   1370\u001b[0m         \u001b[39mf\u001b[39m\u001b[39m\"\u001b[39m\u001b[39m'\u001b[39m\u001b[39m{\u001b[39;00m\u001b[39mtype\u001b[39m(\u001b[39mself\u001b[39m)\u001b[39m.\u001b[39m\u001b[39m__name__\u001b[39m\u001b[39m}\u001b[39;00m\u001b[39m'\u001b[39m\u001b[39m with dtype \u001b[39m\u001b[39m{\u001b[39;00m\u001b[39mself\u001b[39m\u001b[39m.\u001b[39mdtype\u001b[39m}\u001b[39;00m\u001b[39m \u001b[39m\u001b[39m\"\u001b[39m\n\u001b[0;32m   1371\u001b[0m         \u001b[39mf\u001b[39m\u001b[39m\"\u001b[39m\u001b[39mdoes not support reduction \u001b[39m\u001b[39m'\u001b[39m\u001b[39m{\u001b[39;00mname\u001b[39m}\u001b[39;00m\u001b[39m'\u001b[39m\u001b[39m\"\u001b[39m\n\u001b[0;32m   1372\u001b[0m     )\n\u001b[0;32m   1373\u001b[0m \u001b[39mreturn\u001b[39;00m meth(skipna\u001b[39m=\u001b[39mskipna, \u001b[39m*\u001b[39m\u001b[39m*\u001b[39mkwargs)\n",
      "\u001b[1;31mTypeError\u001b[0m: 'Categorical' with dtype category does not support reduction 'sum'"
     ]
    }
   ],
   "source": [
    "ytrain.sum() / len(ytrain)"
   ]
  }
 ],
 "metadata": {
  "kernelspec": {
   "display_name": "Python 3.10.3 ('venv': venv)",
   "language": "python",
   "name": "python3"
  },
  "language_info": {
   "codemirror_mode": {
    "name": "ipython",
    "version": 3
   },
   "file_extension": ".py",
   "mimetype": "text/x-python",
   "name": "python",
   "nbconvert_exporter": "python",
   "pygments_lexer": "ipython3",
   "version": "3.10.3"
  },
  "orig_nbformat": 4,
  "vscode": {
   "interpreter": {
    "hash": "e9c182eb2c6b77cc7a6e636d1b5173df89a0a80b42c041014ee844b6f22ab6ab"
   }
  }
 },
 "nbformat": 4,
 "nbformat_minor": 2
}
