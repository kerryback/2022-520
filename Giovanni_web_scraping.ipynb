{
  "cells": [
    {
      "cell_type": "markdown",
      "metadata": {
        "id": "view-in-github",
        "colab_type": "text"
      },
      "source": [
        "<a href=\"https://colab.research.google.com/github/kerryback/2022-BUSI520/blob/main/Giovanni_web_scraping.ipynb\" target=\"_parent\"><img src=\"https://colab.research.google.com/assets/colab-badge.svg\" alt=\"Open In Colab\"/></a>"
      ]
    },
    {
      "cell_type": "code",
      "execution_count": null,
      "metadata": {
        "id": "Y9tyrR9aPQFb"
      },
      "outputs": [],
      "source": [
        "import requests\n",
        "from bs4 import BeautifulSoup\n",
        "import pandas\n",
        "\n",
        "session = requests.Session() #persist parameters and cookiesx\n",
        "years1 = range(2005, 2010)\n",
        "years2 = range(2010, 2022)\n",
        "#\n",
        "\n",
        "urlyears = 'https://www.creditfixings.com/CreditEventAuctions/AuctionByYear.jsp?year={year}'\n",
        "urlid = 'https://www.creditfixings.com/CreditEventAuctions/{id}'\n",
        "\n",
        "\n",
        "for year in years2:\n",
        "    html1 = session.get(urlyears.format(year=year)).text #request the html by year\n",
        "    soup1 = BeautifulSoup(html1, \"html.parser\") #parse the html\n",
        "    auctionId = soup1.select('a[href^=\"holdings.jsp\"]') # import all the anchor that have \"holdings.jsp\" in their href\n",
        "    length = len(auctionId)  # how many auction for each year\n",
        "    for i in range(length):\n",
        "        id1 = auctionId[i].get('href') # now let's extract the link to each auction\n",
        "        auction_name = auctionId[i].text\n",
        "        html2 = session.get(urlid.format(id=id1)).text # this the auction page and we need to select the link the bring us to the results\n",
        "        soup2 = BeautifulSoup(html2, \"html.parser\") #parse the html\n",
        "        ticker = soup2.select('a[href^=\"results.jsp\"]')\n",
        "        id2 = ticker[0].get('href')\n",
        "        html3 = session.get(urlid.format(id=id2)).text\n",
        "        soup3 = BeautifulSoup(html3, \"html.parser\")\n",
        "        for table in soup3.find_all('table'):\n",
        "            print(auction_name)\n",
        "            print(pandas.read_html(str(table)))\n",
      ]
    }
  ],
  "metadata": {
    "language_info": {
      "name": "python"
    },
    "orig_nbformat": 4,
    "colab": {
      "provenance": [],
      "include_colab_link": true
    }
  },
  "nbformat": 4,
  "nbformat_minor": 0
}
