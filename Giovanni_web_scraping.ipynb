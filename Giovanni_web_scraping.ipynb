{
 "cells": [
  {
   "cell_type": "code",
   "execution_count": null,
   "metadata": {},
   "outputs": [],
   "source": [
    "import requests\n",
    "from bs4 import BeautifulSoup\n",
    "import pandas\n",
    "\n",
    "session = requests.Session() #persist parameters and cookiesx\n",
    "years1 = range(2005, 2010)\n",
    "years2 = range(2010, 2022)\n",
    "#\n",
    "\n",
    "urlyears = 'https://www.creditfixings.com/CreditEventAuctions/AuctionByYear.jsp?year={year}'\n",
    "urlid = 'https://www.creditfixings.com/CreditEventAuctions/{id}'\n",
    "\n",
    "\n",
    "for year in years2:\n",
    "    html1 = session.get(urlyears.format(year=year)).text #request the html by year\n",
    "    soup1 = BeautifulSoup(html1, \"html.parser\") #parse the html\n",
    "    auctionId = soup1.select('a[href^=\"holdings.jsp\"]') # import all the anchor that have \"holdings.jsp\" in their href\n",
    "    length = len(auctionId)  # how many auction for each year\n",
    "    for i in range(length):\n",
    "        id1 = auctionId[i].get('href') # now let's extract the link to each auction\n",
    "        auction_name = auctionId[i].text\n",
    "        html2 = session.get(urlid.format(id=id1)).text # this the auction page and we need to select the link the bring us to the results\n",
    "        soup2 = BeautifulSoup(html2, \"html.parser\") #parse the html\n",
    "        ticker = soup2.select('a[href^=\"results.jsp\"]')\n",
    "        id2 = ticker[0].get('href')\n",
    "        html3 = session.get(urlid.format(id=id2)).text\n",
    "        soup3 = BeautifulSoup(html3, \"html.parser\")\n",
    "        for table in soup3.find_all('table'):\n",
    "            print(auction_name)\n",
    "            print(pandas.read_html(str(table)))"
   ]
  }
 ],
 "metadata": {
  "kernelspec": {
   "display_name": "Python 3.10.3 ('venv': venv)",
   "language": "python",
   "name": "python3"
  },
  "language_info": {
   "codemirror_mode": {
    "name": "ipython",
    "version": 3
   },
   "file_extension": ".py",
   "mimetype": "text/x-python",
   "name": "python",
   "nbconvert_exporter": "python",
   "pygments_lexer": "ipython3",
   "version": "3.10.3"
  },
  "orig_nbformat": 4,
  "vscode": {
   "interpreter": {
    "hash": "e9c182eb2c6b77cc7a6e636d1b5173df89a0a80b42c041014ee844b6f22ab6ab"
   }
  }
 },
 "nbformat": 4,
 "nbformat_minor": 2
}
