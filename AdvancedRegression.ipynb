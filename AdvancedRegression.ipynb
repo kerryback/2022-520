{
 "cells": [
  {
   "cell_type": "markdown",
   "metadata": {},
   "source": [
    "<a href=\"https://colab.research.google.com/github/kerryback/2022-BUSI520/blob/main/Intro.ipynb\" target=\"_parent\"><img src=\"https://colab.research.google.com/assets/colab-badge.svg\" alt=\"Open In Colab\"/></a>"
   ]
  },
  {
   "cell_type": "code",
   "execution_count": 5,
   "metadata": {},
   "outputs": [],
   "source": [
    "# uncomment and execute the following if necessary\n",
    "\n",
    "# !pip install linearmodels\n",
    "# !pip install pystout"
   ]
  },
  {
   "cell_type": "markdown",
   "metadata": {},
   "source": [
    "These examples are taken from Kevin Sheppard's user guide for the linearmodels package (https://bashtage.github.io/linearmodels/index.html).  "
   ]
  },
  {
   "cell_type": "code",
   "execution_count": 30,
   "metadata": {},
   "outputs": [],
   "source": [
    "import warnings\n",
    "warnings.simplefilter(action='ignore', category=FutureWarning)\n",
    "\n",
    "import pandas as pd\n",
    "import pystout as pystout\n",
    "from linearmodels.panel import PooledOLS\n",
    "from linearmodels.panel import PanelOLS\n",
    "from linearmodels.iv import IV2SLS\n",
    "from linearmodels.system import SUR\n"
   ]
  },
  {
   "cell_type": "markdown",
   "metadata": {},
   "source": [
    "### Example data"
   ]
  },
  {
   "cell_type": "code",
   "execution_count": null,
   "metadata": {},
   "outputs": [],
   "source": [
    "from linearmodels.datasets import wage_panel\n",
    "\n",
    "data = wage_panel.load()\n",
    "year = pd.Categorical(data.year)\n",
    "data = data.set_index([\"nr\", \"year\"])\n",
    "data[\"year\"] = year\n",
    "\n",
    "# print(wage_panel.DESCR)\n",
    "# data.head()"
   ]
  },
  {
   "cell_type": "markdown",
   "metadata": {},
   "source": [
    "### Pooled OLS with White standard errors"
   ]
  },
  {
   "cell_type": "code",
   "execution_count": 10,
   "metadata": {},
   "outputs": [],
   "source": [
    "model1 = PooledOLS.from_formula(\n",
    "    \"\"\"\n",
    "    lwage ~ black\n",
    "    + hisp\n",
    "    + exper\n",
    "    + expersq\n",
    "    + married\n",
    "    + educ\n",
    "    + union\n",
    "    + year\n",
    "    \"\"\",\n",
    "    data=data\n",
    ")\n",
    "result1 = model1.fit(cov_type=\"robust\")\n",
    "\n",
    "# print(result1)"
   ]
  },
  {
   "cell_type": "markdown",
   "metadata": {},
   "source": [
    "### Fixed effects and clustered standard errors\n",
    "\n",
    "Here it is important that the data be in a multi-indexed data frame, with the entity (firm or person or ...) as the outside index and time as the inside index."
   ]
  },
  {
   "cell_type": "code",
   "execution_count": 16,
   "metadata": {},
   "outputs": [],
   "source": [
    "from linearmodels.panel import PanelOLS\n",
    "\n",
    "# entity fixed effects\n",
    "model2 = PanelOLS.from_formula(\n",
    "    \"\"\"\n",
    "    lwage ~ expersq\n",
    "    + married\n",
    "    + union\n",
    "    + EntityEffects\n",
    "    \"\"\",\n",
    "    data=data,\n",
    ")\n",
    "result2 = model2.fit(cov_type=\"clustered\", cluster_entity=True)\n",
    "\n",
    "# time fixed effects\n",
    "model3 = PanelOLS.from_formula(\n",
    "    \"\"\"\n",
    "    lwage ~ black\n",
    "    + hisp\n",
    "    + exper\n",
    "    + expersq\n",
    "    + married\n",
    "    + educ\n",
    "    + union\n",
    "    + TimeEffects\n",
    "    \"\"\",\n",
    "    data=data,\n",
    ")\n",
    "result3 = model3.fit(cov_type=\"clustered\", cluster_time=True)\n",
    "\n",
    "# time and entity fixed effects\n",
    "model4 = PanelOLS.from_formula(\n",
    "    \"\"\"\n",
    "    lwage ~ expersq\n",
    "    + married\n",
    "    + union\n",
    "    + EntityEffects\n",
    "    + TimeEffects\n",
    "    \"\"\",\n",
    "    data=data,\n",
    ")\n",
    "result4 = model4.fit(cov_type=\"clustered\", cluster_entity=True, cluster_time=True)"
   ]
  },
  {
   "cell_type": "code",
   "execution_count": 17,
   "metadata": {},
   "outputs": [],
   "source": [
    "pystout(\n",
    "    models=[result1, result2, result3, result4],\n",
    "    file=\"table.tex\",\n",
    "       exogvars=[\n",
    "        'union', \n",
    "        'married',\n",
    "        'expersq',\n",
    "        'exper', \n",
    "        'black',\n",
    "        'hisp',\n",
    "        'educ'\n",
    "        ],\n",
    "    stars={0.1: \"*\", 0.05: \"**\", 0.01: \"***\"},\n",
    "    addnotes=[\n",
    "        \"(1): time dummy variables, White standard errors\",\n",
    "        \"(2): entity fixed effects, standard errors clustered by entity\",\n",
    "        \"(3): time fixed effects, standard errors clustered by year\",\n",
    "        \"(4): entity and time fixed effects, two-way clustered standard errors\",\n",
    "        \"$^*p<0.1$, $^{**}p<0.05$, $^{***}p<0.01$\",\n",
    "        ],\n",
    "    modstat={\"nobs\": \"Obs\"},\n",
    "    title=\"Log Wages\",\n",
    "    label=\"tab:wage\"\n",
    "    )"
   ]
  },
  {
   "cell_type": "markdown",
   "metadata": {},
   "source": [
    "### New example data"
   ]
  },
  {
   "cell_type": "code",
   "execution_count": 20,
   "metadata": {},
   "outputs": [],
   "source": [
    "from linearmodels.datasets import wage\n",
    "\n",
    "data = wage.load()\n",
    "data = data[[\"educ\", \"wage\", \"sibs\", \"exper\"]].dropna()\n",
    "\n",
    "# print(wage.DESCR)\n",
    "# data.head()"
   ]
  },
  {
   "cell_type": "markdown",
   "metadata": {},
   "source": [
    "### OLS\n",
    "\n",
    "    - using IV2SLS but nothing specified as endogenous and no instruments\n",
    "    - note can use functions (log) in formulas (true for all models, including statsmodels)"
   ]
  },
  {
   "cell_type": "code",
   "execution_count": 24,
   "metadata": {},
   "outputs": [
    {
     "name": "stdout",
     "output_type": "stream",
     "text": [
      "                            OLS Estimation Summary                            \n",
      "==============================================================================\n",
      "Dep. Variable:           np.log(wage)   R-squared:                      0.1308\n",
      "Estimator:                        OLS   Adj. R-squared:                 0.1289\n",
      "No. Observations:                 934   F-statistic:                    135.65\n",
      "Date:                Fri, Aug 26 2022   P-value (F-stat)                0.0000\n",
      "Time:                        19:59:33   Distribution:                  chi2(2)\n",
      "Cov. Estimator:                robust                                         \n",
      "                                                                              \n",
      "                             Parameter Estimates                              \n",
      "==============================================================================\n",
      "            Parameter  Std. Err.     T-stat    P-value    Lower CI    Upper CI\n",
      "------------------------------------------------------------------------------\n",
      "Intercept      5.5028     0.1142     48.188     0.0000      5.2790      5.7266\n",
      "educ           0.0778     0.0067     11.628     0.0000      0.0647      0.0909\n",
      "exper          0.0198     0.0033     5.9994     0.0000      0.0133      0.0262\n",
      "==============================================================================\n"
     ]
    }
   ],
   "source": [
    "model1 = IV2SLS.from_formula(\"np.log(wage) ~ educ + exper\", data=data)\n",
    "result1 = model1.fit(cov_type=\"robust\")\n",
    "print(result1)\n"
   ]
  },
  {
   "cell_type": "markdown",
   "metadata": {},
   "source": [
    "### 2SLS\n",
    "\n",
    "Use siblings to instrument for education, treating experience as exogenous"
   ]
  },
  {
   "cell_type": "code",
   "execution_count": 26,
   "metadata": {},
   "outputs": [
    {
     "name": "stdout",
     "output_type": "stream",
     "text": [
      "                          IV-2SLS Estimation Summary                          \n",
      "==============================================================================\n",
      "Dep. Variable:           np.log(wage)   R-squared:                      0.9787\n",
      "Estimator:                    IV-2SLS   Adj. R-squared:                 0.9787\n",
      "No. Observations:                 934   F-statistic:                 4.786e+04\n",
      "Date:                Fri, Aug 26 2022   P-value (F-stat)                0.0000\n",
      "Time:                        20:02:39   Distribution:                  chi2(2)\n",
      "Cov. Estimator:                robust                                         \n",
      "                                                                              \n",
      "                             Parameter Estimates                              \n",
      "==============================================================================\n",
      "            Parameter  Std. Err.     T-stat    P-value    Lower CI    Upper CI\n",
      "------------------------------------------------------------------------------\n",
      "exper          0.0257     0.0182     1.4143     0.1573     -0.0099      0.0614\n",
      "educ           0.4921     0.0182     27.030     0.0000      0.4564      0.5278\n",
      "==============================================================================\n",
      "\n",
      "Endogenous: educ\n",
      "Instruments: sibs\n",
      "Robust Covariance (Heteroskedastic)\n",
      "Debiased: False\n"
     ]
    }
   ],
   "source": [
    "model2 = IV2SLS.from_formula(\"np.log(wage) ~ exper + [educ ~ sibs]\", data=data)\n",
    "result2 = model2.fit(cov_type=\"robust\")\n",
    "print(result2)"
   ]
  },
  {
   "cell_type": "markdown",
   "metadata": {},
   "source": [
    "### New example data"
   ]
  },
  {
   "cell_type": "code",
   "execution_count": 28,
   "metadata": {},
   "outputs": [],
   "source": [
    "from linearmodels.datasets import fringe\n",
    "\n",
    "data = fringe.load()\n",
    "\n",
    "# print(fringe.DESCR)\n",
    "# data.head()"
   ]
  },
  {
   "cell_type": "markdown",
   "metadata": {},
   "source": [
    "### SUR"
   ]
  },
  {
   "cell_type": "code",
   "execution_count": 32,
   "metadata": {},
   "outputs": [
    {
     "name": "stdout",
     "output_type": "stream",
     "text": [
      "                           System GLS Estimation Summary                           \n",
      "===================================================================================\n",
      "Estimator:                        GLS   Overall R-squared:                   0.6951\n",
      "No. Equations.:                     2   McElroy's R-squared:                 0.2197\n",
      "No. Observations:                 616   Judge's (OLS) R-squared:             0.1873\n",
      "Date:                Fri, Aug 26 2022   Berndt's R-squared:                  0.3775\n",
      "Time:                        20:37:32   Dhrymes's R-squared:                 0.6950\n",
      "                                        Cov. Estimator:                      robust\n",
      "                                        Num. Constraints:                      None\n",
      "                 Equation: hrbens, Dependent Variable: hrbens                 \n",
      "==============================================================================\n",
      "            Parameter  Std. Err.     T-stat    P-value    Lower CI    Upper CI\n",
      "------------------------------------------------------------------------------\n",
      "educ           0.0346     0.0046     7.4679     0.0000      0.0255      0.0437\n",
      "exper          0.0350     0.0057     6.1466     0.0000      0.0239      0.0462\n",
      "expersq       -0.0006     0.0001    -4.6986     0.0000     -0.0009     -0.0004\n",
      "male           0.2518     0.0478     5.2733     0.0000      0.1582      0.3454\n",
      "nrthcen       -0.1433     0.0565    -2.5382     0.0111     -0.2540     -0.0326\n",
      "nrtheast      -0.1224     0.0674    -1.8146     0.0696     -0.2546      0.0098\n",
      "south         -0.1775     0.0554    -3.2058     0.0013     -0.2859     -0.0690\n",
      "union          0.3682     0.0482     7.6397     0.0000      0.2738      0.4627\n",
      "                 Equation: hrearn, Dependent Variable: hrearn                 \n",
      "==============================================================================\n",
      "            Parameter  Std. Err.     T-stat    P-value    Lower CI    Upper CI\n",
      "------------------------------------------------------------------------------\n",
      "educ           0.3547     0.1008     3.5191     0.0004      0.1571      0.5522\n",
      "exper         -0.0750     0.2211    -0.3395     0.7343     -0.5083      0.3583\n",
      "expersq        0.0038     0.0058     0.6492     0.5162     -0.0076      0.0151\n",
      "male           1.8899     0.2731     6.9196     0.0000      1.3546      2.4253\n",
      "married        0.4472     0.3351     1.3347     0.1820     -0.2095      1.1040\n",
      "nrtheast      -0.7127     0.5425    -1.3139     0.1889     -1.7760      0.3505\n",
      "==============================================================================\n",
      "\n",
      "Covariance Estimator:\n",
      "Heteroskedastic (Robust) Covariance (Debiased: False, GLS: True)\n"
     ]
    }
   ],
   "source": [
    "formula = \"\"\" \n",
    "    {hrbens ~ educ + exper + expersq + union + south + nrtheast + nrthcen + male}\n",
    "    {hrearn ~ educ + exper + expersq + nrtheast + married + male}\n",
    "    \"\"\"\n",
    "model = SUR.from_formula(formula, data=data)\n",
    "result = model.fit(cov_type=\"robust\")\n",
    "print(result)"
   ]
  }
 ],
 "metadata": {
  "kernelspec": {
   "display_name": "Python 3.9.12 ('base')",
   "language": "python",
   "name": "python3"
  },
  "language_info": {
   "codemirror_mode": {
    "name": "ipython",
    "version": 3
   },
   "file_extension": ".py",
   "mimetype": "text/x-python",
   "name": "python",
   "nbconvert_exporter": "python",
   "pygments_lexer": "ipython3",
   "version": "3.9.12"
  },
  "vscode": {
   "interpreter": {
    "hash": "b5c05ba2117f00041673d0c20a311ccae61983ee346578ba5a53c5d4ee98e5af"
   }
  }
 },
 "nbformat": 4,
 "nbformat_minor": 4
}
