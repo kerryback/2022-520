{
  "cells": [
    {
      "cell_type": "markdown",
      "metadata": {
        "id": "view-in-github",
        "colab_type": "text"
      },
      "source": [
        "<a href=\"https://colab.research.google.com/github/kerryback/2022-BUSI520/blob/main/wrds.ipynb\" target=\"_parent\"><img src=\"https://colab.research.google.com/assets/colab-badge.svg\" alt=\"Open In Colab\"/></a>"
      ]
    },
    {
      "cell_type": "markdown",
      "metadata": {
        "id": "_LoCzT5GBd5P"
      },
      "source": [
        "### Install, import, and connect"
      ]
    },
    {
      "cell_type": "code",
      "execution_count": 1,
      "metadata": {
        "colab": {
          "base_uri": "https://localhost:8080/"
        },
        "id": "f3EjfJ7WdUmA",
        "outputId": "8cd96565-e697-4e22-c37c-f4817241843b"
      },
      "outputs": [
        {
          "output_type": "stream",
          "name": "stdout",
          "text": [
            "Looking in indexes: https://pypi.org/simple, https://us-python.pkg.dev/colab-wheels/public/simple/\n",
            "Collecting wrds\n",
            "  Downloading wrds-3.1.2-py3-none-any.whl (13 kB)\n",
            "Requirement already satisfied: sqlalchemy in /usr/local/lib/python3.7/dist-packages (from wrds) (1.4.40)\n",
            "Collecting mock\n",
            "  Downloading mock-4.0.3-py3-none-any.whl (28 kB)\n",
            "Requirement already satisfied: numpy in /usr/local/lib/python3.7/dist-packages (from wrds) (1.21.6)\n",
            "Collecting psycopg2-binary\n",
            "  Downloading psycopg2_binary-2.9.3-cp37-cp37m-manylinux_2_17_x86_64.manylinux2014_x86_64.whl (3.0 MB)\n",
            "\u001b[K     |████████████████████████████████| 3.0 MB 8.5 MB/s \n",
            "\u001b[?25hRequirement already satisfied: pandas in /usr/local/lib/python3.7/dist-packages (from wrds) (1.3.5)\n",
            "Requirement already satisfied: pytz>=2017.3 in /usr/local/lib/python3.7/dist-packages (from pandas->wrds) (2022.1)\n",
            "Requirement already satisfied: python-dateutil>=2.7.3 in /usr/local/lib/python3.7/dist-packages (from pandas->wrds) (2.8.2)\n",
            "Requirement already satisfied: six>=1.5 in /usr/local/lib/python3.7/dist-packages (from python-dateutil>=2.7.3->pandas->wrds) (1.15.0)\n",
            "Requirement already satisfied: importlib-metadata in /usr/local/lib/python3.7/dist-packages (from sqlalchemy->wrds) (4.12.0)\n",
            "Requirement already satisfied: greenlet!=0.4.17 in /usr/local/lib/python3.7/dist-packages (from sqlalchemy->wrds) (1.1.2)\n",
            "Requirement already satisfied: typing-extensions>=3.6.4 in /usr/local/lib/python3.7/dist-packages (from importlib-metadata->sqlalchemy->wrds) (4.1.1)\n",
            "Requirement already satisfied: zipp>=0.5 in /usr/local/lib/python3.7/dist-packages (from importlib-metadata->sqlalchemy->wrds) (3.8.1)\n",
            "Installing collected packages: psycopg2-binary, mock, wrds\n",
            "Successfully installed mock-4.0.3 psycopg2-binary-2.9.3 wrds-3.1.2\n"
          ]
        }
      ],
      "source": [
        "!pip install wrds"
      ]
    },
    {
      "cell_type": "code",
      "execution_count": 2,
      "metadata": {
        "colab": {
          "base_uri": "https://localhost:8080/"
        },
        "id": "x2jxPDcZA6vM",
        "outputId": "88e602bf-1b01-489c-db3f-df248f9311f3"
      },
      "outputs": [
        {
          "output_type": "stream",
          "name": "stdout",
          "text": [
            "Enter your WRDS username [root]:keback\n",
            "Enter your password:··········\n",
            "WRDS recommends setting up a .pgpass file.\n",
            "Create .pgpass file now [y/n]?: n\n",
            "You can create this file yourself at any time\n",
            "with the create_pgpass_file() function.\n",
            "Loading library list...\n",
            "Done\n"
          ]
        }
      ],
      "source": [
        "import numpy as np\n",
        "import pandas as pd\n",
        "import wrds       \n",
        "conn = wrds.Connection() "
      ]
    },
    {
      "cell_type": "markdown",
      "metadata": {
        "id": "ZE-KWO3cdUmC"
      },
      "source": [
        "### CRSP\n",
        "\n",
        "Get stock prices and returns from  CRSP (Center for Research in Security Prices).  We use standard filters.  See http://www.crsp.com/files/data_descriptions_guide_0.pdf for a complete set of variable definitions.  CRSP uses PERMCO as a permanent company identifier and PERMNO as a permanent security identifier.  Some companies have multiple classes of common stock, which means multiple common stock PERMNOs can be associated with a single PERMCO.  Both monthly and daily data are available."
      ]
    },
    {
      "cell_type": "code",
      "execution_count": 5,
      "metadata": {
        "id": "wulkygLxdUmD"
      },
      "outputs": [],
      "source": [
        "crsp = conn.raw_sql(\n",
        "    \"\"\"\n",
        "    select a.permno, a.permco, a.date, a.ret, abs(a.prc)*a.shrout as me, b.exchcd \n",
        "    from crsp.msf a inner join crsp.msenames b \n",
        "    on a.permno=b.permno and a.date between b.namedt and b.nameendt\n",
        "    and b.exchcd in (1,2,3) and b.shrcd in (10,11)\n",
        "    where a.date >= '2000-01-01' \n",
        "    order by a.permno, a.date \n",
        "    \"\"\", \n",
        "    date_cols=['date']\n",
        ")\n",
        "\n",
        "# change strings or floats to integers\n",
        "for col in ['permno','permco'] :\n",
        "    crsp[col] = crsp[col].astype(int)\n",
        "\n",
        "# define market equity as sum of market equities of all permnos associated with a permco\n",
        "crsp['me'] = crsp.groupby(['date','permco']).me.transform(sum)"
      ]
    },
    {
      "cell_type": "markdown",
      "metadata": {
        "id": "eelMlaqYdUmD"
      },
      "source": [
        "### Define delisting returns\n",
        "\n",
        "This is always done, but there are some different ways to do it.  Here, we follow some of the literature and assign a lower delisting return to Nasdaq stocks than to NYSE/AMEX stocks if the delisting return is missing."
      ]
    },
    {
      "cell_type": "code",
      "execution_count": 6,
      "metadata": {
        "id": "HBklX4iadUmD"
      },
      "outputs": [],
      "source": [
        "mse = conn.raw_sql(\n",
        "    \"\"\"\n",
        "    select permno, dlret, dlstcd\n",
        "    from crsp.mse\n",
        "    where event='DELIST' and dlstcd>100\n",
        "    order by permno\n",
        "    \"\"\"\n",
        ")\n",
        "\n",
        "# change string or float to int\n",
        "mse['permno'] = mse.permno.astype(int)\n",
        "\n",
        "# merge with crsp, keeping all rows of crsp\n",
        "crsp = crsp.merge(mse, how='left', on='permno')\n",
        "del mse\n",
        "\n",
        "# series of True and False, True if it is the last date for a stock\n",
        "LastObs = crsp.permno != crsp.permno.shift(-1)     \n",
        "\n",
        "# series of True and False, True if delisted for poor performance\n",
        "DLCode = (crsp.dlstcd==500) | ((crsp.dlstcd >=520)&(crsp.dlstcd<=584))  \n",
        "\n",
        "# -35% if no delisting return, delisted for poor performance and NYSE/AMEX \n",
        "crsp['dlret'] = np.where(DLCode & crsp.dlret.isnull() & crsp.exchcd.isin([1,2]), -0.35, crsp.dlret )\n",
        "\n",
        "# -55% if no delisting return, delisted for poor performance and Nasdaq\n",
        "crsp['dlret'] = np.where(DLCode & crsp.dlret.isnull() & (crsp.exchcd==3), -0.55, crsp.dlret )\n",
        "\n",
        "# if delisting return exists and < -1, change to -1\n",
        "crsp['dlret'] = np.where(crsp.dlret.notnull() & crsp.dlret<-1,-1,crsp.dlret)\n",
        "\n",
        "# if last day and return exists, define return by compounding with delisting return (if exists)\n",
        "crsp['ret'] = np.where(LastObs & crsp.ret.notnull(), (1+crsp.ret)*(1+crsp.dlret.fillna(0))-1, crsp.ret)\n",
        "\n",
        "# if last day and return does not exist, define return as delisting return\n",
        "crsp['ret'] = np.where(LastObs & crsp.ret.isnull(), crsp.dlret, crsp.ret)\n",
        "\n",
        "crsp = crsp.drop(columns=['dlstcd','dlret'])"
      ]
    },
    {
      "cell_type": "markdown",
      "metadata": {
        "id": "Qd9Rv1GRM3MT"
      },
      "source": [
        "### Annual Compustat\n",
        "\n",
        "An example of pulling data from the annual Compustat table.  datadate is the end of the fiscal year.  We impose standard filters.  See https://wrds-web.wharton.upenn.edu/wrds/demo/demoform_compustat.cfm for a full list of Compustat variable definitions. Quarterly data is also available."
      ]
    },
    {
      "cell_type": "code",
      "execution_count": 7,
      "metadata": {
        "id": "PAKo3oYPBJ72"
      },
      "outputs": [],
      "source": [
        "comp = conn.raw_sql(\n",
        "    \"\"\"\n",
        "    select a.gvkey, a.datadate, a.at\n",
        "    from comp.FUNDA a left outer join comp.Names b\n",
        "    on a.gvkey = b.gvkey\n",
        "    where a.datadate >= '2000-01-01' and a.at>0 \n",
        "    and INDFMT='INDL' and DATAFMT='STD' and POPSRC='D' and CONSOL='C'\n",
        "    order by a.gvkey, datadate\n",
        "    \"\"\", \n",
        "    date_cols=['datadate']\n",
        ")\n",
        "\n",
        "# convert string or float to int\n",
        "comp.gvkey = comp.gvkey.astype(int)"
      ]
    },
    {
      "cell_type": "markdown",
      "metadata": {
        "id": "OxcXUogjdUmF"
      },
      "source": [
        "### Lag data to reflect reporting lag\n",
        "\n",
        "Fama and French shift all annual reports in a calendar year to June 30 of the following year.  Many people follow them.  Others shift 6 months."
      ]
    },
    {
      "cell_type": "code",
      "execution_count": 8,
      "metadata": {
        "id": "pdgej_xGdUmG"
      },
      "outputs": [],
      "source": [
        "SHIFT_TO_JUNE = True\n",
        "\n",
        "if SHIFT_TO_JUNE:\n",
        "\n",
        "    # define date as June 30 of year following datadate\n",
        "    comp['date'] = pd.to_datetime(comp.datadate.apply(lambda d: str(d.year+1)+'-06-30'))\n",
        "    \n",
        "    # if two annual reports in one calendar year (due to change of fiscal year), keep last one\n",
        "    comp = comp.drop_duplicates(subset=['gvkey','date'],keep='last') \n",
        "\n",
        "else:\n",
        "\n",
        "    # define date to be 6 months after datadate\n",
        "    comp['date'] = comp.datadate + pd.offsets.MonthOffset(6)"
      ]
    },
    {
      "cell_type": "markdown",
      "metadata": {
        "id": "VwwEaLY1mxjM"
      },
      "source": [
        "### Ratios and growth rates\n",
        "\n",
        "Define ratios, growth rates, etc."
      ]
    },
    {
      "cell_type": "code",
      "execution_count": 9,
      "metadata": {
        "id": "qOgyy_w5dUmG"
      },
      "outputs": [],
      "source": [
        "comp['inv'] = comp['at'].pct_change()"
      ]
    },
    {
      "cell_type": "markdown",
      "metadata": {
        "id": "DGkgtmardUmG"
      },
      "source": [
        "### Assign permnos if merging with CRSP"
      ]
    },
    {
      "cell_type": "code",
      "execution_count": 10,
      "metadata": {
        "id": "bQ1V7u3hdUmH"
      },
      "outputs": [],
      "source": [
        "link = conn.raw_sql(\n",
        "    \"\"\"\n",
        "    select distinct gvkey, lpermno as permno, linkdt, linkenddt\n",
        "    from crsp.Ccmxpf_linktable\n",
        "    where linktype in ('LU', 'LC')\n",
        "    and LINKPRIM in ('P', 'C')\n",
        "    \"\"\"\n",
        ")\n",
        "\n",
        "# convert strings or floats to ints\n",
        "link['gvkey'] = link.gvkey.astype(int)\n",
        "link['permno'] = link.permno.astype(int)\n",
        "\n",
        "# fill in missing end dates with a future date\n",
        "link['linkenddt'] = pd.to_datetime(link.linkenddt).fillna(pd.Timestamp('21000101'))\n",
        "\n",
        "# merge with Compustat data and keep rows with Compustat datadate between link date and link end date\n",
        "comp = comp.merge(link,on='gvkey',how='inner')\n",
        "comp = comp[(comp.datadate>=comp.linkdt) & (comp.datadate<=comp.linkenddt)]\n",
        "\n",
        "comp = comp.drop(columns=['gvkey','datadate','linkdt','linkenddt'])"
      ]
    },
    {
      "cell_type": "markdown",
      "metadata": {
        "id": "1voGQVn8dUmH"
      },
      "source": [
        "### Merge CRSP with Compustat\n",
        "\n",
        "* Change dates to monthly period format before merging, because Compustat date is the last day of the month, and CRSP date is the last trading day  of the month.\n",
        "* Merge keeping all rows of CRSP data.  There will be NaNs for Compustat data for 11 months each year."
      ]
    },
    {
      "cell_type": "code",
      "execution_count": 11,
      "metadata": {
        "id": "7BNhhfOCdUmH"
      },
      "outputs": [],
      "source": [
        "crsp.date = crsp.date.dt.to_period('M')\n",
        "comp.date = comp.date.dt.to_period('M')\n",
        "\n",
        "df = crsp.merge(comp, on=['permno', 'date'], how='left')"
      ]
    },
    {
      "cell_type": "markdown",
      "metadata": {
        "id": "BRV4gGL2dUmH"
      },
      "source": [
        "### Fill Compustat data into months\n",
        "\n",
        "* Group by permno when filling forward so we don't fill from one stock into another\n",
        "* A limit of 11 months on the forward fill is the right limit if we have shifted to June 30, but it should probably be longer otherwise, because a firm might change its fiscal year and go more than 12 months between annual reports."
      ]
    },
    {
      "cell_type": "code",
      "execution_count": 12,
      "metadata": {
        "id": "bix8HdZcdUmI"
      },
      "outputs": [],
      "source": [
        "df[['at', 'inv']] = df.groupby('permno')[['at', 'inv']].ffill(limit=11)"
      ]
    },
    {
      "cell_type": "markdown",
      "source": [
        "### Check result"
      ],
      "metadata": {
        "id": "LEpqZc-6fRac"
      }
    },
    {
      "cell_type": "code",
      "source": [
        "df.head()"
      ],
      "metadata": {
        "id": "4ZKOfJZLfTbz",
        "outputId": "9ae79e4e-e51f-4bea-fcb0-d280f6d0c717",
        "colab": {
          "base_uri": "https://localhost:8080/",
          "height": 206
        }
      },
      "execution_count": 13,
      "outputs": [
        {
          "output_type": "execute_result",
          "data": {
            "text/plain": [
              "   permno  permco     date       ret        me  exchcd  at  inv\n",
              "0   10001    7953  2000-01 -0.044118  19906.25     3.0 NaN  NaN\n",
              "1   10001    7953  2000-02  0.015385  20212.50     3.0 NaN  NaN\n",
              "2   10001    7953  2000-03 -0.015758  19712.00     3.0 NaN  NaN\n",
              "3   10001    7953  2000-04  0.011719  19943.00     3.0 NaN  NaN\n",
              "4   10001    7953  2000-05 -0.023166  19481.00     3.0 NaN  NaN"
            ],
            "text/html": [
              "\n",
              "  <div id=\"df-eef23fdc-c9d4-4eb9-8768-93b52a0c909a\">\n",
              "    <div class=\"colab-df-container\">\n",
              "      <div>\n",
              "<style scoped>\n",
              "    .dataframe tbody tr th:only-of-type {\n",
              "        vertical-align: middle;\n",
              "    }\n",
              "\n",
              "    .dataframe tbody tr th {\n",
              "        vertical-align: top;\n",
              "    }\n",
              "\n",
              "    .dataframe thead th {\n",
              "        text-align: right;\n",
              "    }\n",
              "</style>\n",
              "<table border=\"1\" class=\"dataframe\">\n",
              "  <thead>\n",
              "    <tr style=\"text-align: right;\">\n",
              "      <th></th>\n",
              "      <th>permno</th>\n",
              "      <th>permco</th>\n",
              "      <th>date</th>\n",
              "      <th>ret</th>\n",
              "      <th>me</th>\n",
              "      <th>exchcd</th>\n",
              "      <th>at</th>\n",
              "      <th>inv</th>\n",
              "    </tr>\n",
              "  </thead>\n",
              "  <tbody>\n",
              "    <tr>\n",
              "      <th>0</th>\n",
              "      <td>10001</td>\n",
              "      <td>7953</td>\n",
              "      <td>2000-01</td>\n",
              "      <td>-0.044118</td>\n",
              "      <td>19906.25</td>\n",
              "      <td>3.0</td>\n",
              "      <td>NaN</td>\n",
              "      <td>NaN</td>\n",
              "    </tr>\n",
              "    <tr>\n",
              "      <th>1</th>\n",
              "      <td>10001</td>\n",
              "      <td>7953</td>\n",
              "      <td>2000-02</td>\n",
              "      <td>0.015385</td>\n",
              "      <td>20212.50</td>\n",
              "      <td>3.0</td>\n",
              "      <td>NaN</td>\n",
              "      <td>NaN</td>\n",
              "    </tr>\n",
              "    <tr>\n",
              "      <th>2</th>\n",
              "      <td>10001</td>\n",
              "      <td>7953</td>\n",
              "      <td>2000-03</td>\n",
              "      <td>-0.015758</td>\n",
              "      <td>19712.00</td>\n",
              "      <td>3.0</td>\n",
              "      <td>NaN</td>\n",
              "      <td>NaN</td>\n",
              "    </tr>\n",
              "    <tr>\n",
              "      <th>3</th>\n",
              "      <td>10001</td>\n",
              "      <td>7953</td>\n",
              "      <td>2000-04</td>\n",
              "      <td>0.011719</td>\n",
              "      <td>19943.00</td>\n",
              "      <td>3.0</td>\n",
              "      <td>NaN</td>\n",
              "      <td>NaN</td>\n",
              "    </tr>\n",
              "    <tr>\n",
              "      <th>4</th>\n",
              "      <td>10001</td>\n",
              "      <td>7953</td>\n",
              "      <td>2000-05</td>\n",
              "      <td>-0.023166</td>\n",
              "      <td>19481.00</td>\n",
              "      <td>3.0</td>\n",
              "      <td>NaN</td>\n",
              "      <td>NaN</td>\n",
              "    </tr>\n",
              "  </tbody>\n",
              "</table>\n",
              "</div>\n",
              "      <button class=\"colab-df-convert\" onclick=\"convertToInteractive('df-eef23fdc-c9d4-4eb9-8768-93b52a0c909a')\"\n",
              "              title=\"Convert this dataframe to an interactive table.\"\n",
              "              style=\"display:none;\">\n",
              "        \n",
              "  <svg xmlns=\"http://www.w3.org/2000/svg\" height=\"24px\"viewBox=\"0 0 24 24\"\n",
              "       width=\"24px\">\n",
              "    <path d=\"M0 0h24v24H0V0z\" fill=\"none\"/>\n",
              "    <path d=\"M18.56 5.44l.94 2.06.94-2.06 2.06-.94-2.06-.94-.94-2.06-.94 2.06-2.06.94zm-11 1L8.5 8.5l.94-2.06 2.06-.94-2.06-.94L8.5 2.5l-.94 2.06-2.06.94zm10 10l.94 2.06.94-2.06 2.06-.94-2.06-.94-.94-2.06-.94 2.06-2.06.94z\"/><path d=\"M17.41 7.96l-1.37-1.37c-.4-.4-.92-.59-1.43-.59-.52 0-1.04.2-1.43.59L10.3 9.45l-7.72 7.72c-.78.78-.78 2.05 0 2.83L4 21.41c.39.39.9.59 1.41.59.51 0 1.02-.2 1.41-.59l7.78-7.78 2.81-2.81c.8-.78.8-2.07 0-2.86zM5.41 20L4 18.59l7.72-7.72 1.47 1.35L5.41 20z\"/>\n",
              "  </svg>\n",
              "      </button>\n",
              "      \n",
              "  <style>\n",
              "    .colab-df-container {\n",
              "      display:flex;\n",
              "      flex-wrap:wrap;\n",
              "      gap: 12px;\n",
              "    }\n",
              "\n",
              "    .colab-df-convert {\n",
              "      background-color: #E8F0FE;\n",
              "      border: none;\n",
              "      border-radius: 50%;\n",
              "      cursor: pointer;\n",
              "      display: none;\n",
              "      fill: #1967D2;\n",
              "      height: 32px;\n",
              "      padding: 0 0 0 0;\n",
              "      width: 32px;\n",
              "    }\n",
              "\n",
              "    .colab-df-convert:hover {\n",
              "      background-color: #E2EBFA;\n",
              "      box-shadow: 0px 1px 2px rgba(60, 64, 67, 0.3), 0px 1px 3px 1px rgba(60, 64, 67, 0.15);\n",
              "      fill: #174EA6;\n",
              "    }\n",
              "\n",
              "    [theme=dark] .colab-df-convert {\n",
              "      background-color: #3B4455;\n",
              "      fill: #D2E3FC;\n",
              "    }\n",
              "\n",
              "    [theme=dark] .colab-df-convert:hover {\n",
              "      background-color: #434B5C;\n",
              "      box-shadow: 0px 1px 3px 1px rgba(0, 0, 0, 0.15);\n",
              "      filter: drop-shadow(0px 1px 2px rgba(0, 0, 0, 0.3));\n",
              "      fill: #FFFFFF;\n",
              "    }\n",
              "  </style>\n",
              "\n",
              "      <script>\n",
              "        const buttonEl =\n",
              "          document.querySelector('#df-eef23fdc-c9d4-4eb9-8768-93b52a0c909a button.colab-df-convert');\n",
              "        buttonEl.style.display =\n",
              "          google.colab.kernel.accessAllowed ? 'block' : 'none';\n",
              "\n",
              "        async function convertToInteractive(key) {\n",
              "          const element = document.querySelector('#df-eef23fdc-c9d4-4eb9-8768-93b52a0c909a');\n",
              "          const dataTable =\n",
              "            await google.colab.kernel.invokeFunction('convertToInteractive',\n",
              "                                                     [key], {});\n",
              "          if (!dataTable) return;\n",
              "\n",
              "          const docLinkHtml = 'Like what you see? Visit the ' +\n",
              "            '<a target=\"_blank\" href=https://colab.research.google.com/notebooks/data_table.ipynb>data table notebook</a>'\n",
              "            + ' to learn more about interactive tables.';\n",
              "          element.innerHTML = '';\n",
              "          dataTable['output_type'] = 'display_data';\n",
              "          await google.colab.output.renderOutput(dataTable, element);\n",
              "          const docLink = document.createElement('div');\n",
              "          docLink.innerHTML = docLinkHtml;\n",
              "          element.appendChild(docLink);\n",
              "        }\n",
              "      </script>\n",
              "    </div>\n",
              "  </div>\n",
              "  "
            ]
          },
          "metadata": {},
          "execution_count": 13
        }
      ]
    },
    {
      "cell_type": "code",
      "source": [
        "df.tail()"
      ],
      "metadata": {
        "id": "YEUyM5p2fUl4",
        "outputId": "6de6ecbc-a330-4014-c8cb-4df04147fc52",
        "colab": {
          "base_uri": "https://localhost:8080/",
          "height": 206
        }
      },
      "execution_count": 14,
      "outputs": [
        {
          "output_type": "execute_result",
          "data": {
            "text/plain": [
              "         permno  permco     date       ret            me  exchcd       at  \\\n",
              "1159141   93436   53453  2021-11  0.027612  1.149642e+09     3.0  52148.0   \n",
              "1159142   93436   53453  2021-12 -0.076855  1.092218e+09     3.0  52148.0   \n",
              "1159143   93436   53453  2022-01 -0.113609  9.681319e+08     3.0  52148.0   \n",
              "1159144   93436   53453  2022-02 -0.070768  8.996190e+08     3.0  52148.0   \n",
              "1159145   93436   53453  2022-03  0.238009  1.113736e+09     3.0  52148.0   \n",
              "\n",
              "              inv  \n",
              "1159141  0.519951  \n",
              "1159142  0.519951  \n",
              "1159143  0.519951  \n",
              "1159144  0.519951  \n",
              "1159145  0.519951  "
            ],
            "text/html": [
              "\n",
              "  <div id=\"df-3c58ae4a-4032-460a-97b0-43eeaeea6760\">\n",
              "    <div class=\"colab-df-container\">\n",
              "      <div>\n",
              "<style scoped>\n",
              "    .dataframe tbody tr th:only-of-type {\n",
              "        vertical-align: middle;\n",
              "    }\n",
              "\n",
              "    .dataframe tbody tr th {\n",
              "        vertical-align: top;\n",
              "    }\n",
              "\n",
              "    .dataframe thead th {\n",
              "        text-align: right;\n",
              "    }\n",
              "</style>\n",
              "<table border=\"1\" class=\"dataframe\">\n",
              "  <thead>\n",
              "    <tr style=\"text-align: right;\">\n",
              "      <th></th>\n",
              "      <th>permno</th>\n",
              "      <th>permco</th>\n",
              "      <th>date</th>\n",
              "      <th>ret</th>\n",
              "      <th>me</th>\n",
              "      <th>exchcd</th>\n",
              "      <th>at</th>\n",
              "      <th>inv</th>\n",
              "    </tr>\n",
              "  </thead>\n",
              "  <tbody>\n",
              "    <tr>\n",
              "      <th>1159141</th>\n",
              "      <td>93436</td>\n",
              "      <td>53453</td>\n",
              "      <td>2021-11</td>\n",
              "      <td>0.027612</td>\n",
              "      <td>1.149642e+09</td>\n",
              "      <td>3.0</td>\n",
              "      <td>52148.0</td>\n",
              "      <td>0.519951</td>\n",
              "    </tr>\n",
              "    <tr>\n",
              "      <th>1159142</th>\n",
              "      <td>93436</td>\n",
              "      <td>53453</td>\n",
              "      <td>2021-12</td>\n",
              "      <td>-0.076855</td>\n",
              "      <td>1.092218e+09</td>\n",
              "      <td>3.0</td>\n",
              "      <td>52148.0</td>\n",
              "      <td>0.519951</td>\n",
              "    </tr>\n",
              "    <tr>\n",
              "      <th>1159143</th>\n",
              "      <td>93436</td>\n",
              "      <td>53453</td>\n",
              "      <td>2022-01</td>\n",
              "      <td>-0.113609</td>\n",
              "      <td>9.681319e+08</td>\n",
              "      <td>3.0</td>\n",
              "      <td>52148.0</td>\n",
              "      <td>0.519951</td>\n",
              "    </tr>\n",
              "    <tr>\n",
              "      <th>1159144</th>\n",
              "      <td>93436</td>\n",
              "      <td>53453</td>\n",
              "      <td>2022-02</td>\n",
              "      <td>-0.070768</td>\n",
              "      <td>8.996190e+08</td>\n",
              "      <td>3.0</td>\n",
              "      <td>52148.0</td>\n",
              "      <td>0.519951</td>\n",
              "    </tr>\n",
              "    <tr>\n",
              "      <th>1159145</th>\n",
              "      <td>93436</td>\n",
              "      <td>53453</td>\n",
              "      <td>2022-03</td>\n",
              "      <td>0.238009</td>\n",
              "      <td>1.113736e+09</td>\n",
              "      <td>3.0</td>\n",
              "      <td>52148.0</td>\n",
              "      <td>0.519951</td>\n",
              "    </tr>\n",
              "  </tbody>\n",
              "</table>\n",
              "</div>\n",
              "      <button class=\"colab-df-convert\" onclick=\"convertToInteractive('df-3c58ae4a-4032-460a-97b0-43eeaeea6760')\"\n",
              "              title=\"Convert this dataframe to an interactive table.\"\n",
              "              style=\"display:none;\">\n",
              "        \n",
              "  <svg xmlns=\"http://www.w3.org/2000/svg\" height=\"24px\"viewBox=\"0 0 24 24\"\n",
              "       width=\"24px\">\n",
              "    <path d=\"M0 0h24v24H0V0z\" fill=\"none\"/>\n",
              "    <path d=\"M18.56 5.44l.94 2.06.94-2.06 2.06-.94-2.06-.94-.94-2.06-.94 2.06-2.06.94zm-11 1L8.5 8.5l.94-2.06 2.06-.94-2.06-.94L8.5 2.5l-.94 2.06-2.06.94zm10 10l.94 2.06.94-2.06 2.06-.94-2.06-.94-.94-2.06-.94 2.06-2.06.94z\"/><path d=\"M17.41 7.96l-1.37-1.37c-.4-.4-.92-.59-1.43-.59-.52 0-1.04.2-1.43.59L10.3 9.45l-7.72 7.72c-.78.78-.78 2.05 0 2.83L4 21.41c.39.39.9.59 1.41.59.51 0 1.02-.2 1.41-.59l7.78-7.78 2.81-2.81c.8-.78.8-2.07 0-2.86zM5.41 20L4 18.59l7.72-7.72 1.47 1.35L5.41 20z\"/>\n",
              "  </svg>\n",
              "      </button>\n",
              "      \n",
              "  <style>\n",
              "    .colab-df-container {\n",
              "      display:flex;\n",
              "      flex-wrap:wrap;\n",
              "      gap: 12px;\n",
              "    }\n",
              "\n",
              "    .colab-df-convert {\n",
              "      background-color: #E8F0FE;\n",
              "      border: none;\n",
              "      border-radius: 50%;\n",
              "      cursor: pointer;\n",
              "      display: none;\n",
              "      fill: #1967D2;\n",
              "      height: 32px;\n",
              "      padding: 0 0 0 0;\n",
              "      width: 32px;\n",
              "    }\n",
              "\n",
              "    .colab-df-convert:hover {\n",
              "      background-color: #E2EBFA;\n",
              "      box-shadow: 0px 1px 2px rgba(60, 64, 67, 0.3), 0px 1px 3px 1px rgba(60, 64, 67, 0.15);\n",
              "      fill: #174EA6;\n",
              "    }\n",
              "\n",
              "    [theme=dark] .colab-df-convert {\n",
              "      background-color: #3B4455;\n",
              "      fill: #D2E3FC;\n",
              "    }\n",
              "\n",
              "    [theme=dark] .colab-df-convert:hover {\n",
              "      background-color: #434B5C;\n",
              "      box-shadow: 0px 1px 3px 1px rgba(0, 0, 0, 0.15);\n",
              "      filter: drop-shadow(0px 1px 2px rgba(0, 0, 0, 0.3));\n",
              "      fill: #FFFFFF;\n",
              "    }\n",
              "  </style>\n",
              "\n",
              "      <script>\n",
              "        const buttonEl =\n",
              "          document.querySelector('#df-3c58ae4a-4032-460a-97b0-43eeaeea6760 button.colab-df-convert');\n",
              "        buttonEl.style.display =\n",
              "          google.colab.kernel.accessAllowed ? 'block' : 'none';\n",
              "\n",
              "        async function convertToInteractive(key) {\n",
              "          const element = document.querySelector('#df-3c58ae4a-4032-460a-97b0-43eeaeea6760');\n",
              "          const dataTable =\n",
              "            await google.colab.kernel.invokeFunction('convertToInteractive',\n",
              "                                                     [key], {});\n",
              "          if (!dataTable) return;\n",
              "\n",
              "          const docLinkHtml = 'Like what you see? Visit the ' +\n",
              "            '<a target=\"_blank\" href=https://colab.research.google.com/notebooks/data_table.ipynb>data table notebook</a>'\n",
              "            + ' to learn more about interactive tables.';\n",
              "          element.innerHTML = '';\n",
              "          dataTable['output_type'] = 'display_data';\n",
              "          await google.colab.output.renderOutput(dataTable, element);\n",
              "          const docLink = document.createElement('div');\n",
              "          docLink.innerHTML = docLinkHtml;\n",
              "          element.appendChild(docLink);\n",
              "        }\n",
              "      </script>\n",
              "    </div>\n",
              "  </div>\n",
              "  "
            ]
          },
          "metadata": {},
          "execution_count": 14
        }
      ]
    },
    {
      "cell_type": "code",
      "source": [
        ""
      ],
      "metadata": {
        "id": "9zQWwcPvfYcy"
      },
      "execution_count": null,
      "outputs": []
    }
  ],
  "metadata": {
    "colab": {
      "collapsed_sections": [],
      "machine_shape": "hm",
      "name": "Copy of CRSP_Compustat.ipynb",
      "provenance": [],
      "toc_visible": true,
      "include_colab_link": true
    },
    "kernelspec": {
      "display_name": "Python 3.10.3 64-bit",
      "language": "python",
      "name": "python3"
    },
    "language_info": {
      "codemirror_mode": {
        "name": "ipython",
        "version": 3
      },
      "file_extension": ".py",
      "mimetype": "text/x-python",
      "name": "python",
      "nbconvert_exporter": "python",
      "pygments_lexer": "ipython3",
      "version": "3.10.3"
    },
    "vscode": {
      "interpreter": {
        "hash": "a98f34b6005ae2330f135078450db511ef8910ecc790235ef0560aa88aa6ce12"
      }
    }
  },
  "nbformat": 4,
  "nbformat_minor": 0
}